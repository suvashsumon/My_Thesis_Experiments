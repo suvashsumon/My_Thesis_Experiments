{
  "nbformat": 4,
  "nbformat_minor": 0,
  "metadata": {
    "colab": {
      "provenance": [],
      "authorship_tag": "ABX9TyMS8tbxhJMWTcjgacKnAWL4",
      "include_colab_link": true
    },
    "kernelspec": {
      "name": "python3",
      "display_name": "Python 3"
    },
    "language_info": {
      "name": "python"
    }
  },
  "cells": [
    {
      "cell_type": "markdown",
      "metadata": {
        "id": "view-in-github",
        "colab_type": "text"
      },
      "source": [
        "<a href=\"https://colab.research.google.com/github/suvashsumon/My_Thesis_Experiments/blob/main/Experiment_5_CNN_With_Extracted_Features.ipynb\" target=\"_parent\"><img src=\"https://colab.research.google.com/assets/colab-badge.svg\" alt=\"Open In Colab\"/></a>"
      ]
    },
    {
      "cell_type": "markdown",
      "source": [
        "**1. Using Time Domain Power Spectral Descriptors (TDPSD) Feature Set**  \n",
        "**2. Using individual dataset**"
      ],
      "metadata": {
        "id": "jfWDCm6rVsUC"
      }
    },
    {
      "cell_type": "code",
      "execution_count": 4,
      "metadata": {
        "colab": {
          "base_uri": "https://localhost:8080/"
        },
        "id": "6EL0T4GfiQAI",
        "outputId": "c7d6f233-ae65-4fdf-a12d-dbd62fad858f"
      },
      "outputs": [
        {
          "output_type": "stream",
          "name": "stdout",
          "text": [
            "Requirement already satisfied: libemg in /usr/local/lib/python3.10/dist-packages (0.0.1)\n",
            "Requirement already satisfied: numpy in /usr/local/lib/python3.10/dist-packages (from libemg) (1.23.5)\n",
            "Requirement already satisfied: scipy in /usr/local/lib/python3.10/dist-packages (from libemg) (1.11.4)\n",
            "Requirement already satisfied: scikit-learn in /usr/local/lib/python3.10/dist-packages (from libemg) (1.2.2)\n",
            "Requirement already satisfied: pillow in /usr/local/lib/python3.10/dist-packages (from libemg) (9.4.0)\n",
            "Requirement already satisfied: matplotlib in /usr/local/lib/python3.10/dist-packages (from libemg) (3.7.1)\n",
            "Requirement already satisfied: librosa in /usr/local/lib/python3.10/dist-packages (from libemg) (0.10.1)\n",
            "Requirement already satisfied: wfdb in /usr/local/lib/python3.10/dist-packages (from libemg) (4.1.2)\n",
            "Requirement already satisfied: pyserial in /usr/local/lib/python3.10/dist-packages (from libemg) (3.5)\n",
            "Requirement already satisfied: audioread>=2.1.9 in /usr/local/lib/python3.10/dist-packages (from librosa->libemg) (3.0.1)\n",
            "Requirement already satisfied: joblib>=0.14 in /usr/local/lib/python3.10/dist-packages (from librosa->libemg) (1.3.2)\n",
            "Requirement already satisfied: decorator>=4.3.0 in /usr/local/lib/python3.10/dist-packages (from librosa->libemg) (4.4.2)\n",
            "Requirement already satisfied: numba>=0.51.0 in /usr/local/lib/python3.10/dist-packages (from librosa->libemg) (0.58.1)\n",
            "Requirement already satisfied: soundfile>=0.12.1 in /usr/local/lib/python3.10/dist-packages (from librosa->libemg) (0.12.1)\n",
            "Requirement already satisfied: pooch>=1.0 in /usr/local/lib/python3.10/dist-packages (from librosa->libemg) (1.8.0)\n",
            "Requirement already satisfied: soxr>=0.3.2 in /usr/local/lib/python3.10/dist-packages (from librosa->libemg) (0.3.7)\n",
            "Requirement already satisfied: typing-extensions>=4.1.1 in /usr/local/lib/python3.10/dist-packages (from librosa->libemg) (4.5.0)\n",
            "Requirement already satisfied: lazy-loader>=0.1 in /usr/local/lib/python3.10/dist-packages (from librosa->libemg) (0.3)\n",
            "Requirement already satisfied: msgpack>=1.0 in /usr/local/lib/python3.10/dist-packages (from librosa->libemg) (1.0.7)\n",
            "Requirement already satisfied: threadpoolctl>=2.0.0 in /usr/local/lib/python3.10/dist-packages (from scikit-learn->libemg) (3.2.0)\n",
            "Requirement already satisfied: contourpy>=1.0.1 in /usr/local/lib/python3.10/dist-packages (from matplotlib->libemg) (1.2.0)\n",
            "Requirement already satisfied: cycler>=0.10 in /usr/local/lib/python3.10/dist-packages (from matplotlib->libemg) (0.12.1)\n",
            "Requirement already satisfied: fonttools>=4.22.0 in /usr/local/lib/python3.10/dist-packages (from matplotlib->libemg) (4.47.0)\n",
            "Requirement already satisfied: kiwisolver>=1.0.1 in /usr/local/lib/python3.10/dist-packages (from matplotlib->libemg) (1.4.5)\n",
            "Requirement already satisfied: packaging>=20.0 in /usr/local/lib/python3.10/dist-packages (from matplotlib->libemg) (23.2)\n",
            "Requirement already satisfied: pyparsing>=2.3.1 in /usr/local/lib/python3.10/dist-packages (from matplotlib->libemg) (3.1.1)\n",
            "Requirement already satisfied: python-dateutil>=2.7 in /usr/local/lib/python3.10/dist-packages (from matplotlib->libemg) (2.8.2)\n",
            "Requirement already satisfied: pandas>=1.3.0 in /usr/local/lib/python3.10/dist-packages (from wfdb->libemg) (1.5.3)\n",
            "Requirement already satisfied: requests>=2.8.1 in /usr/local/lib/python3.10/dist-packages (from wfdb->libemg) (2.31.0)\n",
            "Requirement already satisfied: llvmlite<0.42,>=0.41.0dev0 in /usr/local/lib/python3.10/dist-packages (from numba>=0.51.0->librosa->libemg) (0.41.1)\n",
            "Requirement already satisfied: pytz>=2020.1 in /usr/local/lib/python3.10/dist-packages (from pandas>=1.3.0->wfdb->libemg) (2023.3.post1)\n",
            "Requirement already satisfied: platformdirs>=2.5.0 in /usr/local/lib/python3.10/dist-packages (from pooch>=1.0->librosa->libemg) (4.1.0)\n",
            "Requirement already satisfied: six>=1.5 in /usr/local/lib/python3.10/dist-packages (from python-dateutil>=2.7->matplotlib->libemg) (1.16.0)\n",
            "Requirement already satisfied: charset-normalizer<4,>=2 in /usr/local/lib/python3.10/dist-packages (from requests>=2.8.1->wfdb->libemg) (3.3.2)\n",
            "Requirement already satisfied: idna<4,>=2.5 in /usr/local/lib/python3.10/dist-packages (from requests>=2.8.1->wfdb->libemg) (3.6)\n",
            "Requirement already satisfied: urllib3<3,>=1.21.1 in /usr/local/lib/python3.10/dist-packages (from requests>=2.8.1->wfdb->libemg) (2.0.7)\n",
            "Requirement already satisfied: certifi>=2017.4.17 in /usr/local/lib/python3.10/dist-packages (from requests>=2.8.1->wfdb->libemg) (2023.11.17)\n",
            "Requirement already satisfied: cffi>=1.0 in /usr/local/lib/python3.10/dist-packages (from soundfile>=0.12.1->librosa->libemg) (1.16.0)\n",
            "Requirement already satisfied: pycparser in /usr/local/lib/python3.10/dist-packages (from cffi>=1.0->soundfile>=0.12.1->librosa->libemg) (2.21)\n"
          ]
        }
      ],
      "source": [
        "!pip install libemg"
      ]
    },
    {
      "cell_type": "code",
      "source": [
        "import numpy as np\n",
        "import matplotlib.pyplot as plt\n",
        "import scipy.io as scipyio\n",
        "import seaborn as sns\n",
        "import pandas as pd\n",
        "from libemg.feature_extractor import FeatureExtractor\n",
        "from libemg.utils import get_windows\n",
        "from google.colab import drive\n",
        "import os\n",
        "from sklearn.preprocessing import MinMaxScaler"
      ],
      "metadata": {
        "id": "S_cbWcJpinEX"
      },
      "execution_count": 27,
      "outputs": []
    },
    {
      "cell_type": "markdown",
      "source": [
        "**Reading Dataset**"
      ],
      "metadata": {
        "id": "47dGhzkMjZ8_"
      }
    },
    {
      "cell_type": "code",
      "source": [
        "drive.mount('/content/gdrive')"
      ],
      "metadata": {
        "colab": {
          "base_uri": "https://localhost:8080/"
        },
        "id": "FxWMJLpOjdcB",
        "outputId": "8dc9e0e4-fd30-4600-a084-53065ceb6e19"
      },
      "execution_count": 6,
      "outputs": [
        {
          "output_type": "stream",
          "name": "stdout",
          "text": [
            "Drive already mounted at /content/gdrive; to attempt to forcibly remount, call drive.mount(\"/content/gdrive\", force_remount=True).\n"
          ]
        }
      ]
    },
    {
      "cell_type": "code",
      "source": [
        "gestures_label = {\n",
        "\t 'Thumb_UP' : 0,\n",
        "\t 'Index' : 1,\n",
        "\t 'Right_Angle' : 2,\n",
        "\t 'Peace' : 3,\n",
        "\t 'Index_Little' : 4,\n",
        "\t 'Thumb_Little' : 5,\n",
        "\t 'Hand_Close' : 6,\n",
        "\t 'Hand_Open' : 7,\n",
        "\t 'Wrist_Extension' : 8,\n",
        "\t 'Wrist_Flexion' : 9,\n",
        "\t 'Ulner_Deviation' : 10,\n",
        "\t 'Radial_Deviation' : 11\n",
        "}\n",
        "\n",
        "gestures = ['Thumb_UP', 'Index_Little', 'Right_Angle', 'Peace', 'Index', 'Thumb_Little', 'Hand_Close', 'Hand_Open',\n",
        "\t 'Wrist_Extension', 'Wrist_Flexion', 'Ulner_Deviation', 'Radial_Deviation'\n",
        "]"
      ],
      "metadata": {
        "id": "43mB8rvkkOFQ"
      },
      "execution_count": 7,
      "outputs": []
    },
    {
      "cell_type": "code",
      "source": [
        "persons = [\"Arifa\", \"Arnob\", \"Ashis\", \"Bayezid\", \"Bushra\", \"Choity_new\", \"Eftekhar\",\n",
        "           \"Fahim\", \"Humaid\", \"Humayun\", \"Johir\", \"Joy\", \"Mamun\", \"Noman\", \"Piyus\", \"Sazzad\",\n",
        "           \"Shafi\", \"Shourav\", \"Tamim\", \"Wadud\"]"
      ],
      "metadata": {
        "id": "3lT_Z7hkmdXG"
      },
      "execution_count": 8,
      "outputs": []
    },
    {
      "cell_type": "code",
      "source": [
        "def get_gesture_label(gesture):\n",
        "  return gestures_label [gesture];"
      ],
      "metadata": {
        "id": "jx8GgpISv5I2"
      },
      "execution_count": 9,
      "outputs": []
    },
    {
      "cell_type": "code",
      "source": [
        "def scaleTo01(matrix):\n",
        "  scaler = MinMaxScaler()\n",
        "  scaler.fit(matrix)\n",
        "  scaled_matrix = scaler.transform(matrix)\n",
        "  return scaled_matrix"
      ],
      "metadata": {
        "id": "v23-gW_bX4f3"
      },
      "execution_count": 28,
      "outputs": []
    },
    {
      "cell_type": "code",
      "source": [
        "def feature_extraction(channelvalues, gesture, feature_list):\n",
        "  # creating windows\n",
        "  windows = get_windows(channelvalues, 50, 50)\n",
        "  # extract feature\n",
        "  fe = FeatureExtractor()\n",
        "  features = fe.extract_features(feature_list, windows)\n",
        "  # print(features.keys())\n",
        "  # creating feature matrixs\n",
        "  extracted_feature_array = []\n",
        "  extracted_gesture_array = []\n",
        "  for i in range(windows.shape[0]):\n",
        "    features_matrix = []\n",
        "    for abb in feature_list:\n",
        "      features_matrix.append(features[abb][i])\n",
        "    #print(features['MAV'].shape)\n",
        "    #print(features['AR'].shape)\n",
        "    #features_matrix = (features_matrix-np.min(features_matrix))/(np.max(features_matrix)-np.min(features_matrix))\n",
        "    #features_matrix = scaleTo01(features_matrix)\n",
        "    extracted_feature_array.append(features_matrix)\n",
        "    extracted_gesture_array.append(get_gesture_label(gesture))\n",
        "    #print(len(extracted_feature_array))\n",
        "  return extracted_feature_array, extracted_gesture_array"
      ],
      "metadata": {
        "id": "DaBZ8rssnyrg"
      },
      "execution_count": 111,
      "outputs": []
    },
    {
      "cell_type": "code",
      "source": [
        "def get_processed_data(matfilepath, gesture):\n",
        "  # read mat file\n",
        "  matdata = scipyio.loadmat(matfilepath)\n",
        "  # transpose the matrix\n",
        "  values = np.transpose(matdata['value'])\n",
        "  # remove the first 3000 values\n",
        "  values = values[3000:]\n",
        "  return feature_extraction(values, gesture, feature_list)\n"
      ],
      "metadata": {
        "id": "mZ_awmvtm37Q"
      },
      "execution_count": 94,
      "outputs": []
    },
    {
      "cell_type": "code",
      "source": [
        "def get_input(persons, gestures, feature_list, orientaion=\"Rest\"):\n",
        "  input_array = []\n",
        "  input_gest = []\n",
        "  for person in persons:\n",
        "    for gest in gestures:\n",
        "      for i in range(5):\n",
        "        matfilepath = \"gdrive/My Drive/Forearm Invariant Data/\"+person+\"/\"+orientaion+\"/\"+gest+\"-\"+str(i+1)+\".mat\"\n",
        "        #print(matfilepath)\n",
        "        processed_matrix, gesture_array = get_processed_data(matfilepath, gest)\n",
        "        gest_label = get_gesture_label(gest)\n",
        "        input_array = input_array + processed_matrix\n",
        "        input_gest = input_gest + gesture_array\n",
        "  return input_array, input_gest"
      ],
      "metadata": {
        "id": "D2d1xF4gkzXB"
      },
      "execution_count": 95,
      "outputs": []
    },
    {
      "cell_type": "code",
      "source": [
        "feature_list = [\n",
        "    'MAV',\n",
        "    'SSC',\n",
        "    'ZC',\n",
        "    'WL',\n",
        "    'LS',\n",
        "    'MFL',\n",
        "    'MSR',\n",
        "    'WAMP',\n",
        "    'RMS',\n",
        "    'IAV',\n",
        "    'DASDV',\n",
        "    'VAR',\n",
        "    'M0',\n",
        "    'M2',\n",
        "    'M4',\n",
        "    'SPARSI',\n",
        "    'IRF',\n",
        "    # 'WLR',\n",
        "    'LD',\n",
        "]\n",
        "X, Y = get_input(['Arifa'], gestures, feature_list)"
      ],
      "metadata": {
        "id": "WaN2dILztYHr"
      },
      "execution_count": 112,
      "outputs": []
    },
    {
      "cell_type": "code",
      "source": [
        "len(X), len(Y)"
      ],
      "metadata": {
        "colab": {
          "base_uri": "https://localhost:8080/"
        },
        "id": "oJFCcGx2uSdC",
        "outputId": "969587c9-6c96-4407-9842-81feb7f855b1"
      },
      "execution_count": 113,
      "outputs": [
        {
          "output_type": "execute_result",
          "data": {
            "text/plain": [
              "(6000, 6000)"
            ]
          },
          "metadata": {},
          "execution_count": 113
        }
      ]
    },
    {
      "cell_type": "code",
      "source": [
        "#\n",
        "df = pd.DataFrame(X[0])\n",
        "index = pd.Index(feature_list)\n",
        "df = df.set_index(index)\n",
        "df"
      ],
      "metadata": {
        "colab": {
          "base_uri": "https://localhost:8080/",
          "height": 614
        },
        "id": "BazAZkIbwiN3",
        "outputId": "fd0e4681-c1db-4ed0-a8a4-673318e93d12"
      },
      "execution_count": 114,
      "outputs": [
        {
          "output_type": "execute_result",
          "data": {
            "text/plain": [
              "                0          1          2          3          4          5  \\\n",
              "MAV      0.016309   0.013770   0.038770   0.017480   0.034375   0.021875   \n",
              "SSC     30.000000  34.000000  32.000000  26.000000  25.000000  28.000000   \n",
              "ZC       6.000000   8.000000  10.000000   9.000000  15.000000  13.000000   \n",
              "WL       0.556641   0.639648   2.182617   0.820312   1.611328   1.000977   \n",
              "LS       0.010892   0.010110   0.028278   0.011836   0.024749   0.015868   \n",
              "MFL     -0.254425  -0.194059   0.338978  -0.086021   0.207184   0.000424   \n",
              "MSR      0.086930   0.073776   0.125297   0.088557   0.119592   0.094754   \n",
              "WAMP    40.000000  39.000000  45.000000  46.000000  47.000000  44.000000   \n",
              "RMS      0.019954   0.017914   0.049464   0.021070   0.042958   0.027913   \n",
              "IAV      0.815430   0.688477   1.938477   0.874023   1.718750   1.093750   \n",
              "DASDV    0.015314   0.017439   0.056639   0.020217   0.046291   0.025391   \n",
              "VAR      0.000369   0.000321   0.002431   0.000425   0.001845   0.000775   \n",
              "M0      -0.951715  -0.947833  -0.965608  -0.951801  -0.965499  -0.957445   \n",
              "M2      -0.062640  -0.374487  -0.764295  -0.400080  -0.725871  -0.451985   \n",
              "M4      -0.527799  -0.585916  -0.851329  -0.619924  -0.809962  -0.682765   \n",
              "SPARSI  -0.994839  -0.999993  -0.995419  -0.999996  -0.996891  -0.998252   \n",
              "IRF     -0.919629  -0.980310  -0.976565  -0.980335  -0.959151  -0.980810   \n",
              "LD       1.016244   1.013705   1.038322   1.017413   1.034058   1.021730   \n",
              "\n",
              "                6          7  \n",
              "MAV      0.043555   0.020313  \n",
              "SSC     22.000000  30.000000  \n",
              "ZC       7.000000  17.000000  \n",
              "WL       1.586914   1.142578  \n",
              "LS       0.032689   0.014445  \n",
              "MFL      0.200553   0.057886  \n",
              "MSR      0.131947   0.094067  \n",
              "WAMP    45.000000  46.000000  \n",
              "RMS      0.059634   0.026547  \n",
              "IAV      2.177734   1.015625  \n",
              "DASDV    0.045297   0.030803  \n",
              "VAR      0.003556   0.000703  \n",
              "M0      -0.970147  -0.960645  \n",
              "M2      -0.347645   0.741903  \n",
              "M4      -0.573874  -0.494682  \n",
              "SPARSI  -0.998809  -0.824293  \n",
              "IRF     -0.986822   0.062067  \n",
              "LD       1.042787   1.020173  "
            ],
            "text/html": [
              "\n",
              "  <div id=\"df-c6191bc2-d056-43c6-8e70-a56c270e8ac5\" class=\"colab-df-container\">\n",
              "    <div>\n",
              "<style scoped>\n",
              "    .dataframe tbody tr th:only-of-type {\n",
              "        vertical-align: middle;\n",
              "    }\n",
              "\n",
              "    .dataframe tbody tr th {\n",
              "        vertical-align: top;\n",
              "    }\n",
              "\n",
              "    .dataframe thead th {\n",
              "        text-align: right;\n",
              "    }\n",
              "</style>\n",
              "<table border=\"1\" class=\"dataframe\">\n",
              "  <thead>\n",
              "    <tr style=\"text-align: right;\">\n",
              "      <th></th>\n",
              "      <th>0</th>\n",
              "      <th>1</th>\n",
              "      <th>2</th>\n",
              "      <th>3</th>\n",
              "      <th>4</th>\n",
              "      <th>5</th>\n",
              "      <th>6</th>\n",
              "      <th>7</th>\n",
              "    </tr>\n",
              "  </thead>\n",
              "  <tbody>\n",
              "    <tr>\n",
              "      <th>MAV</th>\n",
              "      <td>0.016309</td>\n",
              "      <td>0.013770</td>\n",
              "      <td>0.038770</td>\n",
              "      <td>0.017480</td>\n",
              "      <td>0.034375</td>\n",
              "      <td>0.021875</td>\n",
              "      <td>0.043555</td>\n",
              "      <td>0.020313</td>\n",
              "    </tr>\n",
              "    <tr>\n",
              "      <th>SSC</th>\n",
              "      <td>30.000000</td>\n",
              "      <td>34.000000</td>\n",
              "      <td>32.000000</td>\n",
              "      <td>26.000000</td>\n",
              "      <td>25.000000</td>\n",
              "      <td>28.000000</td>\n",
              "      <td>22.000000</td>\n",
              "      <td>30.000000</td>\n",
              "    </tr>\n",
              "    <tr>\n",
              "      <th>ZC</th>\n",
              "      <td>6.000000</td>\n",
              "      <td>8.000000</td>\n",
              "      <td>10.000000</td>\n",
              "      <td>9.000000</td>\n",
              "      <td>15.000000</td>\n",
              "      <td>13.000000</td>\n",
              "      <td>7.000000</td>\n",
              "      <td>17.000000</td>\n",
              "    </tr>\n",
              "    <tr>\n",
              "      <th>WL</th>\n",
              "      <td>0.556641</td>\n",
              "      <td>0.639648</td>\n",
              "      <td>2.182617</td>\n",
              "      <td>0.820312</td>\n",
              "      <td>1.611328</td>\n",
              "      <td>1.000977</td>\n",
              "      <td>1.586914</td>\n",
              "      <td>1.142578</td>\n",
              "    </tr>\n",
              "    <tr>\n",
              "      <th>LS</th>\n",
              "      <td>0.010892</td>\n",
              "      <td>0.010110</td>\n",
              "      <td>0.028278</td>\n",
              "      <td>0.011836</td>\n",
              "      <td>0.024749</td>\n",
              "      <td>0.015868</td>\n",
              "      <td>0.032689</td>\n",
              "      <td>0.014445</td>\n",
              "    </tr>\n",
              "    <tr>\n",
              "      <th>MFL</th>\n",
              "      <td>-0.254425</td>\n",
              "      <td>-0.194059</td>\n",
              "      <td>0.338978</td>\n",
              "      <td>-0.086021</td>\n",
              "      <td>0.207184</td>\n",
              "      <td>0.000424</td>\n",
              "      <td>0.200553</td>\n",
              "      <td>0.057886</td>\n",
              "    </tr>\n",
              "    <tr>\n",
              "      <th>MSR</th>\n",
              "      <td>0.086930</td>\n",
              "      <td>0.073776</td>\n",
              "      <td>0.125297</td>\n",
              "      <td>0.088557</td>\n",
              "      <td>0.119592</td>\n",
              "      <td>0.094754</td>\n",
              "      <td>0.131947</td>\n",
              "      <td>0.094067</td>\n",
              "    </tr>\n",
              "    <tr>\n",
              "      <th>WAMP</th>\n",
              "      <td>40.000000</td>\n",
              "      <td>39.000000</td>\n",
              "      <td>45.000000</td>\n",
              "      <td>46.000000</td>\n",
              "      <td>47.000000</td>\n",
              "      <td>44.000000</td>\n",
              "      <td>45.000000</td>\n",
              "      <td>46.000000</td>\n",
              "    </tr>\n",
              "    <tr>\n",
              "      <th>RMS</th>\n",
              "      <td>0.019954</td>\n",
              "      <td>0.017914</td>\n",
              "      <td>0.049464</td>\n",
              "      <td>0.021070</td>\n",
              "      <td>0.042958</td>\n",
              "      <td>0.027913</td>\n",
              "      <td>0.059634</td>\n",
              "      <td>0.026547</td>\n",
              "    </tr>\n",
              "    <tr>\n",
              "      <th>IAV</th>\n",
              "      <td>0.815430</td>\n",
              "      <td>0.688477</td>\n",
              "      <td>1.938477</td>\n",
              "      <td>0.874023</td>\n",
              "      <td>1.718750</td>\n",
              "      <td>1.093750</td>\n",
              "      <td>2.177734</td>\n",
              "      <td>1.015625</td>\n",
              "    </tr>\n",
              "    <tr>\n",
              "      <th>DASDV</th>\n",
              "      <td>0.015314</td>\n",
              "      <td>0.017439</td>\n",
              "      <td>0.056639</td>\n",
              "      <td>0.020217</td>\n",
              "      <td>0.046291</td>\n",
              "      <td>0.025391</td>\n",
              "      <td>0.045297</td>\n",
              "      <td>0.030803</td>\n",
              "    </tr>\n",
              "    <tr>\n",
              "      <th>VAR</th>\n",
              "      <td>0.000369</td>\n",
              "      <td>0.000321</td>\n",
              "      <td>0.002431</td>\n",
              "      <td>0.000425</td>\n",
              "      <td>0.001845</td>\n",
              "      <td>0.000775</td>\n",
              "      <td>0.003556</td>\n",
              "      <td>0.000703</td>\n",
              "    </tr>\n",
              "    <tr>\n",
              "      <th>M0</th>\n",
              "      <td>-0.951715</td>\n",
              "      <td>-0.947833</td>\n",
              "      <td>-0.965608</td>\n",
              "      <td>-0.951801</td>\n",
              "      <td>-0.965499</td>\n",
              "      <td>-0.957445</td>\n",
              "      <td>-0.970147</td>\n",
              "      <td>-0.960645</td>\n",
              "    </tr>\n",
              "    <tr>\n",
              "      <th>M2</th>\n",
              "      <td>-0.062640</td>\n",
              "      <td>-0.374487</td>\n",
              "      <td>-0.764295</td>\n",
              "      <td>-0.400080</td>\n",
              "      <td>-0.725871</td>\n",
              "      <td>-0.451985</td>\n",
              "      <td>-0.347645</td>\n",
              "      <td>0.741903</td>\n",
              "    </tr>\n",
              "    <tr>\n",
              "      <th>M4</th>\n",
              "      <td>-0.527799</td>\n",
              "      <td>-0.585916</td>\n",
              "      <td>-0.851329</td>\n",
              "      <td>-0.619924</td>\n",
              "      <td>-0.809962</td>\n",
              "      <td>-0.682765</td>\n",
              "      <td>-0.573874</td>\n",
              "      <td>-0.494682</td>\n",
              "    </tr>\n",
              "    <tr>\n",
              "      <th>SPARSI</th>\n",
              "      <td>-0.994839</td>\n",
              "      <td>-0.999993</td>\n",
              "      <td>-0.995419</td>\n",
              "      <td>-0.999996</td>\n",
              "      <td>-0.996891</td>\n",
              "      <td>-0.998252</td>\n",
              "      <td>-0.998809</td>\n",
              "      <td>-0.824293</td>\n",
              "    </tr>\n",
              "    <tr>\n",
              "      <th>IRF</th>\n",
              "      <td>-0.919629</td>\n",
              "      <td>-0.980310</td>\n",
              "      <td>-0.976565</td>\n",
              "      <td>-0.980335</td>\n",
              "      <td>-0.959151</td>\n",
              "      <td>-0.980810</td>\n",
              "      <td>-0.986822</td>\n",
              "      <td>0.062067</td>\n",
              "    </tr>\n",
              "    <tr>\n",
              "      <th>LD</th>\n",
              "      <td>1.016244</td>\n",
              "      <td>1.013705</td>\n",
              "      <td>1.038322</td>\n",
              "      <td>1.017413</td>\n",
              "      <td>1.034058</td>\n",
              "      <td>1.021730</td>\n",
              "      <td>1.042787</td>\n",
              "      <td>1.020173</td>\n",
              "    </tr>\n",
              "  </tbody>\n",
              "</table>\n",
              "</div>\n",
              "    <div class=\"colab-df-buttons\">\n",
              "\n",
              "  <div class=\"colab-df-container\">\n",
              "    <button class=\"colab-df-convert\" onclick=\"convertToInteractive('df-c6191bc2-d056-43c6-8e70-a56c270e8ac5')\"\n",
              "            title=\"Convert this dataframe to an interactive table.\"\n",
              "            style=\"display:none;\">\n",
              "\n",
              "  <svg xmlns=\"http://www.w3.org/2000/svg\" height=\"24px\" viewBox=\"0 -960 960 960\">\n",
              "    <path d=\"M120-120v-720h720v720H120Zm60-500h600v-160H180v160Zm220 220h160v-160H400v160Zm0 220h160v-160H400v160ZM180-400h160v-160H180v160Zm440 0h160v-160H620v160ZM180-180h160v-160H180v160Zm440 0h160v-160H620v160Z\"/>\n",
              "  </svg>\n",
              "    </button>\n",
              "\n",
              "  <style>\n",
              "    .colab-df-container {\n",
              "      display:flex;\n",
              "      gap: 12px;\n",
              "    }\n",
              "\n",
              "    .colab-df-convert {\n",
              "      background-color: #E8F0FE;\n",
              "      border: none;\n",
              "      border-radius: 50%;\n",
              "      cursor: pointer;\n",
              "      display: none;\n",
              "      fill: #1967D2;\n",
              "      height: 32px;\n",
              "      padding: 0 0 0 0;\n",
              "      width: 32px;\n",
              "    }\n",
              "\n",
              "    .colab-df-convert:hover {\n",
              "      background-color: #E2EBFA;\n",
              "      box-shadow: 0px 1px 2px rgba(60, 64, 67, 0.3), 0px 1px 3px 1px rgba(60, 64, 67, 0.15);\n",
              "      fill: #174EA6;\n",
              "    }\n",
              "\n",
              "    .colab-df-buttons div {\n",
              "      margin-bottom: 4px;\n",
              "    }\n",
              "\n",
              "    [theme=dark] .colab-df-convert {\n",
              "      background-color: #3B4455;\n",
              "      fill: #D2E3FC;\n",
              "    }\n",
              "\n",
              "    [theme=dark] .colab-df-convert:hover {\n",
              "      background-color: #434B5C;\n",
              "      box-shadow: 0px 1px 3px 1px rgba(0, 0, 0, 0.15);\n",
              "      filter: drop-shadow(0px 1px 2px rgba(0, 0, 0, 0.3));\n",
              "      fill: #FFFFFF;\n",
              "    }\n",
              "  </style>\n",
              "\n",
              "    <script>\n",
              "      const buttonEl =\n",
              "        document.querySelector('#df-c6191bc2-d056-43c6-8e70-a56c270e8ac5 button.colab-df-convert');\n",
              "      buttonEl.style.display =\n",
              "        google.colab.kernel.accessAllowed ? 'block' : 'none';\n",
              "\n",
              "      async function convertToInteractive(key) {\n",
              "        const element = document.querySelector('#df-c6191bc2-d056-43c6-8e70-a56c270e8ac5');\n",
              "        const dataTable =\n",
              "          await google.colab.kernel.invokeFunction('convertToInteractive',\n",
              "                                                    [key], {});\n",
              "        if (!dataTable) return;\n",
              "\n",
              "        const docLinkHtml = 'Like what you see? Visit the ' +\n",
              "          '<a target=\"_blank\" href=https://colab.research.google.com/notebooks/data_table.ipynb>data table notebook</a>'\n",
              "          + ' to learn more about interactive tables.';\n",
              "        element.innerHTML = '';\n",
              "        dataTable['output_type'] = 'display_data';\n",
              "        await google.colab.output.renderOutput(dataTable, element);\n",
              "        const docLink = document.createElement('div');\n",
              "        docLink.innerHTML = docLinkHtml;\n",
              "        element.appendChild(docLink);\n",
              "      }\n",
              "    </script>\n",
              "  </div>\n",
              "\n",
              "\n",
              "<div id=\"df-073af2a7-bb02-497a-845f-d13ebce5fc65\">\n",
              "  <button class=\"colab-df-quickchart\" onclick=\"quickchart('df-073af2a7-bb02-497a-845f-d13ebce5fc65')\"\n",
              "            title=\"Suggest charts\"\n",
              "            style=\"display:none;\">\n",
              "\n",
              "<svg xmlns=\"http://www.w3.org/2000/svg\" height=\"24px\"viewBox=\"0 0 24 24\"\n",
              "     width=\"24px\">\n",
              "    <g>\n",
              "        <path d=\"M19 3H5c-1.1 0-2 .9-2 2v14c0 1.1.9 2 2 2h14c1.1 0 2-.9 2-2V5c0-1.1-.9-2-2-2zM9 17H7v-7h2v7zm4 0h-2V7h2v10zm4 0h-2v-4h2v4z\"/>\n",
              "    </g>\n",
              "</svg>\n",
              "  </button>\n",
              "\n",
              "<style>\n",
              "  .colab-df-quickchart {\n",
              "      --bg-color: #E8F0FE;\n",
              "      --fill-color: #1967D2;\n",
              "      --hover-bg-color: #E2EBFA;\n",
              "      --hover-fill-color: #174EA6;\n",
              "      --disabled-fill-color: #AAA;\n",
              "      --disabled-bg-color: #DDD;\n",
              "  }\n",
              "\n",
              "  [theme=dark] .colab-df-quickchart {\n",
              "      --bg-color: #3B4455;\n",
              "      --fill-color: #D2E3FC;\n",
              "      --hover-bg-color: #434B5C;\n",
              "      --hover-fill-color: #FFFFFF;\n",
              "      --disabled-bg-color: #3B4455;\n",
              "      --disabled-fill-color: #666;\n",
              "  }\n",
              "\n",
              "  .colab-df-quickchart {\n",
              "    background-color: var(--bg-color);\n",
              "    border: none;\n",
              "    border-radius: 50%;\n",
              "    cursor: pointer;\n",
              "    display: none;\n",
              "    fill: var(--fill-color);\n",
              "    height: 32px;\n",
              "    padding: 0;\n",
              "    width: 32px;\n",
              "  }\n",
              "\n",
              "  .colab-df-quickchart:hover {\n",
              "    background-color: var(--hover-bg-color);\n",
              "    box-shadow: 0 1px 2px rgba(60, 64, 67, 0.3), 0 1px 3px 1px rgba(60, 64, 67, 0.15);\n",
              "    fill: var(--button-hover-fill-color);\n",
              "  }\n",
              "\n",
              "  .colab-df-quickchart-complete:disabled,\n",
              "  .colab-df-quickchart-complete:disabled:hover {\n",
              "    background-color: var(--disabled-bg-color);\n",
              "    fill: var(--disabled-fill-color);\n",
              "    box-shadow: none;\n",
              "  }\n",
              "\n",
              "  .colab-df-spinner {\n",
              "    border: 2px solid var(--fill-color);\n",
              "    border-color: transparent;\n",
              "    border-bottom-color: var(--fill-color);\n",
              "    animation:\n",
              "      spin 1s steps(1) infinite;\n",
              "  }\n",
              "\n",
              "  @keyframes spin {\n",
              "    0% {\n",
              "      border-color: transparent;\n",
              "      border-bottom-color: var(--fill-color);\n",
              "      border-left-color: var(--fill-color);\n",
              "    }\n",
              "    20% {\n",
              "      border-color: transparent;\n",
              "      border-left-color: var(--fill-color);\n",
              "      border-top-color: var(--fill-color);\n",
              "    }\n",
              "    30% {\n",
              "      border-color: transparent;\n",
              "      border-left-color: var(--fill-color);\n",
              "      border-top-color: var(--fill-color);\n",
              "      border-right-color: var(--fill-color);\n",
              "    }\n",
              "    40% {\n",
              "      border-color: transparent;\n",
              "      border-right-color: var(--fill-color);\n",
              "      border-top-color: var(--fill-color);\n",
              "    }\n",
              "    60% {\n",
              "      border-color: transparent;\n",
              "      border-right-color: var(--fill-color);\n",
              "    }\n",
              "    80% {\n",
              "      border-color: transparent;\n",
              "      border-right-color: var(--fill-color);\n",
              "      border-bottom-color: var(--fill-color);\n",
              "    }\n",
              "    90% {\n",
              "      border-color: transparent;\n",
              "      border-bottom-color: var(--fill-color);\n",
              "    }\n",
              "  }\n",
              "</style>\n",
              "\n",
              "  <script>\n",
              "    async function quickchart(key) {\n",
              "      const quickchartButtonEl =\n",
              "        document.querySelector('#' + key + ' button');\n",
              "      quickchartButtonEl.disabled = true;  // To prevent multiple clicks.\n",
              "      quickchartButtonEl.classList.add('colab-df-spinner');\n",
              "      try {\n",
              "        const charts = await google.colab.kernel.invokeFunction(\n",
              "            'suggestCharts', [key], {});\n",
              "      } catch (error) {\n",
              "        console.error('Error during call to suggestCharts:', error);\n",
              "      }\n",
              "      quickchartButtonEl.classList.remove('colab-df-spinner');\n",
              "      quickchartButtonEl.classList.add('colab-df-quickchart-complete');\n",
              "    }\n",
              "    (() => {\n",
              "      let quickchartButtonEl =\n",
              "        document.querySelector('#df-073af2a7-bb02-497a-845f-d13ebce5fc65 button');\n",
              "      quickchartButtonEl.style.display =\n",
              "        google.colab.kernel.accessAllowed ? 'block' : 'none';\n",
              "    })();\n",
              "  </script>\n",
              "</div>\n",
              "\n",
              "  <div id=\"id_bd5948ff-ea5a-4ccb-9206-4a070b2908c1\">\n",
              "    <style>\n",
              "      .colab-df-generate {\n",
              "        background-color: #E8F0FE;\n",
              "        border: none;\n",
              "        border-radius: 50%;\n",
              "        cursor: pointer;\n",
              "        display: none;\n",
              "        fill: #1967D2;\n",
              "        height: 32px;\n",
              "        padding: 0 0 0 0;\n",
              "        width: 32px;\n",
              "      }\n",
              "\n",
              "      .colab-df-generate:hover {\n",
              "        background-color: #E2EBFA;\n",
              "        box-shadow: 0px 1px 2px rgba(60, 64, 67, 0.3), 0px 1px 3px 1px rgba(60, 64, 67, 0.15);\n",
              "        fill: #174EA6;\n",
              "      }\n",
              "\n",
              "      [theme=dark] .colab-df-generate {\n",
              "        background-color: #3B4455;\n",
              "        fill: #D2E3FC;\n",
              "      }\n",
              "\n",
              "      [theme=dark] .colab-df-generate:hover {\n",
              "        background-color: #434B5C;\n",
              "        box-shadow: 0px 1px 3px 1px rgba(0, 0, 0, 0.15);\n",
              "        filter: drop-shadow(0px 1px 2px rgba(0, 0, 0, 0.3));\n",
              "        fill: #FFFFFF;\n",
              "      }\n",
              "    </style>\n",
              "    <button class=\"colab-df-generate\" onclick=\"generateWithVariable('df')\"\n",
              "            title=\"Generate code using this dataframe.\"\n",
              "            style=\"display:none;\">\n",
              "\n",
              "  <svg xmlns=\"http://www.w3.org/2000/svg\" height=\"24px\"viewBox=\"0 0 24 24\"\n",
              "       width=\"24px\">\n",
              "    <path d=\"M7,19H8.4L18.45,9,17,7.55,7,17.6ZM5,21V16.75L18.45,3.32a2,2,0,0,1,2.83,0l1.4,1.43a1.91,1.91,0,0,1,.58,1.4,1.91,1.91,0,0,1-.58,1.4L9.25,21ZM18.45,9,17,7.55Zm-12,3A5.31,5.31,0,0,0,4.9,8.1,5.31,5.31,0,0,0,1,6.5,5.31,5.31,0,0,0,4.9,4.9,5.31,5.31,0,0,0,6.5,1,5.31,5.31,0,0,0,8.1,4.9,5.31,5.31,0,0,0,12,6.5,5.46,5.46,0,0,0,6.5,12Z\"/>\n",
              "  </svg>\n",
              "    </button>\n",
              "    <script>\n",
              "      (() => {\n",
              "      const buttonEl =\n",
              "        document.querySelector('#id_bd5948ff-ea5a-4ccb-9206-4a070b2908c1 button.colab-df-generate');\n",
              "      buttonEl.style.display =\n",
              "        google.colab.kernel.accessAllowed ? 'block' : 'none';\n",
              "\n",
              "      buttonEl.onclick = () => {\n",
              "        google.colab.notebook.generateWithVariable('df');\n",
              "      }\n",
              "      })();\n",
              "    </script>\n",
              "  </div>\n",
              "\n",
              "    </div>\n",
              "  </div>\n"
            ]
          },
          "metadata": {},
          "execution_count": 114
        }
      ]
    },
    {
      "cell_type": "code",
      "source": [
        "X = np.array(X)\n",
        "Y = np.array(Y)\n",
        "X.shape, Y.shape"
      ],
      "metadata": {
        "colab": {
          "base_uri": "https://localhost:8080/"
        },
        "id": "BHt1DsXezc4m",
        "outputId": "57ed2eef-7df4-4c4c-d7a9-c2efe8ac3ca5"
      },
      "execution_count": 115,
      "outputs": [
        {
          "output_type": "execute_result",
          "data": {
            "text/plain": [
              "((6000, 18, 8), (6000,))"
            ]
          },
          "metadata": {},
          "execution_count": 115
        }
      ]
    },
    {
      "cell_type": "markdown",
      "source": [
        "**Model Building**"
      ],
      "metadata": {
        "id": "0l87yRy9yCbZ"
      }
    },
    {
      "cell_type": "code",
      "source": [
        "from sklearn.model_selection import train_test_split\n",
        "x_train, x_test, y_train, y_test = train_test_split(\n",
        "    X,Y,\n",
        "    test_size = .2, shuffle=True, random_state=0\n",
        ")"
      ],
      "metadata": {
        "id": "1v51JnuRyFlo"
      },
      "execution_count": 116,
      "outputs": []
    },
    {
      "cell_type": "code",
      "source": [
        "len(x_train), len(y_train)"
      ],
      "metadata": {
        "colab": {
          "base_uri": "https://localhost:8080/"
        },
        "id": "aQWVClBuyQf3",
        "outputId": "4d44ea7f-ef34-4dc6-9be2-b808de6cfe4d"
      },
      "execution_count": 117,
      "outputs": [
        {
          "output_type": "execute_result",
          "data": {
            "text/plain": [
              "(4800, 4800)"
            ]
          },
          "metadata": {},
          "execution_count": 117
        }
      ]
    },
    {
      "cell_type": "code",
      "source": [
        "import tensorflow as tf\n",
        "from tensorflow.keras.models import Sequential\n",
        "from tensorflow.keras.layers import Conv1D, MaxPooling1D, Flatten, Dense, Dropout\n",
        "\n",
        "# Define the input shape\n",
        "input_shape = x_train[0].shape\n",
        "\n",
        "# Create a Sequential model\n",
        "model = Sequential()\n",
        "\n",
        "# Add a Conv1D layer\n",
        "model.add(Conv1D(filters=32, kernel_size=3, activation='relu', input_shape=input_shape))\n",
        "\n",
        "# Add a MaxPooling1D layer (optional)\n",
        "model.add(MaxPooling1D(pool_size=2))\n",
        "\n",
        "# Flatten the output before feeding it to a Dense layer\n",
        "model.add(Flatten())\n",
        "\n",
        "# Add a Dense layer\n",
        "model.add(Dense(64, activation='relu'))\n",
        "#model.add(Dropout(0.2))\n",
        "\n",
        "# Add a Dense layer\n",
        "model.add(Dense(32, activation='relu'))\n",
        "#model.add(Dropout(0.2))\n",
        "\n",
        "# Add a Dense layer\n",
        "model.add(Dense(16, activation='relu'))\n",
        "#model.add(Dropout(0.2))\n",
        "\n",
        "# Output layer for classification (adjust units according to the number of classes)\n",
        "# Assuming classes are integers starting from 0\n",
        "model.add(Dense(12, activation='softmax'))\n",
        "\n",
        "# Compile the model\n",
        "model.compile(optimizer='adam', loss='sparse_categorical_crossentropy', metrics=['accuracy'])\n",
        "\n",
        "# Display model summary\n",
        "model.summary()"
      ],
      "metadata": {
        "colab": {
          "base_uri": "https://localhost:8080/"
        },
        "id": "uAfUtnYPIOcL",
        "outputId": "b06cc0c6-8570-41b0-f6cd-a5b041a33db6"
      },
      "execution_count": 118,
      "outputs": [
        {
          "output_type": "stream",
          "name": "stdout",
          "text": [
            "Model: \"sequential_8\"\n",
            "_________________________________________________________________\n",
            " Layer (type)                Output Shape              Param #   \n",
            "=================================================================\n",
            " conv1d_8 (Conv1D)           (None, 16, 32)            800       \n",
            "                                                                 \n",
            " max_pooling1d_8 (MaxPoolin  (None, 8, 32)             0         \n",
            " g1D)                                                            \n",
            "                                                                 \n",
            " flatten_8 (Flatten)         (None, 256)               0         \n",
            "                                                                 \n",
            " dense_29 (Dense)            (None, 64)                16448     \n",
            "                                                                 \n",
            " dense_30 (Dense)            (None, 32)                2080      \n",
            "                                                                 \n",
            " dense_31 (Dense)            (None, 16)                528       \n",
            "                                                                 \n",
            " dense_32 (Dense)            (None, 12)                204       \n",
            "                                                                 \n",
            "=================================================================\n",
            "Total params: 20060 (78.36 KB)\n",
            "Trainable params: 20060 (78.36 KB)\n",
            "Non-trainable params: 0 (0.00 Byte)\n",
            "_________________________________________________________________\n"
          ]
        }
      ]
    },
    {
      "cell_type": "code",
      "source": [
        "# Fit the model with training data\n",
        "history = model.fit(x_train, y_train, epochs=100, batch_size=32, validation_data=(x_test, y_test))"
      ],
      "metadata": {
        "colab": {
          "base_uri": "https://localhost:8080/"
        },
        "id": "_tJKZmzII70e",
        "outputId": "5eb4d29b-5998-418f-95f0-9b21d6ac5e1b"
      },
      "execution_count": 119,
      "outputs": [
        {
          "output_type": "stream",
          "name": "stdout",
          "text": [
            "Epoch 1/100\n",
            "150/150 [==============================] - 2s 9ms/step - loss: 2.3158 - accuracy: 0.1988 - val_loss: 1.9765 - val_accuracy: 0.2858\n",
            "Epoch 2/100\n",
            "150/150 [==============================] - 1s 7ms/step - loss: 1.7200 - accuracy: 0.3758 - val_loss: 1.4013 - val_accuracy: 0.4950\n",
            "Epoch 3/100\n",
            "150/150 [==============================] - 1s 8ms/step - loss: 1.3827 - accuracy: 0.4867 - val_loss: 1.1666 - val_accuracy: 0.5842\n",
            "Epoch 4/100\n",
            "150/150 [==============================] - 1s 8ms/step - loss: 1.2053 - accuracy: 0.5487 - val_loss: 1.0728 - val_accuracy: 0.6200\n",
            "Epoch 5/100\n",
            "150/150 [==============================] - 1s 4ms/step - loss: 1.0968 - accuracy: 0.5946 - val_loss: 1.0662 - val_accuracy: 0.6200\n",
            "Epoch 6/100\n",
            "150/150 [==============================] - 1s 4ms/step - loss: 0.9822 - accuracy: 0.6421 - val_loss: 0.8733 - val_accuracy: 0.6750\n",
            "Epoch 7/100\n",
            "150/150 [==============================] - 1s 4ms/step - loss: 0.9135 - accuracy: 0.6648 - val_loss: 0.7677 - val_accuracy: 0.7225\n",
            "Epoch 8/100\n",
            "150/150 [==============================] - 1s 5ms/step - loss: 0.8335 - accuracy: 0.7023 - val_loss: 0.8191 - val_accuracy: 0.7008\n",
            "Epoch 9/100\n",
            "150/150 [==============================] - 1s 6ms/step - loss: 0.7534 - accuracy: 0.7246 - val_loss: 0.6564 - val_accuracy: 0.7642\n",
            "Epoch 10/100\n",
            "150/150 [==============================] - 1s 6ms/step - loss: 0.7093 - accuracy: 0.7427 - val_loss: 0.6255 - val_accuracy: 0.7733\n",
            "Epoch 11/100\n",
            "150/150 [==============================] - 1s 5ms/step - loss: 0.6743 - accuracy: 0.7527 - val_loss: 0.7554 - val_accuracy: 0.7100\n",
            "Epoch 12/100\n",
            "150/150 [==============================] - 1s 5ms/step - loss: 0.6308 - accuracy: 0.7635 - val_loss: 0.5605 - val_accuracy: 0.8100\n",
            "Epoch 13/100\n",
            "150/150 [==============================] - 1s 5ms/step - loss: 0.6130 - accuracy: 0.7754 - val_loss: 0.5321 - val_accuracy: 0.8083\n",
            "Epoch 14/100\n",
            "150/150 [==============================] - 1s 5ms/step - loss: 0.5848 - accuracy: 0.7815 - val_loss: 0.5013 - val_accuracy: 0.8308\n",
            "Epoch 15/100\n",
            "150/150 [==============================] - 0s 3ms/step - loss: 0.5564 - accuracy: 0.7940 - val_loss: 0.5089 - val_accuracy: 0.8242\n",
            "Epoch 16/100\n",
            "150/150 [==============================] - 1s 3ms/step - loss: 0.5391 - accuracy: 0.8090 - val_loss: 0.5488 - val_accuracy: 0.7908\n",
            "Epoch 17/100\n",
            "150/150 [==============================] - 0s 3ms/step - loss: 0.5198 - accuracy: 0.8094 - val_loss: 0.5151 - val_accuracy: 0.8125\n",
            "Epoch 18/100\n",
            "150/150 [==============================] - 1s 4ms/step - loss: 0.4978 - accuracy: 0.8190 - val_loss: 0.4737 - val_accuracy: 0.8408\n",
            "Epoch 19/100\n",
            "150/150 [==============================] - 0s 3ms/step - loss: 0.4747 - accuracy: 0.8335 - val_loss: 0.4330 - val_accuracy: 0.8525\n",
            "Epoch 20/100\n",
            "150/150 [==============================] - 1s 4ms/step - loss: 0.4754 - accuracy: 0.8235 - val_loss: 0.4197 - val_accuracy: 0.8508\n",
            "Epoch 21/100\n",
            "150/150 [==============================] - 1s 3ms/step - loss: 0.4373 - accuracy: 0.8373 - val_loss: 0.4221 - val_accuracy: 0.8575\n",
            "Epoch 22/100\n",
            "150/150 [==============================] - 1s 4ms/step - loss: 0.4264 - accuracy: 0.8467 - val_loss: 0.3961 - val_accuracy: 0.8567\n",
            "Epoch 23/100\n",
            "150/150 [==============================] - 1s 3ms/step - loss: 0.4103 - accuracy: 0.8498 - val_loss: 0.3913 - val_accuracy: 0.8642\n",
            "Epoch 24/100\n",
            "150/150 [==============================] - 1s 4ms/step - loss: 0.4017 - accuracy: 0.8515 - val_loss: 0.3959 - val_accuracy: 0.8525\n",
            "Epoch 25/100\n",
            "150/150 [==============================] - 1s 4ms/step - loss: 0.3813 - accuracy: 0.8592 - val_loss: 0.3738 - val_accuracy: 0.8692\n",
            "Epoch 26/100\n",
            "150/150 [==============================] - 1s 3ms/step - loss: 0.3779 - accuracy: 0.8631 - val_loss: 0.4225 - val_accuracy: 0.8433\n",
            "Epoch 27/100\n",
            "150/150 [==============================] - 1s 4ms/step - loss: 0.3871 - accuracy: 0.8508 - val_loss: 0.4076 - val_accuracy: 0.8525\n",
            "Epoch 28/100\n",
            "150/150 [==============================] - 1s 3ms/step - loss: 0.3652 - accuracy: 0.8729 - val_loss: 0.3583 - val_accuracy: 0.8767\n",
            "Epoch 29/100\n",
            "150/150 [==============================] - 1s 4ms/step - loss: 0.3373 - accuracy: 0.8756 - val_loss: 0.3732 - val_accuracy: 0.8717\n",
            "Epoch 30/100\n",
            "150/150 [==============================] - 1s 4ms/step - loss: 0.3339 - accuracy: 0.8804 - val_loss: 0.3490 - val_accuracy: 0.8742\n",
            "Epoch 31/100\n",
            "150/150 [==============================] - 1s 4ms/step - loss: 0.3298 - accuracy: 0.8775 - val_loss: 0.3257 - val_accuracy: 0.8833\n",
            "Epoch 32/100\n",
            "150/150 [==============================] - 1s 4ms/step - loss: 0.3294 - accuracy: 0.8819 - val_loss: 0.3829 - val_accuracy: 0.8675\n",
            "Epoch 33/100\n",
            "150/150 [==============================] - 1s 5ms/step - loss: 0.3139 - accuracy: 0.8852 - val_loss: 0.3438 - val_accuracy: 0.8842\n",
            "Epoch 34/100\n",
            "150/150 [==============================] - 1s 5ms/step - loss: 0.3062 - accuracy: 0.8860 - val_loss: 0.3446 - val_accuracy: 0.8775\n",
            "Epoch 35/100\n",
            "150/150 [==============================] - 1s 6ms/step - loss: 0.3144 - accuracy: 0.8842 - val_loss: 0.3315 - val_accuracy: 0.8875\n",
            "Epoch 36/100\n",
            "150/150 [==============================] - 1s 6ms/step - loss: 0.2877 - accuracy: 0.8944 - val_loss: 0.3384 - val_accuracy: 0.8808\n",
            "Epoch 37/100\n",
            "150/150 [==============================] - 1s 6ms/step - loss: 0.2912 - accuracy: 0.8975 - val_loss: 0.3202 - val_accuracy: 0.8792\n",
            "Epoch 38/100\n",
            "150/150 [==============================] - 1s 6ms/step - loss: 0.2805 - accuracy: 0.8969 - val_loss: 0.3341 - val_accuracy: 0.8733\n",
            "Epoch 39/100\n",
            "150/150 [==============================] - 1s 5ms/step - loss: 0.2704 - accuracy: 0.9013 - val_loss: 0.3076 - val_accuracy: 0.8942\n",
            "Epoch 40/100\n",
            "150/150 [==============================] - 1s 3ms/step - loss: 0.2767 - accuracy: 0.8998 - val_loss: 0.3322 - val_accuracy: 0.8817\n",
            "Epoch 41/100\n",
            "150/150 [==============================] - 1s 3ms/step - loss: 0.2754 - accuracy: 0.9008 - val_loss: 0.3638 - val_accuracy: 0.8750\n",
            "Epoch 42/100\n",
            "150/150 [==============================] - 1s 4ms/step - loss: 0.2627 - accuracy: 0.9029 - val_loss: 0.3515 - val_accuracy: 0.8858\n",
            "Epoch 43/100\n",
            "150/150 [==============================] - 1s 3ms/step - loss: 0.2521 - accuracy: 0.9115 - val_loss: 0.3321 - val_accuracy: 0.8842\n",
            "Epoch 44/100\n",
            "150/150 [==============================] - 1s 4ms/step - loss: 0.2356 - accuracy: 0.9127 - val_loss: 0.3250 - val_accuracy: 0.8800\n",
            "Epoch 45/100\n",
            "150/150 [==============================] - 1s 3ms/step - loss: 0.2445 - accuracy: 0.9108 - val_loss: 0.2923 - val_accuracy: 0.9000\n",
            "Epoch 46/100\n",
            "150/150 [==============================] - 1s 4ms/step - loss: 0.2342 - accuracy: 0.9119 - val_loss: 0.3009 - val_accuracy: 0.8883\n",
            "Epoch 47/100\n",
            "150/150 [==============================] - 1s 4ms/step - loss: 0.2166 - accuracy: 0.9208 - val_loss: 0.3803 - val_accuracy: 0.8650\n",
            "Epoch 48/100\n",
            "150/150 [==============================] - 1s 4ms/step - loss: 0.2342 - accuracy: 0.9121 - val_loss: 0.2933 - val_accuracy: 0.8992\n",
            "Epoch 49/100\n",
            "150/150 [==============================] - 1s 4ms/step - loss: 0.2144 - accuracy: 0.9231 - val_loss: 0.2798 - val_accuracy: 0.8942\n",
            "Epoch 50/100\n",
            "150/150 [==============================] - 1s 4ms/step - loss: 0.2050 - accuracy: 0.9277 - val_loss: 0.3132 - val_accuracy: 0.8892\n",
            "Epoch 51/100\n",
            "150/150 [==============================] - 1s 4ms/step - loss: 0.2126 - accuracy: 0.9210 - val_loss: 0.2945 - val_accuracy: 0.8967\n",
            "Epoch 52/100\n",
            "150/150 [==============================] - 1s 4ms/step - loss: 0.2046 - accuracy: 0.9260 - val_loss: 0.3197 - val_accuracy: 0.8875\n",
            "Epoch 53/100\n",
            "150/150 [==============================] - 1s 4ms/step - loss: 0.2123 - accuracy: 0.9244 - val_loss: 0.3061 - val_accuracy: 0.8967\n",
            "Epoch 54/100\n",
            "150/150 [==============================] - 1s 3ms/step - loss: 0.1996 - accuracy: 0.9212 - val_loss: 0.3107 - val_accuracy: 0.8975\n",
            "Epoch 55/100\n",
            "150/150 [==============================] - 1s 4ms/step - loss: 0.2014 - accuracy: 0.9262 - val_loss: 0.3249 - val_accuracy: 0.8908\n",
            "Epoch 56/100\n",
            "150/150 [==============================] - 1s 4ms/step - loss: 0.1990 - accuracy: 0.9252 - val_loss: 0.2994 - val_accuracy: 0.8958\n",
            "Epoch 57/100\n",
            "150/150 [==============================] - 1s 4ms/step - loss: 0.1859 - accuracy: 0.9319 - val_loss: 0.3024 - val_accuracy: 0.8900\n",
            "Epoch 58/100\n",
            "150/150 [==============================] - 1s 6ms/step - loss: 0.1942 - accuracy: 0.9256 - val_loss: 0.2988 - val_accuracy: 0.8967\n",
            "Epoch 59/100\n",
            "150/150 [==============================] - 1s 6ms/step - loss: 0.1787 - accuracy: 0.9342 - val_loss: 0.3091 - val_accuracy: 0.8958\n",
            "Epoch 60/100\n",
            "150/150 [==============================] - 1s 6ms/step - loss: 0.1987 - accuracy: 0.9219 - val_loss: 0.3399 - val_accuracy: 0.8833\n",
            "Epoch 61/100\n",
            "150/150 [==============================] - 1s 6ms/step - loss: 0.1921 - accuracy: 0.9294 - val_loss: 0.3064 - val_accuracy: 0.8983\n",
            "Epoch 62/100\n",
            "150/150 [==============================] - 1s 6ms/step - loss: 0.1799 - accuracy: 0.9331 - val_loss: 0.2962 - val_accuracy: 0.9008\n",
            "Epoch 63/100\n",
            "150/150 [==============================] - 1s 6ms/step - loss: 0.1837 - accuracy: 0.9315 - val_loss: 0.3075 - val_accuracy: 0.8942\n",
            "Epoch 64/100\n",
            "150/150 [==============================] - 1s 4ms/step - loss: 0.1623 - accuracy: 0.9388 - val_loss: 0.2916 - val_accuracy: 0.8967\n",
            "Epoch 65/100\n",
            "150/150 [==============================] - 1s 4ms/step - loss: 0.1711 - accuracy: 0.9358 - val_loss: 0.2885 - val_accuracy: 0.9000\n",
            "Epoch 66/100\n",
            "150/150 [==============================] - 1s 5ms/step - loss: 0.1690 - accuracy: 0.9352 - val_loss: 0.2979 - val_accuracy: 0.9025\n",
            "Epoch 67/100\n",
            "150/150 [==============================] - 1s 4ms/step - loss: 0.1681 - accuracy: 0.9354 - val_loss: 0.3291 - val_accuracy: 0.8975\n",
            "Epoch 68/100\n",
            "150/150 [==============================] - 1s 4ms/step - loss: 0.1753 - accuracy: 0.9346 - val_loss: 0.2708 - val_accuracy: 0.9075\n",
            "Epoch 69/100\n",
            "150/150 [==============================] - 1s 4ms/step - loss: 0.1541 - accuracy: 0.9375 - val_loss: 0.3422 - val_accuracy: 0.8792\n",
            "Epoch 70/100\n",
            "150/150 [==============================] - 1s 4ms/step - loss: 0.1502 - accuracy: 0.9423 - val_loss: 0.2814 - val_accuracy: 0.8975\n",
            "Epoch 71/100\n",
            "150/150 [==============================] - 1s 4ms/step - loss: 0.1562 - accuracy: 0.9431 - val_loss: 0.2897 - val_accuracy: 0.8975\n",
            "Epoch 72/100\n",
            "150/150 [==============================] - 1s 4ms/step - loss: 0.1511 - accuracy: 0.9438 - val_loss: 0.3517 - val_accuracy: 0.8925\n",
            "Epoch 73/100\n",
            "150/150 [==============================] - 1s 4ms/step - loss: 0.1561 - accuracy: 0.9388 - val_loss: 0.3282 - val_accuracy: 0.8908\n",
            "Epoch 74/100\n",
            "150/150 [==============================] - 1s 4ms/step - loss: 0.1323 - accuracy: 0.9544 - val_loss: 0.3156 - val_accuracy: 0.9008\n",
            "Epoch 75/100\n",
            "150/150 [==============================] - 1s 4ms/step - loss: 0.1251 - accuracy: 0.9540 - val_loss: 0.3106 - val_accuracy: 0.8983\n",
            "Epoch 76/100\n",
            "150/150 [==============================] - 1s 4ms/step - loss: 0.1375 - accuracy: 0.9517 - val_loss: 0.3420 - val_accuracy: 0.9033\n",
            "Epoch 77/100\n",
            "150/150 [==============================] - 1s 4ms/step - loss: 0.1475 - accuracy: 0.9415 - val_loss: 0.3380 - val_accuracy: 0.8958\n",
            "Epoch 78/100\n",
            "150/150 [==============================] - 1s 4ms/step - loss: 0.1426 - accuracy: 0.9467 - val_loss: 0.3407 - val_accuracy: 0.8958\n",
            "Epoch 79/100\n",
            "150/150 [==============================] - 1s 4ms/step - loss: 0.1464 - accuracy: 0.9481 - val_loss: 0.3431 - val_accuracy: 0.8942\n",
            "Epoch 80/100\n",
            "150/150 [==============================] - 1s 6ms/step - loss: 0.1394 - accuracy: 0.9442 - val_loss: 0.3266 - val_accuracy: 0.9042\n",
            "Epoch 81/100\n",
            "150/150 [==============================] - 1s 6ms/step - loss: 0.1397 - accuracy: 0.9481 - val_loss: 0.3388 - val_accuracy: 0.8917\n",
            "Epoch 82/100\n",
            "150/150 [==============================] - 1s 7ms/step - loss: 0.1241 - accuracy: 0.9550 - val_loss: 0.3531 - val_accuracy: 0.8842\n",
            "Epoch 83/100\n",
            "150/150 [==============================] - 1s 7ms/step - loss: 0.1541 - accuracy: 0.9435 - val_loss: 0.3397 - val_accuracy: 0.9017\n",
            "Epoch 84/100\n",
            "150/150 [==============================] - 1s 6ms/step - loss: 0.1261 - accuracy: 0.9529 - val_loss: 0.3033 - val_accuracy: 0.9067\n",
            "Epoch 85/100\n",
            "150/150 [==============================] - 1s 6ms/step - loss: 0.1301 - accuracy: 0.9517 - val_loss: 0.3057 - val_accuracy: 0.8942\n",
            "Epoch 86/100\n",
            "150/150 [==============================] - 1s 4ms/step - loss: 0.1096 - accuracy: 0.9619 - val_loss: 0.3288 - val_accuracy: 0.8975\n",
            "Epoch 87/100\n",
            "150/150 [==============================] - 1s 4ms/step - loss: 0.1099 - accuracy: 0.9613 - val_loss: 0.3210 - val_accuracy: 0.9050\n",
            "Epoch 88/100\n",
            "150/150 [==============================] - 1s 4ms/step - loss: 0.1094 - accuracy: 0.9604 - val_loss: 0.3847 - val_accuracy: 0.8858\n",
            "Epoch 89/100\n",
            "150/150 [==============================] - 1s 4ms/step - loss: 0.1321 - accuracy: 0.9517 - val_loss: 0.3295 - val_accuracy: 0.9025\n",
            "Epoch 90/100\n",
            "150/150 [==============================] - 1s 4ms/step - loss: 0.1184 - accuracy: 0.9556 - val_loss: 0.3200 - val_accuracy: 0.9075\n",
            "Epoch 91/100\n",
            "150/150 [==============================] - 1s 4ms/step - loss: 0.1218 - accuracy: 0.9525 - val_loss: 0.3465 - val_accuracy: 0.9008\n",
            "Epoch 92/100\n",
            "150/150 [==============================] - 1s 4ms/step - loss: 0.1169 - accuracy: 0.9554 - val_loss: 0.3341 - val_accuracy: 0.8992\n",
            "Epoch 93/100\n",
            "150/150 [==============================] - 1s 4ms/step - loss: 0.1069 - accuracy: 0.9617 - val_loss: 0.3042 - val_accuracy: 0.9067\n",
            "Epoch 94/100\n",
            "150/150 [==============================] - 1s 4ms/step - loss: 0.1022 - accuracy: 0.9654 - val_loss: 0.3964 - val_accuracy: 0.8933\n",
            "Epoch 95/100\n",
            "150/150 [==============================] - 1s 4ms/step - loss: 0.1143 - accuracy: 0.9567 - val_loss: 0.4048 - val_accuracy: 0.8983\n",
            "Epoch 96/100\n",
            "150/150 [==============================] - 1s 4ms/step - loss: 0.1002 - accuracy: 0.9615 - val_loss: 0.3572 - val_accuracy: 0.8933\n",
            "Epoch 97/100\n",
            "150/150 [==============================] - 1s 4ms/step - loss: 0.0962 - accuracy: 0.9644 - val_loss: 0.3862 - val_accuracy: 0.8883\n",
            "Epoch 98/100\n",
            "150/150 [==============================] - 1s 3ms/step - loss: 0.1027 - accuracy: 0.9623 - val_loss: 0.3453 - val_accuracy: 0.9008\n",
            "Epoch 99/100\n",
            "150/150 [==============================] - 1s 3ms/step - loss: 0.0914 - accuracy: 0.9677 - val_loss: 0.4263 - val_accuracy: 0.8783\n",
            "Epoch 100/100\n",
            "150/150 [==============================] - 1s 3ms/step - loss: 0.0882 - accuracy: 0.9675 - val_loss: 0.3711 - val_accuracy: 0.8933\n"
          ]
        }
      ]
    },
    {
      "cell_type": "markdown",
      "source": [
        "**Classification Report**"
      ],
      "metadata": {
        "id": "J2e_cIXdJKYW"
      }
    },
    {
      "cell_type": "code",
      "source": [
        "rest_results = model.evaluate(x_test, y_test, batch_size=32)\n",
        "print(rest_results)"
      ],
      "metadata": {
        "colab": {
          "base_uri": "https://localhost:8080/"
        },
        "id": "sjNHyRJNlTeS",
        "outputId": "b5cae1d1-bd08-47c3-9626-bebd6f31c224"
      },
      "execution_count": 129,
      "outputs": [
        {
          "output_type": "stream",
          "name": "stdout",
          "text": [
            "38/38 [==============================] - 0s 2ms/step - loss: 0.3711 - accuracy: 0.8933\n",
            "[0.3711389899253845, 0.8933333158493042]\n"
          ]
        }
      ]
    },
    {
      "cell_type": "code",
      "source": [
        "from sklearn.metrics import confusion_matrix, classification_report\n",
        "y_pred = model.predict(x_test)\n",
        "y_pred_classes = [np.argmax(element) for element in y_pred]\n",
        "\n",
        "print(\"Classification Report : \")\n",
        "print(classification_report(y_test, y_pred_classes))"
      ],
      "metadata": {
        "colab": {
          "base_uri": "https://localhost:8080/"
        },
        "id": "04LKUveiJJ5G",
        "outputId": "308203ab-898b-457b-86a3-a2aa36de756a"
      },
      "execution_count": 120,
      "outputs": [
        {
          "output_type": "stream",
          "name": "stdout",
          "text": [
            "38/38 [==============================] - 0s 2ms/step\n",
            "Classification Report : \n",
            "              precision    recall  f1-score   support\n",
            "\n",
            "           0       0.85      0.88      0.86        98\n",
            "           1       0.76      0.83      0.80        84\n",
            "           2       0.82      0.91      0.86        86\n",
            "           3       0.90      0.80      0.85       101\n",
            "           4       0.79      0.92      0.85       100\n",
            "           5       0.88      0.84      0.86       115\n",
            "           6       0.95      0.78      0.86       102\n",
            "           7       0.92      0.89      0.91        92\n",
            "           8       0.99      0.97      0.98       117\n",
            "           9       0.96      0.99      0.98       106\n",
            "          10       0.90      0.89      0.90        93\n",
            "          11       0.98      0.98      0.98       106\n",
            "\n",
            "    accuracy                           0.89      1200\n",
            "   macro avg       0.89      0.89      0.89      1200\n",
            "weighted avg       0.90      0.89      0.89      1200\n",
            "\n"
          ]
        }
      ]
    },
    {
      "cell_type": "code",
      "source": [
        "# Plotting model accuracy and loss\n",
        "def plot_history(history):\n",
        "    plt.figure(figsize=(10, 5))\n",
        "\n",
        "    # Plot training & validation accuracy values\n",
        "    plt.subplot(1, 2, 1)\n",
        "    plt.ylim(0, 1)\n",
        "    plt.plot(history.history['accuracy'])\n",
        "    plt.plot(history.history['val_accuracy'])\n",
        "    plt.title('Model Accuracy')\n",
        "    plt.ylabel('Accuracy')\n",
        "    plt.xlabel('Epoch')\n",
        "    plt.legend(['Train', 'Validation'], loc='upper left')\n",
        "\n",
        "    # Plot training & validation loss values\n",
        "    plt.subplot(1, 2, 2)\n",
        "    plt.ylim(0, 2)\n",
        "    plt.plot(history.history['loss'])\n",
        "    plt.plot(history.history['val_loss'])\n",
        "    plt.title('Model Loss')\n",
        "    plt.ylabel('Loss')\n",
        "    plt.xlabel('Epoch')\n",
        "    plt.legend(['Train', 'Validation'], loc='upper right')\n",
        "\n",
        "    plt.tight_layout()\n",
        "    plt.show()\n",
        "\n",
        "# Call the function to plot the history\n",
        "plot_history(history)"
      ],
      "metadata": {
        "colab": {
          "base_uri": "https://localhost:8080/",
          "height": 507
        },
        "id": "LiybPDHQJZ7S",
        "outputId": "fec03523-44c4-460c-e234-8017577afdd9"
      },
      "execution_count": 121,
      "outputs": [
        {
          "output_type": "display_data",
          "data": {
            "text/plain": [
              "<Figure size 1000x500 with 2 Axes>"
            ],
            "image/png": "[encoded data removed]"
          },
          "metadata": {}
        }
      ]
    },
    {
      "cell_type": "markdown",
      "source": [
        "**Validation with Pronation Data**"
      ],
      "metadata": {
        "id": "FKtUgLNlPE4b"
      }
    },
    {
      "cell_type": "code",
      "source": [
        "x_pronation, y_pronation = get_input(['Arifa'], gestures, \"Pronation\")\n",
        "x_pronation = np.array(x_pronation)\n",
        "y_pronation = np.array(y_pronation)"
      ],
      "metadata": {
        "id": "ESQgPNj8PMeO"
      },
      "execution_count": 122,
      "outputs": []
    },
    {
      "cell_type": "code",
      "source": [
        "pronation_results = model.evaluate(x_pronation, y_pronation, batch_size=32)\n",
        "print(pronation_results)"
      ],
      "metadata": {
        "colab": {
          "base_uri": "https://localhost:8080/"
        },
        "id": "yrfITo8rRRZ2",
        "outputId": "0ac4ce53-93af-4057-92fe-3409f93adaf0"
      },
      "execution_count": 123,
      "outputs": [
        {
          "output_type": "stream",
          "name": "stdout",
          "text": [
            "188/188 [==============================] - 0s 2ms/step - loss: 0.1301 - accuracy: 0.9607\n",
            "[0.13013337552547455, 0.9606666564941406]\n"
          ]
        }
      ]
    },
    {
      "cell_type": "markdown",
      "source": [
        "**Validation with Supination Data**"
      ],
      "metadata": {
        "id": "LIpKxRAjTRQX"
      }
    },
    {
      "cell_type": "code",
      "source": [
        "x_supination, y_supination = get_input(['Arifa'], gestures, \"Supination\")\n",
        "x_supination = np.array(x_supination)\n",
        "y_supination = np.array(y_supination)"
      ],
      "metadata": {
        "id": "62HcfeQKTW2P"
      },
      "execution_count": 124,
      "outputs": []
    },
    {
      "cell_type": "code",
      "source": [
        "supination_results = model.evaluate(x_supination, y_supination, batch_size=32)\n",
        "print(supination_results)"
      ],
      "metadata": {
        "colab": {
          "base_uri": "https://localhost:8080/"
        },
        "id": "LGFCsiw9TqCb",
        "outputId": "4888ba87-338d-4200-cbca-a5157bd65bbb"
      },
      "execution_count": 125,
      "outputs": [
        {
          "output_type": "stream",
          "name": "stdout",
          "text": [
            "188/188 [==============================] - 0s 2ms/step - loss: 0.1301 - accuracy: 0.9607\n",
            "[0.13013337552547455, 0.9606666564941406]\n"
          ]
        }
      ]
    },
    {
      "cell_type": "markdown",
      "source": [
        "**Final Report**"
      ],
      "metadata": {
        "id": "etZ7ED7KkzcL"
      }
    },
    {
      "cell_type": "code",
      "source": [
        "print(f\"Rest -> {rest_results[1]*100}%\")\n",
        "print(f\"Pronation -> {pronation_results[1]*100}%\")\n",
        "print(f\"Supination -> {supination_results[1]*100}%\")"
      ],
      "metadata": {
        "colab": {
          "base_uri": "https://localhost:8080/"
        },
        "id": "_csJ0W82kyth",
        "outputId": "624e0511-bdca-45e6-dc16-dbb61c22fda2"
      },
      "execution_count": 137,
      "outputs": [
        {
          "output_type": "stream",
          "name": "stdout",
          "text": [
            "Rest -> 89.33333158493042%\n",
            "Pronation -> 96.06666564941406%\n",
            "Supination -> 96.06666564941406%\n"
          ]
        }
      ]
    }
  ]
}