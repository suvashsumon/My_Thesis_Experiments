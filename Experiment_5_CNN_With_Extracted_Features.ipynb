{
  "nbformat": 4,
  "nbformat_minor": 0,
  "metadata": {
    "colab": {
      "provenance": [],
      "authorship_tag": "ABX9TyMdFg9WT7WuK2H5ccTb4CKo"
    },
    "kernelspec": {
      "name": "python3",
      "display_name": "Python 3"
    },
    "language_info": {
      "name": "python"
    }
  },
  "cells": [
    {
      "cell_type": "markdown",
      "source": [
        "**1. Using featuress MAV, SSC, ZC and WL**  \n",
        "**2. Using whole dataset**"
      ],
      "metadata": {
        "id": "jfWDCm6rVsUC"
      }
    },
    {
      "cell_type": "code",
      "execution_count": 1,
      "metadata": {
        "colab": {
          "base_uri": "https://localhost:8080/"
        },
        "id": "6EL0T4GfiQAI",
        "outputId": "584022b5-88ab-4013-8cdb-0ceaf958b1a3"
      },
      "outputs": [
        {
          "output_type": "stream",
          "name": "stdout",
          "text": [
            "Collecting libemg\n",
            "  Downloading libemg-0.0.1.tar.gz (185 kB)\n",
            "\u001b[2K     \u001b[90m━━━━━━━━━━━━━━━━━━━━━━━━━━━━━━━━━━━━━━━━\u001b[0m \u001b[32m185.8/185.8 kB\u001b[0m \u001b[31m2.2 MB/s\u001b[0m eta \u001b[36m0:00:00\u001b[0m\n",
            "\u001b[?25h  Preparing metadata (setup.py) ... \u001b[?25l\u001b[?25hdone\n",
            "Requirement already satisfied: numpy in /usr/local/lib/python3.10/dist-packages (from libemg) (1.23.5)\n",
            "Requirement already satisfied: scipy in /usr/local/lib/python3.10/dist-packages (from libemg) (1.11.4)\n",
            "Requirement already satisfied: scikit-learn in /usr/local/lib/python3.10/dist-packages (from libemg) (1.2.2)\n",
            "Requirement already satisfied: pillow in /usr/local/lib/python3.10/dist-packages (from libemg) (9.4.0)\n",
            "Requirement already satisfied: matplotlib in /usr/local/lib/python3.10/dist-packages (from libemg) (3.7.1)\n",
            "Requirement already satisfied: librosa in /usr/local/lib/python3.10/dist-packages (from libemg) (0.10.1)\n",
            "Collecting wfdb (from libemg)\n",
            "  Downloading wfdb-4.1.2-py3-none-any.whl (159 kB)\n",
            "\u001b[2K     \u001b[90m━━━━━━━━━━━━━━━━━━━━━━━━━━━━━━━━━━━━━━━━\u001b[0m \u001b[32m160.0/160.0 kB\u001b[0m \u001b[31m8.0 MB/s\u001b[0m eta \u001b[36m0:00:00\u001b[0m\n",
            "\u001b[?25hCollecting pyserial (from libemg)\n",
            "  Downloading pyserial-3.5-py2.py3-none-any.whl (90 kB)\n",
            "\u001b[2K     \u001b[90m━━━━━━━━━━━━━━━━━━━━━━━━━━━━━━━━━━━━━━━━\u001b[0m \u001b[32m90.6/90.6 kB\u001b[0m \u001b[31m7.1 MB/s\u001b[0m eta \u001b[36m0:00:00\u001b[0m\n",
            "\u001b[?25hRequirement already satisfied: audioread>=2.1.9 in /usr/local/lib/python3.10/dist-packages (from librosa->libemg) (3.0.1)\n",
            "Requirement already satisfied: joblib>=0.14 in /usr/local/lib/python3.10/dist-packages (from librosa->libemg) (1.3.2)\n",
            "Requirement already satisfied: decorator>=4.3.0 in /usr/local/lib/python3.10/dist-packages (from librosa->libemg) (4.4.2)\n",
            "Requirement already satisfied: numba>=0.51.0 in /usr/local/lib/python3.10/dist-packages (from librosa->libemg) (0.58.1)\n",
            "Requirement already satisfied: soundfile>=0.12.1 in /usr/local/lib/python3.10/dist-packages (from librosa->libemg) (0.12.1)\n",
            "Requirement already satisfied: pooch>=1.0 in /usr/local/lib/python3.10/dist-packages (from librosa->libemg) (1.8.0)\n",
            "Requirement already satisfied: soxr>=0.3.2 in /usr/local/lib/python3.10/dist-packages (from librosa->libemg) (0.3.7)\n",
            "Requirement already satisfied: typing-extensions>=4.1.1 in /usr/local/lib/python3.10/dist-packages (from librosa->libemg) (4.5.0)\n",
            "Requirement already satisfied: lazy-loader>=0.1 in /usr/local/lib/python3.10/dist-packages (from librosa->libemg) (0.3)\n",
            "Requirement already satisfied: msgpack>=1.0 in /usr/local/lib/python3.10/dist-packages (from librosa->libemg) (1.0.7)\n",
            "Requirement already satisfied: threadpoolctl>=2.0.0 in /usr/local/lib/python3.10/dist-packages (from scikit-learn->libemg) (3.2.0)\n",
            "Requirement already satisfied: contourpy>=1.0.1 in /usr/local/lib/python3.10/dist-packages (from matplotlib->libemg) (1.2.0)\n",
            "Requirement already satisfied: cycler>=0.10 in /usr/local/lib/python3.10/dist-packages (from matplotlib->libemg) (0.12.1)\n",
            "Requirement already satisfied: fonttools>=4.22.0 in /usr/local/lib/python3.10/dist-packages (from matplotlib->libemg) (4.46.0)\n",
            "Requirement already satisfied: kiwisolver>=1.0.1 in /usr/local/lib/python3.10/dist-packages (from matplotlib->libemg) (1.4.5)\n",
            "Requirement already satisfied: packaging>=20.0 in /usr/local/lib/python3.10/dist-packages (from matplotlib->libemg) (23.2)\n",
            "Requirement already satisfied: pyparsing>=2.3.1 in /usr/local/lib/python3.10/dist-packages (from matplotlib->libemg) (3.1.1)\n",
            "Requirement already satisfied: python-dateutil>=2.7 in /usr/local/lib/python3.10/dist-packages (from matplotlib->libemg) (2.8.2)\n",
            "Requirement already satisfied: pandas>=1.3.0 in /usr/local/lib/python3.10/dist-packages (from wfdb->libemg) (1.5.3)\n",
            "Requirement already satisfied: requests>=2.8.1 in /usr/local/lib/python3.10/dist-packages (from wfdb->libemg) (2.31.0)\n",
            "Requirement already satisfied: llvmlite<0.42,>=0.41.0dev0 in /usr/local/lib/python3.10/dist-packages (from numba>=0.51.0->librosa->libemg) (0.41.1)\n",
            "Requirement already satisfied: pytz>=2020.1 in /usr/local/lib/python3.10/dist-packages (from pandas>=1.3.0->wfdb->libemg) (2023.3.post1)\n",
            "Requirement already satisfied: platformdirs>=2.5.0 in /usr/local/lib/python3.10/dist-packages (from pooch>=1.0->librosa->libemg) (4.1.0)\n",
            "Requirement already satisfied: six>=1.5 in /usr/local/lib/python3.10/dist-packages (from python-dateutil>=2.7->matplotlib->libemg) (1.16.0)\n",
            "Requirement already satisfied: charset-normalizer<4,>=2 in /usr/local/lib/python3.10/dist-packages (from requests>=2.8.1->wfdb->libemg) (3.3.2)\n",
            "Requirement already satisfied: idna<4,>=2.5 in /usr/local/lib/python3.10/dist-packages (from requests>=2.8.1->wfdb->libemg) (3.6)\n",
            "Requirement already satisfied: urllib3<3,>=1.21.1 in /usr/local/lib/python3.10/dist-packages (from requests>=2.8.1->wfdb->libemg) (2.0.7)\n",
            "Requirement already satisfied: certifi>=2017.4.17 in /usr/local/lib/python3.10/dist-packages (from requests>=2.8.1->wfdb->libemg) (2023.11.17)\n",
            "Requirement already satisfied: cffi>=1.0 in /usr/local/lib/python3.10/dist-packages (from soundfile>=0.12.1->librosa->libemg) (1.16.0)\n",
            "Requirement already satisfied: pycparser in /usr/local/lib/python3.10/dist-packages (from cffi>=1.0->soundfile>=0.12.1->librosa->libemg) (2.21)\n",
            "Building wheels for collected packages: libemg\n",
            "  Building wheel for libemg (setup.py) ... \u001b[?25l\u001b[?25hdone\n",
            "  Created wheel for libemg: filename=libemg-0.0.1-py3-none-any.whl size=70338 sha256=f07a98c50dd7411dd3d46c22910a6327d373ee314cf691e26941446f1c96458a\n",
            "  Stored in directory: /root/.cache/pip/wheels/52/29/b7/c395fce515bf8995f6c17ffa968697b66fd497a4c6a1c04481\n",
            "Successfully built libemg\n",
            "Installing collected packages: pyserial, wfdb, libemg\n",
            "Successfully installed libemg-0.0.1 pyserial-3.5 wfdb-4.1.2\n"
          ]
        }
      ],
      "source": [
        "!pip install libemg"
      ]
    },
    {
      "cell_type": "code",
      "source": [
        "import numpy as np\n",
        "import matplotlib.pyplot as plt\n",
        "import scipy.io as scipyio\n",
        "import seaborn as sns\n",
        "import pandas as pd\n",
        "from libemg.feature_extractor import FeatureExtractor\n",
        "from libemg.utils import get_windows\n",
        "from google.colab import drive\n",
        "import os"
      ],
      "metadata": {
        "id": "S_cbWcJpinEX"
      },
      "execution_count": 3,
      "outputs": []
    },
    {
      "cell_type": "markdown",
      "source": [
        "**Reading Dataset**"
      ],
      "metadata": {
        "id": "47dGhzkMjZ8_"
      }
    },
    {
      "cell_type": "code",
      "source": [
        "drive.mount('/content/gdrive')"
      ],
      "metadata": {
        "colab": {
          "base_uri": "https://localhost:8080/"
        },
        "id": "FxWMJLpOjdcB",
        "outputId": "62f265f8-97a7-49e8-fa44-b1f2379cdfaf"
      },
      "execution_count": 4,
      "outputs": [
        {
          "output_type": "stream",
          "name": "stdout",
          "text": [
            "Mounted at /content/gdrive\n"
          ]
        }
      ]
    },
    {
      "cell_type": "code",
      "source": [
        "gestures_label = {\n",
        "\t 'Thumb_UP' : 0,\n",
        "\t 'Index' : 1,\n",
        "\t 'Right_Angle' : 2,\n",
        "\t 'Peace' : 3,\n",
        "\t 'Index_Little' : 4,\n",
        "\t 'Thumb_Little' : 5,\n",
        "\t 'Hand_Close' : 6,\n",
        "\t 'Hand_Open' : 7,\n",
        "\t 'Wrist_Extension' : 8,\n",
        "\t 'Wrist_Flexion' : 9,\n",
        "\t 'Ulner_Deviation' : 10,\n",
        "\t 'Radial_Deviation' : 11\n",
        "}\n",
        "\n",
        "gestures = ['Thumb_UP', 'Index_Little', 'Right_Angle', 'Peace', 'Index', 'Thumb_Little', 'Hand_Close', 'Hand_Open',\n",
        "\t 'Wrist_Extension', 'Wrist_Flexion', 'Ulner_Deviation', 'Radial_Deviation'\n",
        "]"
      ],
      "metadata": {
        "id": "43mB8rvkkOFQ"
      },
      "execution_count": 5,
      "outputs": []
    },
    {
      "cell_type": "code",
      "source": [
        "persons = [\"Arifa\", \"Arnob\", \"Ashis\", \"Bayezid\", \"Bushra\", \"Choity_new\", \"Eftekhar\",\n",
        "           \"Fahim\", \"Humaid\", \"Humayun\", \"Johir\", \"Joy\", \"Mamun\", \"Noman\", \"Piyus\", \"Sazzad\",\n",
        "           \"Shafi\", \"Shourav\", \"Tamim\", \"Wadud\"]"
      ],
      "metadata": {
        "id": "3lT_Z7hkmdXG"
      },
      "execution_count": 6,
      "outputs": []
    },
    {
      "cell_type": "code",
      "source": [
        "def get_gesture_label(gesture):\n",
        "  return gestures_label [gesture];"
      ],
      "metadata": {
        "id": "jx8GgpISv5I2"
      },
      "execution_count": 7,
      "outputs": []
    },
    {
      "cell_type": "code",
      "source": [
        "def feature_extraction(channelvalues, gesture):\n",
        "  # creating windows\n",
        "  windows = get_windows(channelvalues, 150, 150)\n",
        "  # extract feature\n",
        "  fe = FeatureExtractor()\n",
        "  feature_list = ['MAV', 'SSC', 'ZC', 'WL']\n",
        "  features = fe.extract_features(feature_list, windows)\n",
        "  #print(\"Len : \"+str(len(features)))\n",
        "  # creating feature matrixs\n",
        "  extracted_feature_array = []\n",
        "  extracted_gesture_array = []\n",
        "  for i in range(33):\n",
        "    features_matrix = [\n",
        "        features['MAV'][i],\n",
        "        features['SSC'][i],\n",
        "        features['ZC'][i],\n",
        "        features['WL'][i],\n",
        "    ]\n",
        "    features_matrix = (features_matrix-np.min(features_matrix))/(np.max(features_matrix)-np.min(features_matrix))\n",
        "    extracted_feature_array.append(features_matrix)\n",
        "    extracted_gesture_array.append(get_gesture_label(gesture))\n",
        "  return extracted_feature_array, extracted_gesture_array"
      ],
      "metadata": {
        "id": "DaBZ8rssnyrg"
      },
      "execution_count": 9,
      "outputs": []
    },
    {
      "cell_type": "code",
      "source": [
        "def get_processed_data(matfilepath, gesture):\n",
        "  # read mat file\n",
        "  matdata = scipyio.loadmat(matfilepath)\n",
        "  # transpose the matrix\n",
        "  values = np.transpose(matdata['value'])\n",
        "  # remove the first 3000 values\n",
        "  values = values[3000:]\n",
        "  return feature_extraction(values, gesture)\n"
      ],
      "metadata": {
        "id": "mZ_awmvtm37Q"
      },
      "execution_count": 10,
      "outputs": []
    },
    {
      "cell_type": "code",
      "source": [
        "def get_input(persons, gestures, orientaion=\"Rest\"):\n",
        "  input_array = []\n",
        "  input_gest = []\n",
        "  for person in persons:\n",
        "    for gest in gestures:\n",
        "      for i in range(5):\n",
        "        matfilepath = \"gdrive/My Drive/Forearm Invariant Data/\"+person+\"/\"+orientaion+\"/\"+gest+\"-\"+str(i+1)+\".mat\"\n",
        "        #print(matfilepath)\n",
        "        processed_matrix, gesture_array = get_processed_data(matfilepath, gest)\n",
        "        gest_label = get_gesture_label(gest)\n",
        "        input_array = input_array + processed_matrix\n",
        "        input_gest = input_gest + gesture_array\n",
        "  return input_array, input_gest"
      ],
      "metadata": {
        "id": "D2d1xF4gkzXB"
      },
      "execution_count": 47,
      "outputs": []
    },
    {
      "cell_type": "code",
      "source": [
        "X, Y = get_input(['Arifa'], gestures)"
      ],
      "metadata": {
        "id": "WaN2dILztYHr"
      },
      "execution_count": 48,
      "outputs": []
    },
    {
      "cell_type": "code",
      "source": [
        "len(X), len(Y)"
      ],
      "metadata": {
        "colab": {
          "base_uri": "https://localhost:8080/"
        },
        "id": "oJFCcGx2uSdC",
        "outputId": "235e5d39-5b00-414c-d5f7-969905e23835"
      },
      "execution_count": 49,
      "outputs": [
        {
          "output_type": "execute_result",
          "data": {
            "text/plain": [
              "(1980, 1980)"
            ]
          },
          "metadata": {},
          "execution_count": 49
        }
      ]
    },
    {
      "cell_type": "code",
      "source": [
        "#\n",
        "df = pd.DataFrame(X[0])\n",
        "index = pd.Index(['MAV', 'SSC', 'ZC', 'WL'])\n",
        "df = df.set_index(index)\n",
        "df"
      ],
      "metadata": {
        "colab": {
          "base_uri": "https://localhost:8080/",
          "height": 175
        },
        "id": "BazAZkIbwiN3",
        "outputId": "6276a837-314e-4e9c-eb44-ff8a0041b2bd"
      },
      "execution_count": 50,
      "outputs": [
        {
          "output_type": "execute_result",
          "data": {
            "text/plain": [
              "            0         1         2         3         4         5         6  \\\n",
              "MAV  0.000035  0.000000  0.000217  0.000039  0.000206  0.000075  0.000147   \n",
              "SSC  0.944947  0.963298  0.917421  0.798141  0.798141  0.834842  0.752263   \n",
              "ZC   0.146685  0.284316  0.357720  0.293492  0.311843  0.321018  0.311843   \n",
              "WL   0.019457  0.017889  0.062108  0.023623  0.039169  0.024026  0.033928   \n",
              "\n",
              "            7  \n",
              "MAV  0.000043  \n",
              "SSC  1.000000  \n",
              "ZC   0.467825  \n",
              "WL   0.026580  "
            ],
            "text/html": [
              "\n",
              "  <div id=\"df-a3b0ddba-c656-4085-906b-ef0df129b3f0\" class=\"colab-df-container\">\n",
              "    <div>\n",
              "<style scoped>\n",
              "    .dataframe tbody tr th:only-of-type {\n",
              "        vertical-align: middle;\n",
              "    }\n",
              "\n",
              "    .dataframe tbody tr th {\n",
              "        vertical-align: top;\n",
              "    }\n",
              "\n",
              "    .dataframe thead th {\n",
              "        text-align: right;\n",
              "    }\n",
              "</style>\n",
              "<table border=\"1\" class=\"dataframe\">\n",
              "  <thead>\n",
              "    <tr style=\"text-align: right;\">\n",
              "      <th></th>\n",
              "      <th>0</th>\n",
              "      <th>1</th>\n",
              "      <th>2</th>\n",
              "      <th>3</th>\n",
              "      <th>4</th>\n",
              "      <th>5</th>\n",
              "      <th>6</th>\n",
              "      <th>7</th>\n",
              "    </tr>\n",
              "  </thead>\n",
              "  <tbody>\n",
              "    <tr>\n",
              "      <th>MAV</th>\n",
              "      <td>0.000035</td>\n",
              "      <td>0.000000</td>\n",
              "      <td>0.000217</td>\n",
              "      <td>0.000039</td>\n",
              "      <td>0.000206</td>\n",
              "      <td>0.000075</td>\n",
              "      <td>0.000147</td>\n",
              "      <td>0.000043</td>\n",
              "    </tr>\n",
              "    <tr>\n",
              "      <th>SSC</th>\n",
              "      <td>0.944947</td>\n",
              "      <td>0.963298</td>\n",
              "      <td>0.917421</td>\n",
              "      <td>0.798141</td>\n",
              "      <td>0.798141</td>\n",
              "      <td>0.834842</td>\n",
              "      <td>0.752263</td>\n",
              "      <td>1.000000</td>\n",
              "    </tr>\n",
              "    <tr>\n",
              "      <th>ZC</th>\n",
              "      <td>0.146685</td>\n",
              "      <td>0.284316</td>\n",
              "      <td>0.357720</td>\n",
              "      <td>0.293492</td>\n",
              "      <td>0.311843</td>\n",
              "      <td>0.321018</td>\n",
              "      <td>0.311843</td>\n",
              "      <td>0.467825</td>\n",
              "    </tr>\n",
              "    <tr>\n",
              "      <th>WL</th>\n",
              "      <td>0.019457</td>\n",
              "      <td>0.017889</td>\n",
              "      <td>0.062108</td>\n",
              "      <td>0.023623</td>\n",
              "      <td>0.039169</td>\n",
              "      <td>0.024026</td>\n",
              "      <td>0.033928</td>\n",
              "      <td>0.026580</td>\n",
              "    </tr>\n",
              "  </tbody>\n",
              "</table>\n",
              "</div>\n",
              "    <div class=\"colab-df-buttons\">\n",
              "\n",
              "  <div class=\"colab-df-container\">\n",
              "    <button class=\"colab-df-convert\" onclick=\"convertToInteractive('df-a3b0ddba-c656-4085-906b-ef0df129b3f0')\"\n",
              "            title=\"Convert this dataframe to an interactive table.\"\n",
              "            style=\"display:none;\">\n",
              "\n",
              "  <svg xmlns=\"http://www.w3.org/2000/svg\" height=\"24px\" viewBox=\"0 -960 960 960\">\n",
              "    <path d=\"M120-120v-720h720v720H120Zm60-500h600v-160H180v160Zm220 220h160v-160H400v160Zm0 220h160v-160H400v160ZM180-400h160v-160H180v160Zm440 0h160v-160H620v160ZM180-180h160v-160H180v160Zm440 0h160v-160H620v160Z\"/>\n",
              "  </svg>\n",
              "    </button>\n",
              "\n",
              "  <style>\n",
              "    .colab-df-container {\n",
              "      display:flex;\n",
              "      gap: 12px;\n",
              "    }\n",
              "\n",
              "    .colab-df-convert {\n",
              "      background-color: #E8F0FE;\n",
              "      border: none;\n",
              "      border-radius: 50%;\n",
              "      cursor: pointer;\n",
              "      display: none;\n",
              "      fill: #1967D2;\n",
              "      height: 32px;\n",
              "      padding: 0 0 0 0;\n",
              "      width: 32px;\n",
              "    }\n",
              "\n",
              "    .colab-df-convert:hover {\n",
              "      background-color: #E2EBFA;\n",
              "      box-shadow: 0px 1px 2px rgba(60, 64, 67, 0.3), 0px 1px 3px 1px rgba(60, 64, 67, 0.15);\n",
              "      fill: #174EA6;\n",
              "    }\n",
              "\n",
              "    .colab-df-buttons div {\n",
              "      margin-bottom: 4px;\n",
              "    }\n",
              "\n",
              "    [theme=dark] .colab-df-convert {\n",
              "      background-color: #3B4455;\n",
              "      fill: #D2E3FC;\n",
              "    }\n",
              "\n",
              "    [theme=dark] .colab-df-convert:hover {\n",
              "      background-color: #434B5C;\n",
              "      box-shadow: 0px 1px 3px 1px rgba(0, 0, 0, 0.15);\n",
              "      filter: drop-shadow(0px 1px 2px rgba(0, 0, 0, 0.3));\n",
              "      fill: #FFFFFF;\n",
              "    }\n",
              "  </style>\n",
              "\n",
              "    <script>\n",
              "      const buttonEl =\n",
              "        document.querySelector('#df-a3b0ddba-c656-4085-906b-ef0df129b3f0 button.colab-df-convert');\n",
              "      buttonEl.style.display =\n",
              "        google.colab.kernel.accessAllowed ? 'block' : 'none';\n",
              "\n",
              "      async function convertToInteractive(key) {\n",
              "        const element = document.querySelector('#df-a3b0ddba-c656-4085-906b-ef0df129b3f0');\n",
              "        const dataTable =\n",
              "          await google.colab.kernel.invokeFunction('convertToInteractive',\n",
              "                                                    [key], {});\n",
              "        if (!dataTable) return;\n",
              "\n",
              "        const docLinkHtml = 'Like what you see? Visit the ' +\n",
              "          '<a target=\"_blank\" href=https://colab.research.google.com/notebooks/data_table.ipynb>data table notebook</a>'\n",
              "          + ' to learn more about interactive tables.';\n",
              "        element.innerHTML = '';\n",
              "        dataTable['output_type'] = 'display_data';\n",
              "        await google.colab.output.renderOutput(dataTable, element);\n",
              "        const docLink = document.createElement('div');\n",
              "        docLink.innerHTML = docLinkHtml;\n",
              "        element.appendChild(docLink);\n",
              "      }\n",
              "    </script>\n",
              "  </div>\n",
              "\n",
              "\n",
              "<div id=\"df-a5f55c44-263d-49a7-8915-2d25da60c2dd\">\n",
              "  <button class=\"colab-df-quickchart\" onclick=\"quickchart('df-a5f55c44-263d-49a7-8915-2d25da60c2dd')\"\n",
              "            title=\"Suggest charts\"\n",
              "            style=\"display:none;\">\n",
              "\n",
              "<svg xmlns=\"http://www.w3.org/2000/svg\" height=\"24px\"viewBox=\"0 0 24 24\"\n",
              "     width=\"24px\">\n",
              "    <g>\n",
              "        <path d=\"M19 3H5c-1.1 0-2 .9-2 2v14c0 1.1.9 2 2 2h14c1.1 0 2-.9 2-2V5c0-1.1-.9-2-2-2zM9 17H7v-7h2v7zm4 0h-2V7h2v10zm4 0h-2v-4h2v4z\"/>\n",
              "    </g>\n",
              "</svg>\n",
              "  </button>\n",
              "\n",
              "<style>\n",
              "  .colab-df-quickchart {\n",
              "      --bg-color: #E8F0FE;\n",
              "      --fill-color: #1967D2;\n",
              "      --hover-bg-color: #E2EBFA;\n",
              "      --hover-fill-color: #174EA6;\n",
              "      --disabled-fill-color: #AAA;\n",
              "      --disabled-bg-color: #DDD;\n",
              "  }\n",
              "\n",
              "  [theme=dark] .colab-df-quickchart {\n",
              "      --bg-color: #3B4455;\n",
              "      --fill-color: #D2E3FC;\n",
              "      --hover-bg-color: #434B5C;\n",
              "      --hover-fill-color: #FFFFFF;\n",
              "      --disabled-bg-color: #3B4455;\n",
              "      --disabled-fill-color: #666;\n",
              "  }\n",
              "\n",
              "  .colab-df-quickchart {\n",
              "    background-color: var(--bg-color);\n",
              "    border: none;\n",
              "    border-radius: 50%;\n",
              "    cursor: pointer;\n",
              "    display: none;\n",
              "    fill: var(--fill-color);\n",
              "    height: 32px;\n",
              "    padding: 0;\n",
              "    width: 32px;\n",
              "  }\n",
              "\n",
              "  .colab-df-quickchart:hover {\n",
              "    background-color: var(--hover-bg-color);\n",
              "    box-shadow: 0 1px 2px rgba(60, 64, 67, 0.3), 0 1px 3px 1px rgba(60, 64, 67, 0.15);\n",
              "    fill: var(--button-hover-fill-color);\n",
              "  }\n",
              "\n",
              "  .colab-df-quickchart-complete:disabled,\n",
              "  .colab-df-quickchart-complete:disabled:hover {\n",
              "    background-color: var(--disabled-bg-color);\n",
              "    fill: var(--disabled-fill-color);\n",
              "    box-shadow: none;\n",
              "  }\n",
              "\n",
              "  .colab-df-spinner {\n",
              "    border: 2px solid var(--fill-color);\n",
              "    border-color: transparent;\n",
              "    border-bottom-color: var(--fill-color);\n",
              "    animation:\n",
              "      spin 1s steps(1) infinite;\n",
              "  }\n",
              "\n",
              "  @keyframes spin {\n",
              "    0% {\n",
              "      border-color: transparent;\n",
              "      border-bottom-color: var(--fill-color);\n",
              "      border-left-color: var(--fill-color);\n",
              "    }\n",
              "    20% {\n",
              "      border-color: transparent;\n",
              "      border-left-color: var(--fill-color);\n",
              "      border-top-color: var(--fill-color);\n",
              "    }\n",
              "    30% {\n",
              "      border-color: transparent;\n",
              "      border-left-color: var(--fill-color);\n",
              "      border-top-color: var(--fill-color);\n",
              "      border-right-color: var(--fill-color);\n",
              "    }\n",
              "    40% {\n",
              "      border-color: transparent;\n",
              "      border-right-color: var(--fill-color);\n",
              "      border-top-color: var(--fill-color);\n",
              "    }\n",
              "    60% {\n",
              "      border-color: transparent;\n",
              "      border-right-color: var(--fill-color);\n",
              "    }\n",
              "    80% {\n",
              "      border-color: transparent;\n",
              "      border-right-color: var(--fill-color);\n",
              "      border-bottom-color: var(--fill-color);\n",
              "    }\n",
              "    90% {\n",
              "      border-color: transparent;\n",
              "      border-bottom-color: var(--fill-color);\n",
              "    }\n",
              "  }\n",
              "</style>\n",
              "\n",
              "  <script>\n",
              "    async function quickchart(key) {\n",
              "      const quickchartButtonEl =\n",
              "        document.querySelector('#' + key + ' button');\n",
              "      quickchartButtonEl.disabled = true;  // To prevent multiple clicks.\n",
              "      quickchartButtonEl.classList.add('colab-df-spinner');\n",
              "      try {\n",
              "        const charts = await google.colab.kernel.invokeFunction(\n",
              "            'suggestCharts', [key], {});\n",
              "      } catch (error) {\n",
              "        console.error('Error during call to suggestCharts:', error);\n",
              "      }\n",
              "      quickchartButtonEl.classList.remove('colab-df-spinner');\n",
              "      quickchartButtonEl.classList.add('colab-df-quickchart-complete');\n",
              "    }\n",
              "    (() => {\n",
              "      let quickchartButtonEl =\n",
              "        document.querySelector('#df-a5f55c44-263d-49a7-8915-2d25da60c2dd button');\n",
              "      quickchartButtonEl.style.display =\n",
              "        google.colab.kernel.accessAllowed ? 'block' : 'none';\n",
              "    })();\n",
              "  </script>\n",
              "</div>\n",
              "\n",
              "  <div id=\"id_b017fd4d-c958-4a5e-99c7-5f446ba627f9\">\n",
              "    <style>\n",
              "      .colab-df-generate {\n",
              "        background-color: #E8F0FE;\n",
              "        border: none;\n",
              "        border-radius: 50%;\n",
              "        cursor: pointer;\n",
              "        display: none;\n",
              "        fill: #1967D2;\n",
              "        height: 32px;\n",
              "        padding: 0 0 0 0;\n",
              "        width: 32px;\n",
              "      }\n",
              "\n",
              "      .colab-df-generate:hover {\n",
              "        background-color: #E2EBFA;\n",
              "        box-shadow: 0px 1px 2px rgba(60, 64, 67, 0.3), 0px 1px 3px 1px rgba(60, 64, 67, 0.15);\n",
              "        fill: #174EA6;\n",
              "      }\n",
              "\n",
              "      [theme=dark] .colab-df-generate {\n",
              "        background-color: #3B4455;\n",
              "        fill: #D2E3FC;\n",
              "      }\n",
              "\n",
              "      [theme=dark] .colab-df-generate:hover {\n",
              "        background-color: #434B5C;\n",
              "        box-shadow: 0px 1px 3px 1px rgba(0, 0, 0, 0.15);\n",
              "        filter: drop-shadow(0px 1px 2px rgba(0, 0, 0, 0.3));\n",
              "        fill: #FFFFFF;\n",
              "      }\n",
              "    </style>\n",
              "    <button class=\"colab-df-generate\" onclick=\"generateWithVariable('df')\"\n",
              "            title=\"Generate code using this dataframe.\"\n",
              "            style=\"display:none;\">\n",
              "\n",
              "  <svg xmlns=\"http://www.w3.org/2000/svg\" height=\"24px\"viewBox=\"0 0 24 24\"\n",
              "       width=\"24px\">\n",
              "    <path d=\"M7,19H8.4L18.45,9,17,7.55,7,17.6ZM5,21V16.75L18.45,3.32a2,2,0,0,1,2.83,0l1.4,1.43a1.91,1.91,0,0,1,.58,1.4,1.91,1.91,0,0,1-.58,1.4L9.25,21ZM18.45,9,17,7.55Zm-12,3A5.31,5.31,0,0,0,4.9,8.1,5.31,5.31,0,0,0,1,6.5,5.31,5.31,0,0,0,4.9,4.9,5.31,5.31,0,0,0,6.5,1,5.31,5.31,0,0,0,8.1,4.9,5.31,5.31,0,0,0,12,6.5,5.46,5.46,0,0,0,6.5,12Z\"/>\n",
              "  </svg>\n",
              "    </button>\n",
              "    <script>\n",
              "      (() => {\n",
              "      const buttonEl =\n",
              "        document.querySelector('#id_b017fd4d-c958-4a5e-99c7-5f446ba627f9 button.colab-df-generate');\n",
              "      buttonEl.style.display =\n",
              "        google.colab.kernel.accessAllowed ? 'block' : 'none';\n",
              "\n",
              "      buttonEl.onclick = () => {\n",
              "        google.colab.notebook.generateWithVariable('df');\n",
              "      }\n",
              "      })();\n",
              "    </script>\n",
              "  </div>\n",
              "\n",
              "    </div>\n",
              "  </div>\n"
            ]
          },
          "metadata": {},
          "execution_count": 50
        }
      ]
    },
    {
      "cell_type": "code",
      "source": [
        "X = np.array(X)\n",
        "Y = np.array(Y)\n",
        "X.shape, Y.shape"
      ],
      "metadata": {
        "colab": {
          "base_uri": "https://localhost:8080/"
        },
        "id": "BHt1DsXezc4m",
        "outputId": "3b1302b9-4ee0-45ed-c1f4-d6ccdb9c967e"
      },
      "execution_count": 51,
      "outputs": [
        {
          "output_type": "execute_result",
          "data": {
            "text/plain": [
              "((1980, 4, 8), (1980,))"
            ]
          },
          "metadata": {},
          "execution_count": 51
        }
      ]
    },
    {
      "cell_type": "markdown",
      "source": [
        "**Model Building**"
      ],
      "metadata": {
        "id": "0l87yRy9yCbZ"
      }
    },
    {
      "cell_type": "code",
      "source": [
        "from sklearn.model_selection import train_test_split\n",
        "x_train, x_test, y_train, y_test = train_test_split(\n",
        "    X,Y,\n",
        "    test_size = .2, shuffle=True, random_state=0\n",
        ")"
      ],
      "metadata": {
        "id": "1v51JnuRyFlo"
      },
      "execution_count": 52,
      "outputs": []
    },
    {
      "cell_type": "code",
      "source": [
        "len(x_train), len(y_train)"
      ],
      "metadata": {
        "colab": {
          "base_uri": "https://localhost:8080/"
        },
        "id": "aQWVClBuyQf3",
        "outputId": "67d8fe31-5671-4b7b-f185-ac084e80b78d"
      },
      "execution_count": 53,
      "outputs": [
        {
          "output_type": "execute_result",
          "data": {
            "text/plain": [
              "(1584, 1584)"
            ]
          },
          "metadata": {},
          "execution_count": 53
        }
      ]
    },
    {
      "cell_type": "code",
      "source": [
        "import tensorflow as tf\n",
        "from tensorflow.keras.models import Sequential\n",
        "from tensorflow.keras.layers import Conv1D, MaxPooling1D, Flatten, Dense\n",
        "\n",
        "# Define the input shape\n",
        "input_shape = (4, 8)\n",
        "\n",
        "# Create a Sequential model\n",
        "model = Sequential()\n",
        "\n",
        "# Add a Conv1D layer\n",
        "model.add(Conv1D(filters=32, kernel_size=3, activation='relu', input_shape=input_shape))\n",
        "\n",
        "# Add a MaxPooling1D layer (optional)\n",
        "model.add(MaxPooling1D(pool_size=2))\n",
        "\n",
        "# Flatten the output before feeding it to a Dense layer\n",
        "model.add(Flatten())\n",
        "\n",
        "# Add a Dense layer\n",
        "model.add(Dense(64, activation='relu'))\n",
        "\n",
        "# Add a Dense layer\n",
        "model.add(Dense(32, activation='relu'))\n",
        "\n",
        "# Add a Dense layer\n",
        "model.add(Dense(16, activation='relu'))\n",
        "\n",
        "# Output layer for classification (adjust units according to the number of classes)\n",
        "# Assuming classes are integers starting from 0\n",
        "model.add(Dense(12, activation='softmax'))\n",
        "\n",
        "# Compile the model\n",
        "model.compile(optimizer='adam', loss='sparse_categorical_crossentropy', metrics=['accuracy'])\n",
        "\n",
        "# Display model summary\n",
        "model.summary()"
      ],
      "metadata": {
        "colab": {
          "base_uri": "https://localhost:8080/"
        },
        "id": "uAfUtnYPIOcL",
        "outputId": "caa6fa2b-2592-4385-9160-d621e0023758"
      },
      "execution_count": 68,
      "outputs": [
        {
          "output_type": "stream",
          "name": "stdout",
          "text": [
            "Model: \"sequential_4\"\n",
            "_________________________________________________________________\n",
            " Layer (type)                Output Shape              Param #   \n",
            "=================================================================\n",
            " conv1d_4 (Conv1D)           (None, 2, 32)             800       \n",
            "                                                                 \n",
            " max_pooling1d_4 (MaxPoolin  (None, 1, 32)             0         \n",
            " g1D)                                                            \n",
            "                                                                 \n",
            " flatten_4 (Flatten)         (None, 32)                0         \n",
            "                                                                 \n",
            " dense_10 (Dense)            (None, 64)                2112      \n",
            "                                                                 \n",
            " dense_11 (Dense)            (None, 32)                2080      \n",
            "                                                                 \n",
            " dense_12 (Dense)            (None, 16)                528       \n",
            "                                                                 \n",
            " dense_13 (Dense)            (None, 12)                204       \n",
            "                                                                 \n",
            "=================================================================\n",
            "Total params: 5724 (22.36 KB)\n",
            "Trainable params: 5724 (22.36 KB)\n",
            "Non-trainable params: 0 (0.00 Byte)\n",
            "_________________________________________________________________\n"
          ]
        }
      ]
    },
    {
      "cell_type": "code",
      "source": [
        "# Fit the model with training data\n",
        "history = model.fit(x_train, y_train, epochs=70, batch_size=32, validation_data=(x_test, y_test))"
      ],
      "metadata": {
        "colab": {
          "base_uri": "https://localhost:8080/"
        },
        "id": "_tJKZmzII70e",
        "outputId": "811170e2-5656-486c-e752-11aed0ef74d5"
      },
      "execution_count": 69,
      "outputs": [
        {
          "output_type": "stream",
          "name": "stdout",
          "text": [
            "Epoch 1/70\n",
            "50/50 [==============================] - 3s 11ms/step - loss: 2.4803 - accuracy: 0.1275 - val_loss: 2.4566 - val_accuracy: 0.1742\n",
            "Epoch 2/70\n",
            "50/50 [==============================] - 0s 5ms/step - loss: 2.4311 - accuracy: 0.1799 - val_loss: 2.3753 - val_accuracy: 0.2298\n",
            "Epoch 3/70\n",
            "50/50 [==============================] - 0s 6ms/step - loss: 2.3042 - accuracy: 0.1963 - val_loss: 2.1701 - val_accuracy: 0.2374\n",
            "Epoch 4/70\n",
            "50/50 [==============================] - 0s 4ms/step - loss: 2.0805 - accuracy: 0.2487 - val_loss: 1.9565 - val_accuracy: 0.2626\n",
            "Epoch 5/70\n",
            "50/50 [==============================] - 0s 5ms/step - loss: 1.9363 - accuracy: 0.2797 - val_loss: 1.9303 - val_accuracy: 0.2576\n",
            "Epoch 6/70\n",
            "50/50 [==============================] - 0s 6ms/step - loss: 1.8615 - accuracy: 0.2961 - val_loss: 1.7972 - val_accuracy: 0.3182\n",
            "Epoch 7/70\n",
            "50/50 [==============================] - 0s 6ms/step - loss: 1.7862 - accuracy: 0.3497 - val_loss: 1.6914 - val_accuracy: 0.4141\n",
            "Epoch 8/70\n",
            "50/50 [==============================] - 0s 5ms/step - loss: 1.7307 - accuracy: 0.3737 - val_loss: 1.6443 - val_accuracy: 0.3384\n",
            "Epoch 9/70\n",
            "50/50 [==============================] - 0s 6ms/step - loss: 1.6267 - accuracy: 0.3996 - val_loss: 1.5068 - val_accuracy: 0.4747\n",
            "Epoch 10/70\n",
            "50/50 [==============================] - 0s 6ms/step - loss: 1.5076 - accuracy: 0.4653 - val_loss: 1.4362 - val_accuracy: 0.4293\n",
            "Epoch 11/70\n",
            "50/50 [==============================] - 0s 7ms/step - loss: 1.4134 - accuracy: 0.4874 - val_loss: 1.2902 - val_accuracy: 0.5859\n",
            "Epoch 12/70\n",
            "50/50 [==============================] - 0s 5ms/step - loss: 1.3133 - accuracy: 0.5322 - val_loss: 1.2962 - val_accuracy: 0.4747\n",
            "Epoch 13/70\n",
            "50/50 [==============================] - 0s 6ms/step - loss: 1.2245 - accuracy: 0.5518 - val_loss: 1.1250 - val_accuracy: 0.5657\n",
            "Epoch 14/70\n",
            "50/50 [==============================] - 0s 7ms/step - loss: 1.1334 - accuracy: 0.5960 - val_loss: 1.0570 - val_accuracy: 0.6364\n",
            "Epoch 15/70\n",
            "50/50 [==============================] - 0s 5ms/step - loss: 1.0633 - accuracy: 0.6162 - val_loss: 0.9867 - val_accuracy: 0.6414\n",
            "Epoch 16/70\n",
            "50/50 [==============================] - 0s 6ms/step - loss: 0.9915 - accuracy: 0.6471 - val_loss: 0.9261 - val_accuracy: 0.6717\n",
            "Epoch 17/70\n",
            "50/50 [==============================] - 0s 6ms/step - loss: 0.9415 - accuracy: 0.6673 - val_loss: 0.8833 - val_accuracy: 0.6742\n",
            "Epoch 18/70\n",
            "50/50 [==============================] - 0s 6ms/step - loss: 0.9047 - accuracy: 0.6679 - val_loss: 0.8984 - val_accuracy: 0.6490\n",
            "Epoch 19/70\n",
            "50/50 [==============================] - 0s 6ms/step - loss: 0.8666 - accuracy: 0.6679 - val_loss: 0.8096 - val_accuracy: 0.7096\n",
            "Epoch 20/70\n",
            "50/50 [==============================] - 0s 6ms/step - loss: 0.8282 - accuracy: 0.6850 - val_loss: 0.8022 - val_accuracy: 0.7172\n",
            "Epoch 21/70\n",
            "50/50 [==============================] - 0s 6ms/step - loss: 0.7886 - accuracy: 0.7096 - val_loss: 0.7732 - val_accuracy: 0.7222\n",
            "Epoch 22/70\n",
            "50/50 [==============================] - 0s 6ms/step - loss: 0.7806 - accuracy: 0.7121 - val_loss: 0.7722 - val_accuracy: 0.7146\n",
            "Epoch 23/70\n",
            "50/50 [==============================] - 0s 6ms/step - loss: 0.7614 - accuracy: 0.7027 - val_loss: 0.7189 - val_accuracy: 0.7197\n",
            "Epoch 24/70\n",
            "50/50 [==============================] - 0s 6ms/step - loss: 0.7727 - accuracy: 0.6989 - val_loss: 0.7103 - val_accuracy: 0.7197\n",
            "Epoch 25/70\n",
            "50/50 [==============================] - 0s 6ms/step - loss: 0.7241 - accuracy: 0.7203 - val_loss: 0.7209 - val_accuracy: 0.7146\n",
            "Epoch 26/70\n",
            "50/50 [==============================] - 0s 6ms/step - loss: 0.7219 - accuracy: 0.7330 - val_loss: 0.7079 - val_accuracy: 0.7374\n",
            "Epoch 27/70\n",
            "50/50 [==============================] - 0s 6ms/step - loss: 0.7167 - accuracy: 0.7260 - val_loss: 0.7397 - val_accuracy: 0.6970\n",
            "Epoch 28/70\n",
            "50/50 [==============================] - 0s 6ms/step - loss: 0.6979 - accuracy: 0.7165 - val_loss: 0.6772 - val_accuracy: 0.7399\n",
            "Epoch 29/70\n",
            "50/50 [==============================] - 0s 6ms/step - loss: 0.6752 - accuracy: 0.7551 - val_loss: 0.7206 - val_accuracy: 0.7096\n",
            "Epoch 30/70\n",
            "50/50 [==============================] - 0s 5ms/step - loss: 0.6743 - accuracy: 0.7367 - val_loss: 0.7210 - val_accuracy: 0.7071\n",
            "Epoch 31/70\n",
            "50/50 [==============================] - 0s 6ms/step - loss: 0.6692 - accuracy: 0.7380 - val_loss: 0.6913 - val_accuracy: 0.7500\n",
            "Epoch 32/70\n",
            "50/50 [==============================] - 0s 6ms/step - loss: 0.6926 - accuracy: 0.7279 - val_loss: 0.6954 - val_accuracy: 0.7197\n",
            "Epoch 33/70\n",
            "50/50 [==============================] - 0s 5ms/step - loss: 0.6750 - accuracy: 0.7405 - val_loss: 0.6812 - val_accuracy: 0.7500\n",
            "Epoch 34/70\n",
            "50/50 [==============================] - 0s 5ms/step - loss: 0.6528 - accuracy: 0.7386 - val_loss: 0.7235 - val_accuracy: 0.7146\n",
            "Epoch 35/70\n",
            "50/50 [==============================] - 0s 5ms/step - loss: 0.6679 - accuracy: 0.7355 - val_loss: 0.6499 - val_accuracy: 0.7424\n",
            "Epoch 36/70\n",
            "50/50 [==============================] - 0s 5ms/step - loss: 0.6287 - accuracy: 0.7626 - val_loss: 0.6684 - val_accuracy: 0.6995\n",
            "Epoch 37/70\n",
            "50/50 [==============================] - 0s 6ms/step - loss: 0.6329 - accuracy: 0.7551 - val_loss: 0.6627 - val_accuracy: 0.7449\n",
            "Epoch 38/70\n",
            "50/50 [==============================] - 0s 3ms/step - loss: 0.6108 - accuracy: 0.7696 - val_loss: 0.6076 - val_accuracy: 0.7652\n",
            "Epoch 39/70\n",
            "50/50 [==============================] - 0s 3ms/step - loss: 0.6300 - accuracy: 0.7551 - val_loss: 0.6105 - val_accuracy: 0.7702\n",
            "Epoch 40/70\n",
            "50/50 [==============================] - 0s 3ms/step - loss: 0.6229 - accuracy: 0.7620 - val_loss: 0.6228 - val_accuracy: 0.7576\n",
            "Epoch 41/70\n",
            "50/50 [==============================] - 0s 3ms/step - loss: 0.6008 - accuracy: 0.7677 - val_loss: 0.6097 - val_accuracy: 0.7601\n",
            "Epoch 42/70\n",
            "50/50 [==============================] - 0s 3ms/step - loss: 0.5896 - accuracy: 0.7715 - val_loss: 0.5998 - val_accuracy: 0.7778\n",
            "Epoch 43/70\n",
            "50/50 [==============================] - 0s 3ms/step - loss: 0.5799 - accuracy: 0.7784 - val_loss: 0.5914 - val_accuracy: 0.7551\n",
            "Epoch 44/70\n",
            "50/50 [==============================] - 0s 3ms/step - loss: 0.5904 - accuracy: 0.7708 - val_loss: 0.6841 - val_accuracy: 0.7096\n",
            "Epoch 45/70\n",
            "50/50 [==============================] - 0s 3ms/step - loss: 0.5818 - accuracy: 0.7803 - val_loss: 0.5737 - val_accuracy: 0.7854\n",
            "Epoch 46/70\n",
            "50/50 [==============================] - 0s 3ms/step - loss: 0.5948 - accuracy: 0.7727 - val_loss: 0.6303 - val_accuracy: 0.7475\n",
            "Epoch 47/70\n",
            "50/50 [==============================] - 0s 3ms/step - loss: 0.5616 - accuracy: 0.7797 - val_loss: 0.5901 - val_accuracy: 0.7778\n",
            "Epoch 48/70\n",
            "50/50 [==============================] - 0s 3ms/step - loss: 0.5657 - accuracy: 0.7822 - val_loss: 0.5530 - val_accuracy: 0.7879\n",
            "Epoch 49/70\n",
            "50/50 [==============================] - 0s 3ms/step - loss: 0.5540 - accuracy: 0.7879 - val_loss: 0.5591 - val_accuracy: 0.7904\n",
            "Epoch 50/70\n",
            "50/50 [==============================] - 0s 4ms/step - loss: 0.5673 - accuracy: 0.7816 - val_loss: 0.5327 - val_accuracy: 0.7929\n",
            "Epoch 51/70\n",
            "50/50 [==============================] - 0s 3ms/step - loss: 0.5371 - accuracy: 0.7847 - val_loss: 0.5555 - val_accuracy: 0.7929\n",
            "Epoch 52/70\n",
            "50/50 [==============================] - 0s 3ms/step - loss: 0.5416 - accuracy: 0.8018 - val_loss: 0.5850 - val_accuracy: 0.7803\n",
            "Epoch 53/70\n",
            "50/50 [==============================] - 0s 3ms/step - loss: 0.5381 - accuracy: 0.7955 - val_loss: 0.5526 - val_accuracy: 0.7828\n",
            "Epoch 54/70\n",
            "50/50 [==============================] - 0s 3ms/step - loss: 0.5171 - accuracy: 0.8030 - val_loss: 0.5115 - val_accuracy: 0.8005\n",
            "Epoch 55/70\n",
            "50/50 [==============================] - 0s 3ms/step - loss: 0.5198 - accuracy: 0.8106 - val_loss: 0.5215 - val_accuracy: 0.7904\n",
            "Epoch 56/70\n",
            "50/50 [==============================] - 0s 3ms/step - loss: 0.5338 - accuracy: 0.7980 - val_loss: 0.5526 - val_accuracy: 0.7955\n",
            "Epoch 57/70\n",
            "50/50 [==============================] - 0s 3ms/step - loss: 0.5096 - accuracy: 0.8112 - val_loss: 0.5230 - val_accuracy: 0.7753\n",
            "Epoch 58/70\n",
            "50/50 [==============================] - 0s 3ms/step - loss: 0.5076 - accuracy: 0.8087 - val_loss: 0.6505 - val_accuracy: 0.7374\n",
            "Epoch 59/70\n",
            "50/50 [==============================] - 0s 3ms/step - loss: 0.5273 - accuracy: 0.8074 - val_loss: 0.5423 - val_accuracy: 0.7652\n",
            "Epoch 60/70\n",
            "50/50 [==============================] - 0s 3ms/step - loss: 0.4929 - accuracy: 0.8119 - val_loss: 0.5129 - val_accuracy: 0.8030\n",
            "Epoch 61/70\n",
            "50/50 [==============================] - 0s 3ms/step - loss: 0.5065 - accuracy: 0.8087 - val_loss: 0.5326 - val_accuracy: 0.7702\n",
            "Epoch 62/70\n",
            "50/50 [==============================] - 0s 3ms/step - loss: 0.4907 - accuracy: 0.8138 - val_loss: 0.5471 - val_accuracy: 0.7854\n",
            "Epoch 63/70\n",
            "50/50 [==============================] - 0s 3ms/step - loss: 0.4878 - accuracy: 0.8245 - val_loss: 0.5125 - val_accuracy: 0.8106\n",
            "Epoch 64/70\n",
            "50/50 [==============================] - 0s 3ms/step - loss: 0.4928 - accuracy: 0.8182 - val_loss: 0.4824 - val_accuracy: 0.8056\n",
            "Epoch 65/70\n",
            "50/50 [==============================] - 0s 3ms/step - loss: 0.4700 - accuracy: 0.8264 - val_loss: 0.4861 - val_accuracy: 0.8157\n",
            "Epoch 66/70\n",
            "50/50 [==============================] - 0s 3ms/step - loss: 0.4612 - accuracy: 0.8340 - val_loss: 0.5046 - val_accuracy: 0.8106\n",
            "Epoch 67/70\n",
            "50/50 [==============================] - 0s 3ms/step - loss: 0.4650 - accuracy: 0.8277 - val_loss: 0.4790 - val_accuracy: 0.8005\n",
            "Epoch 68/70\n",
            "50/50 [==============================] - 0s 3ms/step - loss: 0.4867 - accuracy: 0.8226 - val_loss: 0.5234 - val_accuracy: 0.8005\n",
            "Epoch 69/70\n",
            "50/50 [==============================] - 0s 3ms/step - loss: 0.4546 - accuracy: 0.8258 - val_loss: 0.4589 - val_accuracy: 0.8157\n",
            "Epoch 70/70\n",
            "50/50 [==============================] - 0s 3ms/step - loss: 0.4380 - accuracy: 0.8302 - val_loss: 0.4510 - val_accuracy: 0.8258\n"
          ]
        }
      ]
    },
    {
      "cell_type": "markdown",
      "source": [
        "**Classification Report**"
      ],
      "metadata": {
        "id": "J2e_cIXdJKYW"
      }
    },
    {
      "cell_type": "code",
      "source": [
        "from sklearn.metrics import confusion_matrix, classification_report\n",
        "y_pred = model.predict(x_test)\n",
        "y_pred_classes = [np.argmax(element) for element in y_pred]\n",
        "\n",
        "print(\"Classification Report : \")\n",
        "print(classification_report(y_test, y_pred_classes))"
      ],
      "metadata": {
        "colab": {
          "base_uri": "https://localhost:8080/"
        },
        "id": "04LKUveiJJ5G",
        "outputId": "ffa2d3e3-cac4-40fc-d3e5-3a3a74335763"
      },
      "execution_count": 70,
      "outputs": [
        {
          "output_type": "stream",
          "name": "stdout",
          "text": [
            "13/13 [==============================] - 0s 2ms/step\n",
            "Classification Report : \n",
            "              precision    recall  f1-score   support\n",
            "\n",
            "           0       0.88      0.67      0.76        42\n",
            "           1       0.78      0.86      0.82        29\n",
            "           2       0.94      0.91      0.92        32\n",
            "           3       0.78      0.83      0.81        30\n",
            "           4       0.64      0.94      0.76        32\n",
            "           5       0.65      0.83      0.73        29\n",
            "           6       1.00      0.48      0.65        29\n",
            "           7       0.74      0.85      0.79        33\n",
            "           8       0.92      0.97      0.95        36\n",
            "           9       0.97      0.97      0.97        31\n",
            "          10       0.83      0.67      0.74        36\n",
            "          11       1.00      0.95      0.97        37\n",
            "\n",
            "    accuracy                           0.83       396\n",
            "   macro avg       0.84      0.83      0.82       396\n",
            "weighted avg       0.85      0.83      0.82       396\n",
            "\n"
          ]
        }
      ]
    },
    {
      "cell_type": "code",
      "source": [
        "# Plotting model accuracy and loss\n",
        "def plot_history(history):\n",
        "    plt.figure(figsize=(10, 5))\n",
        "\n",
        "    # Plot training & validation accuracy values\n",
        "    plt.subplot(1, 2, 1)\n",
        "    plt.ylim(0, 1)\n",
        "    plt.plot(history.history['accuracy'])\n",
        "    plt.plot(history.history['val_accuracy'])\n",
        "    plt.title('Model Accuracy')\n",
        "    plt.ylabel('Accuracy')\n",
        "    plt.xlabel('Epoch')\n",
        "    plt.legend(['Train', 'Validation'], loc='upper left')\n",
        "\n",
        "    # Plot training & validation loss values\n",
        "    plt.subplot(1, 2, 2)\n",
        "    plt.ylim(0, 2)\n",
        "    plt.plot(history.history['loss'])\n",
        "    plt.plot(history.history['val_loss'])\n",
        "    plt.title('Model Loss')\n",
        "    plt.ylabel('Loss')\n",
        "    plt.xlabel('Epoch')\n",
        "    plt.legend(['Train', 'Validation'], loc='upper right')\n",
        "\n",
        "    plt.tight_layout()\n",
        "    plt.show()\n",
        "\n",
        "# Call the function to plot the history\n",
        "plot_history(history)"
      ],
      "metadata": {
        "colab": {
          "base_uri": "https://localhost:8080/",
          "height": 507
        },
        "id": "LiybPDHQJZ7S",
        "outputId": "bf320fd3-6f6f-4146-9454-2891e89d28a3"
      },
      "execution_count": 71,
      "outputs": [
        {
          "output_type": "display_data",
          "data": {
            "text/plain": [
              "<Figure size 1000x500 with 2 Axes>"
            ],
            "image/png": "[encoded data removed]"
          },
          "metadata": {}
        }
      ]
    },
    {
      "cell_type": "markdown",
      "source": [
        "**Validation with Pronation Data**"
      ],
      "metadata": {
        "id": "FKtUgLNlPE4b"
      }
    },
    {
      "cell_type": "code",
      "source": [
        "x_pronation, y_pronation = get_input(['Arifa'], gestures, \"Pronation\")\n",
        "x_pronation = np.array(x_pronation)\n",
        "y_pronation = np.array(y_pronation)"
      ],
      "metadata": {
        "id": "ESQgPNj8PMeO"
      },
      "execution_count": 72,
      "outputs": []
    },
    {
      "cell_type": "code",
      "source": [
        "pronation_results = model.evaluate(x_pronation, y_pronation, batch_size=32)\n",
        "print(pronation_results)"
      ],
      "metadata": {
        "colab": {
          "base_uri": "https://localhost:8080/"
        },
        "id": "yrfITo8rRRZ2",
        "outputId": "d2e5397f-5d57-4af5-dc27-009ed52c2833"
      },
      "execution_count": 73,
      "outputs": [
        {
          "output_type": "stream",
          "name": "stdout",
          "text": [
            "62/62 [==============================] - 0s 2ms/step - loss: 2.4894 - accuracy: 0.4015\n",
            "[2.489438772201538, 0.4015151560306549]\n"
          ]
        }
      ]
    },
    {
      "cell_type": "markdown",
      "source": [
        "**Validation with Supination Data**"
      ],
      "metadata": {
        "id": "LIpKxRAjTRQX"
      }
    },
    {
      "cell_type": "code",
      "source": [
        "x_supination, y_supination = get_input(['Arifa'], gestures, \"Supination\")\n",
        "x_supination = np.array(x_supination)\n",
        "y_supination = np.array(y_supination)"
      ],
      "metadata": {
        "id": "62HcfeQKTW2P"
      },
      "execution_count": 74,
      "outputs": []
    },
    {
      "cell_type": "code",
      "source": [
        "supination_results = model.evaluate(x_supination, y_supination, batch_size=32)\n",
        "print(supination_results)"
      ],
      "metadata": {
        "colab": {
          "base_uri": "https://localhost:8080/"
        },
        "id": "LGFCsiw9TqCb",
        "outputId": "8e4321cf-51bc-4af9-fab5-08076be1c573"
      },
      "execution_count": 75,
      "outputs": [
        {
          "output_type": "stream",
          "name": "stdout",
          "text": [
            "62/62 [==============================] - 0s 2ms/step - loss: 1.9766 - accuracy: 0.5439\n",
            "[1.9765615463256836, 0.5439394116401672]\n"
          ]
        }
      ]
    }
  ]
}