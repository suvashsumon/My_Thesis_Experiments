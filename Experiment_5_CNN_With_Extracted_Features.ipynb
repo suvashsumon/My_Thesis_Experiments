{
  "nbformat": 4,
  "nbformat_minor": 0,
  "metadata": {
    "colab": {
      "provenance": [],
      "authorship_tag": "ABX9TyM2ByJLPeiXe4ktMHerL3TQ"
    },
    "kernelspec": {
      "name": "python3",
      "display_name": "Python 3"
    },
    "language_info": {
      "name": "python"
    }
  },
  "cells": [
    {
      "cell_type": "markdown",
      "source": [
        "**1. Using Time Domain Power Spectral Descriptors (TDPSD) Feature Set**  \n",
        "**2. Using individual dataset**"
      ],
      "metadata": {
        "id": "jfWDCm6rVsUC"
      }
    },
    {
      "cell_type": "code",
      "execution_count": 1,
      "metadata": {
        "colab": {
          "base_uri": "https://localhost:8080/"
        },
        "id": "6EL0T4GfiQAI",
        "outputId": "584022b5-88ab-4013-8cdb-0ceaf958b1a3"
      },
      "outputs": [
        {
          "output_type": "stream",
          "name": "stdout",
          "text": [
            "Collecting libemg\n",
            "  Downloading libemg-0.0.1.tar.gz (185 kB)\n",
            "\u001b[2K     \u001b[90m━━━━━━━━━━━━━━━━━━━━━━━━━━━━━━━━━━━━━━━━\u001b[0m \u001b[32m185.8/185.8 kB\u001b[0m \u001b[31m2.2 MB/s\u001b[0m eta \u001b[36m0:00:00\u001b[0m\n",
            "\u001b[?25h  Preparing metadata (setup.py) ... \u001b[?25l\u001b[?25hdone\n",
            "Requirement already satisfied: numpy in /usr/local/lib/python3.10/dist-packages (from libemg) (1.23.5)\n",
            "Requirement already satisfied: scipy in /usr/local/lib/python3.10/dist-packages (from libemg) (1.11.4)\n",
            "Requirement already satisfied: scikit-learn in /usr/local/lib/python3.10/dist-packages (from libemg) (1.2.2)\n",
            "Requirement already satisfied: pillow in /usr/local/lib/python3.10/dist-packages (from libemg) (9.4.0)\n",
            "Requirement already satisfied: matplotlib in /usr/local/lib/python3.10/dist-packages (from libemg) (3.7.1)\n",
            "Requirement already satisfied: librosa in /usr/local/lib/python3.10/dist-packages (from libemg) (0.10.1)\n",
            "Collecting wfdb (from libemg)\n",
            "  Downloading wfdb-4.1.2-py3-none-any.whl (159 kB)\n",
            "\u001b[2K     \u001b[90m━━━━━━━━━━━━━━━━━━━━━━━━━━━━━━━━━━━━━━━━\u001b[0m \u001b[32m160.0/160.0 kB\u001b[0m \u001b[31m8.0 MB/s\u001b[0m eta \u001b[36m0:00:00\u001b[0m\n",
            "\u001b[?25hCollecting pyserial (from libemg)\n",
            "  Downloading pyserial-3.5-py2.py3-none-any.whl (90 kB)\n",
            "\u001b[2K     \u001b[90m━━━━━━━━━━━━━━━━━━━━━━━━━━━━━━━━━━━━━━━━\u001b[0m \u001b[32m90.6/90.6 kB\u001b[0m \u001b[31m7.1 MB/s\u001b[0m eta \u001b[36m0:00:00\u001b[0m\n",
            "\u001b[?25hRequirement already satisfied: audioread>=2.1.9 in /usr/local/lib/python3.10/dist-packages (from librosa->libemg) (3.0.1)\n",
            "Requirement already satisfied: joblib>=0.14 in /usr/local/lib/python3.10/dist-packages (from librosa->libemg) (1.3.2)\n",
            "Requirement already satisfied: decorator>=4.3.0 in /usr/local/lib/python3.10/dist-packages (from librosa->libemg) (4.4.2)\n",
            "Requirement already satisfied: numba>=0.51.0 in /usr/local/lib/python3.10/dist-packages (from librosa->libemg) (0.58.1)\n",
            "Requirement already satisfied: soundfile>=0.12.1 in /usr/local/lib/python3.10/dist-packages (from librosa->libemg) (0.12.1)\n",
            "Requirement already satisfied: pooch>=1.0 in /usr/local/lib/python3.10/dist-packages (from librosa->libemg) (1.8.0)\n",
            "Requirement already satisfied: soxr>=0.3.2 in /usr/local/lib/python3.10/dist-packages (from librosa->libemg) (0.3.7)\n",
            "Requirement already satisfied: typing-extensions>=4.1.1 in /usr/local/lib/python3.10/dist-packages (from librosa->libemg) (4.5.0)\n",
            "Requirement already satisfied: lazy-loader>=0.1 in /usr/local/lib/python3.10/dist-packages (from librosa->libemg) (0.3)\n",
            "Requirement already satisfied: msgpack>=1.0 in /usr/local/lib/python3.10/dist-packages (from librosa->libemg) (1.0.7)\n",
            "Requirement already satisfied: threadpoolctl>=2.0.0 in /usr/local/lib/python3.10/dist-packages (from scikit-learn->libemg) (3.2.0)\n",
            "Requirement already satisfied: contourpy>=1.0.1 in /usr/local/lib/python3.10/dist-packages (from matplotlib->libemg) (1.2.0)\n",
            "Requirement already satisfied: cycler>=0.10 in /usr/local/lib/python3.10/dist-packages (from matplotlib->libemg) (0.12.1)\n",
            "Requirement already satisfied: fonttools>=4.22.0 in /usr/local/lib/python3.10/dist-packages (from matplotlib->libemg) (4.46.0)\n",
            "Requirement already satisfied: kiwisolver>=1.0.1 in /usr/local/lib/python3.10/dist-packages (from matplotlib->libemg) (1.4.5)\n",
            "Requirement already satisfied: packaging>=20.0 in /usr/local/lib/python3.10/dist-packages (from matplotlib->libemg) (23.2)\n",
            "Requirement already satisfied: pyparsing>=2.3.1 in /usr/local/lib/python3.10/dist-packages (from matplotlib->libemg) (3.1.1)\n",
            "Requirement already satisfied: python-dateutil>=2.7 in /usr/local/lib/python3.10/dist-packages (from matplotlib->libemg) (2.8.2)\n",
            "Requirement already satisfied: pandas>=1.3.0 in /usr/local/lib/python3.10/dist-packages (from wfdb->libemg) (1.5.3)\n",
            "Requirement already satisfied: requests>=2.8.1 in /usr/local/lib/python3.10/dist-packages (from wfdb->libemg) (2.31.0)\n",
            "Requirement already satisfied: llvmlite<0.42,>=0.41.0dev0 in /usr/local/lib/python3.10/dist-packages (from numba>=0.51.0->librosa->libemg) (0.41.1)\n",
            "Requirement already satisfied: pytz>=2020.1 in /usr/local/lib/python3.10/dist-packages (from pandas>=1.3.0->wfdb->libemg) (2023.3.post1)\n",
            "Requirement already satisfied: platformdirs>=2.5.0 in /usr/local/lib/python3.10/dist-packages (from pooch>=1.0->librosa->libemg) (4.1.0)\n",
            "Requirement already satisfied: six>=1.5 in /usr/local/lib/python3.10/dist-packages (from python-dateutil>=2.7->matplotlib->libemg) (1.16.0)\n",
            "Requirement already satisfied: charset-normalizer<4,>=2 in /usr/local/lib/python3.10/dist-packages (from requests>=2.8.1->wfdb->libemg) (3.3.2)\n",
            "Requirement already satisfied: idna<4,>=2.5 in /usr/local/lib/python3.10/dist-packages (from requests>=2.8.1->wfdb->libemg) (3.6)\n",
            "Requirement already satisfied: urllib3<3,>=1.21.1 in /usr/local/lib/python3.10/dist-packages (from requests>=2.8.1->wfdb->libemg) (2.0.7)\n",
            "Requirement already satisfied: certifi>=2017.4.17 in /usr/local/lib/python3.10/dist-packages (from requests>=2.8.1->wfdb->libemg) (2023.11.17)\n",
            "Requirement already satisfied: cffi>=1.0 in /usr/local/lib/python3.10/dist-packages (from soundfile>=0.12.1->librosa->libemg) (1.16.0)\n",
            "Requirement already satisfied: pycparser in /usr/local/lib/python3.10/dist-packages (from cffi>=1.0->soundfile>=0.12.1->librosa->libemg) (2.21)\n",
            "Building wheels for collected packages: libemg\n",
            "  Building wheel for libemg (setup.py) ... \u001b[?25l\u001b[?25hdone\n",
            "  Created wheel for libemg: filename=libemg-0.0.1-py3-none-any.whl size=70338 sha256=f07a98c50dd7411dd3d46c22910a6327d373ee314cf691e26941446f1c96458a\n",
            "  Stored in directory: /root/.cache/pip/wheels/52/29/b7/c395fce515bf8995f6c17ffa968697b66fd497a4c6a1c04481\n",
            "Successfully built libemg\n",
            "Installing collected packages: pyserial, wfdb, libemg\n",
            "Successfully installed libemg-0.0.1 pyserial-3.5 wfdb-4.1.2\n"
          ]
        }
      ],
      "source": [
        "!pip install libemg"
      ]
    },
    {
      "cell_type": "code",
      "source": [
        "import numpy as np\n",
        "import matplotlib.pyplot as plt\n",
        "import scipy.io as scipyio\n",
        "import seaborn as sns\n",
        "import pandas as pd\n",
        "from libemg.feature_extractor import FeatureExtractor\n",
        "from libemg.utils import get_windows\n",
        "from google.colab import drive\n",
        "import os"
      ],
      "metadata": {
        "id": "S_cbWcJpinEX"
      },
      "execution_count": 3,
      "outputs": []
    },
    {
      "cell_type": "markdown",
      "source": [
        "**Reading Dataset**"
      ],
      "metadata": {
        "id": "47dGhzkMjZ8_"
      }
    },
    {
      "cell_type": "code",
      "source": [
        "drive.mount('/content/gdrive')"
      ],
      "metadata": {
        "colab": {
          "base_uri": "https://localhost:8080/"
        },
        "id": "FxWMJLpOjdcB",
        "outputId": "62f265f8-97a7-49e8-fa44-b1f2379cdfaf"
      },
      "execution_count": 4,
      "outputs": [
        {
          "output_type": "stream",
          "name": "stdout",
          "text": [
            "Mounted at /content/gdrive\n"
          ]
        }
      ]
    },
    {
      "cell_type": "code",
      "source": [
        "gestures_label = {\n",
        "\t 'Thumb_UP' : 0,\n",
        "\t 'Index' : 1,\n",
        "\t 'Right_Angle' : 2,\n",
        "\t 'Peace' : 3,\n",
        "\t 'Index_Little' : 4,\n",
        "\t 'Thumb_Little' : 5,\n",
        "\t 'Hand_Close' : 6,\n",
        "\t 'Hand_Open' : 7,\n",
        "\t 'Wrist_Extension' : 8,\n",
        "\t 'Wrist_Flexion' : 9,\n",
        "\t 'Ulner_Deviation' : 10,\n",
        "\t 'Radial_Deviation' : 11\n",
        "}\n",
        "\n",
        "gestures = ['Thumb_UP', 'Index_Little', 'Right_Angle', 'Peace', 'Index', 'Thumb_Little', 'Hand_Close', 'Hand_Open',\n",
        "\t 'Wrist_Extension', 'Wrist_Flexion', 'Ulner_Deviation', 'Radial_Deviation'\n",
        "]"
      ],
      "metadata": {
        "id": "43mB8rvkkOFQ"
      },
      "execution_count": 5,
      "outputs": []
    },
    {
      "cell_type": "code",
      "source": [
        "persons = [\"Arifa\", \"Arnob\", \"Ashis\", \"Bayezid\", \"Bushra\", \"Choity_new\", \"Eftekhar\",\n",
        "           \"Fahim\", \"Humaid\", \"Humayun\", \"Johir\", \"Joy\", \"Mamun\", \"Noman\", \"Piyus\", \"Sazzad\",\n",
        "           \"Shafi\", \"Shourav\", \"Tamim\", \"Wadud\"]"
      ],
      "metadata": {
        "id": "3lT_Z7hkmdXG"
      },
      "execution_count": 6,
      "outputs": []
    },
    {
      "cell_type": "code",
      "source": [
        "def get_gesture_label(gesture):\n",
        "  return gestures_label [gesture];"
      ],
      "metadata": {
        "id": "jx8GgpISv5I2"
      },
      "execution_count": 7,
      "outputs": []
    },
    {
      "cell_type": "code",
      "source": [
        "def feature_extraction(channelvalues, gesture):\n",
        "  # creating windows\n",
        "  windows = get_windows(channelvalues, 150, 150)\n",
        "  # extract feature\n",
        "  fe = FeatureExtractor()\n",
        "  feature_list = ['MAV', 'SSC', 'ZC', 'WL', 'AR4']\n",
        "  features = fe.extract_feature_group('TDPSD', windows)\n",
        "  print(features.keys())\n",
        "  #print(\"Len : \"+str(len(features)))\n",
        "  # creating feature matrixs\n",
        "  extracted_feature_array = []\n",
        "  extracted_gesture_array = []\n",
        "  for i in range(33):\n",
        "    features_matrix = [\n",
        "        features['M0'][i],\n",
        "        features['M2'][i],\n",
        "        features['M4'][i],\n",
        "        features['SPARSI'][i],\n",
        "        features['IRF'][i],\n",
        "        features['WLF'][i],\n",
        "    ]\n",
        "    #print(features['MAV'].shape)\n",
        "    #print(features['AR'].shape)\n",
        "    #features_matrix = (features_matrix-np.min(features_matrix))/(np.max(features_matrix)-np.min(features_matrix))\n",
        "    extracted_feature_array.append(features_matrix)\n",
        "    extracted_gesture_array.append(get_gesture_label(gesture))\n",
        "  return extracted_feature_array, extracted_gesture_array"
      ],
      "metadata": {
        "id": "DaBZ8rssnyrg"
      },
      "execution_count": 118,
      "outputs": []
    },
    {
      "cell_type": "code",
      "source": [
        "def get_processed_data(matfilepath, gesture):\n",
        "  # read mat file\n",
        "  matdata = scipyio.loadmat(matfilepath)\n",
        "  # transpose the matrix\n",
        "  values = np.transpose(matdata['value'])\n",
        "  # remove the first 3000 values\n",
        "  values = values[3000:]\n",
        "  return feature_extraction(values, gesture)\n"
      ],
      "metadata": {
        "id": "mZ_awmvtm37Q"
      },
      "execution_count": 119,
      "outputs": []
    },
    {
      "cell_type": "code",
      "source": [
        "def get_input(persons, gestures, orientaion=\"Rest\"):\n",
        "  input_array = []\n",
        "  input_gest = []\n",
        "  for person in persons:\n",
        "    for gest in gestures:\n",
        "      for i in range(5):\n",
        "        matfilepath = \"gdrive/My Drive/Forearm Invariant Data/\"+person+\"/\"+orientaion+\"/\"+gest+\"-\"+str(i+1)+\".mat\"\n",
        "        #print(matfilepath)\n",
        "        processed_matrix, gesture_array = get_processed_data(matfilepath, gest)\n",
        "        gest_label = get_gesture_label(gest)\n",
        "        input_array = input_array + processed_matrix\n",
        "        input_gest = input_gest + gesture_array\n",
        "  return input_array, input_gest"
      ],
      "metadata": {
        "id": "D2d1xF4gkzXB"
      },
      "execution_count": 120,
      "outputs": []
    },
    {
      "cell_type": "code",
      "source": [
        "X, Y = get_input(['Arifa'], gestures)"
      ],
      "metadata": {
        "id": "WaN2dILztYHr",
        "colab": {
          "base_uri": "https://localhost:8080/"
        },
        "outputId": "b5590932-60b1-4766-8bb2-0801738826b7"
      },
      "execution_count": 121,
      "outputs": [
        {
          "output_type": "stream",
          "name": "stdout",
          "text": [
            "dict_keys(['M0', 'M2', 'M4', 'SPARSI', 'IRF', 'WLF'])\n",
            "dict_keys(['M0', 'M2', 'M4', 'SPARSI', 'IRF', 'WLF'])\n",
            "dict_keys(['M0', 'M2', 'M4', 'SPARSI', 'IRF', 'WLF'])\n",
            "dict_keys(['M0', 'M2', 'M4', 'SPARSI', 'IRF', 'WLF'])\n",
            "dict_keys(['M0', 'M2', 'M4', 'SPARSI', 'IRF', 'WLF'])\n",
            "dict_keys(['M0', 'M2', 'M4', 'SPARSI', 'IRF', 'WLF'])\n",
            "dict_keys(['M0', 'M2', 'M4', 'SPARSI', 'IRF', 'WLF'])\n",
            "dict_keys(['M0', 'M2', 'M4', 'SPARSI', 'IRF', 'WLF'])\n",
            "dict_keys(['M0', 'M2', 'M4', 'SPARSI', 'IRF', 'WLF'])\n",
            "dict_keys(['M0', 'M2', 'M4', 'SPARSI', 'IRF', 'WLF'])\n",
            "dict_keys(['M0', 'M2', 'M4', 'SPARSI', 'IRF', 'WLF'])\n",
            "dict_keys(['M0', 'M2', 'M4', 'SPARSI', 'IRF', 'WLF'])\n",
            "dict_keys(['M0', 'M2', 'M4', 'SPARSI', 'IRF', 'WLF'])\n",
            "dict_keys(['M0', 'M2', 'M4', 'SPARSI', 'IRF', 'WLF'])\n",
            "dict_keys(['M0', 'M2', 'M4', 'SPARSI', 'IRF', 'WLF'])\n",
            "dict_keys(['M0', 'M2', 'M4', 'SPARSI', 'IRF', 'WLF'])\n",
            "dict_keys(['M0', 'M2', 'M4', 'SPARSI', 'IRF', 'WLF'])\n",
            "dict_keys(['M0', 'M2', 'M4', 'SPARSI', 'IRF', 'WLF'])\n",
            "dict_keys(['M0', 'M2', 'M4', 'SPARSI', 'IRF', 'WLF'])\n",
            "dict_keys(['M0', 'M2', 'M4', 'SPARSI', 'IRF', 'WLF'])\n",
            "dict_keys(['M0', 'M2', 'M4', 'SPARSI', 'IRF', 'WLF'])\n",
            "dict_keys(['M0', 'M2', 'M4', 'SPARSI', 'IRF', 'WLF'])\n",
            "dict_keys(['M0', 'M2', 'M4', 'SPARSI', 'IRF', 'WLF'])\n",
            "dict_keys(['M0', 'M2', 'M4', 'SPARSI', 'IRF', 'WLF'])\n",
            "dict_keys(['M0', 'M2', 'M4', 'SPARSI', 'IRF', 'WLF'])\n",
            "dict_keys(['M0', 'M2', 'M4', 'SPARSI', 'IRF', 'WLF'])\n",
            "dict_keys(['M0', 'M2', 'M4', 'SPARSI', 'IRF', 'WLF'])\n",
            "dict_keys(['M0', 'M2', 'M4', 'SPARSI', 'IRF', 'WLF'])\n",
            "dict_keys(['M0', 'M2', 'M4', 'SPARSI', 'IRF', 'WLF'])\n",
            "dict_keys(['M0', 'M2', 'M4', 'SPARSI', 'IRF', 'WLF'])\n",
            "dict_keys(['M0', 'M2', 'M4', 'SPARSI', 'IRF', 'WLF'])\n",
            "dict_keys(['M0', 'M2', 'M4', 'SPARSI', 'IRF', 'WLF'])\n",
            "dict_keys(['M0', 'M2', 'M4', 'SPARSI', 'IRF', 'WLF'])\n",
            "dict_keys(['M0', 'M2', 'M4', 'SPARSI', 'IRF', 'WLF'])\n",
            "dict_keys(['M0', 'M2', 'M4', 'SPARSI', 'IRF', 'WLF'])\n",
            "dict_keys(['M0', 'M2', 'M4', 'SPARSI', 'IRF', 'WLF'])\n",
            "dict_keys(['M0', 'M2', 'M4', 'SPARSI', 'IRF', 'WLF'])\n",
            "dict_keys(['M0', 'M2', 'M4', 'SPARSI', 'IRF', 'WLF'])\n",
            "dict_keys(['M0', 'M2', 'M4', 'SPARSI', 'IRF', 'WLF'])\n",
            "dict_keys(['M0', 'M2', 'M4', 'SPARSI', 'IRF', 'WLF'])\n",
            "dict_keys(['M0', 'M2', 'M4', 'SPARSI', 'IRF', 'WLF'])\n",
            "dict_keys(['M0', 'M2', 'M4', 'SPARSI', 'IRF', 'WLF'])\n",
            "dict_keys(['M0', 'M2', 'M4', 'SPARSI', 'IRF', 'WLF'])\n",
            "dict_keys(['M0', 'M2', 'M4', 'SPARSI', 'IRF', 'WLF'])\n",
            "dict_keys(['M0', 'M2', 'M4', 'SPARSI', 'IRF', 'WLF'])\n",
            "dict_keys(['M0', 'M2', 'M4', 'SPARSI', 'IRF', 'WLF'])\n",
            "dict_keys(['M0', 'M2', 'M4', 'SPARSI', 'IRF', 'WLF'])\n",
            "dict_keys(['M0', 'M2', 'M4', 'SPARSI', 'IRF', 'WLF'])\n",
            "dict_keys(['M0', 'M2', 'M4', 'SPARSI', 'IRF', 'WLF'])\n",
            "dict_keys(['M0', 'M2', 'M4', 'SPARSI', 'IRF', 'WLF'])\n",
            "dict_keys(['M0', 'M2', 'M4', 'SPARSI', 'IRF', 'WLF'])\n",
            "dict_keys(['M0', 'M2', 'M4', 'SPARSI', 'IRF', 'WLF'])\n",
            "dict_keys(['M0', 'M2', 'M4', 'SPARSI', 'IRF', 'WLF'])\n",
            "dict_keys(['M0', 'M2', 'M4', 'SPARSI', 'IRF', 'WLF'])\n",
            "dict_keys(['M0', 'M2', 'M4', 'SPARSI', 'IRF', 'WLF'])\n",
            "dict_keys(['M0', 'M2', 'M4', 'SPARSI', 'IRF', 'WLF'])\n",
            "dict_keys(['M0', 'M2', 'M4', 'SPARSI', 'IRF', 'WLF'])\n",
            "dict_keys(['M0', 'M2', 'M4', 'SPARSI', 'IRF', 'WLF'])\n",
            "dict_keys(['M0', 'M2', 'M4', 'SPARSI', 'IRF', 'WLF'])\n",
            "dict_keys(['M0', 'M2', 'M4', 'SPARSI', 'IRF', 'WLF'])\n"
          ]
        }
      ]
    },
    {
      "cell_type": "code",
      "source": [
        "len(X), len(Y)"
      ],
      "metadata": {
        "colab": {
          "base_uri": "https://localhost:8080/"
        },
        "id": "oJFCcGx2uSdC",
        "outputId": "fb228949-c375-4ff8-d3ba-b4c0172438b6"
      },
      "execution_count": 103,
      "outputs": [
        {
          "output_type": "execute_result",
          "data": {
            "text/plain": [
              "(1980, 1980)"
            ]
          },
          "metadata": {},
          "execution_count": 103
        }
      ]
    },
    {
      "cell_type": "code",
      "source": [
        "#\n",
        "df = pd.DataFrame(X[0])\n",
        "index = pd.Index(['M0', 'M2', 'M4', 'SPARSI', 'IRF', 'WLF'])\n",
        "df = df.set_index(index)\n",
        "df"
      ],
      "metadata": {
        "colab": {
          "base_uri": "https://localhost:8080/",
          "height": 238
        },
        "id": "BazAZkIbwiN3",
        "outputId": "cc0734f8-c1b5-4c58-cdf1-e416a9c89a2b"
      },
      "execution_count": 122,
      "outputs": [
        {
          "output_type": "execute_result",
          "data": {
            "text/plain": [
              "               0         1         2         3         4         5         6  \\\n",
              "M0     -0.951322 -0.944977 -0.963565 -0.950679 -0.965322 -0.954302 -0.963085   \n",
              "M2     -0.723165 -0.719018 -0.877726 -0.732681 -0.748613 -0.671608 -0.753926   \n",
              "M4     -0.803070 -0.791177 -0.906614 -0.788778 -0.787047 -0.758373 -0.793396   \n",
              "SPARSI -0.998982 -0.997180 -0.994085 -0.998929 -0.999980 -0.999965 -0.999772   \n",
              "IRF    -0.990167 -0.982667 -0.983914 -0.983501 -0.986788 -0.993907 -0.982048   \n",
              "WLF    -0.959283 -0.931924 -0.954225 -0.883033 -0.834486 -0.901721 -0.877145   \n",
              "\n",
              "               7  \n",
              "M0     -0.955371  \n",
              "M2      0.148463  \n",
              "M4     -0.921300  \n",
              "SPARSI -0.826898  \n",
              "IRF    -0.354377  \n",
              "WLF    -0.992754  "
            ],
            "text/html": [
              "\n",
              "  <div id=\"df-f056107b-0ecc-4949-abfe-9bbf1f64f0bd\" class=\"colab-df-container\">\n",
              "    <div>\n",
              "<style scoped>\n",
              "    .dataframe tbody tr th:only-of-type {\n",
              "        vertical-align: middle;\n",
              "    }\n",
              "\n",
              "    .dataframe tbody tr th {\n",
              "        vertical-align: top;\n",
              "    }\n",
              "\n",
              "    .dataframe thead th {\n",
              "        text-align: right;\n",
              "    }\n",
              "</style>\n",
              "<table border=\"1\" class=\"dataframe\">\n",
              "  <thead>\n",
              "    <tr style=\"text-align: right;\">\n",
              "      <th></th>\n",
              "      <th>0</th>\n",
              "      <th>1</th>\n",
              "      <th>2</th>\n",
              "      <th>3</th>\n",
              "      <th>4</th>\n",
              "      <th>5</th>\n",
              "      <th>6</th>\n",
              "      <th>7</th>\n",
              "    </tr>\n",
              "  </thead>\n",
              "  <tbody>\n",
              "    <tr>\n",
              "      <th>M0</th>\n",
              "      <td>-0.951322</td>\n",
              "      <td>-0.944977</td>\n",
              "      <td>-0.963565</td>\n",
              "      <td>-0.950679</td>\n",
              "      <td>-0.965322</td>\n",
              "      <td>-0.954302</td>\n",
              "      <td>-0.963085</td>\n",
              "      <td>-0.955371</td>\n",
              "    </tr>\n",
              "    <tr>\n",
              "      <th>M2</th>\n",
              "      <td>-0.723165</td>\n",
              "      <td>-0.719018</td>\n",
              "      <td>-0.877726</td>\n",
              "      <td>-0.732681</td>\n",
              "      <td>-0.748613</td>\n",
              "      <td>-0.671608</td>\n",
              "      <td>-0.753926</td>\n",
              "      <td>0.148463</td>\n",
              "    </tr>\n",
              "    <tr>\n",
              "      <th>M4</th>\n",
              "      <td>-0.803070</td>\n",
              "      <td>-0.791177</td>\n",
              "      <td>-0.906614</td>\n",
              "      <td>-0.788778</td>\n",
              "      <td>-0.787047</td>\n",
              "      <td>-0.758373</td>\n",
              "      <td>-0.793396</td>\n",
              "      <td>-0.921300</td>\n",
              "    </tr>\n",
              "    <tr>\n",
              "      <th>SPARSI</th>\n",
              "      <td>-0.998982</td>\n",
              "      <td>-0.997180</td>\n",
              "      <td>-0.994085</td>\n",
              "      <td>-0.998929</td>\n",
              "      <td>-0.999980</td>\n",
              "      <td>-0.999965</td>\n",
              "      <td>-0.999772</td>\n",
              "      <td>-0.826898</td>\n",
              "    </tr>\n",
              "    <tr>\n",
              "      <th>IRF</th>\n",
              "      <td>-0.990167</td>\n",
              "      <td>-0.982667</td>\n",
              "      <td>-0.983914</td>\n",
              "      <td>-0.983501</td>\n",
              "      <td>-0.986788</td>\n",
              "      <td>-0.993907</td>\n",
              "      <td>-0.982048</td>\n",
              "      <td>-0.354377</td>\n",
              "    </tr>\n",
              "    <tr>\n",
              "      <th>WLF</th>\n",
              "      <td>-0.959283</td>\n",
              "      <td>-0.931924</td>\n",
              "      <td>-0.954225</td>\n",
              "      <td>-0.883033</td>\n",
              "      <td>-0.834486</td>\n",
              "      <td>-0.901721</td>\n",
              "      <td>-0.877145</td>\n",
              "      <td>-0.992754</td>\n",
              "    </tr>\n",
              "  </tbody>\n",
              "</table>\n",
              "</div>\n",
              "    <div class=\"colab-df-buttons\">\n",
              "\n",
              "  <div class=\"colab-df-container\">\n",
              "    <button class=\"colab-df-convert\" onclick=\"convertToInteractive('df-f056107b-0ecc-4949-abfe-9bbf1f64f0bd')\"\n",
              "            title=\"Convert this dataframe to an interactive table.\"\n",
              "            style=\"display:none;\">\n",
              "\n",
              "  <svg xmlns=\"http://www.w3.org/2000/svg\" height=\"24px\" viewBox=\"0 -960 960 960\">\n",
              "    <path d=\"M120-120v-720h720v720H120Zm60-500h600v-160H180v160Zm220 220h160v-160H400v160Zm0 220h160v-160H400v160ZM180-400h160v-160H180v160Zm440 0h160v-160H620v160ZM180-180h160v-160H180v160Zm440 0h160v-160H620v160Z\"/>\n",
              "  </svg>\n",
              "    </button>\n",
              "\n",
              "  <style>\n",
              "    .colab-df-container {\n",
              "      display:flex;\n",
              "      gap: 12px;\n",
              "    }\n",
              "\n",
              "    .colab-df-convert {\n",
              "      background-color: #E8F0FE;\n",
              "      border: none;\n",
              "      border-radius: 50%;\n",
              "      cursor: pointer;\n",
              "      display: none;\n",
              "      fill: #1967D2;\n",
              "      height: 32px;\n",
              "      padding: 0 0 0 0;\n",
              "      width: 32px;\n",
              "    }\n",
              "\n",
              "    .colab-df-convert:hover {\n",
              "      background-color: #E2EBFA;\n",
              "      box-shadow: 0px 1px 2px rgba(60, 64, 67, 0.3), 0px 1px 3px 1px rgba(60, 64, 67, 0.15);\n",
              "      fill: #174EA6;\n",
              "    }\n",
              "\n",
              "    .colab-df-buttons div {\n",
              "      margin-bottom: 4px;\n",
              "    }\n",
              "\n",
              "    [theme=dark] .colab-df-convert {\n",
              "      background-color: #3B4455;\n",
              "      fill: #D2E3FC;\n",
              "    }\n",
              "\n",
              "    [theme=dark] .colab-df-convert:hover {\n",
              "      background-color: #434B5C;\n",
              "      box-shadow: 0px 1px 3px 1px rgba(0, 0, 0, 0.15);\n",
              "      filter: drop-shadow(0px 1px 2px rgba(0, 0, 0, 0.3));\n",
              "      fill: #FFFFFF;\n",
              "    }\n",
              "  </style>\n",
              "\n",
              "    <script>\n",
              "      const buttonEl =\n",
              "        document.querySelector('#df-f056107b-0ecc-4949-abfe-9bbf1f64f0bd button.colab-df-convert');\n",
              "      buttonEl.style.display =\n",
              "        google.colab.kernel.accessAllowed ? 'block' : 'none';\n",
              "\n",
              "      async function convertToInteractive(key) {\n",
              "        const element = document.querySelector('#df-f056107b-0ecc-4949-abfe-9bbf1f64f0bd');\n",
              "        const dataTable =\n",
              "          await google.colab.kernel.invokeFunction('convertToInteractive',\n",
              "                                                    [key], {});\n",
              "        if (!dataTable) return;\n",
              "\n",
              "        const docLinkHtml = 'Like what you see? Visit the ' +\n",
              "          '<a target=\"_blank\" href=https://colab.research.google.com/notebooks/data_table.ipynb>data table notebook</a>'\n",
              "          + ' to learn more about interactive tables.';\n",
              "        element.innerHTML = '';\n",
              "        dataTable['output_type'] = 'display_data';\n",
              "        await google.colab.output.renderOutput(dataTable, element);\n",
              "        const docLink = document.createElement('div');\n",
              "        docLink.innerHTML = docLinkHtml;\n",
              "        element.appendChild(docLink);\n",
              "      }\n",
              "    </script>\n",
              "  </div>\n",
              "\n",
              "\n",
              "<div id=\"df-fe3cad72-ad57-4a92-ab70-9300443903ba\">\n",
              "  <button class=\"colab-df-quickchart\" onclick=\"quickchart('df-fe3cad72-ad57-4a92-ab70-9300443903ba')\"\n",
              "            title=\"Suggest charts\"\n",
              "            style=\"display:none;\">\n",
              "\n",
              "<svg xmlns=\"http://www.w3.org/2000/svg\" height=\"24px\"viewBox=\"0 0 24 24\"\n",
              "     width=\"24px\">\n",
              "    <g>\n",
              "        <path d=\"M19 3H5c-1.1 0-2 .9-2 2v14c0 1.1.9 2 2 2h14c1.1 0 2-.9 2-2V5c0-1.1-.9-2-2-2zM9 17H7v-7h2v7zm4 0h-2V7h2v10zm4 0h-2v-4h2v4z\"/>\n",
              "    </g>\n",
              "</svg>\n",
              "  </button>\n",
              "\n",
              "<style>\n",
              "  .colab-df-quickchart {\n",
              "      --bg-color: #E8F0FE;\n",
              "      --fill-color: #1967D2;\n",
              "      --hover-bg-color: #E2EBFA;\n",
              "      --hover-fill-color: #174EA6;\n",
              "      --disabled-fill-color: #AAA;\n",
              "      --disabled-bg-color: #DDD;\n",
              "  }\n",
              "\n",
              "  [theme=dark] .colab-df-quickchart {\n",
              "      --bg-color: #3B4455;\n",
              "      --fill-color: #D2E3FC;\n",
              "      --hover-bg-color: #434B5C;\n",
              "      --hover-fill-color: #FFFFFF;\n",
              "      --disabled-bg-color: #3B4455;\n",
              "      --disabled-fill-color: #666;\n",
              "  }\n",
              "\n",
              "  .colab-df-quickchart {\n",
              "    background-color: var(--bg-color);\n",
              "    border: none;\n",
              "    border-radius: 50%;\n",
              "    cursor: pointer;\n",
              "    display: none;\n",
              "    fill: var(--fill-color);\n",
              "    height: 32px;\n",
              "    padding: 0;\n",
              "    width: 32px;\n",
              "  }\n",
              "\n",
              "  .colab-df-quickchart:hover {\n",
              "    background-color: var(--hover-bg-color);\n",
              "    box-shadow: 0 1px 2px rgba(60, 64, 67, 0.3), 0 1px 3px 1px rgba(60, 64, 67, 0.15);\n",
              "    fill: var(--button-hover-fill-color);\n",
              "  }\n",
              "\n",
              "  .colab-df-quickchart-complete:disabled,\n",
              "  .colab-df-quickchart-complete:disabled:hover {\n",
              "    background-color: var(--disabled-bg-color);\n",
              "    fill: var(--disabled-fill-color);\n",
              "    box-shadow: none;\n",
              "  }\n",
              "\n",
              "  .colab-df-spinner {\n",
              "    border: 2px solid var(--fill-color);\n",
              "    border-color: transparent;\n",
              "    border-bottom-color: var(--fill-color);\n",
              "    animation:\n",
              "      spin 1s steps(1) infinite;\n",
              "  }\n",
              "\n",
              "  @keyframes spin {\n",
              "    0% {\n",
              "      border-color: transparent;\n",
              "      border-bottom-color: var(--fill-color);\n",
              "      border-left-color: var(--fill-color);\n",
              "    }\n",
              "    20% {\n",
              "      border-color: transparent;\n",
              "      border-left-color: var(--fill-color);\n",
              "      border-top-color: var(--fill-color);\n",
              "    }\n",
              "    30% {\n",
              "      border-color: transparent;\n",
              "      border-left-color: var(--fill-color);\n",
              "      border-top-color: var(--fill-color);\n",
              "      border-right-color: var(--fill-color);\n",
              "    }\n",
              "    40% {\n",
              "      border-color: transparent;\n",
              "      border-right-color: var(--fill-color);\n",
              "      border-top-color: var(--fill-color);\n",
              "    }\n",
              "    60% {\n",
              "      border-color: transparent;\n",
              "      border-right-color: var(--fill-color);\n",
              "    }\n",
              "    80% {\n",
              "      border-color: transparent;\n",
              "      border-right-color: var(--fill-color);\n",
              "      border-bottom-color: var(--fill-color);\n",
              "    }\n",
              "    90% {\n",
              "      border-color: transparent;\n",
              "      border-bottom-color: var(--fill-color);\n",
              "    }\n",
              "  }\n",
              "</style>\n",
              "\n",
              "  <script>\n",
              "    async function quickchart(key) {\n",
              "      const quickchartButtonEl =\n",
              "        document.querySelector('#' + key + ' button');\n",
              "      quickchartButtonEl.disabled = true;  // To prevent multiple clicks.\n",
              "      quickchartButtonEl.classList.add('colab-df-spinner');\n",
              "      try {\n",
              "        const charts = await google.colab.kernel.invokeFunction(\n",
              "            'suggestCharts', [key], {});\n",
              "      } catch (error) {\n",
              "        console.error('Error during call to suggestCharts:', error);\n",
              "      }\n",
              "      quickchartButtonEl.classList.remove('colab-df-spinner');\n",
              "      quickchartButtonEl.classList.add('colab-df-quickchart-complete');\n",
              "    }\n",
              "    (() => {\n",
              "      let quickchartButtonEl =\n",
              "        document.querySelector('#df-fe3cad72-ad57-4a92-ab70-9300443903ba button');\n",
              "      quickchartButtonEl.style.display =\n",
              "        google.colab.kernel.accessAllowed ? 'block' : 'none';\n",
              "    })();\n",
              "  </script>\n",
              "</div>\n",
              "\n",
              "  <div id=\"id_19555a58-e2fd-4914-ba3a-e90494fceeab\">\n",
              "    <style>\n",
              "      .colab-df-generate {\n",
              "        background-color: #E8F0FE;\n",
              "        border: none;\n",
              "        border-radius: 50%;\n",
              "        cursor: pointer;\n",
              "        display: none;\n",
              "        fill: #1967D2;\n",
              "        height: 32px;\n",
              "        padding: 0 0 0 0;\n",
              "        width: 32px;\n",
              "      }\n",
              "\n",
              "      .colab-df-generate:hover {\n",
              "        background-color: #E2EBFA;\n",
              "        box-shadow: 0px 1px 2px rgba(60, 64, 67, 0.3), 0px 1px 3px 1px rgba(60, 64, 67, 0.15);\n",
              "        fill: #174EA6;\n",
              "      }\n",
              "\n",
              "      [theme=dark] .colab-df-generate {\n",
              "        background-color: #3B4455;\n",
              "        fill: #D2E3FC;\n",
              "      }\n",
              "\n",
              "      [theme=dark] .colab-df-generate:hover {\n",
              "        background-color: #434B5C;\n",
              "        box-shadow: 0px 1px 3px 1px rgba(0, 0, 0, 0.15);\n",
              "        filter: drop-shadow(0px 1px 2px rgba(0, 0, 0, 0.3));\n",
              "        fill: #FFFFFF;\n",
              "      }\n",
              "    </style>\n",
              "    <button class=\"colab-df-generate\" onclick=\"generateWithVariable('df')\"\n",
              "            title=\"Generate code using this dataframe.\"\n",
              "            style=\"display:none;\">\n",
              "\n",
              "  <svg xmlns=\"http://www.w3.org/2000/svg\" height=\"24px\"viewBox=\"0 0 24 24\"\n",
              "       width=\"24px\">\n",
              "    <path d=\"M7,19H8.4L18.45,9,17,7.55,7,17.6ZM5,21V16.75L18.45,3.32a2,2,0,0,1,2.83,0l1.4,1.43a1.91,1.91,0,0,1,.58,1.4,1.91,1.91,0,0,1-.58,1.4L9.25,21ZM18.45,9,17,7.55Zm-12,3A5.31,5.31,0,0,0,4.9,8.1,5.31,5.31,0,0,0,1,6.5,5.31,5.31,0,0,0,4.9,4.9,5.31,5.31,0,0,0,6.5,1,5.31,5.31,0,0,0,8.1,4.9,5.31,5.31,0,0,0,12,6.5,5.46,5.46,0,0,0,6.5,12Z\"/>\n",
              "  </svg>\n",
              "    </button>\n",
              "    <script>\n",
              "      (() => {\n",
              "      const buttonEl =\n",
              "        document.querySelector('#id_19555a58-e2fd-4914-ba3a-e90494fceeab button.colab-df-generate');\n",
              "      buttonEl.style.display =\n",
              "        google.colab.kernel.accessAllowed ? 'block' : 'none';\n",
              "\n",
              "      buttonEl.onclick = () => {\n",
              "        google.colab.notebook.generateWithVariable('df');\n",
              "      }\n",
              "      })();\n",
              "    </script>\n",
              "  </div>\n",
              "\n",
              "    </div>\n",
              "  </div>\n"
            ]
          },
          "metadata": {},
          "execution_count": 122
        }
      ]
    },
    {
      "cell_type": "code",
      "source": [
        "X = np.array(X)\n",
        "Y = np.array(Y)\n",
        "X.shape, Y.shape"
      ],
      "metadata": {
        "colab": {
          "base_uri": "https://localhost:8080/"
        },
        "id": "BHt1DsXezc4m",
        "outputId": "5656ebe0-f57c-47cc-e676-56103ba2db14"
      },
      "execution_count": 123,
      "outputs": [
        {
          "output_type": "execute_result",
          "data": {
            "text/plain": [
              "((1980, 6, 8), (1980,))"
            ]
          },
          "metadata": {},
          "execution_count": 123
        }
      ]
    },
    {
      "cell_type": "markdown",
      "source": [
        "**Model Building**"
      ],
      "metadata": {
        "id": "0l87yRy9yCbZ"
      }
    },
    {
      "cell_type": "code",
      "source": [
        "from sklearn.model_selection import train_test_split\n",
        "x_train, x_test, y_train, y_test = train_test_split(\n",
        "    X,Y,\n",
        "    test_size = .2, shuffle=True, random_state=0\n",
        ")"
      ],
      "metadata": {
        "id": "1v51JnuRyFlo"
      },
      "execution_count": 124,
      "outputs": []
    },
    {
      "cell_type": "code",
      "source": [
        "len(x_train), len(y_train)"
      ],
      "metadata": {
        "colab": {
          "base_uri": "https://localhost:8080/"
        },
        "id": "aQWVClBuyQf3",
        "outputId": "c89583ac-165e-4bb1-8726-4770178dcbb3"
      },
      "execution_count": 125,
      "outputs": [
        {
          "output_type": "execute_result",
          "data": {
            "text/plain": [
              "(1584, 1584)"
            ]
          },
          "metadata": {},
          "execution_count": 125
        }
      ]
    },
    {
      "cell_type": "code",
      "source": [
        "import tensorflow as tf\n",
        "from tensorflow.keras.models import Sequential\n",
        "from tensorflow.keras.layers import Conv1D, MaxPooling1D, Flatten, Dense\n",
        "\n",
        "# Define the input shape\n",
        "input_shape = (6, 8)\n",
        "\n",
        "# Create a Sequential model\n",
        "model = Sequential()\n",
        "\n",
        "# Add a Conv1D layer\n",
        "model.add(Conv1D(filters=32, kernel_size=3, activation='relu', input_shape=input_shape))\n",
        "\n",
        "# Add a MaxPooling1D layer (optional)\n",
        "model.add(MaxPooling1D(pool_size=2))\n",
        "\n",
        "# Flatten the output before feeding it to a Dense layer\n",
        "model.add(Flatten())\n",
        "\n",
        "# Add a Dense layer\n",
        "model.add(Dense(64, activation='relu'))\n",
        "\n",
        "# Add a Dense layer\n",
        "model.add(Dense(32, activation='relu'))\n",
        "\n",
        "# Add a Dense layer\n",
        "model.add(Dense(16, activation='relu'))\n",
        "\n",
        "# Output layer for classification (adjust units according to the number of classes)\n",
        "# Assuming classes are integers starting from 0\n",
        "model.add(Dense(12, activation='softmax'))\n",
        "\n",
        "# Compile the model\n",
        "model.compile(optimizer='adam', loss='sparse_categorical_crossentropy', metrics=['accuracy'])\n",
        "\n",
        "# Display model summary\n",
        "model.summary()"
      ],
      "metadata": {
        "colab": {
          "base_uri": "https://localhost:8080/"
        },
        "id": "uAfUtnYPIOcL",
        "outputId": "d7b17ba2-2e2f-4ac3-d0f7-0751a29cf999"
      },
      "execution_count": 126,
      "outputs": [
        {
          "output_type": "stream",
          "name": "stdout",
          "text": [
            "Model: \"sequential_5\"\n",
            "_________________________________________________________________\n",
            " Layer (type)                Output Shape              Param #   \n",
            "=================================================================\n",
            " conv1d_5 (Conv1D)           (None, 4, 32)             800       \n",
            "                                                                 \n",
            " max_pooling1d_5 (MaxPoolin  (None, 2, 32)             0         \n",
            " g1D)                                                            \n",
            "                                                                 \n",
            " flatten_5 (Flatten)         (None, 64)                0         \n",
            "                                                                 \n",
            " dense_14 (Dense)            (None, 64)                4160      \n",
            "                                                                 \n",
            " dense_15 (Dense)            (None, 32)                2080      \n",
            "                                                                 \n",
            " dense_16 (Dense)            (None, 16)                528       \n",
            "                                                                 \n",
            " dense_17 (Dense)            (None, 12)                204       \n",
            "                                                                 \n",
            "=================================================================\n",
            "Total params: 7772 (30.36 KB)\n",
            "Trainable params: 7772 (30.36 KB)\n",
            "Non-trainable params: 0 (0.00 Byte)\n",
            "_________________________________________________________________\n"
          ]
        }
      ]
    },
    {
      "cell_type": "code",
      "source": [
        "# Fit the model with training data\n",
        "history = model.fit(x_train, y_train, epochs=70, batch_size=32, validation_data=(x_test, y_test))"
      ],
      "metadata": {
        "colab": {
          "base_uri": "https://localhost:8080/"
        },
        "id": "_tJKZmzII70e",
        "outputId": "0409879f-f6ff-4f34-f492-60a8827e250a"
      },
      "execution_count": 127,
      "outputs": [
        {
          "output_type": "stream",
          "name": "stdout",
          "text": [
            "Epoch 1/70\n",
            "50/50 [==============================] - 1s 7ms/step - loss: 2.4829 - accuracy: 0.0966 - val_loss: 2.4704 - val_accuracy: 0.1667\n",
            "Epoch 2/70\n",
            "50/50 [==============================] - 0s 3ms/step - loss: 2.4584 - accuracy: 0.1174 - val_loss: 2.4330 - val_accuracy: 0.1843\n",
            "Epoch 3/70\n",
            "50/50 [==============================] - 0s 3ms/step - loss: 2.3945 - accuracy: 0.1749 - val_loss: 2.3284 - val_accuracy: 0.1944\n",
            "Epoch 4/70\n",
            "50/50 [==============================] - 0s 3ms/step - loss: 2.2649 - accuracy: 0.1900 - val_loss: 2.1633 - val_accuracy: 0.2096\n",
            "Epoch 5/70\n",
            "50/50 [==============================] - 0s 3ms/step - loss: 2.1147 - accuracy: 0.1995 - val_loss: 2.0476 - val_accuracy: 0.2576\n",
            "Epoch 6/70\n",
            "50/50 [==============================] - 0s 3ms/step - loss: 2.0065 - accuracy: 0.2614 - val_loss: 1.9779 - val_accuracy: 0.2803\n",
            "Epoch 7/70\n",
            "50/50 [==============================] - 0s 3ms/step - loss: 1.8873 - accuracy: 0.3068 - val_loss: 1.8190 - val_accuracy: 0.3333\n",
            "Epoch 8/70\n",
            "50/50 [==============================] - 0s 3ms/step - loss: 1.7410 - accuracy: 0.3706 - val_loss: 1.6627 - val_accuracy: 0.4040\n",
            "Epoch 9/70\n",
            "50/50 [==============================] - 0s 3ms/step - loss: 1.5917 - accuracy: 0.4293 - val_loss: 1.4982 - val_accuracy: 0.4369\n",
            "Epoch 10/70\n",
            "50/50 [==============================] - 0s 3ms/step - loss: 1.4635 - accuracy: 0.4653 - val_loss: 1.3978 - val_accuracy: 0.4924\n",
            "Epoch 11/70\n",
            "50/50 [==============================] - 0s 3ms/step - loss: 1.3821 - accuracy: 0.4754 - val_loss: 1.3194 - val_accuracy: 0.5126\n",
            "Epoch 12/70\n",
            "50/50 [==============================] - 0s 4ms/step - loss: 1.3108 - accuracy: 0.4899 - val_loss: 1.3945 - val_accuracy: 0.4722\n",
            "Epoch 13/70\n",
            "50/50 [==============================] - 0s 3ms/step - loss: 1.2847 - accuracy: 0.5019 - val_loss: 1.2487 - val_accuracy: 0.4874\n",
            "Epoch 14/70\n",
            "50/50 [==============================] - 0s 3ms/step - loss: 1.2356 - accuracy: 0.5133 - val_loss: 1.2351 - val_accuracy: 0.5051\n",
            "Epoch 15/70\n",
            "50/50 [==============================] - 0s 3ms/step - loss: 1.1975 - accuracy: 0.5133 - val_loss: 1.2124 - val_accuracy: 0.5101\n",
            "Epoch 16/70\n",
            "50/50 [==============================] - 0s 3ms/step - loss: 1.1813 - accuracy: 0.5335 - val_loss: 1.1602 - val_accuracy: 0.5328\n",
            "Epoch 17/70\n",
            "50/50 [==============================] - 0s 3ms/step - loss: 1.1723 - accuracy: 0.5436 - val_loss: 1.2574 - val_accuracy: 0.4874\n",
            "Epoch 18/70\n",
            "50/50 [==============================] - 0s 3ms/step - loss: 1.1307 - accuracy: 0.5480 - val_loss: 1.2025 - val_accuracy: 0.5126\n",
            "Epoch 19/70\n",
            "50/50 [==============================] - 0s 3ms/step - loss: 1.1251 - accuracy: 0.5556 - val_loss: 1.0989 - val_accuracy: 0.5455\n",
            "Epoch 20/70\n",
            "50/50 [==============================] - 0s 3ms/step - loss: 1.0935 - accuracy: 0.5581 - val_loss: 1.2587 - val_accuracy: 0.4975\n",
            "Epoch 21/70\n",
            "50/50 [==============================] - 0s 3ms/step - loss: 1.0887 - accuracy: 0.5619 - val_loss: 1.0584 - val_accuracy: 0.5758\n",
            "Epoch 22/70\n",
            "50/50 [==============================] - 0s 3ms/step - loss: 1.0603 - accuracy: 0.5922 - val_loss: 1.0808 - val_accuracy: 0.5682\n",
            "Epoch 23/70\n",
            "50/50 [==============================] - 0s 3ms/step - loss: 1.0556 - accuracy: 0.5859 - val_loss: 1.0594 - val_accuracy: 0.5556\n",
            "Epoch 24/70\n",
            "50/50 [==============================] - 0s 3ms/step - loss: 1.0693 - accuracy: 0.5770 - val_loss: 1.0166 - val_accuracy: 0.6035\n",
            "Epoch 25/70\n",
            "50/50 [==============================] - 0s 3ms/step - loss: 1.0126 - accuracy: 0.6029 - val_loss: 1.0503 - val_accuracy: 0.5657\n",
            "Epoch 26/70\n",
            "50/50 [==============================] - 0s 3ms/step - loss: 1.0189 - accuracy: 0.5979 - val_loss: 1.0370 - val_accuracy: 0.5581\n",
            "Epoch 27/70\n",
            "50/50 [==============================] - 0s 3ms/step - loss: 1.0146 - accuracy: 0.6105 - val_loss: 1.0180 - val_accuracy: 0.5884\n",
            "Epoch 28/70\n",
            "50/50 [==============================] - 0s 3ms/step - loss: 1.0113 - accuracy: 0.6016 - val_loss: 1.0444 - val_accuracy: 0.5909\n",
            "Epoch 29/70\n",
            "50/50 [==============================] - 0s 3ms/step - loss: 0.9811 - accuracy: 0.6117 - val_loss: 0.9887 - val_accuracy: 0.5884\n",
            "Epoch 30/70\n",
            "50/50 [==============================] - 0s 3ms/step - loss: 0.9741 - accuracy: 0.6149 - val_loss: 0.9388 - val_accuracy: 0.6212\n",
            "Epoch 31/70\n",
            "50/50 [==============================] - 0s 3ms/step - loss: 0.9531 - accuracy: 0.6250 - val_loss: 0.9775 - val_accuracy: 0.5833\n",
            "Epoch 32/70\n",
            "50/50 [==============================] - 0s 3ms/step - loss: 0.9450 - accuracy: 0.6326 - val_loss: 0.9611 - val_accuracy: 0.5859\n",
            "Epoch 33/70\n",
            "50/50 [==============================] - 0s 3ms/step - loss: 0.9289 - accuracy: 0.6326 - val_loss: 1.0119 - val_accuracy: 0.5707\n",
            "Epoch 34/70\n",
            "50/50 [==============================] - 0s 3ms/step - loss: 0.9330 - accuracy: 0.6282 - val_loss: 0.9269 - val_accuracy: 0.6136\n",
            "Epoch 35/70\n",
            "50/50 [==============================] - 0s 3ms/step - loss: 0.9195 - accuracy: 0.6237 - val_loss: 0.9038 - val_accuracy: 0.6212\n",
            "Epoch 36/70\n",
            "50/50 [==============================] - 0s 3ms/step - loss: 0.9306 - accuracy: 0.6162 - val_loss: 0.9585 - val_accuracy: 0.6061\n",
            "Epoch 37/70\n",
            "50/50 [==============================] - 0s 3ms/step - loss: 0.9165 - accuracy: 0.6275 - val_loss: 0.9379 - val_accuracy: 0.6237\n",
            "Epoch 38/70\n",
            "50/50 [==============================] - 0s 3ms/step - loss: 0.9074 - accuracy: 0.6275 - val_loss: 1.0058 - val_accuracy: 0.5859\n",
            "Epoch 39/70\n",
            "50/50 [==============================] - 0s 3ms/step - loss: 0.9379 - accuracy: 0.6275 - val_loss: 0.9078 - val_accuracy: 0.6136\n",
            "Epoch 40/70\n",
            "50/50 [==============================] - 0s 3ms/step - loss: 0.9011 - accuracy: 0.6345 - val_loss: 0.9639 - val_accuracy: 0.5960\n",
            "Epoch 41/70\n",
            "50/50 [==============================] - 0s 3ms/step - loss: 0.8899 - accuracy: 0.6383 - val_loss: 0.9453 - val_accuracy: 0.6136\n",
            "Epoch 42/70\n",
            "50/50 [==============================] - 0s 3ms/step - loss: 0.9045 - accuracy: 0.6414 - val_loss: 1.0193 - val_accuracy: 0.5909\n",
            "Epoch 43/70\n",
            "50/50 [==============================] - 0s 4ms/step - loss: 0.8782 - accuracy: 0.6414 - val_loss: 0.9065 - val_accuracy: 0.6389\n",
            "Epoch 44/70\n",
            "50/50 [==============================] - 0s 4ms/step - loss: 0.8789 - accuracy: 0.6452 - val_loss: 0.8736 - val_accuracy: 0.6263\n",
            "Epoch 45/70\n",
            "50/50 [==============================] - 0s 5ms/step - loss: 0.8582 - accuracy: 0.6616 - val_loss: 0.9154 - val_accuracy: 0.6010\n",
            "Epoch 46/70\n",
            "50/50 [==============================] - 0s 4ms/step - loss: 0.8475 - accuracy: 0.6635 - val_loss: 0.9086 - val_accuracy: 0.6288\n",
            "Epoch 47/70\n",
            "50/50 [==============================] - 0s 5ms/step - loss: 0.8564 - accuracy: 0.6433 - val_loss: 0.8930 - val_accuracy: 0.6162\n",
            "Epoch 48/70\n",
            "50/50 [==============================] - 0s 5ms/step - loss: 0.8679 - accuracy: 0.6458 - val_loss: 0.8824 - val_accuracy: 0.6414\n",
            "Epoch 49/70\n",
            "50/50 [==============================] - 0s 4ms/step - loss: 0.8507 - accuracy: 0.6465 - val_loss: 0.8609 - val_accuracy: 0.6212\n",
            "Epoch 50/70\n",
            "50/50 [==============================] - 0s 5ms/step - loss: 0.8496 - accuracy: 0.6509 - val_loss: 0.8669 - val_accuracy: 0.6263\n",
            "Epoch 51/70\n",
            "50/50 [==============================] - 0s 4ms/step - loss: 0.8333 - accuracy: 0.6509 - val_loss: 0.9200 - val_accuracy: 0.6162\n",
            "Epoch 52/70\n",
            "50/50 [==============================] - 0s 4ms/step - loss: 0.8288 - accuracy: 0.6585 - val_loss: 0.8930 - val_accuracy: 0.6237\n",
            "Epoch 53/70\n",
            "50/50 [==============================] - 0s 5ms/step - loss: 0.8242 - accuracy: 0.6648 - val_loss: 0.8230 - val_accuracy: 0.6465\n",
            "Epoch 54/70\n",
            "50/50 [==============================] - 0s 5ms/step - loss: 0.8059 - accuracy: 0.6749 - val_loss: 0.8500 - val_accuracy: 0.6338\n",
            "Epoch 55/70\n",
            "50/50 [==============================] - 0s 4ms/step - loss: 0.8150 - accuracy: 0.6787 - val_loss: 0.8252 - val_accuracy: 0.6566\n",
            "Epoch 56/70\n",
            "50/50 [==============================] - 0s 4ms/step - loss: 0.8186 - accuracy: 0.6749 - val_loss: 0.9071 - val_accuracy: 0.6035\n",
            "Epoch 57/70\n",
            "50/50 [==============================] - 0s 5ms/step - loss: 0.8066 - accuracy: 0.6799 - val_loss: 0.8161 - val_accuracy: 0.6591\n",
            "Epoch 58/70\n",
            "50/50 [==============================] - 0s 5ms/step - loss: 0.8478 - accuracy: 0.6402 - val_loss: 0.8494 - val_accuracy: 0.6338\n",
            "Epoch 59/70\n",
            "50/50 [==============================] - 0s 5ms/step - loss: 0.7926 - accuracy: 0.6793 - val_loss: 0.8129 - val_accuracy: 0.6515\n",
            "Epoch 60/70\n",
            "50/50 [==============================] - 0s 5ms/step - loss: 0.7951 - accuracy: 0.6894 - val_loss: 0.8269 - val_accuracy: 0.6439\n",
            "Epoch 61/70\n",
            "50/50 [==============================] - 0s 5ms/step - loss: 0.7871 - accuracy: 0.6843 - val_loss: 0.8158 - val_accuracy: 0.6364\n",
            "Epoch 62/70\n",
            "50/50 [==============================] - 0s 5ms/step - loss: 0.8040 - accuracy: 0.6698 - val_loss: 0.8151 - val_accuracy: 0.6540\n",
            "Epoch 63/70\n",
            "50/50 [==============================] - 0s 5ms/step - loss: 0.7870 - accuracy: 0.6749 - val_loss: 0.8500 - val_accuracy: 0.6364\n",
            "Epoch 64/70\n",
            "50/50 [==============================] - 0s 5ms/step - loss: 0.7915 - accuracy: 0.6761 - val_loss: 0.8248 - val_accuracy: 0.6717\n",
            "Epoch 65/70\n",
            "50/50 [==============================] - 0s 5ms/step - loss: 0.7850 - accuracy: 0.6843 - val_loss: 0.8399 - val_accuracy: 0.6616\n",
            "Epoch 66/70\n",
            "50/50 [==============================] - 0s 6ms/step - loss: 0.7709 - accuracy: 0.6755 - val_loss: 0.7914 - val_accuracy: 0.6364\n",
            "Epoch 67/70\n",
            "50/50 [==============================] - 0s 4ms/step - loss: 0.7624 - accuracy: 0.6850 - val_loss: 0.7998 - val_accuracy: 0.6717\n",
            "Epoch 68/70\n",
            "50/50 [==============================] - 0s 3ms/step - loss: 0.7553 - accuracy: 0.6856 - val_loss: 0.7728 - val_accuracy: 0.6768\n",
            "Epoch 69/70\n",
            "50/50 [==============================] - 0s 3ms/step - loss: 0.7692 - accuracy: 0.6894 - val_loss: 0.7801 - val_accuracy: 0.6742\n",
            "Epoch 70/70\n",
            "50/50 [==============================] - 0s 3ms/step - loss: 0.7491 - accuracy: 0.6957 - val_loss: 0.7872 - val_accuracy: 0.6566\n"
          ]
        }
      ]
    },
    {
      "cell_type": "markdown",
      "source": [
        "**Classification Report**"
      ],
      "metadata": {
        "id": "J2e_cIXdJKYW"
      }
    },
    {
      "cell_type": "code",
      "source": [
        "from sklearn.metrics import confusion_matrix, classification_report\n",
        "y_pred = model.predict(x_test)\n",
        "y_pred_classes = [np.argmax(element) for element in y_pred]\n",
        "\n",
        "print(\"Classification Report : \")\n",
        "print(classification_report(y_test, y_pred_classes))"
      ],
      "metadata": {
        "colab": {
          "base_uri": "https://localhost:8080/"
        },
        "id": "04LKUveiJJ5G",
        "outputId": "0e570162-dd01-410f-dd0e-9eefef3b266e"
      },
      "execution_count": 128,
      "outputs": [
        {
          "output_type": "stream",
          "name": "stdout",
          "text": [
            "13/13 [==============================] - 0s 3ms/step\n",
            "Classification Report : \n",
            "              precision    recall  f1-score   support\n",
            "\n",
            "           0       0.74      0.60      0.66        42\n",
            "           1       0.56      0.69      0.62        29\n",
            "           2       0.85      0.91      0.88        32\n",
            "           3       0.48      0.50      0.49        30\n",
            "           4       0.54      0.59      0.57        32\n",
            "           5       0.62      0.62      0.62        29\n",
            "           6       0.55      0.41      0.47        29\n",
            "           7       0.58      0.79      0.67        33\n",
            "           8       0.87      0.94      0.91        36\n",
            "           9       0.56      0.77      0.65        31\n",
            "          10       0.36      0.14      0.20        36\n",
            "          11       0.97      0.89      0.93        37\n",
            "\n",
            "    accuracy                           0.66       396\n",
            "   macro avg       0.64      0.65      0.64       396\n",
            "weighted avg       0.65      0.66      0.64       396\n",
            "\n"
          ]
        }
      ]
    },
    {
      "cell_type": "code",
      "source": [
        "# Plotting model accuracy and loss\n",
        "def plot_history(history):\n",
        "    plt.figure(figsize=(10, 5))\n",
        "\n",
        "    # Plot training & validation accuracy values\n",
        "    plt.subplot(1, 2, 1)\n",
        "    plt.ylim(0, 1)\n",
        "    plt.plot(history.history['accuracy'])\n",
        "    plt.plot(history.history['val_accuracy'])\n",
        "    plt.title('Model Accuracy')\n",
        "    plt.ylabel('Accuracy')\n",
        "    plt.xlabel('Epoch')\n",
        "    plt.legend(['Train', 'Validation'], loc='upper left')\n",
        "\n",
        "    # Plot training & validation loss values\n",
        "    plt.subplot(1, 2, 2)\n",
        "    plt.ylim(0, 2)\n",
        "    plt.plot(history.history['loss'])\n",
        "    plt.plot(history.history['val_loss'])\n",
        "    plt.title('Model Loss')\n",
        "    plt.ylabel('Loss')\n",
        "    plt.xlabel('Epoch')\n",
        "    plt.legend(['Train', 'Validation'], loc='upper right')\n",
        "\n",
        "    plt.tight_layout()\n",
        "    plt.show()\n",
        "\n",
        "# Call the function to plot the history\n",
        "plot_history(history)"
      ],
      "metadata": {
        "colab": {
          "base_uri": "https://localhost:8080/",
          "height": 507
        },
        "id": "LiybPDHQJZ7S",
        "outputId": "e1589530-2880-4986-c870-44a713c7ff0d"
      },
      "execution_count": 129,
      "outputs": [
        {
          "output_type": "display_data",
          "data": {
            "text/plain": [
              "<Figure size 1000x500 with 2 Axes>"
            ],
            "image/png": "[encoded data removed]"
          },
          "metadata": {}
        }
      ]
    },
    {
      "cell_type": "markdown",
      "source": [
        "**Validation with Pronation Data**"
      ],
      "metadata": {
        "id": "FKtUgLNlPE4b"
      }
    },
    {
      "cell_type": "code",
      "source": [
        "x_pronation, y_pronation = get_input(['Arifa'], gestures, \"Pronation\")\n",
        "x_pronation = np.array(x_pronation)\n",
        "y_pronation = np.array(y_pronation)"
      ],
      "metadata": {
        "colab": {
          "base_uri": "https://localhost:8080/"
        },
        "id": "ESQgPNj8PMeO",
        "outputId": "dff654df-5c6e-449b-bbdf-076a1a2a4f7b"
      },
      "execution_count": 130,
      "outputs": [
        {
          "output_type": "stream",
          "name": "stdout",
          "text": [
            "dict_keys(['M0', 'M2', 'M4', 'SPARSI', 'IRF', 'WLF'])\n",
            "dict_keys(['M0', 'M2', 'M4', 'SPARSI', 'IRF', 'WLF'])\n",
            "dict_keys(['M0', 'M2', 'M4', 'SPARSI', 'IRF', 'WLF'])\n",
            "dict_keys(['M0', 'M2', 'M4', 'SPARSI', 'IRF', 'WLF'])\n",
            "dict_keys(['M0', 'M2', 'M4', 'SPARSI', 'IRF', 'WLF'])\n",
            "dict_keys(['M0', 'M2', 'M4', 'SPARSI', 'IRF', 'WLF'])\n",
            "dict_keys(['M0', 'M2', 'M4', 'SPARSI', 'IRF', 'WLF'])\n",
            "dict_keys(['M0', 'M2', 'M4', 'SPARSI', 'IRF', 'WLF'])\n",
            "dict_keys(['M0', 'M2', 'M4', 'SPARSI', 'IRF', 'WLF'])\n",
            "dict_keys(['M0', 'M2', 'M4', 'SPARSI', 'IRF', 'WLF'])\n",
            "dict_keys(['M0', 'M2', 'M4', 'SPARSI', 'IRF', 'WLF'])\n",
            "dict_keys(['M0', 'M2', 'M4', 'SPARSI', 'IRF', 'WLF'])\n",
            "dict_keys(['M0', 'M2', 'M4', 'SPARSI', 'IRF', 'WLF'])\n",
            "dict_keys(['M0', 'M2', 'M4', 'SPARSI', 'IRF', 'WLF'])\n",
            "dict_keys(['M0', 'M2', 'M4', 'SPARSI', 'IRF', 'WLF'])\n",
            "dict_keys(['M0', 'M2', 'M4', 'SPARSI', 'IRF', 'WLF'])\n",
            "dict_keys(['M0', 'M2', 'M4', 'SPARSI', 'IRF', 'WLF'])\n",
            "dict_keys(['M0', 'M2', 'M4', 'SPARSI', 'IRF', 'WLF'])\n",
            "dict_keys(['M0', 'M2', 'M4', 'SPARSI', 'IRF', 'WLF'])\n",
            "dict_keys(['M0', 'M2', 'M4', 'SPARSI', 'IRF', 'WLF'])\n",
            "dict_keys(['M0', 'M2', 'M4', 'SPARSI', 'IRF', 'WLF'])\n",
            "dict_keys(['M0', 'M2', 'M4', 'SPARSI', 'IRF', 'WLF'])\n",
            "dict_keys(['M0', 'M2', 'M4', 'SPARSI', 'IRF', 'WLF'])\n",
            "dict_keys(['M0', 'M2', 'M4', 'SPARSI', 'IRF', 'WLF'])\n",
            "dict_keys(['M0', 'M2', 'M4', 'SPARSI', 'IRF', 'WLF'])\n",
            "dict_keys(['M0', 'M2', 'M4', 'SPARSI', 'IRF', 'WLF'])\n",
            "dict_keys(['M0', 'M2', 'M4', 'SPARSI', 'IRF', 'WLF'])\n",
            "dict_keys(['M0', 'M2', 'M4', 'SPARSI', 'IRF', 'WLF'])\n",
            "dict_keys(['M0', 'M2', 'M4', 'SPARSI', 'IRF', 'WLF'])\n",
            "dict_keys(['M0', 'M2', 'M4', 'SPARSI', 'IRF', 'WLF'])\n",
            "dict_keys(['M0', 'M2', 'M4', 'SPARSI', 'IRF', 'WLF'])\n",
            "dict_keys(['M0', 'M2', 'M4', 'SPARSI', 'IRF', 'WLF'])\n",
            "dict_keys(['M0', 'M2', 'M4', 'SPARSI', 'IRF', 'WLF'])\n",
            "dict_keys(['M0', 'M2', 'M4', 'SPARSI', 'IRF', 'WLF'])\n",
            "dict_keys(['M0', 'M2', 'M4', 'SPARSI', 'IRF', 'WLF'])\n",
            "dict_keys(['M0', 'M2', 'M4', 'SPARSI', 'IRF', 'WLF'])\n",
            "dict_keys(['M0', 'M2', 'M4', 'SPARSI', 'IRF', 'WLF'])\n",
            "dict_keys(['M0', 'M2', 'M4', 'SPARSI', 'IRF', 'WLF'])\n",
            "dict_keys(['M0', 'M2', 'M4', 'SPARSI', 'IRF', 'WLF'])\n",
            "dict_keys(['M0', 'M2', 'M4', 'SPARSI', 'IRF', 'WLF'])\n",
            "dict_keys(['M0', 'M2', 'M4', 'SPARSI', 'IRF', 'WLF'])\n",
            "dict_keys(['M0', 'M2', 'M4', 'SPARSI', 'IRF', 'WLF'])\n",
            "dict_keys(['M0', 'M2', 'M4', 'SPARSI', 'IRF', 'WLF'])\n",
            "dict_keys(['M0', 'M2', 'M4', 'SPARSI', 'IRF', 'WLF'])\n",
            "dict_keys(['M0', 'M2', 'M4', 'SPARSI', 'IRF', 'WLF'])\n",
            "dict_keys(['M0', 'M2', 'M4', 'SPARSI', 'IRF', 'WLF'])\n",
            "dict_keys(['M0', 'M2', 'M4', 'SPARSI', 'IRF', 'WLF'])\n",
            "dict_keys(['M0', 'M2', 'M4', 'SPARSI', 'IRF', 'WLF'])\n",
            "dict_keys(['M0', 'M2', 'M4', 'SPARSI', 'IRF', 'WLF'])\n",
            "dict_keys(['M0', 'M2', 'M4', 'SPARSI', 'IRF', 'WLF'])\n",
            "dict_keys(['M0', 'M2', 'M4', 'SPARSI', 'IRF', 'WLF'])\n",
            "dict_keys(['M0', 'M2', 'M4', 'SPARSI', 'IRF', 'WLF'])\n",
            "dict_keys(['M0', 'M2', 'M4', 'SPARSI', 'IRF', 'WLF'])\n",
            "dict_keys(['M0', 'M2', 'M4', 'SPARSI', 'IRF', 'WLF'])\n",
            "dict_keys(['M0', 'M2', 'M4', 'SPARSI', 'IRF', 'WLF'])\n",
            "dict_keys(['M0', 'M2', 'M4', 'SPARSI', 'IRF', 'WLF'])\n",
            "dict_keys(['M0', 'M2', 'M4', 'SPARSI', 'IRF', 'WLF'])\n",
            "dict_keys(['M0', 'M2', 'M4', 'SPARSI', 'IRF', 'WLF'])\n",
            "dict_keys(['M0', 'M2', 'M4', 'SPARSI', 'IRF', 'WLF'])\n",
            "dict_keys(['M0', 'M2', 'M4', 'SPARSI', 'IRF', 'WLF'])\n"
          ]
        }
      ]
    },
    {
      "cell_type": "code",
      "source": [
        "pronation_results = model.evaluate(x_pronation, y_pronation, batch_size=32)\n",
        "print(pronation_results)"
      ],
      "metadata": {
        "colab": {
          "base_uri": "https://localhost:8080/"
        },
        "id": "yrfITo8rRRZ2",
        "outputId": "f06cb907-6683-4e34-c212-f2ab5ce31d16"
      },
      "execution_count": 131,
      "outputs": [
        {
          "output_type": "stream",
          "name": "stdout",
          "text": [
            "62/62 [==============================] - 0s 2ms/step - loss: 2.5548 - accuracy: 0.3753\n",
            "[2.5548455715179443, 0.37525251507759094]\n"
          ]
        }
      ]
    },
    {
      "cell_type": "markdown",
      "source": [
        "**Validation with Supination Data**"
      ],
      "metadata": {
        "id": "LIpKxRAjTRQX"
      }
    },
    {
      "cell_type": "code",
      "source": [
        "x_supination, y_supination = get_input(['Arifa'], gestures, \"Supination\")\n",
        "x_supination = np.array(x_supination)\n",
        "y_supination = np.array(y_supination)"
      ],
      "metadata": {
        "colab": {
          "base_uri": "https://localhost:8080/"
        },
        "id": "62HcfeQKTW2P",
        "outputId": "9ab3d0a2-3b30-471e-f08e-8b5de296f22c"
      },
      "execution_count": 132,
      "outputs": [
        {
          "output_type": "stream",
          "name": "stdout",
          "text": [
            "dict_keys(['M0', 'M2', 'M4', 'SPARSI', 'IRF', 'WLF'])\n",
            "dict_keys(['M0', 'M2', 'M4', 'SPARSI', 'IRF', 'WLF'])\n",
            "dict_keys(['M0', 'M2', 'M4', 'SPARSI', 'IRF', 'WLF'])\n",
            "dict_keys(['M0', 'M2', 'M4', 'SPARSI', 'IRF', 'WLF'])\n",
            "dict_keys(['M0', 'M2', 'M4', 'SPARSI', 'IRF', 'WLF'])\n",
            "dict_keys(['M0', 'M2', 'M4', 'SPARSI', 'IRF', 'WLF'])\n",
            "dict_keys(['M0', 'M2', 'M4', 'SPARSI', 'IRF', 'WLF'])\n",
            "dict_keys(['M0', 'M2', 'M4', 'SPARSI', 'IRF', 'WLF'])\n",
            "dict_keys(['M0', 'M2', 'M4', 'SPARSI', 'IRF', 'WLF'])\n",
            "dict_keys(['M0', 'M2', 'M4', 'SPARSI', 'IRF', 'WLF'])\n",
            "dict_keys(['M0', 'M2', 'M4', 'SPARSI', 'IRF', 'WLF'])\n",
            "dict_keys(['M0', 'M2', 'M4', 'SPARSI', 'IRF', 'WLF'])\n",
            "dict_keys(['M0', 'M2', 'M4', 'SPARSI', 'IRF', 'WLF'])\n",
            "dict_keys(['M0', 'M2', 'M4', 'SPARSI', 'IRF', 'WLF'])\n",
            "dict_keys(['M0', 'M2', 'M4', 'SPARSI', 'IRF', 'WLF'])\n",
            "dict_keys(['M0', 'M2', 'M4', 'SPARSI', 'IRF', 'WLF'])\n",
            "dict_keys(['M0', 'M2', 'M4', 'SPARSI', 'IRF', 'WLF'])\n",
            "dict_keys(['M0', 'M2', 'M4', 'SPARSI', 'IRF', 'WLF'])\n",
            "dict_keys(['M0', 'M2', 'M4', 'SPARSI', 'IRF', 'WLF'])\n",
            "dict_keys(['M0', 'M2', 'M4', 'SPARSI', 'IRF', 'WLF'])\n",
            "dict_keys(['M0', 'M2', 'M4', 'SPARSI', 'IRF', 'WLF'])\n",
            "dict_keys(['M0', 'M2', 'M4', 'SPARSI', 'IRF', 'WLF'])\n",
            "dict_keys(['M0', 'M2', 'M4', 'SPARSI', 'IRF', 'WLF'])\n",
            "dict_keys(['M0', 'M2', 'M4', 'SPARSI', 'IRF', 'WLF'])\n",
            "dict_keys(['M0', 'M2', 'M4', 'SPARSI', 'IRF', 'WLF'])\n",
            "dict_keys(['M0', 'M2', 'M4', 'SPARSI', 'IRF', 'WLF'])\n",
            "dict_keys(['M0', 'M2', 'M4', 'SPARSI', 'IRF', 'WLF'])\n",
            "dict_keys(['M0', 'M2', 'M4', 'SPARSI', 'IRF', 'WLF'])\n",
            "dict_keys(['M0', 'M2', 'M4', 'SPARSI', 'IRF', 'WLF'])\n",
            "dict_keys(['M0', 'M2', 'M4', 'SPARSI', 'IRF', 'WLF'])\n",
            "dict_keys(['M0', 'M2', 'M4', 'SPARSI', 'IRF', 'WLF'])\n",
            "dict_keys(['M0', 'M2', 'M4', 'SPARSI', 'IRF', 'WLF'])\n",
            "dict_keys(['M0', 'M2', 'M4', 'SPARSI', 'IRF', 'WLF'])\n",
            "dict_keys(['M0', 'M2', 'M4', 'SPARSI', 'IRF', 'WLF'])\n",
            "dict_keys(['M0', 'M2', 'M4', 'SPARSI', 'IRF', 'WLF'])\n",
            "dict_keys(['M0', 'M2', 'M4', 'SPARSI', 'IRF', 'WLF'])\n",
            "dict_keys(['M0', 'M2', 'M4', 'SPARSI', 'IRF', 'WLF'])\n",
            "dict_keys(['M0', 'M2', 'M4', 'SPARSI', 'IRF', 'WLF'])\n",
            "dict_keys(['M0', 'M2', 'M4', 'SPARSI', 'IRF', 'WLF'])\n",
            "dict_keys(['M0', 'M2', 'M4', 'SPARSI', 'IRF', 'WLF'])\n",
            "dict_keys(['M0', 'M2', 'M4', 'SPARSI', 'IRF', 'WLF'])\n",
            "dict_keys(['M0', 'M2', 'M4', 'SPARSI', 'IRF', 'WLF'])\n",
            "dict_keys(['M0', 'M2', 'M4', 'SPARSI', 'IRF', 'WLF'])\n",
            "dict_keys(['M0', 'M2', 'M4', 'SPARSI', 'IRF', 'WLF'])\n",
            "dict_keys(['M0', 'M2', 'M4', 'SPARSI', 'IRF', 'WLF'])\n",
            "dict_keys(['M0', 'M2', 'M4', 'SPARSI', 'IRF', 'WLF'])\n",
            "dict_keys(['M0', 'M2', 'M4', 'SPARSI', 'IRF', 'WLF'])\n",
            "dict_keys(['M0', 'M2', 'M4', 'SPARSI', 'IRF', 'WLF'])\n",
            "dict_keys(['M0', 'M2', 'M4', 'SPARSI', 'IRF', 'WLF'])\n",
            "dict_keys(['M0', 'M2', 'M4', 'SPARSI', 'IRF', 'WLF'])\n",
            "dict_keys(['M0', 'M2', 'M4', 'SPARSI', 'IRF', 'WLF'])\n",
            "dict_keys(['M0', 'M2', 'M4', 'SPARSI', 'IRF', 'WLF'])\n",
            "dict_keys(['M0', 'M2', 'M4', 'SPARSI', 'IRF', 'WLF'])\n",
            "dict_keys(['M0', 'M2', 'M4', 'SPARSI', 'IRF', 'WLF'])\n",
            "dict_keys(['M0', 'M2', 'M4', 'SPARSI', 'IRF', 'WLF'])\n",
            "dict_keys(['M0', 'M2', 'M4', 'SPARSI', 'IRF', 'WLF'])\n",
            "dict_keys(['M0', 'M2', 'M4', 'SPARSI', 'IRF', 'WLF'])\n",
            "dict_keys(['M0', 'M2', 'M4', 'SPARSI', 'IRF', 'WLF'])\n",
            "dict_keys(['M0', 'M2', 'M4', 'SPARSI', 'IRF', 'WLF'])\n",
            "dict_keys(['M0', 'M2', 'M4', 'SPARSI', 'IRF', 'WLF'])\n"
          ]
        }
      ]
    },
    {
      "cell_type": "code",
      "source": [
        "supination_results = model.evaluate(x_supination, y_supination, batch_size=32)\n",
        "print(supination_results)"
      ],
      "metadata": {
        "colab": {
          "base_uri": "https://localhost:8080/"
        },
        "id": "LGFCsiw9TqCb",
        "outputId": "3b29d2dd-cf4c-4d0b-fdb4-8ace0b2ac2e5"
      },
      "execution_count": 133,
      "outputs": [
        {
          "output_type": "stream",
          "name": "stdout",
          "text": [
            "62/62 [==============================] - 0s 2ms/step - loss: 2.0900 - accuracy: 0.3944\n",
            "[2.089968681335449, 0.39444443583488464]\n"
          ]
        }
      ]
    }
  ]
}