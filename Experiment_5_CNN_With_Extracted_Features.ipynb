{
  "nbformat": 4,
  "nbformat_minor": 0,
  "metadata": {
    "colab": {
      "provenance": [],
      "authorship_tag": "ABX9TyM4oJw+mkPY/OcLS13WNNBG",
      "include_colab_link": true
    },
    "kernelspec": {
      "name": "python3",
      "display_name": "Python 3"
    },
    "language_info": {
      "name": "python"
    }
  },
  "cells": [
    {
      "cell_type": "markdown",
      "metadata": {
        "id": "view-in-github",
        "colab_type": "text"
      },
      "source": [
        "<a href=\"https://colab.research.google.com/github/suvashsumon/My_Thesis_Experiments/blob/main/Experiment_5_CNN_With_Extracted_Features.ipynb\" target=\"_parent\"><img src=\"https://colab.research.google.com/assets/colab-badge.svg\" alt=\"Open In Colab\"/></a>"
      ]
    },
    {
      "cell_type": "markdown",
      "source": [
        "**1. Using Time Domain Power Spectral Descriptors (TDPSD) Feature Set**  \n",
        "**2. Using individual dataset**"
      ],
      "metadata": {
        "id": "jfWDCm6rVsUC"
      }
    },
    {
      "cell_type": "code",
      "execution_count": 1,
      "metadata": {
        "colab": {
          "base_uri": "https://localhost:8080/"
        },
        "id": "6EL0T4GfiQAI",
        "outputId": "584022b5-88ab-4013-8cdb-0ceaf958b1a3"
      },
      "outputs": [
        {
          "output_type": "stream",
          "name": "stdout",
          "text": [
            "Collecting libemg\n",
            "  Downloading libemg-0.0.1.tar.gz (185 kB)\n",
            "\u001b[2K     \u001b[90m━━━━━━━━━━━━━━━━━━━━━━━━━━━━━━━━━━━━━━━━\u001b[0m \u001b[32m185.8/185.8 kB\u001b[0m \u001b[31m2.2 MB/s\u001b[0m eta \u001b[36m0:00:00\u001b[0m\n",
            "\u001b[?25h  Preparing metadata (setup.py) ... \u001b[?25l\u001b[?25hdone\n",
            "Requirement already satisfied: numpy in /usr/local/lib/python3.10/dist-packages (from libemg) (1.23.5)\n",
            "Requirement already satisfied: scipy in /usr/local/lib/python3.10/dist-packages (from libemg) (1.11.4)\n",
            "Requirement already satisfied: scikit-learn in /usr/local/lib/python3.10/dist-packages (from libemg) (1.2.2)\n",
            "Requirement already satisfied: pillow in /usr/local/lib/python3.10/dist-packages (from libemg) (9.4.0)\n",
            "Requirement already satisfied: matplotlib in /usr/local/lib/python3.10/dist-packages (from libemg) (3.7.1)\n",
            "Requirement already satisfied: librosa in /usr/local/lib/python3.10/dist-packages (from libemg) (0.10.1)\n",
            "Collecting wfdb (from libemg)\n",
            "  Downloading wfdb-4.1.2-py3-none-any.whl (159 kB)\n",
            "\u001b[2K     \u001b[90m━━━━━━━━━━━━━━━━━━━━━━━━━━━━━━━━━━━━━━━━\u001b[0m \u001b[32m160.0/160.0 kB\u001b[0m \u001b[31m8.0 MB/s\u001b[0m eta \u001b[36m0:00:00\u001b[0m\n",
            "\u001b[?25hCollecting pyserial (from libemg)\n",
            "  Downloading pyserial-3.5-py2.py3-none-any.whl (90 kB)\n",
            "\u001b[2K     \u001b[90m━━━━━━━━━━━━━━━━━━━━━━━━━━━━━━━━━━━━━━━━\u001b[0m \u001b[32m90.6/90.6 kB\u001b[0m \u001b[31m7.1 MB/s\u001b[0m eta \u001b[36m0:00:00\u001b[0m\n",
            "\u001b[?25hRequirement already satisfied: audioread>=2.1.9 in /usr/local/lib/python3.10/dist-packages (from librosa->libemg) (3.0.1)\n",
            "Requirement already satisfied: joblib>=0.14 in /usr/local/lib/python3.10/dist-packages (from librosa->libemg) (1.3.2)\n",
            "Requirement already satisfied: decorator>=4.3.0 in /usr/local/lib/python3.10/dist-packages (from librosa->libemg) (4.4.2)\n",
            "Requirement already satisfied: numba>=0.51.0 in /usr/local/lib/python3.10/dist-packages (from librosa->libemg) (0.58.1)\n",
            "Requirement already satisfied: soundfile>=0.12.1 in /usr/local/lib/python3.10/dist-packages (from librosa->libemg) (0.12.1)\n",
            "Requirement already satisfied: pooch>=1.0 in /usr/local/lib/python3.10/dist-packages (from librosa->libemg) (1.8.0)\n",
            "Requirement already satisfied: soxr>=0.3.2 in /usr/local/lib/python3.10/dist-packages (from librosa->libemg) (0.3.7)\n",
            "Requirement already satisfied: typing-extensions>=4.1.1 in /usr/local/lib/python3.10/dist-packages (from librosa->libemg) (4.5.0)\n",
            "Requirement already satisfied: lazy-loader>=0.1 in /usr/local/lib/python3.10/dist-packages (from librosa->libemg) (0.3)\n",
            "Requirement already satisfied: msgpack>=1.0 in /usr/local/lib/python3.10/dist-packages (from librosa->libemg) (1.0.7)\n",
            "Requirement already satisfied: threadpoolctl>=2.0.0 in /usr/local/lib/python3.10/dist-packages (from scikit-learn->libemg) (3.2.0)\n",
            "Requirement already satisfied: contourpy>=1.0.1 in /usr/local/lib/python3.10/dist-packages (from matplotlib->libemg) (1.2.0)\n",
            "Requirement already satisfied: cycler>=0.10 in /usr/local/lib/python3.10/dist-packages (from matplotlib->libemg) (0.12.1)\n",
            "Requirement already satisfied: fonttools>=4.22.0 in /usr/local/lib/python3.10/dist-packages (from matplotlib->libemg) (4.46.0)\n",
            "Requirement already satisfied: kiwisolver>=1.0.1 in /usr/local/lib/python3.10/dist-packages (from matplotlib->libemg) (1.4.5)\n",
            "Requirement already satisfied: packaging>=20.0 in /usr/local/lib/python3.10/dist-packages (from matplotlib->libemg) (23.2)\n",
            "Requirement already satisfied: pyparsing>=2.3.1 in /usr/local/lib/python3.10/dist-packages (from matplotlib->libemg) (3.1.1)\n",
            "Requirement already satisfied: python-dateutil>=2.7 in /usr/local/lib/python3.10/dist-packages (from matplotlib->libemg) (2.8.2)\n",
            "Requirement already satisfied: pandas>=1.3.0 in /usr/local/lib/python3.10/dist-packages (from wfdb->libemg) (1.5.3)\n",
            "Requirement already satisfied: requests>=2.8.1 in /usr/local/lib/python3.10/dist-packages (from wfdb->libemg) (2.31.0)\n",
            "Requirement already satisfied: llvmlite<0.42,>=0.41.0dev0 in /usr/local/lib/python3.10/dist-packages (from numba>=0.51.0->librosa->libemg) (0.41.1)\n",
            "Requirement already satisfied: pytz>=2020.1 in /usr/local/lib/python3.10/dist-packages (from pandas>=1.3.0->wfdb->libemg) (2023.3.post1)\n",
            "Requirement already satisfied: platformdirs>=2.5.0 in /usr/local/lib/python3.10/dist-packages (from pooch>=1.0->librosa->libemg) (4.1.0)\n",
            "Requirement already satisfied: six>=1.5 in /usr/local/lib/python3.10/dist-packages (from python-dateutil>=2.7->matplotlib->libemg) (1.16.0)\n",
            "Requirement already satisfied: charset-normalizer<4,>=2 in /usr/local/lib/python3.10/dist-packages (from requests>=2.8.1->wfdb->libemg) (3.3.2)\n",
            "Requirement already satisfied: idna<4,>=2.5 in /usr/local/lib/python3.10/dist-packages (from requests>=2.8.1->wfdb->libemg) (3.6)\n",
            "Requirement already satisfied: urllib3<3,>=1.21.1 in /usr/local/lib/python3.10/dist-packages (from requests>=2.8.1->wfdb->libemg) (2.0.7)\n",
            "Requirement already satisfied: certifi>=2017.4.17 in /usr/local/lib/python3.10/dist-packages (from requests>=2.8.1->wfdb->libemg) (2023.11.17)\n",
            "Requirement already satisfied: cffi>=1.0 in /usr/local/lib/python3.10/dist-packages (from soundfile>=0.12.1->librosa->libemg) (1.16.0)\n",
            "Requirement already satisfied: pycparser in /usr/local/lib/python3.10/dist-packages (from cffi>=1.0->soundfile>=0.12.1->librosa->libemg) (2.21)\n",
            "Building wheels for collected packages: libemg\n",
            "  Building wheel for libemg (setup.py) ... \u001b[?25l\u001b[?25hdone\n",
            "  Created wheel for libemg: filename=libemg-0.0.1-py3-none-any.whl size=70338 sha256=f07a98c50dd7411dd3d46c22910a6327d373ee314cf691e26941446f1c96458a\n",
            "  Stored in directory: /root/.cache/pip/wheels/52/29/b7/c395fce515bf8995f6c17ffa968697b66fd497a4c6a1c04481\n",
            "Successfully built libemg\n",
            "Installing collected packages: pyserial, wfdb, libemg\n",
            "Successfully installed libemg-0.0.1 pyserial-3.5 wfdb-4.1.2\n"
          ]
        }
      ],
      "source": [
        "!pip install libemg"
      ]
    },
    {
      "cell_type": "code",
      "source": [
        "import numpy as np\n",
        "import matplotlib.pyplot as plt\n",
        "import scipy.io as scipyio\n",
        "import seaborn as sns\n",
        "import pandas as pd\n",
        "from libemg.feature_extractor import FeatureExtractor\n",
        "from libemg.utils import get_windows\n",
        "from google.colab import drive\n",
        "import os"
      ],
      "metadata": {
        "id": "S_cbWcJpinEX"
      },
      "execution_count": 3,
      "outputs": []
    },
    {
      "cell_type": "markdown",
      "source": [
        "**Reading Dataset**"
      ],
      "metadata": {
        "id": "47dGhzkMjZ8_"
      }
    },
    {
      "cell_type": "code",
      "source": [
        "drive.mount('/content/gdrive')"
      ],
      "metadata": {
        "colab": {
          "base_uri": "https://localhost:8080/"
        },
        "id": "FxWMJLpOjdcB",
        "outputId": "62f265f8-97a7-49e8-fa44-b1f2379cdfaf"
      },
      "execution_count": 4,
      "outputs": [
        {
          "output_type": "stream",
          "name": "stdout",
          "text": [
            "Mounted at /content/gdrive\n"
          ]
        }
      ]
    },
    {
      "cell_type": "code",
      "source": [
        "gestures_label = {\n",
        "\t 'Thumb_UP' : 0,\n",
        "\t 'Index' : 1,\n",
        "\t 'Right_Angle' : 2,\n",
        "\t 'Peace' : 3,\n",
        "\t 'Index_Little' : 4,\n",
        "\t 'Thumb_Little' : 5,\n",
        "\t 'Hand_Close' : 6,\n",
        "\t 'Hand_Open' : 7,\n",
        "\t 'Wrist_Extension' : 8,\n",
        "\t 'Wrist_Flexion' : 9,\n",
        "\t 'Ulner_Deviation' : 10,\n",
        "\t 'Radial_Deviation' : 11\n",
        "}\n",
        "\n",
        "gestures = ['Thumb_UP', 'Index_Little', 'Right_Angle', 'Peace', 'Index', 'Thumb_Little', 'Hand_Close', 'Hand_Open',\n",
        "\t 'Wrist_Extension', 'Wrist_Flexion', 'Ulner_Deviation', 'Radial_Deviation'\n",
        "]"
      ],
      "metadata": {
        "id": "43mB8rvkkOFQ"
      },
      "execution_count": 5,
      "outputs": []
    },
    {
      "cell_type": "code",
      "source": [
        "persons = [\"Arifa\", \"Arnob\", \"Ashis\", \"Bayezid\", \"Bushra\", \"Choity_new\", \"Eftekhar\",\n",
        "           \"Fahim\", \"Humaid\", \"Humayun\", \"Johir\", \"Joy\", \"Mamun\", \"Noman\", \"Piyus\", \"Sazzad\",\n",
        "           \"Shafi\", \"Shourav\", \"Tamim\", \"Wadud\"]"
      ],
      "metadata": {
        "id": "3lT_Z7hkmdXG"
      },
      "execution_count": 6,
      "outputs": []
    },
    {
      "cell_type": "code",
      "source": [
        "def get_gesture_label(gesture):\n",
        "  return gestures_label [gesture];"
      ],
      "metadata": {
        "id": "jx8GgpISv5I2"
      },
      "execution_count": 7,
      "outputs": []
    },
    {
      "cell_type": "code",
      "source": [
        "def feature_extraction(channelvalues, gesture):\n",
        "  # creating windows\n",
        "  windows = get_windows(channelvalues, 150, 150)\n",
        "  # extract feature\n",
        "  fe = FeatureExtractor()\n",
        "  feature_list = ['MAV', 'SSC', 'ZC', 'WL', 'AR4']\n",
        "  features = fe.extract_feature_group('TDPSD', windows)\n",
        "  print(features.keys())\n",
        "  #print(\"Len : \"+str(len(features)))\n",
        "  # creating feature matrixs\n",
        "  extracted_feature_array = []\n",
        "  extracted_gesture_array = []\n",
        "  for i in range(33):\n",
        "    features_matrix = [\n",
        "        features['M0'][i],\n",
        "        features['M2'][i],\n",
        "        features['M4'][i],\n",
        "        features['SPARSI'][i],\n",
        "        features['IRF'][i],\n",
        "        features['WLF'][i],\n",
        "    ]\n",
        "    #print(features['MAV'].shape)\n",
        "    #print(features['AR'].shape)\n",
        "    features_matrix = (features_matrix-np.min(features_matrix))/(np.max(features_matrix)-np.min(features_matrix))\n",
        "    extracted_feature_array.append(features_matrix)\n",
        "    extracted_gesture_array.append(get_gesture_label(gesture))\n",
        "  return extracted_feature_array, extracted_gesture_array"
      ],
      "metadata": {
        "id": "DaBZ8rssnyrg"
      },
      "execution_count": 134,
      "outputs": []
    },
    {
      "cell_type": "code",
      "source": [
        "def get_processed_data(matfilepath, gesture):\n",
        "  # read mat file\n",
        "  matdata = scipyio.loadmat(matfilepath)\n",
        "  # transpose the matrix\n",
        "  values = np.transpose(matdata['value'])\n",
        "  # remove the first 3000 values\n",
        "  values = values[3000:]\n",
        "  return feature_extraction(values, gesture)\n"
      ],
      "metadata": {
        "id": "mZ_awmvtm37Q"
      },
      "execution_count": 135,
      "outputs": []
    },
    {
      "cell_type": "code",
      "source": [
        "def get_input(persons, gestures, orientaion=\"Rest\"):\n",
        "  input_array = []\n",
        "  input_gest = []\n",
        "  for person in persons:\n",
        "    for gest in gestures:\n",
        "      for i in range(5):\n",
        "        matfilepath = \"gdrive/My Drive/Forearm Invariant Data/\"+person+\"/\"+orientaion+\"/\"+gest+\"-\"+str(i+1)+\".mat\"\n",
        "        #print(matfilepath)\n",
        "        processed_matrix, gesture_array = get_processed_data(matfilepath, gest)\n",
        "        gest_label = get_gesture_label(gest)\n",
        "        input_array = input_array + processed_matrix\n",
        "        input_gest = input_gest + gesture_array\n",
        "  return input_array, input_gest"
      ],
      "metadata": {
        "id": "D2d1xF4gkzXB"
      },
      "execution_count": 136,
      "outputs": []
    },
    {
      "cell_type": "code",
      "source": [
        "X, Y = get_input(['Arifa'], gestures)"
      ],
      "metadata": {
        "id": "WaN2dILztYHr",
        "colab": {
          "base_uri": "https://localhost:8080/"
        },
        "outputId": "86377bdc-64c6-4b86-ff9f-4ca5910edb41"
      },
      "execution_count": 137,
      "outputs": [
        {
          "output_type": "stream",
          "name": "stdout",
          "text": [
            "dict_keys(['M0', 'M2', 'M4', 'SPARSI', 'IRF', 'WLF'])\n",
            "dict_keys(['M0', 'M2', 'M4', 'SPARSI', 'IRF', 'WLF'])\n",
            "dict_keys(['M0', 'M2', 'M4', 'SPARSI', 'IRF', 'WLF'])\n",
            "dict_keys(['M0', 'M2', 'M4', 'SPARSI', 'IRF', 'WLF'])\n",
            "dict_keys(['M0', 'M2', 'M4', 'SPARSI', 'IRF', 'WLF'])\n",
            "dict_keys(['M0', 'M2', 'M4', 'SPARSI', 'IRF', 'WLF'])\n",
            "dict_keys(['M0', 'M2', 'M4', 'SPARSI', 'IRF', 'WLF'])\n",
            "dict_keys(['M0', 'M2', 'M4', 'SPARSI', 'IRF', 'WLF'])\n",
            "dict_keys(['M0', 'M2', 'M4', 'SPARSI', 'IRF', 'WLF'])\n",
            "dict_keys(['M0', 'M2', 'M4', 'SPARSI', 'IRF', 'WLF'])\n",
            "dict_keys(['M0', 'M2', 'M4', 'SPARSI', 'IRF', 'WLF'])\n",
            "dict_keys(['M0', 'M2', 'M4', 'SPARSI', 'IRF', 'WLF'])\n",
            "dict_keys(['M0', 'M2', 'M4', 'SPARSI', 'IRF', 'WLF'])\n",
            "dict_keys(['M0', 'M2', 'M4', 'SPARSI', 'IRF', 'WLF'])\n",
            "dict_keys(['M0', 'M2', 'M4', 'SPARSI', 'IRF', 'WLF'])\n",
            "dict_keys(['M0', 'M2', 'M4', 'SPARSI', 'IRF', 'WLF'])\n",
            "dict_keys(['M0', 'M2', 'M4', 'SPARSI', 'IRF', 'WLF'])\n",
            "dict_keys(['M0', 'M2', 'M4', 'SPARSI', 'IRF', 'WLF'])\n",
            "dict_keys(['M0', 'M2', 'M4', 'SPARSI', 'IRF', 'WLF'])\n",
            "dict_keys(['M0', 'M2', 'M4', 'SPARSI', 'IRF', 'WLF'])\n",
            "dict_keys(['M0', 'M2', 'M4', 'SPARSI', 'IRF', 'WLF'])\n",
            "dict_keys(['M0', 'M2', 'M4', 'SPARSI', 'IRF', 'WLF'])\n",
            "dict_keys(['M0', 'M2', 'M4', 'SPARSI', 'IRF', 'WLF'])\n",
            "dict_keys(['M0', 'M2', 'M4', 'SPARSI', 'IRF', 'WLF'])\n",
            "dict_keys(['M0', 'M2', 'M4', 'SPARSI', 'IRF', 'WLF'])\n",
            "dict_keys(['M0', 'M2', 'M4', 'SPARSI', 'IRF', 'WLF'])\n",
            "dict_keys(['M0', 'M2', 'M4', 'SPARSI', 'IRF', 'WLF'])\n",
            "dict_keys(['M0', 'M2', 'M4', 'SPARSI', 'IRF', 'WLF'])\n",
            "dict_keys(['M0', 'M2', 'M4', 'SPARSI', 'IRF', 'WLF'])\n",
            "dict_keys(['M0', 'M2', 'M4', 'SPARSI', 'IRF', 'WLF'])\n",
            "dict_keys(['M0', 'M2', 'M4', 'SPARSI', 'IRF', 'WLF'])\n",
            "dict_keys(['M0', 'M2', 'M4', 'SPARSI', 'IRF', 'WLF'])\n",
            "dict_keys(['M0', 'M2', 'M4', 'SPARSI', 'IRF', 'WLF'])\n",
            "dict_keys(['M0', 'M2', 'M4', 'SPARSI', 'IRF', 'WLF'])\n",
            "dict_keys(['M0', 'M2', 'M4', 'SPARSI', 'IRF', 'WLF'])\n",
            "dict_keys(['M0', 'M2', 'M4', 'SPARSI', 'IRF', 'WLF'])\n",
            "dict_keys(['M0', 'M2', 'M4', 'SPARSI', 'IRF', 'WLF'])\n",
            "dict_keys(['M0', 'M2', 'M4', 'SPARSI', 'IRF', 'WLF'])\n",
            "dict_keys(['M0', 'M2', 'M4', 'SPARSI', 'IRF', 'WLF'])\n",
            "dict_keys(['M0', 'M2', 'M4', 'SPARSI', 'IRF', 'WLF'])\n",
            "dict_keys(['M0', 'M2', 'M4', 'SPARSI', 'IRF', 'WLF'])\n",
            "dict_keys(['M0', 'M2', 'M4', 'SPARSI', 'IRF', 'WLF'])\n",
            "dict_keys(['M0', 'M2', 'M4', 'SPARSI', 'IRF', 'WLF'])\n",
            "dict_keys(['M0', 'M2', 'M4', 'SPARSI', 'IRF', 'WLF'])\n",
            "dict_keys(['M0', 'M2', 'M4', 'SPARSI', 'IRF', 'WLF'])\n",
            "dict_keys(['M0', 'M2', 'M4', 'SPARSI', 'IRF', 'WLF'])\n",
            "dict_keys(['M0', 'M2', 'M4', 'SPARSI', 'IRF', 'WLF'])\n",
            "dict_keys(['M0', 'M2', 'M4', 'SPARSI', 'IRF', 'WLF'])\n",
            "dict_keys(['M0', 'M2', 'M4', 'SPARSI', 'IRF', 'WLF'])\n",
            "dict_keys(['M0', 'M2', 'M4', 'SPARSI', 'IRF', 'WLF'])\n",
            "dict_keys(['M0', 'M2', 'M4', 'SPARSI', 'IRF', 'WLF'])\n",
            "dict_keys(['M0', 'M2', 'M4', 'SPARSI', 'IRF', 'WLF'])\n",
            "dict_keys(['M0', 'M2', 'M4', 'SPARSI', 'IRF', 'WLF'])\n",
            "dict_keys(['M0', 'M2', 'M4', 'SPARSI', 'IRF', 'WLF'])\n",
            "dict_keys(['M0', 'M2', 'M4', 'SPARSI', 'IRF', 'WLF'])\n",
            "dict_keys(['M0', 'M2', 'M4', 'SPARSI', 'IRF', 'WLF'])\n",
            "dict_keys(['M0', 'M2', 'M4', 'SPARSI', 'IRF', 'WLF'])\n",
            "dict_keys(['M0', 'M2', 'M4', 'SPARSI', 'IRF', 'WLF'])\n",
            "dict_keys(['M0', 'M2', 'M4', 'SPARSI', 'IRF', 'WLF'])\n",
            "dict_keys(['M0', 'M2', 'M4', 'SPARSI', 'IRF', 'WLF'])\n"
          ]
        }
      ]
    },
    {
      "cell_type": "code",
      "source": [
        "len(X), len(Y)"
      ],
      "metadata": {
        "colab": {
          "base_uri": "https://localhost:8080/"
        },
        "id": "oJFCcGx2uSdC",
        "outputId": "d2ddc6c9-8980-43ce-b67d-32b5b9962e10"
      },
      "execution_count": 138,
      "outputs": [
        {
          "output_type": "execute_result",
          "data": {
            "text/plain": [
              "(1980, 1980)"
            ]
          },
          "metadata": {},
          "execution_count": 138
        }
      ]
    },
    {
      "cell_type": "code",
      "source": [
        "#\n",
        "df = pd.DataFrame(X[0])\n",
        "index = pd.Index(['M0', 'M2', 'M4', 'SPARSI', 'IRF', 'WLF'])\n",
        "df = df.set_index(index)\n",
        "df"
      ],
      "metadata": {
        "colab": {
          "base_uri": "https://localhost:8080/",
          "height": 238
        },
        "id": "BazAZkIbwiN3",
        "outputId": "579f1751-85f7-4f48-9583-238f378f23fd"
      },
      "execution_count": 139,
      "outputs": [
        {
          "output_type": "execute_result",
          "data": {
            "text/plain": [
              "               0         1         2         3         4         5         6  \\\n",
              "M0      0.042368  0.047894  0.031708  0.042929  0.030179  0.039774  0.032126   \n",
              "M2      0.241035  0.244646  0.106452  0.232749  0.218877  0.285928  0.214250   \n",
              "M4      0.171459  0.181814  0.081298  0.183903  0.185411  0.210378  0.179882   \n",
              "SPARSI  0.000869  0.002438  0.005133  0.000915  0.000000  0.000014  0.000181   \n",
              "IRF     0.008545  0.015075  0.013990  0.014349  0.011487  0.005288  0.015614   \n",
              "WLF     0.035437  0.059260  0.039841  0.101831  0.144103  0.085559  0.106958   \n",
              "\n",
              "               7  \n",
              "M0      0.038843  \n",
              "M2      1.000000  \n",
              "M4      0.068510  \n",
              "SPARSI  0.150711  \n",
              "IRF     0.562155  \n",
              "WLF     0.006292  "
            ],
            "text/html": [
              "\n",
              "  <div id=\"df-0e29013d-aa0f-403c-944c-4b5ab52540c4\" class=\"colab-df-container\">\n",
              "    <div>\n",
              "<style scoped>\n",
              "    .dataframe tbody tr th:only-of-type {\n",
              "        vertical-align: middle;\n",
              "    }\n",
              "\n",
              "    .dataframe tbody tr th {\n",
              "        vertical-align: top;\n",
              "    }\n",
              "\n",
              "    .dataframe thead th {\n",
              "        text-align: right;\n",
              "    }\n",
              "</style>\n",
              "<table border=\"1\" class=\"dataframe\">\n",
              "  <thead>\n",
              "    <tr style=\"text-align: right;\">\n",
              "      <th></th>\n",
              "      <th>0</th>\n",
              "      <th>1</th>\n",
              "      <th>2</th>\n",
              "      <th>3</th>\n",
              "      <th>4</th>\n",
              "      <th>5</th>\n",
              "      <th>6</th>\n",
              "      <th>7</th>\n",
              "    </tr>\n",
              "  </thead>\n",
              "  <tbody>\n",
              "    <tr>\n",
              "      <th>M0</th>\n",
              "      <td>0.042368</td>\n",
              "      <td>0.047894</td>\n",
              "      <td>0.031708</td>\n",
              "      <td>0.042929</td>\n",
              "      <td>0.030179</td>\n",
              "      <td>0.039774</td>\n",
              "      <td>0.032126</td>\n",
              "      <td>0.038843</td>\n",
              "    </tr>\n",
              "    <tr>\n",
              "      <th>M2</th>\n",
              "      <td>0.241035</td>\n",
              "      <td>0.244646</td>\n",
              "      <td>0.106452</td>\n",
              "      <td>0.232749</td>\n",
              "      <td>0.218877</td>\n",
              "      <td>0.285928</td>\n",
              "      <td>0.214250</td>\n",
              "      <td>1.000000</td>\n",
              "    </tr>\n",
              "    <tr>\n",
              "      <th>M4</th>\n",
              "      <td>0.171459</td>\n",
              "      <td>0.181814</td>\n",
              "      <td>0.081298</td>\n",
              "      <td>0.183903</td>\n",
              "      <td>0.185411</td>\n",
              "      <td>0.210378</td>\n",
              "      <td>0.179882</td>\n",
              "      <td>0.068510</td>\n",
              "    </tr>\n",
              "    <tr>\n",
              "      <th>SPARSI</th>\n",
              "      <td>0.000869</td>\n",
              "      <td>0.002438</td>\n",
              "      <td>0.005133</td>\n",
              "      <td>0.000915</td>\n",
              "      <td>0.000000</td>\n",
              "      <td>0.000014</td>\n",
              "      <td>0.000181</td>\n",
              "      <td>0.150711</td>\n",
              "    </tr>\n",
              "    <tr>\n",
              "      <th>IRF</th>\n",
              "      <td>0.008545</td>\n",
              "      <td>0.015075</td>\n",
              "      <td>0.013990</td>\n",
              "      <td>0.014349</td>\n",
              "      <td>0.011487</td>\n",
              "      <td>0.005288</td>\n",
              "      <td>0.015614</td>\n",
              "      <td>0.562155</td>\n",
              "    </tr>\n",
              "    <tr>\n",
              "      <th>WLF</th>\n",
              "      <td>0.035437</td>\n",
              "      <td>0.059260</td>\n",
              "      <td>0.039841</td>\n",
              "      <td>0.101831</td>\n",
              "      <td>0.144103</td>\n",
              "      <td>0.085559</td>\n",
              "      <td>0.106958</td>\n",
              "      <td>0.006292</td>\n",
              "    </tr>\n",
              "  </tbody>\n",
              "</table>\n",
              "</div>\n",
              "    <div class=\"colab-df-buttons\">\n",
              "\n",
              "  <div class=\"colab-df-container\">\n",
              "    <button class=\"colab-df-convert\" onclick=\"convertToInteractive('df-0e29013d-aa0f-403c-944c-4b5ab52540c4')\"\n",
              "            title=\"Convert this dataframe to an interactive table.\"\n",
              "            style=\"display:none;\">\n",
              "\n",
              "  <svg xmlns=\"http://www.w3.org/2000/svg\" height=\"24px\" viewBox=\"0 -960 960 960\">\n",
              "    <path d=\"M120-120v-720h720v720H120Zm60-500h600v-160H180v160Zm220 220h160v-160H400v160Zm0 220h160v-160H400v160ZM180-400h160v-160H180v160Zm440 0h160v-160H620v160ZM180-180h160v-160H180v160Zm440 0h160v-160H620v160Z\"/>\n",
              "  </svg>\n",
              "    </button>\n",
              "\n",
              "  <style>\n",
              "    .colab-df-container {\n",
              "      display:flex;\n",
              "      gap: 12px;\n",
              "    }\n",
              "\n",
              "    .colab-df-convert {\n",
              "      background-color: #E8F0FE;\n",
              "      border: none;\n",
              "      border-radius: 50%;\n",
              "      cursor: pointer;\n",
              "      display: none;\n",
              "      fill: #1967D2;\n",
              "      height: 32px;\n",
              "      padding: 0 0 0 0;\n",
              "      width: 32px;\n",
              "    }\n",
              "\n",
              "    .colab-df-convert:hover {\n",
              "      background-color: #E2EBFA;\n",
              "      box-shadow: 0px 1px 2px rgba(60, 64, 67, 0.3), 0px 1px 3px 1px rgba(60, 64, 67, 0.15);\n",
              "      fill: #174EA6;\n",
              "    }\n",
              "\n",
              "    .colab-df-buttons div {\n",
              "      margin-bottom: 4px;\n",
              "    }\n",
              "\n",
              "    [theme=dark] .colab-df-convert {\n",
              "      background-color: #3B4455;\n",
              "      fill: #D2E3FC;\n",
              "    }\n",
              "\n",
              "    [theme=dark] .colab-df-convert:hover {\n",
              "      background-color: #434B5C;\n",
              "      box-shadow: 0px 1px 3px 1px rgba(0, 0, 0, 0.15);\n",
              "      filter: drop-shadow(0px 1px 2px rgba(0, 0, 0, 0.3));\n",
              "      fill: #FFFFFF;\n",
              "    }\n",
              "  </style>\n",
              "\n",
              "    <script>\n",
              "      const buttonEl =\n",
              "        document.querySelector('#df-0e29013d-aa0f-403c-944c-4b5ab52540c4 button.colab-df-convert');\n",
              "      buttonEl.style.display =\n",
              "        google.colab.kernel.accessAllowed ? 'block' : 'none';\n",
              "\n",
              "      async function convertToInteractive(key) {\n",
              "        const element = document.querySelector('#df-0e29013d-aa0f-403c-944c-4b5ab52540c4');\n",
              "        const dataTable =\n",
              "          await google.colab.kernel.invokeFunction('convertToInteractive',\n",
              "                                                    [key], {});\n",
              "        if (!dataTable) return;\n",
              "\n",
              "        const docLinkHtml = 'Like what you see? Visit the ' +\n",
              "          '<a target=\"_blank\" href=https://colab.research.google.com/notebooks/data_table.ipynb>data table notebook</a>'\n",
              "          + ' to learn more about interactive tables.';\n",
              "        element.innerHTML = '';\n",
              "        dataTable['output_type'] = 'display_data';\n",
              "        await google.colab.output.renderOutput(dataTable, element);\n",
              "        const docLink = document.createElement('div');\n",
              "        docLink.innerHTML = docLinkHtml;\n",
              "        element.appendChild(docLink);\n",
              "      }\n",
              "    </script>\n",
              "  </div>\n",
              "\n",
              "\n",
              "<div id=\"df-aa35796c-d454-497a-ab2d-3b47cf1b7817\">\n",
              "  <button class=\"colab-df-quickchart\" onclick=\"quickchart('df-aa35796c-d454-497a-ab2d-3b47cf1b7817')\"\n",
              "            title=\"Suggest charts\"\n",
              "            style=\"display:none;\">\n",
              "\n",
              "<svg xmlns=\"http://www.w3.org/2000/svg\" height=\"24px\"viewBox=\"0 0 24 24\"\n",
              "     width=\"24px\">\n",
              "    <g>\n",
              "        <path d=\"M19 3H5c-1.1 0-2 .9-2 2v14c0 1.1.9 2 2 2h14c1.1 0 2-.9 2-2V5c0-1.1-.9-2-2-2zM9 17H7v-7h2v7zm4 0h-2V7h2v10zm4 0h-2v-4h2v4z\"/>\n",
              "    </g>\n",
              "</svg>\n",
              "  </button>\n",
              "\n",
              "<style>\n",
              "  .colab-df-quickchart {\n",
              "      --bg-color: #E8F0FE;\n",
              "      --fill-color: #1967D2;\n",
              "      --hover-bg-color: #E2EBFA;\n",
              "      --hover-fill-color: #174EA6;\n",
              "      --disabled-fill-color: #AAA;\n",
              "      --disabled-bg-color: #DDD;\n",
              "  }\n",
              "\n",
              "  [theme=dark] .colab-df-quickchart {\n",
              "      --bg-color: #3B4455;\n",
              "      --fill-color: #D2E3FC;\n",
              "      --hover-bg-color: #434B5C;\n",
              "      --hover-fill-color: #FFFFFF;\n",
              "      --disabled-bg-color: #3B4455;\n",
              "      --disabled-fill-color: #666;\n",
              "  }\n",
              "\n",
              "  .colab-df-quickchart {\n",
              "    background-color: var(--bg-color);\n",
              "    border: none;\n",
              "    border-radius: 50%;\n",
              "    cursor: pointer;\n",
              "    display: none;\n",
              "    fill: var(--fill-color);\n",
              "    height: 32px;\n",
              "    padding: 0;\n",
              "    width: 32px;\n",
              "  }\n",
              "\n",
              "  .colab-df-quickchart:hover {\n",
              "    background-color: var(--hover-bg-color);\n",
              "    box-shadow: 0 1px 2px rgba(60, 64, 67, 0.3), 0 1px 3px 1px rgba(60, 64, 67, 0.15);\n",
              "    fill: var(--button-hover-fill-color);\n",
              "  }\n",
              "\n",
              "  .colab-df-quickchart-complete:disabled,\n",
              "  .colab-df-quickchart-complete:disabled:hover {\n",
              "    background-color: var(--disabled-bg-color);\n",
              "    fill: var(--disabled-fill-color);\n",
              "    box-shadow: none;\n",
              "  }\n",
              "\n",
              "  .colab-df-spinner {\n",
              "    border: 2px solid var(--fill-color);\n",
              "    border-color: transparent;\n",
              "    border-bottom-color: var(--fill-color);\n",
              "    animation:\n",
              "      spin 1s steps(1) infinite;\n",
              "  }\n",
              "\n",
              "  @keyframes spin {\n",
              "    0% {\n",
              "      border-color: transparent;\n",
              "      border-bottom-color: var(--fill-color);\n",
              "      border-left-color: var(--fill-color);\n",
              "    }\n",
              "    20% {\n",
              "      border-color: transparent;\n",
              "      border-left-color: var(--fill-color);\n",
              "      border-top-color: var(--fill-color);\n",
              "    }\n",
              "    30% {\n",
              "      border-color: transparent;\n",
              "      border-left-color: var(--fill-color);\n",
              "      border-top-color: var(--fill-color);\n",
              "      border-right-color: var(--fill-color);\n",
              "    }\n",
              "    40% {\n",
              "      border-color: transparent;\n",
              "      border-right-color: var(--fill-color);\n",
              "      border-top-color: var(--fill-color);\n",
              "    }\n",
              "    60% {\n",
              "      border-color: transparent;\n",
              "      border-right-color: var(--fill-color);\n",
              "    }\n",
              "    80% {\n",
              "      border-color: transparent;\n",
              "      border-right-color: var(--fill-color);\n",
              "      border-bottom-color: var(--fill-color);\n",
              "    }\n",
              "    90% {\n",
              "      border-color: transparent;\n",
              "      border-bottom-color: var(--fill-color);\n",
              "    }\n",
              "  }\n",
              "</style>\n",
              "\n",
              "  <script>\n",
              "    async function quickchart(key) {\n",
              "      const quickchartButtonEl =\n",
              "        document.querySelector('#' + key + ' button');\n",
              "      quickchartButtonEl.disabled = true;  // To prevent multiple clicks.\n",
              "      quickchartButtonEl.classList.add('colab-df-spinner');\n",
              "      try {\n",
              "        const charts = await google.colab.kernel.invokeFunction(\n",
              "            'suggestCharts', [key], {});\n",
              "      } catch (error) {\n",
              "        console.error('Error during call to suggestCharts:', error);\n",
              "      }\n",
              "      quickchartButtonEl.classList.remove('colab-df-spinner');\n",
              "      quickchartButtonEl.classList.add('colab-df-quickchart-complete');\n",
              "    }\n",
              "    (() => {\n",
              "      let quickchartButtonEl =\n",
              "        document.querySelector('#df-aa35796c-d454-497a-ab2d-3b47cf1b7817 button');\n",
              "      quickchartButtonEl.style.display =\n",
              "        google.colab.kernel.accessAllowed ? 'block' : 'none';\n",
              "    })();\n",
              "  </script>\n",
              "</div>\n",
              "\n",
              "  <div id=\"id_9d6112d1-0764-4ec8-9416-78c7949d121f\">\n",
              "    <style>\n",
              "      .colab-df-generate {\n",
              "        background-color: #E8F0FE;\n",
              "        border: none;\n",
              "        border-radius: 50%;\n",
              "        cursor: pointer;\n",
              "        display: none;\n",
              "        fill: #1967D2;\n",
              "        height: 32px;\n",
              "        padding: 0 0 0 0;\n",
              "        width: 32px;\n",
              "      }\n",
              "\n",
              "      .colab-df-generate:hover {\n",
              "        background-color: #E2EBFA;\n",
              "        box-shadow: 0px 1px 2px rgba(60, 64, 67, 0.3), 0px 1px 3px 1px rgba(60, 64, 67, 0.15);\n",
              "        fill: #174EA6;\n",
              "      }\n",
              "\n",
              "      [theme=dark] .colab-df-generate {\n",
              "        background-color: #3B4455;\n",
              "        fill: #D2E3FC;\n",
              "      }\n",
              "\n",
              "      [theme=dark] .colab-df-generate:hover {\n",
              "        background-color: #434B5C;\n",
              "        box-shadow: 0px 1px 3px 1px rgba(0, 0, 0, 0.15);\n",
              "        filter: drop-shadow(0px 1px 2px rgba(0, 0, 0, 0.3));\n",
              "        fill: #FFFFFF;\n",
              "      }\n",
              "    </style>\n",
              "    <button class=\"colab-df-generate\" onclick=\"generateWithVariable('df')\"\n",
              "            title=\"Generate code using this dataframe.\"\n",
              "            style=\"display:none;\">\n",
              "\n",
              "  <svg xmlns=\"http://www.w3.org/2000/svg\" height=\"24px\"viewBox=\"0 0 24 24\"\n",
              "       width=\"24px\">\n",
              "    <path d=\"M7,19H8.4L18.45,9,17,7.55,7,17.6ZM5,21V16.75L18.45,3.32a2,2,0,0,1,2.83,0l1.4,1.43a1.91,1.91,0,0,1,.58,1.4,1.91,1.91,0,0,1-.58,1.4L9.25,21ZM18.45,9,17,7.55Zm-12,3A5.31,5.31,0,0,0,4.9,8.1,5.31,5.31,0,0,0,1,6.5,5.31,5.31,0,0,0,4.9,4.9,5.31,5.31,0,0,0,6.5,1,5.31,5.31,0,0,0,8.1,4.9,5.31,5.31,0,0,0,12,6.5,5.46,5.46,0,0,0,6.5,12Z\"/>\n",
              "  </svg>\n",
              "    </button>\n",
              "    <script>\n",
              "      (() => {\n",
              "      const buttonEl =\n",
              "        document.querySelector('#id_9d6112d1-0764-4ec8-9416-78c7949d121f button.colab-df-generate');\n",
              "      buttonEl.style.display =\n",
              "        google.colab.kernel.accessAllowed ? 'block' : 'none';\n",
              "\n",
              "      buttonEl.onclick = () => {\n",
              "        google.colab.notebook.generateWithVariable('df');\n",
              "      }\n",
              "      })();\n",
              "    </script>\n",
              "  </div>\n",
              "\n",
              "    </div>\n",
              "  </div>\n"
            ]
          },
          "metadata": {},
          "execution_count": 139
        }
      ]
    },
    {
      "cell_type": "code",
      "source": [
        "X = np.array(X)\n",
        "Y = np.array(Y)\n",
        "X.shape, Y.shape"
      ],
      "metadata": {
        "colab": {
          "base_uri": "https://localhost:8080/"
        },
        "id": "BHt1DsXezc4m",
        "outputId": "ae47fe49-70c3-42ec-807a-3a5337069681"
      },
      "execution_count": 140,
      "outputs": [
        {
          "output_type": "execute_result",
          "data": {
            "text/plain": [
              "((1980, 6, 8), (1980,))"
            ]
          },
          "metadata": {},
          "execution_count": 140
        }
      ]
    },
    {
      "cell_type": "markdown",
      "source": [
        "**Model Building**"
      ],
      "metadata": {
        "id": "0l87yRy9yCbZ"
      }
    },
    {
      "cell_type": "code",
      "source": [
        "from sklearn.model_selection import train_test_split\n",
        "x_train, x_test, y_train, y_test = train_test_split(\n",
        "    X,Y,\n",
        "    test_size = .2, shuffle=True, random_state=0\n",
        ")"
      ],
      "metadata": {
        "id": "1v51JnuRyFlo"
      },
      "execution_count": 141,
      "outputs": []
    },
    {
      "cell_type": "code",
      "source": [
        "len(x_train), len(y_train)"
      ],
      "metadata": {
        "colab": {
          "base_uri": "https://localhost:8080/"
        },
        "id": "aQWVClBuyQf3",
        "outputId": "5f563025-6e85-45c2-af0a-199a6f60b4ed"
      },
      "execution_count": 142,
      "outputs": [
        {
          "output_type": "execute_result",
          "data": {
            "text/plain": [
              "(1584, 1584)"
            ]
          },
          "metadata": {},
          "execution_count": 142
        }
      ]
    },
    {
      "cell_type": "code",
      "source": [
        "import tensorflow as tf\n",
        "from tensorflow.keras.models import Sequential\n",
        "from tensorflow.keras.layers import Conv1D, MaxPooling1D, Flatten, Dense\n",
        "\n",
        "# Define the input shape\n",
        "input_shape = (6, 8)\n",
        "\n",
        "# Create a Sequential model\n",
        "model = Sequential()\n",
        "\n",
        "# Add a Conv1D layer\n",
        "model.add(Conv1D(filters=32, kernel_size=3, activation='relu', input_shape=input_shape))\n",
        "\n",
        "# Add a MaxPooling1D layer (optional)\n",
        "model.add(MaxPooling1D(pool_size=2))\n",
        "\n",
        "# Flatten the output before feeding it to a Dense layer\n",
        "model.add(Flatten())\n",
        "\n",
        "# Add a Dense layer\n",
        "model.add(Dense(64, activation='relu'))\n",
        "\n",
        "# Add a Dense layer\n",
        "model.add(Dense(32, activation='relu'))\n",
        "\n",
        "# Add a Dense layer\n",
        "model.add(Dense(16, activation='relu'))\n",
        "\n",
        "# Output layer for classification (adjust units according to the number of classes)\n",
        "# Assuming classes are integers starting from 0\n",
        "model.add(Dense(12, activation='softmax'))\n",
        "\n",
        "# Compile the model\n",
        "model.compile(optimizer='adam', loss='sparse_categorical_crossentropy', metrics=['accuracy'])\n",
        "\n",
        "# Display model summary\n",
        "model.summary()"
      ],
      "metadata": {
        "colab": {
          "base_uri": "https://localhost:8080/"
        },
        "id": "uAfUtnYPIOcL",
        "outputId": "88e7cbfd-1534-4b07-9af6-f981e6a645ec"
      },
      "execution_count": 143,
      "outputs": [
        {
          "output_type": "stream",
          "name": "stdout",
          "text": [
            "Model: \"sequential_6\"\n",
            "_________________________________________________________________\n",
            " Layer (type)                Output Shape              Param #   \n",
            "=================================================================\n",
            " conv1d_6 (Conv1D)           (None, 4, 32)             800       \n",
            "                                                                 \n",
            " max_pooling1d_6 (MaxPoolin  (None, 2, 32)             0         \n",
            " g1D)                                                            \n",
            "                                                                 \n",
            " flatten_6 (Flatten)         (None, 64)                0         \n",
            "                                                                 \n",
            " dense_18 (Dense)            (None, 64)                4160      \n",
            "                                                                 \n",
            " dense_19 (Dense)            (None, 32)                2080      \n",
            "                                                                 \n",
            " dense_20 (Dense)            (None, 16)                528       \n",
            "                                                                 \n",
            " dense_21 (Dense)            (None, 12)                204       \n",
            "                                                                 \n",
            "=================================================================\n",
            "Total params: 7772 (30.36 KB)\n",
            "Trainable params: 7772 (30.36 KB)\n",
            "Non-trainable params: 0 (0.00 Byte)\n",
            "_________________________________________________________________\n"
          ]
        }
      ]
    },
    {
      "cell_type": "code",
      "source": [
        "# Fit the model with training data\n",
        "history = model.fit(x_train, y_train, epochs=70, batch_size=32, validation_data=(x_test, y_test))"
      ],
      "metadata": {
        "colab": {
          "base_uri": "https://localhost:8080/"
        },
        "id": "_tJKZmzII70e",
        "outputId": "c2d376dc-9c74-4a26-8d50-ecd0c41cedf4"
      },
      "execution_count": 144,
      "outputs": [
        {
          "output_type": "stream",
          "name": "stdout",
          "text": [
            "Epoch 1/70\n",
            "50/50 [==============================] - 1s 7ms/step - loss: 2.4350 - accuracy: 0.2115 - val_loss: 2.3565 - val_accuracy: 0.3056\n",
            "Epoch 2/70\n",
            "50/50 [==============================] - 0s 3ms/step - loss: 2.2102 - accuracy: 0.3201 - val_loss: 1.9642 - val_accuracy: 0.3990\n",
            "Epoch 3/70\n",
            "50/50 [==============================] - 0s 3ms/step - loss: 1.7461 - accuracy: 0.4394 - val_loss: 1.4366 - val_accuracy: 0.6035\n",
            "Epoch 4/70\n",
            "50/50 [==============================] - 0s 3ms/step - loss: 1.2946 - accuracy: 0.6048 - val_loss: 1.0734 - val_accuracy: 0.6944\n",
            "Epoch 5/70\n",
            "50/50 [==============================] - 0s 3ms/step - loss: 1.0567 - accuracy: 0.6357 - val_loss: 0.9546 - val_accuracy: 0.6566\n",
            "Epoch 6/70\n",
            "50/50 [==============================] - 0s 3ms/step - loss: 0.9081 - accuracy: 0.6850 - val_loss: 0.8336 - val_accuracy: 0.7348\n",
            "Epoch 7/70\n",
            "50/50 [==============================] - 0s 3ms/step - loss: 0.8242 - accuracy: 0.7159 - val_loss: 0.7923 - val_accuracy: 0.7449\n",
            "Epoch 8/70\n",
            "50/50 [==============================] - 0s 3ms/step - loss: 0.7586 - accuracy: 0.7197 - val_loss: 0.7724 - val_accuracy: 0.7096\n",
            "Epoch 9/70\n",
            "50/50 [==============================] - 0s 3ms/step - loss: 0.6907 - accuracy: 0.7576 - val_loss: 0.6703 - val_accuracy: 0.7677\n",
            "Epoch 10/70\n",
            "50/50 [==============================] - 0s 5ms/step - loss: 0.6276 - accuracy: 0.7872 - val_loss: 0.6075 - val_accuracy: 0.8232\n",
            "Epoch 11/70\n",
            "50/50 [==============================] - 0s 6ms/step - loss: 0.6149 - accuracy: 0.7936 - val_loss: 0.6453 - val_accuracy: 0.7475\n",
            "Epoch 12/70\n",
            "50/50 [==============================] - 0s 5ms/step - loss: 0.5745 - accuracy: 0.7980 - val_loss: 0.6349 - val_accuracy: 0.7525\n",
            "Epoch 13/70\n",
            "50/50 [==============================] - 0s 6ms/step - loss: 0.5452 - accuracy: 0.8081 - val_loss: 0.5513 - val_accuracy: 0.8258\n",
            "Epoch 14/70\n",
            "50/50 [==============================] - 0s 5ms/step - loss: 0.5104 - accuracy: 0.8188 - val_loss: 0.5335 - val_accuracy: 0.8258\n",
            "Epoch 15/70\n",
            "50/50 [==============================] - 0s 5ms/step - loss: 0.4799 - accuracy: 0.8295 - val_loss: 0.5250 - val_accuracy: 0.8460\n",
            "Epoch 16/70\n",
            "50/50 [==============================] - 0s 5ms/step - loss: 0.4591 - accuracy: 0.8403 - val_loss: 0.4672 - val_accuracy: 0.8460\n",
            "Epoch 17/70\n",
            "50/50 [==============================] - 0s 5ms/step - loss: 0.4228 - accuracy: 0.8554 - val_loss: 0.4703 - val_accuracy: 0.8460\n",
            "Epoch 18/70\n",
            "50/50 [==============================] - 0s 9ms/step - loss: 0.4227 - accuracy: 0.8598 - val_loss: 0.4528 - val_accuracy: 0.8434\n",
            "Epoch 19/70\n",
            "50/50 [==============================] - 1s 10ms/step - loss: 0.4141 - accuracy: 0.8548 - val_loss: 0.4748 - val_accuracy: 0.8535\n",
            "Epoch 20/70\n",
            "50/50 [==============================] - 0s 5ms/step - loss: 0.3987 - accuracy: 0.8662 - val_loss: 0.4417 - val_accuracy: 0.8586\n",
            "Epoch 21/70\n",
            "50/50 [==============================] - 0s 3ms/step - loss: 0.3795 - accuracy: 0.8718 - val_loss: 0.4118 - val_accuracy: 0.8611\n",
            "Epoch 22/70\n",
            "50/50 [==============================] - 0s 5ms/step - loss: 0.3647 - accuracy: 0.8744 - val_loss: 0.3963 - val_accuracy: 0.8662\n",
            "Epoch 23/70\n",
            "50/50 [==============================] - 0s 5ms/step - loss: 0.3447 - accuracy: 0.8889 - val_loss: 0.4035 - val_accuracy: 0.8485\n",
            "Epoch 24/70\n",
            "50/50 [==============================] - 0s 5ms/step - loss: 0.3348 - accuracy: 0.8908 - val_loss: 0.4024 - val_accuracy: 0.8611\n",
            "Epoch 25/70\n",
            "50/50 [==============================] - 0s 4ms/step - loss: 0.3345 - accuracy: 0.8851 - val_loss: 0.3978 - val_accuracy: 0.8712\n",
            "Epoch 26/70\n",
            "50/50 [==============================] - 0s 4ms/step - loss: 0.3135 - accuracy: 0.8908 - val_loss: 0.3754 - val_accuracy: 0.8712\n",
            "Epoch 27/70\n",
            "50/50 [==============================] - 0s 4ms/step - loss: 0.3093 - accuracy: 0.8958 - val_loss: 0.3681 - val_accuracy: 0.8788\n",
            "Epoch 28/70\n",
            "50/50 [==============================] - 0s 4ms/step - loss: 0.3115 - accuracy: 0.8939 - val_loss: 0.3907 - val_accuracy: 0.8712\n",
            "Epoch 29/70\n",
            "50/50 [==============================] - 0s 4ms/step - loss: 0.3304 - accuracy: 0.8819 - val_loss: 0.3613 - val_accuracy: 0.8889\n",
            "Epoch 30/70\n",
            "50/50 [==============================] - 0s 4ms/step - loss: 0.2957 - accuracy: 0.8977 - val_loss: 0.3397 - val_accuracy: 0.8838\n",
            "Epoch 31/70\n",
            "50/50 [==============================] - 0s 4ms/step - loss: 0.2957 - accuracy: 0.8996 - val_loss: 0.3335 - val_accuracy: 0.8864\n",
            "Epoch 32/70\n",
            "50/50 [==============================] - 0s 4ms/step - loss: 0.2895 - accuracy: 0.8990 - val_loss: 0.3395 - val_accuracy: 0.8864\n",
            "Epoch 33/70\n",
            "50/50 [==============================] - 0s 4ms/step - loss: 0.2587 - accuracy: 0.9179 - val_loss: 0.3415 - val_accuracy: 0.8737\n",
            "Epoch 34/70\n",
            "50/50 [==============================] - 0s 5ms/step - loss: 0.2761 - accuracy: 0.9003 - val_loss: 0.3155 - val_accuracy: 0.8939\n",
            "Epoch 35/70\n",
            "50/50 [==============================] - 0s 5ms/step - loss: 0.2766 - accuracy: 0.9078 - val_loss: 0.3399 - val_accuracy: 0.8889\n",
            "Epoch 36/70\n",
            "50/50 [==============================] - 0s 5ms/step - loss: 0.2653 - accuracy: 0.9053 - val_loss: 0.3297 - val_accuracy: 0.8813\n",
            "Epoch 37/70\n",
            "50/50 [==============================] - 0s 6ms/step - loss: 0.2458 - accuracy: 0.9217 - val_loss: 0.3181 - val_accuracy: 0.9066\n",
            "Epoch 38/70\n",
            "50/50 [==============================] - 0s 5ms/step - loss: 0.2489 - accuracy: 0.9148 - val_loss: 0.3836 - val_accuracy: 0.8611\n",
            "Epoch 39/70\n",
            "50/50 [==============================] - 0s 6ms/step - loss: 0.2516 - accuracy: 0.9135 - val_loss: 0.3352 - val_accuracy: 0.8914\n",
            "Epoch 40/70\n",
            "50/50 [==============================] - 0s 6ms/step - loss: 0.2388 - accuracy: 0.9173 - val_loss: 0.3248 - val_accuracy: 0.8838\n",
            "Epoch 41/70\n",
            "50/50 [==============================] - 0s 5ms/step - loss: 0.2278 - accuracy: 0.9192 - val_loss: 0.3334 - val_accuracy: 0.8788\n",
            "Epoch 42/70\n",
            "50/50 [==============================] - 0s 6ms/step - loss: 0.2259 - accuracy: 0.9205 - val_loss: 0.3072 - val_accuracy: 0.9141\n",
            "Epoch 43/70\n",
            "50/50 [==============================] - 0s 6ms/step - loss: 0.2316 - accuracy: 0.9205 - val_loss: 0.3142 - val_accuracy: 0.8914\n",
            "Epoch 44/70\n",
            "50/50 [==============================] - 0s 5ms/step - loss: 0.2280 - accuracy: 0.9205 - val_loss: 0.2991 - val_accuracy: 0.8990\n",
            "Epoch 45/70\n",
            "50/50 [==============================] - 0s 5ms/step - loss: 0.2261 - accuracy: 0.9217 - val_loss: 0.2865 - val_accuracy: 0.9040\n",
            "Epoch 46/70\n",
            "50/50 [==============================] - 0s 6ms/step - loss: 0.2219 - accuracy: 0.9211 - val_loss: 0.2946 - val_accuracy: 0.9141\n",
            "Epoch 47/70\n",
            "50/50 [==============================] - 0s 6ms/step - loss: 0.2312 - accuracy: 0.9211 - val_loss: 0.2918 - val_accuracy: 0.8939\n",
            "Epoch 48/70\n",
            "50/50 [==============================] - 0s 5ms/step - loss: 0.2198 - accuracy: 0.9255 - val_loss: 0.3145 - val_accuracy: 0.8914\n",
            "Epoch 49/70\n",
            "50/50 [==============================] - 0s 6ms/step - loss: 0.2056 - accuracy: 0.9306 - val_loss: 0.2962 - val_accuracy: 0.8889\n",
            "Epoch 50/70\n",
            "50/50 [==============================] - 0s 5ms/step - loss: 0.2045 - accuracy: 0.9299 - val_loss: 0.3440 - val_accuracy: 0.8914\n",
            "Epoch 51/70\n",
            "50/50 [==============================] - 0s 5ms/step - loss: 0.2294 - accuracy: 0.9141 - val_loss: 0.2949 - val_accuracy: 0.8889\n",
            "Epoch 52/70\n",
            "50/50 [==============================] - 0s 5ms/step - loss: 0.2201 - accuracy: 0.9318 - val_loss: 0.3128 - val_accuracy: 0.8939\n",
            "Epoch 53/70\n",
            "50/50 [==============================] - 0s 6ms/step - loss: 0.2049 - accuracy: 0.9211 - val_loss: 0.3438 - val_accuracy: 0.8662\n",
            "Epoch 54/70\n",
            "50/50 [==============================] - 0s 5ms/step - loss: 0.2029 - accuracy: 0.9293 - val_loss: 0.3081 - val_accuracy: 0.8939\n",
            "Epoch 55/70\n",
            "50/50 [==============================] - 0s 6ms/step - loss: 0.1969 - accuracy: 0.9343 - val_loss: 0.2845 - val_accuracy: 0.9141\n",
            "Epoch 56/70\n",
            "50/50 [==============================] - 0s 6ms/step - loss: 0.2087 - accuracy: 0.9261 - val_loss: 0.2807 - val_accuracy: 0.9015\n",
            "Epoch 57/70\n",
            "50/50 [==============================] - 0s 4ms/step - loss: 0.1888 - accuracy: 0.9299 - val_loss: 0.2813 - val_accuracy: 0.9040\n",
            "Epoch 58/70\n",
            "50/50 [==============================] - 0s 5ms/step - loss: 0.1946 - accuracy: 0.9312 - val_loss: 0.2698 - val_accuracy: 0.9116\n",
            "Epoch 59/70\n",
            "50/50 [==============================] - 0s 5ms/step - loss: 0.2174 - accuracy: 0.9249 - val_loss: 0.2863 - val_accuracy: 0.9091\n",
            "Epoch 60/70\n",
            "50/50 [==============================] - 0s 5ms/step - loss: 0.1907 - accuracy: 0.9318 - val_loss: 0.2836 - val_accuracy: 0.8864\n",
            "Epoch 61/70\n",
            "50/50 [==============================] - 0s 5ms/step - loss: 0.1878 - accuracy: 0.9324 - val_loss: 0.3025 - val_accuracy: 0.8939\n",
            "Epoch 62/70\n",
            "50/50 [==============================] - 0s 5ms/step - loss: 0.1974 - accuracy: 0.9306 - val_loss: 0.2533 - val_accuracy: 0.9242\n",
            "Epoch 63/70\n",
            "50/50 [==============================] - 0s 5ms/step - loss: 0.1724 - accuracy: 0.9426 - val_loss: 0.2599 - val_accuracy: 0.9141\n",
            "Epoch 64/70\n",
            "50/50 [==============================] - 0s 5ms/step - loss: 0.1873 - accuracy: 0.9350 - val_loss: 0.2974 - val_accuracy: 0.8914\n",
            "Epoch 65/70\n",
            "50/50 [==============================] - 0s 4ms/step - loss: 0.1726 - accuracy: 0.9426 - val_loss: 0.2658 - val_accuracy: 0.9015\n",
            "Epoch 66/70\n",
            "50/50 [==============================] - 0s 4ms/step - loss: 0.1858 - accuracy: 0.9337 - val_loss: 0.2551 - val_accuracy: 0.9192\n",
            "Epoch 67/70\n",
            "50/50 [==============================] - 0s 4ms/step - loss: 0.1805 - accuracy: 0.9306 - val_loss: 0.2845 - val_accuracy: 0.9066\n",
            "Epoch 68/70\n",
            "50/50 [==============================] - 0s 6ms/step - loss: 0.1981 - accuracy: 0.9268 - val_loss: 0.3061 - val_accuracy: 0.8914\n",
            "Epoch 69/70\n",
            "50/50 [==============================] - 0s 5ms/step - loss: 0.1662 - accuracy: 0.9413 - val_loss: 0.2752 - val_accuracy: 0.8965\n",
            "Epoch 70/70\n",
            "50/50 [==============================] - 0s 5ms/step - loss: 0.1674 - accuracy: 0.9413 - val_loss: 0.2945 - val_accuracy: 0.9015\n"
          ]
        }
      ]
    },
    {
      "cell_type": "markdown",
      "source": [
        "**Classification Report**"
      ],
      "metadata": {
        "id": "J2e_cIXdJKYW"
      }
    },
    {
      "cell_type": "code",
      "source": [
        "from sklearn.metrics import confusion_matrix, classification_report\n",
        "y_pred = model.predict(x_test)\n",
        "y_pred_classes = [np.argmax(element) for element in y_pred]\n",
        "\n",
        "print(\"Classification Report : \")\n",
        "print(classification_report(y_test, y_pred_classes))"
      ],
      "metadata": {
        "colab": {
          "base_uri": "https://localhost:8080/"
        },
        "id": "04LKUveiJJ5G",
        "outputId": "f1a665ef-3e56-4a9b-8173-d29a2dad9c92"
      },
      "execution_count": 145,
      "outputs": [
        {
          "output_type": "stream",
          "name": "stdout",
          "text": [
            "13/13 [==============================] - 0s 3ms/step\n",
            "Classification Report : \n",
            "              precision    recall  f1-score   support\n",
            "\n",
            "           0       0.93      1.00      0.97        42\n",
            "           1       0.62      1.00      0.76        29\n",
            "           2       0.94      1.00      0.97        32\n",
            "           3       0.95      0.63      0.76        30\n",
            "           4       0.92      0.69      0.79        32\n",
            "           5       1.00      0.79      0.88        29\n",
            "           6       0.96      0.86      0.91        29\n",
            "           7       1.00      0.82      0.90        33\n",
            "           8       0.97      1.00      0.99        36\n",
            "           9       0.94      1.00      0.97        31\n",
            "          10       0.81      0.97      0.89        36\n",
            "          11       0.97      0.97      0.97        37\n",
            "\n",
            "    accuracy                           0.90       396\n",
            "   macro avg       0.92      0.89      0.90       396\n",
            "weighted avg       0.92      0.90      0.90       396\n",
            "\n"
          ]
        }
      ]
    },
    {
      "cell_type": "code",
      "source": [
        "# Plotting model accuracy and loss\n",
        "def plot_history(history):\n",
        "    plt.figure(figsize=(10, 5))\n",
        "\n",
        "    # Plot training & validation accuracy values\n",
        "    plt.subplot(1, 2, 1)\n",
        "    plt.ylim(0, 1)\n",
        "    plt.plot(history.history['accuracy'])\n",
        "    plt.plot(history.history['val_accuracy'])\n",
        "    plt.title('Model Accuracy')\n",
        "    plt.ylabel('Accuracy')\n",
        "    plt.xlabel('Epoch')\n",
        "    plt.legend(['Train', 'Validation'], loc='upper left')\n",
        "\n",
        "    # Plot training & validation loss values\n",
        "    plt.subplot(1, 2, 2)\n",
        "    plt.ylim(0, 2)\n",
        "    plt.plot(history.history['loss'])\n",
        "    plt.plot(history.history['val_loss'])\n",
        "    plt.title('Model Loss')\n",
        "    plt.ylabel('Loss')\n",
        "    plt.xlabel('Epoch')\n",
        "    plt.legend(['Train', 'Validation'], loc='upper right')\n",
        "\n",
        "    plt.tight_layout()\n",
        "    plt.show()\n",
        "\n",
        "# Call the function to plot the history\n",
        "plot_history(history)"
      ],
      "metadata": {
        "colab": {
          "base_uri": "https://localhost:8080/",
          "height": 507
        },
        "id": "LiybPDHQJZ7S",
        "outputId": "f0f00b9c-3b44-4a6e-bad3-e2e31990cab1"
      },
      "execution_count": 146,
      "outputs": [
        {
          "output_type": "display_data",
          "data": {
            "text/plain": [
              "<Figure size 1000x500 with 2 Axes>"
            ],
            "image/png": "[encoded data removed]"
          },
          "metadata": {}
        }
      ]
    },
    {
      "cell_type": "markdown",
      "source": [
        "**Validation with Pronation Data**"
      ],
      "metadata": {
        "id": "FKtUgLNlPE4b"
      }
    },
    {
      "cell_type": "code",
      "source": [
        "x_pronation, y_pronation = get_input(['Arifa'], gestures, \"Pronation\")\n",
        "x_pronation = np.array(x_pronation)\n",
        "y_pronation = np.array(y_pronation)"
      ],
      "metadata": {
        "colab": {
          "base_uri": "https://localhost:8080/"
        },
        "id": "ESQgPNj8PMeO",
        "outputId": "9f8e9117-8b49-43c8-9b29-326944db7983"
      },
      "execution_count": 147,
      "outputs": [
        {
          "output_type": "stream",
          "name": "stdout",
          "text": [
            "dict_keys(['M0', 'M2', 'M4', 'SPARSI', 'IRF', 'WLF'])\n",
            "dict_keys(['M0', 'M2', 'M4', 'SPARSI', 'IRF', 'WLF'])\n",
            "dict_keys(['M0', 'M2', 'M4', 'SPARSI', 'IRF', 'WLF'])\n",
            "dict_keys(['M0', 'M2', 'M4', 'SPARSI', 'IRF', 'WLF'])\n",
            "dict_keys(['M0', 'M2', 'M4', 'SPARSI', 'IRF', 'WLF'])\n",
            "dict_keys(['M0', 'M2', 'M4', 'SPARSI', 'IRF', 'WLF'])\n",
            "dict_keys(['M0', 'M2', 'M4', 'SPARSI', 'IRF', 'WLF'])\n",
            "dict_keys(['M0', 'M2', 'M4', 'SPARSI', 'IRF', 'WLF'])\n",
            "dict_keys(['M0', 'M2', 'M4', 'SPARSI', 'IRF', 'WLF'])\n",
            "dict_keys(['M0', 'M2', 'M4', 'SPARSI', 'IRF', 'WLF'])\n",
            "dict_keys(['M0', 'M2', 'M4', 'SPARSI', 'IRF', 'WLF'])\n",
            "dict_keys(['M0', 'M2', 'M4', 'SPARSI', 'IRF', 'WLF'])\n",
            "dict_keys(['M0', 'M2', 'M4', 'SPARSI', 'IRF', 'WLF'])\n",
            "dict_keys(['M0', 'M2', 'M4', 'SPARSI', 'IRF', 'WLF'])\n",
            "dict_keys(['M0', 'M2', 'M4', 'SPARSI', 'IRF', 'WLF'])\n",
            "dict_keys(['M0', 'M2', 'M4', 'SPARSI', 'IRF', 'WLF'])\n",
            "dict_keys(['M0', 'M2', 'M4', 'SPARSI', 'IRF', 'WLF'])\n",
            "dict_keys(['M0', 'M2', 'M4', 'SPARSI', 'IRF', 'WLF'])\n",
            "dict_keys(['M0', 'M2', 'M4', 'SPARSI', 'IRF', 'WLF'])\n",
            "dict_keys(['M0', 'M2', 'M4', 'SPARSI', 'IRF', 'WLF'])\n",
            "dict_keys(['M0', 'M2', 'M4', 'SPARSI', 'IRF', 'WLF'])\n",
            "dict_keys(['M0', 'M2', 'M4', 'SPARSI', 'IRF', 'WLF'])\n",
            "dict_keys(['M0', 'M2', 'M4', 'SPARSI', 'IRF', 'WLF'])\n",
            "dict_keys(['M0', 'M2', 'M4', 'SPARSI', 'IRF', 'WLF'])\n",
            "dict_keys(['M0', 'M2', 'M4', 'SPARSI', 'IRF', 'WLF'])\n",
            "dict_keys(['M0', 'M2', 'M4', 'SPARSI', 'IRF', 'WLF'])\n",
            "dict_keys(['M0', 'M2', 'M4', 'SPARSI', 'IRF', 'WLF'])\n",
            "dict_keys(['M0', 'M2', 'M4', 'SPARSI', 'IRF', 'WLF'])\n",
            "dict_keys(['M0', 'M2', 'M4', 'SPARSI', 'IRF', 'WLF'])\n",
            "dict_keys(['M0', 'M2', 'M4', 'SPARSI', 'IRF', 'WLF'])\n",
            "dict_keys(['M0', 'M2', 'M4', 'SPARSI', 'IRF', 'WLF'])\n",
            "dict_keys(['M0', 'M2', 'M4', 'SPARSI', 'IRF', 'WLF'])\n",
            "dict_keys(['M0', 'M2', 'M4', 'SPARSI', 'IRF', 'WLF'])\n",
            "dict_keys(['M0', 'M2', 'M4', 'SPARSI', 'IRF', 'WLF'])\n",
            "dict_keys(['M0', 'M2', 'M4', 'SPARSI', 'IRF', 'WLF'])\n",
            "dict_keys(['M0', 'M2', 'M4', 'SPARSI', 'IRF', 'WLF'])\n",
            "dict_keys(['M0', 'M2', 'M4', 'SPARSI', 'IRF', 'WLF'])\n",
            "dict_keys(['M0', 'M2', 'M4', 'SPARSI', 'IRF', 'WLF'])\n",
            "dict_keys(['M0', 'M2', 'M4', 'SPARSI', 'IRF', 'WLF'])\n",
            "dict_keys(['M0', 'M2', 'M4', 'SPARSI', 'IRF', 'WLF'])\n",
            "dict_keys(['M0', 'M2', 'M4', 'SPARSI', 'IRF', 'WLF'])\n",
            "dict_keys(['M0', 'M2', 'M4', 'SPARSI', 'IRF', 'WLF'])\n",
            "dict_keys(['M0', 'M2', 'M4', 'SPARSI', 'IRF', 'WLF'])\n",
            "dict_keys(['M0', 'M2', 'M4', 'SPARSI', 'IRF', 'WLF'])\n",
            "dict_keys(['M0', 'M2', 'M4', 'SPARSI', 'IRF', 'WLF'])\n",
            "dict_keys(['M0', 'M2', 'M4', 'SPARSI', 'IRF', 'WLF'])\n",
            "dict_keys(['M0', 'M2', 'M4', 'SPARSI', 'IRF', 'WLF'])\n",
            "dict_keys(['M0', 'M2', 'M4', 'SPARSI', 'IRF', 'WLF'])\n",
            "dict_keys(['M0', 'M2', 'M4', 'SPARSI', 'IRF', 'WLF'])\n",
            "dict_keys(['M0', 'M2', 'M4', 'SPARSI', 'IRF', 'WLF'])\n",
            "dict_keys(['M0', 'M2', 'M4', 'SPARSI', 'IRF', 'WLF'])\n",
            "dict_keys(['M0', 'M2', 'M4', 'SPARSI', 'IRF', 'WLF'])\n",
            "dict_keys(['M0', 'M2', 'M4', 'SPARSI', 'IRF', 'WLF'])\n",
            "dict_keys(['M0', 'M2', 'M4', 'SPARSI', 'IRF', 'WLF'])\n",
            "dict_keys(['M0', 'M2', 'M4', 'SPARSI', 'IRF', 'WLF'])\n",
            "dict_keys(['M0', 'M2', 'M4', 'SPARSI', 'IRF', 'WLF'])\n",
            "dict_keys(['M0', 'M2', 'M4', 'SPARSI', 'IRF', 'WLF'])\n",
            "dict_keys(['M0', 'M2', 'M4', 'SPARSI', 'IRF', 'WLF'])\n",
            "dict_keys(['M0', 'M2', 'M4', 'SPARSI', 'IRF', 'WLF'])\n",
            "dict_keys(['M0', 'M2', 'M4', 'SPARSI', 'IRF', 'WLF'])\n"
          ]
        }
      ]
    },
    {
      "cell_type": "code",
      "source": [
        "pronation_results = model.evaluate(x_pronation, y_pronation, batch_size=32)\n",
        "print(pronation_results)"
      ],
      "metadata": {
        "colab": {
          "base_uri": "https://localhost:8080/"
        },
        "id": "yrfITo8rRRZ2",
        "outputId": "06171313-e0a9-433d-d420-7a219ddb136e"
      },
      "execution_count": 148,
      "outputs": [
        {
          "output_type": "stream",
          "name": "stdout",
          "text": [
            "62/62 [==============================] - 0s 2ms/step - loss: 3.0717 - accuracy: 0.4732\n",
            "[3.0716757774353027, 0.47323232889175415]\n"
          ]
        }
      ]
    },
    {
      "cell_type": "markdown",
      "source": [
        "**Validation with Supination Data**"
      ],
      "metadata": {
        "id": "LIpKxRAjTRQX"
      }
    },
    {
      "cell_type": "code",
      "source": [
        "x_supination, y_supination = get_input(['Arifa'], gestures, \"Supination\")\n",
        "x_supination = np.array(x_supination)\n",
        "y_supination = np.array(y_supination)"
      ],
      "metadata": {
        "colab": {
          "base_uri": "https://localhost:8080/"
        },
        "id": "62HcfeQKTW2P",
        "outputId": "78b6311c-0e8c-43ba-c13c-e9e41fb12d53"
      },
      "execution_count": 149,
      "outputs": [
        {
          "output_type": "stream",
          "name": "stdout",
          "text": [
            "dict_keys(['M0', 'M2', 'M4', 'SPARSI', 'IRF', 'WLF'])\n",
            "dict_keys(['M0', 'M2', 'M4', 'SPARSI', 'IRF', 'WLF'])\n",
            "dict_keys(['M0', 'M2', 'M4', 'SPARSI', 'IRF', 'WLF'])\n",
            "dict_keys(['M0', 'M2', 'M4', 'SPARSI', 'IRF', 'WLF'])\n",
            "dict_keys(['M0', 'M2', 'M4', 'SPARSI', 'IRF', 'WLF'])\n",
            "dict_keys(['M0', 'M2', 'M4', 'SPARSI', 'IRF', 'WLF'])\n",
            "dict_keys(['M0', 'M2', 'M4', 'SPARSI', 'IRF', 'WLF'])\n",
            "dict_keys(['M0', 'M2', 'M4', 'SPARSI', 'IRF', 'WLF'])\n",
            "dict_keys(['M0', 'M2', 'M4', 'SPARSI', 'IRF', 'WLF'])\n",
            "dict_keys(['M0', 'M2', 'M4', 'SPARSI', 'IRF', 'WLF'])\n",
            "dict_keys(['M0', 'M2', 'M4', 'SPARSI', 'IRF', 'WLF'])\n",
            "dict_keys(['M0', 'M2', 'M4', 'SPARSI', 'IRF', 'WLF'])\n",
            "dict_keys(['M0', 'M2', 'M4', 'SPARSI', 'IRF', 'WLF'])\n",
            "dict_keys(['M0', 'M2', 'M4', 'SPARSI', 'IRF', 'WLF'])\n",
            "dict_keys(['M0', 'M2', 'M4', 'SPARSI', 'IRF', 'WLF'])\n",
            "dict_keys(['M0', 'M2', 'M4', 'SPARSI', 'IRF', 'WLF'])\n",
            "dict_keys(['M0', 'M2', 'M4', 'SPARSI', 'IRF', 'WLF'])\n",
            "dict_keys(['M0', 'M2', 'M4', 'SPARSI', 'IRF', 'WLF'])\n",
            "dict_keys(['M0', 'M2', 'M4', 'SPARSI', 'IRF', 'WLF'])\n",
            "dict_keys(['M0', 'M2', 'M4', 'SPARSI', 'IRF', 'WLF'])\n",
            "dict_keys(['M0', 'M2', 'M4', 'SPARSI', 'IRF', 'WLF'])\n",
            "dict_keys(['M0', 'M2', 'M4', 'SPARSI', 'IRF', 'WLF'])\n",
            "dict_keys(['M0', 'M2', 'M4', 'SPARSI', 'IRF', 'WLF'])\n",
            "dict_keys(['M0', 'M2', 'M4', 'SPARSI', 'IRF', 'WLF'])\n",
            "dict_keys(['M0', 'M2', 'M4', 'SPARSI', 'IRF', 'WLF'])\n",
            "dict_keys(['M0', 'M2', 'M4', 'SPARSI', 'IRF', 'WLF'])\n",
            "dict_keys(['M0', 'M2', 'M4', 'SPARSI', 'IRF', 'WLF'])\n",
            "dict_keys(['M0', 'M2', 'M4', 'SPARSI', 'IRF', 'WLF'])\n",
            "dict_keys(['M0', 'M2', 'M4', 'SPARSI', 'IRF', 'WLF'])\n",
            "dict_keys(['M0', 'M2', 'M4', 'SPARSI', 'IRF', 'WLF'])\n",
            "dict_keys(['M0', 'M2', 'M4', 'SPARSI', 'IRF', 'WLF'])\n",
            "dict_keys(['M0', 'M2', 'M4', 'SPARSI', 'IRF', 'WLF'])\n",
            "dict_keys(['M0', 'M2', 'M4', 'SPARSI', 'IRF', 'WLF'])\n",
            "dict_keys(['M0', 'M2', 'M4', 'SPARSI', 'IRF', 'WLF'])\n",
            "dict_keys(['M0', 'M2', 'M4', 'SPARSI', 'IRF', 'WLF'])\n",
            "dict_keys(['M0', 'M2', 'M4', 'SPARSI', 'IRF', 'WLF'])\n",
            "dict_keys(['M0', 'M2', 'M4', 'SPARSI', 'IRF', 'WLF'])\n",
            "dict_keys(['M0', 'M2', 'M4', 'SPARSI', 'IRF', 'WLF'])\n",
            "dict_keys(['M0', 'M2', 'M4', 'SPARSI', 'IRF', 'WLF'])\n",
            "dict_keys(['M0', 'M2', 'M4', 'SPARSI', 'IRF', 'WLF'])\n",
            "dict_keys(['M0', 'M2', 'M4', 'SPARSI', 'IRF', 'WLF'])\n",
            "dict_keys(['M0', 'M2', 'M4', 'SPARSI', 'IRF', 'WLF'])\n",
            "dict_keys(['M0', 'M2', 'M4', 'SPARSI', 'IRF', 'WLF'])\n",
            "dict_keys(['M0', 'M2', 'M4', 'SPARSI', 'IRF', 'WLF'])\n",
            "dict_keys(['M0', 'M2', 'M4', 'SPARSI', 'IRF', 'WLF'])\n",
            "dict_keys(['M0', 'M2', 'M4', 'SPARSI', 'IRF', 'WLF'])\n",
            "dict_keys(['M0', 'M2', 'M4', 'SPARSI', 'IRF', 'WLF'])\n",
            "dict_keys(['M0', 'M2', 'M4', 'SPARSI', 'IRF', 'WLF'])\n",
            "dict_keys(['M0', 'M2', 'M4', 'SPARSI', 'IRF', 'WLF'])\n",
            "dict_keys(['M0', 'M2', 'M4', 'SPARSI', 'IRF', 'WLF'])\n",
            "dict_keys(['M0', 'M2', 'M4', 'SPARSI', 'IRF', 'WLF'])\n",
            "dict_keys(['M0', 'M2', 'M4', 'SPARSI', 'IRF', 'WLF'])\n",
            "dict_keys(['M0', 'M2', 'M4', 'SPARSI', 'IRF', 'WLF'])\n",
            "dict_keys(['M0', 'M2', 'M4', 'SPARSI', 'IRF', 'WLF'])\n",
            "dict_keys(['M0', 'M2', 'M4', 'SPARSI', 'IRF', 'WLF'])\n",
            "dict_keys(['M0', 'M2', 'M4', 'SPARSI', 'IRF', 'WLF'])\n",
            "dict_keys(['M0', 'M2', 'M4', 'SPARSI', 'IRF', 'WLF'])\n",
            "dict_keys(['M0', 'M2', 'M4', 'SPARSI', 'IRF', 'WLF'])\n",
            "dict_keys(['M0', 'M2', 'M4', 'SPARSI', 'IRF', 'WLF'])\n",
            "dict_keys(['M0', 'M2', 'M4', 'SPARSI', 'IRF', 'WLF'])\n"
          ]
        }
      ]
    },
    {
      "cell_type": "code",
      "source": [
        "supination_results = model.evaluate(x_supination, y_supination, batch_size=32)\n",
        "print(supination_results)"
      ],
      "metadata": {
        "colab": {
          "base_uri": "https://localhost:8080/"
        },
        "id": "LGFCsiw9TqCb",
        "outputId": "e03af734-91f1-4f33-c0dd-e13b07106e71"
      },
      "execution_count": 150,
      "outputs": [
        {
          "output_type": "stream",
          "name": "stdout",
          "text": [
            "62/62 [==============================] - 0s 2ms/step - loss: 3.1523 - accuracy: 0.4798\n",
            "[3.15232515335083, 0.47979798913002014]\n"
          ]
        }
      ]
    }
  ]
}