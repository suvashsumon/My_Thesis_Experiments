{
  "nbformat": 4,
  "nbformat_minor": 0,
  "metadata": {
    "colab": {
      "provenance": [],
      "authorship_tag": "ABX9TyNm5VY6wNvnsLhTvLLNEeQn",
      "include_colab_link": true
    },
    "kernelspec": {
      "name": "python3",
      "display_name": "Python 3"
    },
    "language_info": {
      "name": "python"
    }
  },
  "cells": [
    {
      "cell_type": "markdown",
      "metadata": {
        "id": "view-in-github",
        "colab_type": "text"
      },
      "source": [
        "<a href=\"https://colab.research.google.com/github/suvashsumon/My_Thesis_Experiments/blob/main/Experiment_5_CNN_With_Extracted_Features.ipynb\" target=\"_parent\"><img src=\"https://colab.research.google.com/assets/colab-badge.svg\" alt=\"Open In Colab\"/></a>"
      ]
    },
    {
      "cell_type": "markdown",
      "source": [
        "**1. Using featuress MAV, SSC, ZC and WL**  \n",
        "**2. Using whole dataset**"
      ],
      "metadata": {
        "id": "jfWDCm6rVsUC"
      }
    },
    {
      "cell_type": "code",
      "execution_count": 1,
      "metadata": {
        "colab": {
          "base_uri": "https://localhost:8080/"
        },
        "id": "6EL0T4GfiQAI",
        "outputId": "584022b5-88ab-4013-8cdb-0ceaf958b1a3"
      },
      "outputs": [
        {
          "output_type": "stream",
          "name": "stdout",
          "text": [
            "Collecting libemg\n",
            "  Downloading libemg-0.0.1.tar.gz (185 kB)\n",
            "\u001b[2K     \u001b[90m━━━━━━━━━━━━━━━━━━━━━━━━━━━━━━━━━━━━━━━━\u001b[0m \u001b[32m185.8/185.8 kB\u001b[0m \u001b[31m2.2 MB/s\u001b[0m eta \u001b[36m0:00:00\u001b[0m\n",
            "\u001b[?25h  Preparing metadata (setup.py) ... \u001b[?25l\u001b[?25hdone\n",
            "Requirement already satisfied: numpy in /usr/local/lib/python3.10/dist-packages (from libemg) (1.23.5)\n",
            "Requirement already satisfied: scipy in /usr/local/lib/python3.10/dist-packages (from libemg) (1.11.4)\n",
            "Requirement already satisfied: scikit-learn in /usr/local/lib/python3.10/dist-packages (from libemg) (1.2.2)\n",
            "Requirement already satisfied: pillow in /usr/local/lib/python3.10/dist-packages (from libemg) (9.4.0)\n",
            "Requirement already satisfied: matplotlib in /usr/local/lib/python3.10/dist-packages (from libemg) (3.7.1)\n",
            "Requirement already satisfied: librosa in /usr/local/lib/python3.10/dist-packages (from libemg) (0.10.1)\n",
            "Collecting wfdb (from libemg)\n",
            "  Downloading wfdb-4.1.2-py3-none-any.whl (159 kB)\n",
            "\u001b[2K     \u001b[90m━━━━━━━━━━━━━━━━━━━━━━━━━━━━━━━━━━━━━━━━\u001b[0m \u001b[32m160.0/160.0 kB\u001b[0m \u001b[31m8.0 MB/s\u001b[0m eta \u001b[36m0:00:00\u001b[0m\n",
            "\u001b[?25hCollecting pyserial (from libemg)\n",
            "  Downloading pyserial-3.5-py2.py3-none-any.whl (90 kB)\n",
            "\u001b[2K     \u001b[90m━━━━━━━━━━━━━━━━━━━━━━━━━━━━━━━━━━━━━━━━\u001b[0m \u001b[32m90.6/90.6 kB\u001b[0m \u001b[31m7.1 MB/s\u001b[0m eta \u001b[36m0:00:00\u001b[0m\n",
            "\u001b[?25hRequirement already satisfied: audioread>=2.1.9 in /usr/local/lib/python3.10/dist-packages (from librosa->libemg) (3.0.1)\n",
            "Requirement already satisfied: joblib>=0.14 in /usr/local/lib/python3.10/dist-packages (from librosa->libemg) (1.3.2)\n",
            "Requirement already satisfied: decorator>=4.3.0 in /usr/local/lib/python3.10/dist-packages (from librosa->libemg) (4.4.2)\n",
            "Requirement already satisfied: numba>=0.51.0 in /usr/local/lib/python3.10/dist-packages (from librosa->libemg) (0.58.1)\n",
            "Requirement already satisfied: soundfile>=0.12.1 in /usr/local/lib/python3.10/dist-packages (from librosa->libemg) (0.12.1)\n",
            "Requirement already satisfied: pooch>=1.0 in /usr/local/lib/python3.10/dist-packages (from librosa->libemg) (1.8.0)\n",
            "Requirement already satisfied: soxr>=0.3.2 in /usr/local/lib/python3.10/dist-packages (from librosa->libemg) (0.3.7)\n",
            "Requirement already satisfied: typing-extensions>=4.1.1 in /usr/local/lib/python3.10/dist-packages (from librosa->libemg) (4.5.0)\n",
            "Requirement already satisfied: lazy-loader>=0.1 in /usr/local/lib/python3.10/dist-packages (from librosa->libemg) (0.3)\n",
            "Requirement already satisfied: msgpack>=1.0 in /usr/local/lib/python3.10/dist-packages (from librosa->libemg) (1.0.7)\n",
            "Requirement already satisfied: threadpoolctl>=2.0.0 in /usr/local/lib/python3.10/dist-packages (from scikit-learn->libemg) (3.2.0)\n",
            "Requirement already satisfied: contourpy>=1.0.1 in /usr/local/lib/python3.10/dist-packages (from matplotlib->libemg) (1.2.0)\n",
            "Requirement already satisfied: cycler>=0.10 in /usr/local/lib/python3.10/dist-packages (from matplotlib->libemg) (0.12.1)\n",
            "Requirement already satisfied: fonttools>=4.22.0 in /usr/local/lib/python3.10/dist-packages (from matplotlib->libemg) (4.46.0)\n",
            "Requirement already satisfied: kiwisolver>=1.0.1 in /usr/local/lib/python3.10/dist-packages (from matplotlib->libemg) (1.4.5)\n",
            "Requirement already satisfied: packaging>=20.0 in /usr/local/lib/python3.10/dist-packages (from matplotlib->libemg) (23.2)\n",
            "Requirement already satisfied: pyparsing>=2.3.1 in /usr/local/lib/python3.10/dist-packages (from matplotlib->libemg) (3.1.1)\n",
            "Requirement already satisfied: python-dateutil>=2.7 in /usr/local/lib/python3.10/dist-packages (from matplotlib->libemg) (2.8.2)\n",
            "Requirement already satisfied: pandas>=1.3.0 in /usr/local/lib/python3.10/dist-packages (from wfdb->libemg) (1.5.3)\n",
            "Requirement already satisfied: requests>=2.8.1 in /usr/local/lib/python3.10/dist-packages (from wfdb->libemg) (2.31.0)\n",
            "Requirement already satisfied: llvmlite<0.42,>=0.41.0dev0 in /usr/local/lib/python3.10/dist-packages (from numba>=0.51.0->librosa->libemg) (0.41.1)\n",
            "Requirement already satisfied: pytz>=2020.1 in /usr/local/lib/python3.10/dist-packages (from pandas>=1.3.0->wfdb->libemg) (2023.3.post1)\n",
            "Requirement already satisfied: platformdirs>=2.5.0 in /usr/local/lib/python3.10/dist-packages (from pooch>=1.0->librosa->libemg) (4.1.0)\n",
            "Requirement already satisfied: six>=1.5 in /usr/local/lib/python3.10/dist-packages (from python-dateutil>=2.7->matplotlib->libemg) (1.16.0)\n",
            "Requirement already satisfied: charset-normalizer<4,>=2 in /usr/local/lib/python3.10/dist-packages (from requests>=2.8.1->wfdb->libemg) (3.3.2)\n",
            "Requirement already satisfied: idna<4,>=2.5 in /usr/local/lib/python3.10/dist-packages (from requests>=2.8.1->wfdb->libemg) (3.6)\n",
            "Requirement already satisfied: urllib3<3,>=1.21.1 in /usr/local/lib/python3.10/dist-packages (from requests>=2.8.1->wfdb->libemg) (2.0.7)\n",
            "Requirement already satisfied: certifi>=2017.4.17 in /usr/local/lib/python3.10/dist-packages (from requests>=2.8.1->wfdb->libemg) (2023.11.17)\n",
            "Requirement already satisfied: cffi>=1.0 in /usr/local/lib/python3.10/dist-packages (from soundfile>=0.12.1->librosa->libemg) (1.16.0)\n",
            "Requirement already satisfied: pycparser in /usr/local/lib/python3.10/dist-packages (from cffi>=1.0->soundfile>=0.12.1->librosa->libemg) (2.21)\n",
            "Building wheels for collected packages: libemg\n",
            "  Building wheel for libemg (setup.py) ... \u001b[?25l\u001b[?25hdone\n",
            "  Created wheel for libemg: filename=libemg-0.0.1-py3-none-any.whl size=70338 sha256=f07a98c50dd7411dd3d46c22910a6327d373ee314cf691e26941446f1c96458a\n",
            "  Stored in directory: /root/.cache/pip/wheels/52/29/b7/c395fce515bf8995f6c17ffa968697b66fd497a4c6a1c04481\n",
            "Successfully built libemg\n",
            "Installing collected packages: pyserial, wfdb, libemg\n",
            "Successfully installed libemg-0.0.1 pyserial-3.5 wfdb-4.1.2\n"
          ]
        }
      ],
      "source": [
        "!pip install libemg"
      ]
    },
    {
      "cell_type": "code",
      "source": [
        "import numpy as np\n",
        "import matplotlib.pyplot as plt\n",
        "import scipy.io as scipyio\n",
        "import seaborn as sns\n",
        "import pandas as pd\n",
        "from libemg.feature_extractor import FeatureExtractor\n",
        "from libemg.utils import get_windows\n",
        "from google.colab import drive\n",
        "import os"
      ],
      "metadata": {
        "id": "S_cbWcJpinEX"
      },
      "execution_count": 3,
      "outputs": []
    },
    {
      "cell_type": "markdown",
      "source": [
        "**Reading Dataset**"
      ],
      "metadata": {
        "id": "47dGhzkMjZ8_"
      }
    },
    {
      "cell_type": "code",
      "source": [
        "drive.mount('/content/gdrive')"
      ],
      "metadata": {
        "colab": {
          "base_uri": "https://localhost:8080/"
        },
        "id": "FxWMJLpOjdcB",
        "outputId": "62f265f8-97a7-49e8-fa44-b1f2379cdfaf"
      },
      "execution_count": 4,
      "outputs": [
        {
          "output_type": "stream",
          "name": "stdout",
          "text": [
            "Mounted at /content/gdrive\n"
          ]
        }
      ]
    },
    {
      "cell_type": "code",
      "source": [
        "gestures_label = {\n",
        "\t 'Thumb_UP' : 0,\n",
        "\t 'Index' : 1,\n",
        "\t 'Right_Angle' : 2,\n",
        "\t 'Peace' : 3,\n",
        "\t 'Index_Little' : 4,\n",
        "\t 'Thumb_Little' : 5,\n",
        "\t 'Hand_Close' : 6,\n",
        "\t 'Hand_Open' : 7,\n",
        "\t 'Wrist_Extension' : 8,\n",
        "\t 'Wrist_Flexion' : 9,\n",
        "\t 'Ulner_Deviation' : 10,\n",
        "\t 'Radial_Deviation' : 11\n",
        "}\n",
        "\n",
        "gestures = ['Thumb_UP', 'Index_Little', 'Right_Angle', 'Peace', 'Index', 'Thumb_Little', 'Hand_Close', 'Hand_Open',\n",
        "\t 'Wrist_Extension', 'Wrist_Flexion', 'Ulner_Deviation', 'Radial_Deviation'\n",
        "]"
      ],
      "metadata": {
        "id": "43mB8rvkkOFQ"
      },
      "execution_count": 5,
      "outputs": []
    },
    {
      "cell_type": "code",
      "source": [
        "persons = [\"Arifa\", \"Arnob\", \"Ashis\", \"Bayezid\", \"Bushra\", \"Choity_new\", \"Eftekhar\",\n",
        "           \"Fahim\", \"Humaid\", \"Humayun\", \"Johir\", \"Joy\", \"Mamun\", \"Noman\", \"Piyus\", \"Sazzad\",\n",
        "           \"Shafi\", \"Shourav\", \"Tamim\", \"Wadud\"]"
      ],
      "metadata": {
        "id": "3lT_Z7hkmdXG"
      },
      "execution_count": 6,
      "outputs": []
    },
    {
      "cell_type": "code",
      "source": [
        "def get_gesture_label(gesture):\n",
        "  return gestures_label [gesture];"
      ],
      "metadata": {
        "id": "jx8GgpISv5I2"
      },
      "execution_count": 7,
      "outputs": []
    },
    {
      "cell_type": "code",
      "source": [
        "def feature_extraction(channelvalues, gesture):\n",
        "  # creating windows\n",
        "  windows = get_windows(channelvalues, 150, 150)\n",
        "  # extract feature\n",
        "  fe = FeatureExtractor()\n",
        "  feature_list = ['MAV', 'SSC', 'ZC', 'WL']\n",
        "  features = fe.extract_features(feature_list, windows)\n",
        "  #print(\"Len : \"+str(len(features)))\n",
        "  # creating feature matrixs\n",
        "  extracted_feature_array = []\n",
        "  extracted_gesture_array = []\n",
        "  for i in range(33):\n",
        "    features_matrix = [\n",
        "        features['MAV'][i],\n",
        "        features['SSC'][i],\n",
        "        features['ZC'][i],\n",
        "        features['WL'][i],\n",
        "    ]\n",
        "    features_matrix = (features_matrix-np.min(features_matrix))/(np.max(features_matrix)-np.min(features_matrix))\n",
        "    extracted_feature_array.append(features_matrix)\n",
        "    extracted_gesture_array.append(get_gesture_label(gesture))\n",
        "  return extracted_feature_array, extracted_gesture_array"
      ],
      "metadata": {
        "id": "DaBZ8rssnyrg"
      },
      "execution_count": 9,
      "outputs": []
    },
    {
      "cell_type": "code",
      "source": [
        "def get_processed_data(matfilepath, gesture):\n",
        "  # read mat file\n",
        "  matdata = scipyio.loadmat(matfilepath)\n",
        "  # transpose the matrix\n",
        "  values = np.transpose(matdata['value'])\n",
        "  # remove the first 3000 values\n",
        "  values = values[3000:]\n",
        "  return feature_extraction(values, gesture)\n"
      ],
      "metadata": {
        "id": "mZ_awmvtm37Q"
      },
      "execution_count": 10,
      "outputs": []
    },
    {
      "cell_type": "code",
      "source": [
        "def get_input(persons, gestures, orientaion=\"Rest\"):\n",
        "  input_array = []\n",
        "  input_gest = []\n",
        "  for person in persons:\n",
        "    for gest in gestures:\n",
        "      for i in range(5):\n",
        "        matfilepath = \"gdrive/My Drive/Forearm Invariant Data/\"+person+\"/\"+orientaion+\"/\"+gest+\"-\"+str(i+1)+\".mat\"\n",
        "        #print(matfilepath)\n",
        "        processed_matrix, gesture_array = get_processed_data(matfilepath, gest)\n",
        "        gest_label = get_gesture_label(gest)\n",
        "        input_array = input_array + processed_matrix\n",
        "        input_gest = input_gest + gesture_array\n",
        "  return input_array, input_gest"
      ],
      "metadata": {
        "id": "D2d1xF4gkzXB"
      },
      "execution_count": 34,
      "outputs": []
    },
    {
      "cell_type": "code",
      "source": [
        "X, Y = get_input(persons, gestures)"
      ],
      "metadata": {
        "id": "WaN2dILztYHr"
      },
      "execution_count": 12,
      "outputs": []
    },
    {
      "cell_type": "code",
      "source": [
        "len(X), len(Y)"
      ],
      "metadata": {
        "colab": {
          "base_uri": "https://localhost:8080/"
        },
        "id": "oJFCcGx2uSdC",
        "outputId": "12da2ce4-3b04-497b-c1c7-0120922c3066"
      },
      "execution_count": 13,
      "outputs": [
        {
          "output_type": "execute_result",
          "data": {
            "text/plain": [
              "(39600, 39600)"
            ]
          },
          "metadata": {},
          "execution_count": 13
        }
      ]
    },
    {
      "cell_type": "code",
      "source": [
        "#\n",
        "df = pd.DataFrame(X[0])\n",
        "index = pd.Index(['MAV', 'SSC', 'ZC', 'WL'])\n",
        "df = df.set_index(index)\n",
        "df"
      ],
      "metadata": {
        "colab": {
          "base_uri": "https://localhost:8080/",
          "height": 175
        },
        "id": "BazAZkIbwiN3",
        "outputId": "b60a6dae-353b-4156-8d3a-283827d92e36"
      },
      "execution_count": 14,
      "outputs": [
        {
          "output_type": "execute_result",
          "data": {
            "text/plain": [
              "            0         1         2         3         4         5         6  \\\n",
              "MAV  0.000035  0.000000  0.000217  0.000039  0.000206  0.000075  0.000147   \n",
              "SSC  0.944947  0.963298  0.917421  0.798141  0.798141  0.834842  0.752263   \n",
              "ZC   0.146685  0.284316  0.357720  0.293492  0.311843  0.321018  0.311843   \n",
              "WL   0.019457  0.017889  0.062108  0.023623  0.039169  0.024026  0.033928   \n",
              "\n",
              "            7  \n",
              "MAV  0.000043  \n",
              "SSC  1.000000  \n",
              "ZC   0.467825  \n",
              "WL   0.026580  "
            ],
            "text/html": [
              "\n",
              "  <div id=\"df-6e6d01ef-4e01-4b22-acb7-358cf9b5253c\" class=\"colab-df-container\">\n",
              "    <div>\n",
              "<style scoped>\n",
              "    .dataframe tbody tr th:only-of-type {\n",
              "        vertical-align: middle;\n",
              "    }\n",
              "\n",
              "    .dataframe tbody tr th {\n",
              "        vertical-align: top;\n",
              "    }\n",
              "\n",
              "    .dataframe thead th {\n",
              "        text-align: right;\n",
              "    }\n",
              "</style>\n",
              "<table border=\"1\" class=\"dataframe\">\n",
              "  <thead>\n",
              "    <tr style=\"text-align: right;\">\n",
              "      <th></th>\n",
              "      <th>0</th>\n",
              "      <th>1</th>\n",
              "      <th>2</th>\n",
              "      <th>3</th>\n",
              "      <th>4</th>\n",
              "      <th>5</th>\n",
              "      <th>6</th>\n",
              "      <th>7</th>\n",
              "    </tr>\n",
              "  </thead>\n",
              "  <tbody>\n",
              "    <tr>\n",
              "      <th>MAV</th>\n",
              "      <td>0.000035</td>\n",
              "      <td>0.000000</td>\n",
              "      <td>0.000217</td>\n",
              "      <td>0.000039</td>\n",
              "      <td>0.000206</td>\n",
              "      <td>0.000075</td>\n",
              "      <td>0.000147</td>\n",
              "      <td>0.000043</td>\n",
              "    </tr>\n",
              "    <tr>\n",
              "      <th>SSC</th>\n",
              "      <td>0.944947</td>\n",
              "      <td>0.963298</td>\n",
              "      <td>0.917421</td>\n",
              "      <td>0.798141</td>\n",
              "      <td>0.798141</td>\n",
              "      <td>0.834842</td>\n",
              "      <td>0.752263</td>\n",
              "      <td>1.000000</td>\n",
              "    </tr>\n",
              "    <tr>\n",
              "      <th>ZC</th>\n",
              "      <td>0.146685</td>\n",
              "      <td>0.284316</td>\n",
              "      <td>0.357720</td>\n",
              "      <td>0.293492</td>\n",
              "      <td>0.311843</td>\n",
              "      <td>0.321018</td>\n",
              "      <td>0.311843</td>\n",
              "      <td>0.467825</td>\n",
              "    </tr>\n",
              "    <tr>\n",
              "      <th>WL</th>\n",
              "      <td>0.019457</td>\n",
              "      <td>0.017889</td>\n",
              "      <td>0.062108</td>\n",
              "      <td>0.023623</td>\n",
              "      <td>0.039169</td>\n",
              "      <td>0.024026</td>\n",
              "      <td>0.033928</td>\n",
              "      <td>0.026580</td>\n",
              "    </tr>\n",
              "  </tbody>\n",
              "</table>\n",
              "</div>\n",
              "    <div class=\"colab-df-buttons\">\n",
              "\n",
              "  <div class=\"colab-df-container\">\n",
              "    <button class=\"colab-df-convert\" onclick=\"convertToInteractive('df-6e6d01ef-4e01-4b22-acb7-358cf9b5253c')\"\n",
              "            title=\"Convert this dataframe to an interactive table.\"\n",
              "            style=\"display:none;\">\n",
              "\n",
              "  <svg xmlns=\"http://www.w3.org/2000/svg\" height=\"24px\" viewBox=\"0 -960 960 960\">\n",
              "    <path d=\"M120-120v-720h720v720H120Zm60-500h600v-160H180v160Zm220 220h160v-160H400v160Zm0 220h160v-160H400v160ZM180-400h160v-160H180v160Zm440 0h160v-160H620v160ZM180-180h160v-160H180v160Zm440 0h160v-160H620v160Z\"/>\n",
              "  </svg>\n",
              "    </button>\n",
              "\n",
              "  <style>\n",
              "    .colab-df-container {\n",
              "      display:flex;\n",
              "      gap: 12px;\n",
              "    }\n",
              "\n",
              "    .colab-df-convert {\n",
              "      background-color: #E8F0FE;\n",
              "      border: none;\n",
              "      border-radius: 50%;\n",
              "      cursor: pointer;\n",
              "      display: none;\n",
              "      fill: #1967D2;\n",
              "      height: 32px;\n",
              "      padding: 0 0 0 0;\n",
              "      width: 32px;\n",
              "    }\n",
              "\n",
              "    .colab-df-convert:hover {\n",
              "      background-color: #E2EBFA;\n",
              "      box-shadow: 0px 1px 2px rgba(60, 64, 67, 0.3), 0px 1px 3px 1px rgba(60, 64, 67, 0.15);\n",
              "      fill: #174EA6;\n",
              "    }\n",
              "\n",
              "    .colab-df-buttons div {\n",
              "      margin-bottom: 4px;\n",
              "    }\n",
              "\n",
              "    [theme=dark] .colab-df-convert {\n",
              "      background-color: #3B4455;\n",
              "      fill: #D2E3FC;\n",
              "    }\n",
              "\n",
              "    [theme=dark] .colab-df-convert:hover {\n",
              "      background-color: #434B5C;\n",
              "      box-shadow: 0px 1px 3px 1px rgba(0, 0, 0, 0.15);\n",
              "      filter: drop-shadow(0px 1px 2px rgba(0, 0, 0, 0.3));\n",
              "      fill: #FFFFFF;\n",
              "    }\n",
              "  </style>\n",
              "\n",
              "    <script>\n",
              "      const buttonEl =\n",
              "        document.querySelector('#df-6e6d01ef-4e01-4b22-acb7-358cf9b5253c button.colab-df-convert');\n",
              "      buttonEl.style.display =\n",
              "        google.colab.kernel.accessAllowed ? 'block' : 'none';\n",
              "\n",
              "      async function convertToInteractive(key) {\n",
              "        const element = document.querySelector('#df-6e6d01ef-4e01-4b22-acb7-358cf9b5253c');\n",
              "        const dataTable =\n",
              "          await google.colab.kernel.invokeFunction('convertToInteractive',\n",
              "                                                    [key], {});\n",
              "        if (!dataTable) return;\n",
              "\n",
              "        const docLinkHtml = 'Like what you see? Visit the ' +\n",
              "          '<a target=\"_blank\" href=https://colab.research.google.com/notebooks/data_table.ipynb>data table notebook</a>'\n",
              "          + ' to learn more about interactive tables.';\n",
              "        element.innerHTML = '';\n",
              "        dataTable['output_type'] = 'display_data';\n",
              "        await google.colab.output.renderOutput(dataTable, element);\n",
              "        const docLink = document.createElement('div');\n",
              "        docLink.innerHTML = docLinkHtml;\n",
              "        element.appendChild(docLink);\n",
              "      }\n",
              "    </script>\n",
              "  </div>\n",
              "\n",
              "\n",
              "<div id=\"df-0b904141-7365-4ec6-9be6-eea0d3cceb5f\">\n",
              "  <button class=\"colab-df-quickchart\" onclick=\"quickchart('df-0b904141-7365-4ec6-9be6-eea0d3cceb5f')\"\n",
              "            title=\"Suggest charts\"\n",
              "            style=\"display:none;\">\n",
              "\n",
              "<svg xmlns=\"http://www.w3.org/2000/svg\" height=\"24px\"viewBox=\"0 0 24 24\"\n",
              "     width=\"24px\">\n",
              "    <g>\n",
              "        <path d=\"M19 3H5c-1.1 0-2 .9-2 2v14c0 1.1.9 2 2 2h14c1.1 0 2-.9 2-2V5c0-1.1-.9-2-2-2zM9 17H7v-7h2v7zm4 0h-2V7h2v10zm4 0h-2v-4h2v4z\"/>\n",
              "    </g>\n",
              "</svg>\n",
              "  </button>\n",
              "\n",
              "<style>\n",
              "  .colab-df-quickchart {\n",
              "      --bg-color: #E8F0FE;\n",
              "      --fill-color: #1967D2;\n",
              "      --hover-bg-color: #E2EBFA;\n",
              "      --hover-fill-color: #174EA6;\n",
              "      --disabled-fill-color: #AAA;\n",
              "      --disabled-bg-color: #DDD;\n",
              "  }\n",
              "\n",
              "  [theme=dark] .colab-df-quickchart {\n",
              "      --bg-color: #3B4455;\n",
              "      --fill-color: #D2E3FC;\n",
              "      --hover-bg-color: #434B5C;\n",
              "      --hover-fill-color: #FFFFFF;\n",
              "      --disabled-bg-color: #3B4455;\n",
              "      --disabled-fill-color: #666;\n",
              "  }\n",
              "\n",
              "  .colab-df-quickchart {\n",
              "    background-color: var(--bg-color);\n",
              "    border: none;\n",
              "    border-radius: 50%;\n",
              "    cursor: pointer;\n",
              "    display: none;\n",
              "    fill: var(--fill-color);\n",
              "    height: 32px;\n",
              "    padding: 0;\n",
              "    width: 32px;\n",
              "  }\n",
              "\n",
              "  .colab-df-quickchart:hover {\n",
              "    background-color: var(--hover-bg-color);\n",
              "    box-shadow: 0 1px 2px rgba(60, 64, 67, 0.3), 0 1px 3px 1px rgba(60, 64, 67, 0.15);\n",
              "    fill: var(--button-hover-fill-color);\n",
              "  }\n",
              "\n",
              "  .colab-df-quickchart-complete:disabled,\n",
              "  .colab-df-quickchart-complete:disabled:hover {\n",
              "    background-color: var(--disabled-bg-color);\n",
              "    fill: var(--disabled-fill-color);\n",
              "    box-shadow: none;\n",
              "  }\n",
              "\n",
              "  .colab-df-spinner {\n",
              "    border: 2px solid var(--fill-color);\n",
              "    border-color: transparent;\n",
              "    border-bottom-color: var(--fill-color);\n",
              "    animation:\n",
              "      spin 1s steps(1) infinite;\n",
              "  }\n",
              "\n",
              "  @keyframes spin {\n",
              "    0% {\n",
              "      border-color: transparent;\n",
              "      border-bottom-color: var(--fill-color);\n",
              "      border-left-color: var(--fill-color);\n",
              "    }\n",
              "    20% {\n",
              "      border-color: transparent;\n",
              "      border-left-color: var(--fill-color);\n",
              "      border-top-color: var(--fill-color);\n",
              "    }\n",
              "    30% {\n",
              "      border-color: transparent;\n",
              "      border-left-color: var(--fill-color);\n",
              "      border-top-color: var(--fill-color);\n",
              "      border-right-color: var(--fill-color);\n",
              "    }\n",
              "    40% {\n",
              "      border-color: transparent;\n",
              "      border-right-color: var(--fill-color);\n",
              "      border-top-color: var(--fill-color);\n",
              "    }\n",
              "    60% {\n",
              "      border-color: transparent;\n",
              "      border-right-color: var(--fill-color);\n",
              "    }\n",
              "    80% {\n",
              "      border-color: transparent;\n",
              "      border-right-color: var(--fill-color);\n",
              "      border-bottom-color: var(--fill-color);\n",
              "    }\n",
              "    90% {\n",
              "      border-color: transparent;\n",
              "      border-bottom-color: var(--fill-color);\n",
              "    }\n",
              "  }\n",
              "</style>\n",
              "\n",
              "  <script>\n",
              "    async function quickchart(key) {\n",
              "      const quickchartButtonEl =\n",
              "        document.querySelector('#' + key + ' button');\n",
              "      quickchartButtonEl.disabled = true;  // To prevent multiple clicks.\n",
              "      quickchartButtonEl.classList.add('colab-df-spinner');\n",
              "      try {\n",
              "        const charts = await google.colab.kernel.invokeFunction(\n",
              "            'suggestCharts', [key], {});\n",
              "      } catch (error) {\n",
              "        console.error('Error during call to suggestCharts:', error);\n",
              "      }\n",
              "      quickchartButtonEl.classList.remove('colab-df-spinner');\n",
              "      quickchartButtonEl.classList.add('colab-df-quickchart-complete');\n",
              "    }\n",
              "    (() => {\n",
              "      let quickchartButtonEl =\n",
              "        document.querySelector('#df-0b904141-7365-4ec6-9be6-eea0d3cceb5f button');\n",
              "      quickchartButtonEl.style.display =\n",
              "        google.colab.kernel.accessAllowed ? 'block' : 'none';\n",
              "    })();\n",
              "  </script>\n",
              "</div>\n",
              "\n",
              "  <div id=\"id_5cbaa0b1-2198-4ef4-ac4a-19bf63a6b2fc\">\n",
              "    <style>\n",
              "      .colab-df-generate {\n",
              "        background-color: #E8F0FE;\n",
              "        border: none;\n",
              "        border-radius: 50%;\n",
              "        cursor: pointer;\n",
              "        display: none;\n",
              "        fill: #1967D2;\n",
              "        height: 32px;\n",
              "        padding: 0 0 0 0;\n",
              "        width: 32px;\n",
              "      }\n",
              "\n",
              "      .colab-df-generate:hover {\n",
              "        background-color: #E2EBFA;\n",
              "        box-shadow: 0px 1px 2px rgba(60, 64, 67, 0.3), 0px 1px 3px 1px rgba(60, 64, 67, 0.15);\n",
              "        fill: #174EA6;\n",
              "      }\n",
              "\n",
              "      [theme=dark] .colab-df-generate {\n",
              "        background-color: #3B4455;\n",
              "        fill: #D2E3FC;\n",
              "      }\n",
              "\n",
              "      [theme=dark] .colab-df-generate:hover {\n",
              "        background-color: #434B5C;\n",
              "        box-shadow: 0px 1px 3px 1px rgba(0, 0, 0, 0.15);\n",
              "        filter: drop-shadow(0px 1px 2px rgba(0, 0, 0, 0.3));\n",
              "        fill: #FFFFFF;\n",
              "      }\n",
              "    </style>\n",
              "    <button class=\"colab-df-generate\" onclick=\"generateWithVariable('df')\"\n",
              "            title=\"Generate code using this dataframe.\"\n",
              "            style=\"display:none;\">\n",
              "\n",
              "  <svg xmlns=\"http://www.w3.org/2000/svg\" height=\"24px\"viewBox=\"0 0 24 24\"\n",
              "       width=\"24px\">\n",
              "    <path d=\"M7,19H8.4L18.45,9,17,7.55,7,17.6ZM5,21V16.75L18.45,3.32a2,2,0,0,1,2.83,0l1.4,1.43a1.91,1.91,0,0,1,.58,1.4,1.91,1.91,0,0,1-.58,1.4L9.25,21ZM18.45,9,17,7.55Zm-12,3A5.31,5.31,0,0,0,4.9,8.1,5.31,5.31,0,0,0,1,6.5,5.31,5.31,0,0,0,4.9,4.9,5.31,5.31,0,0,0,6.5,1,5.31,5.31,0,0,0,8.1,4.9,5.31,5.31,0,0,0,12,6.5,5.46,5.46,0,0,0,6.5,12Z\"/>\n",
              "  </svg>\n",
              "    </button>\n",
              "    <script>\n",
              "      (() => {\n",
              "      const buttonEl =\n",
              "        document.querySelector('#id_5cbaa0b1-2198-4ef4-ac4a-19bf63a6b2fc button.colab-df-generate');\n",
              "      buttonEl.style.display =\n",
              "        google.colab.kernel.accessAllowed ? 'block' : 'none';\n",
              "\n",
              "      buttonEl.onclick = () => {\n",
              "        google.colab.notebook.generateWithVariable('df');\n",
              "      }\n",
              "      })();\n",
              "    </script>\n",
              "  </div>\n",
              "\n",
              "    </div>\n",
              "  </div>\n"
            ]
          },
          "metadata": {},
          "execution_count": 14
        }
      ]
    },
    {
      "cell_type": "code",
      "source": [
        "X = np.array(X)\n",
        "Y = np.array(Y)\n",
        "X.shape, Y.shape"
      ],
      "metadata": {
        "colab": {
          "base_uri": "https://localhost:8080/"
        },
        "id": "BHt1DsXezc4m",
        "outputId": "f0ff99d2-c1ae-437b-fcca-5d45dd7fa048"
      },
      "execution_count": 15,
      "outputs": [
        {
          "output_type": "execute_result",
          "data": {
            "text/plain": [
              "((39600, 4, 8), (39600,))"
            ]
          },
          "metadata": {},
          "execution_count": 15
        }
      ]
    },
    {
      "cell_type": "markdown",
      "source": [
        "**Model Building**"
      ],
      "metadata": {
        "id": "0l87yRy9yCbZ"
      }
    },
    {
      "cell_type": "code",
      "source": [
        "from sklearn.model_selection import train_test_split\n",
        "x_train, x_test, y_train, y_test = train_test_split(\n",
        "    X,Y,\n",
        "    test_size = .2, shuffle=True, random_state=0\n",
        ")"
      ],
      "metadata": {
        "id": "1v51JnuRyFlo"
      },
      "execution_count": 16,
      "outputs": []
    },
    {
      "cell_type": "code",
      "source": [
        "len(x_train), len(y_train)"
      ],
      "metadata": {
        "colab": {
          "base_uri": "https://localhost:8080/"
        },
        "id": "aQWVClBuyQf3",
        "outputId": "ae7742bf-d61a-44ea-fb96-2948e604d71d"
      },
      "execution_count": 17,
      "outputs": [
        {
          "output_type": "execute_result",
          "data": {
            "text/plain": [
              "(31680, 31680)"
            ]
          },
          "metadata": {},
          "execution_count": 17
        }
      ]
    },
    {
      "cell_type": "code",
      "source": [
        "import tensorflow as tf\n",
        "from tensorflow.keras.models import Sequential\n",
        "from tensorflow.keras.layers import Conv1D, MaxPooling1D, Flatten, Dense\n",
        "\n",
        "# Define the input shape\n",
        "input_shape = (4, 8)\n",
        "\n",
        "# Create a Sequential model\n",
        "model = Sequential()\n",
        "\n",
        "# Add a Conv1D layer\n",
        "model.add(Conv1D(filters=32, kernel_size=3, activation='relu', input_shape=input_shape))\n",
        "\n",
        "# Add a MaxPooling1D layer (optional)\n",
        "model.add(MaxPooling1D(pool_size=2))\n",
        "\n",
        "# Flatten the output before feeding it to a Dense layer\n",
        "model.add(Flatten())\n",
        "\n",
        "# Add a Dense layer\n",
        "model.add(Dense(64, activation='relu'))\n",
        "\n",
        "# Add a Dense layer\n",
        "model.add(Dense(32, activation='relu'))\n",
        "\n",
        "# Output layer for classification (adjust units according to the number of classes)\n",
        "# Assuming classes are integers starting from 0\n",
        "model.add(Dense(12, activation='softmax'))\n",
        "\n",
        "# Compile the model\n",
        "model.compile(optimizer='adam', loss='sparse_categorical_crossentropy', metrics=['accuracy'])\n",
        "\n",
        "# Display model summary\n",
        "model.summary()"
      ],
      "metadata": {
        "colab": {
          "base_uri": "https://localhost:8080/"
        },
        "id": "uAfUtnYPIOcL",
        "outputId": "454173b2-4e58-4f22-818f-b12ea9e1872c"
      },
      "execution_count": 30,
      "outputs": [
        {
          "output_type": "stream",
          "name": "stdout",
          "text": [
            "Model: \"sequential_2\"\n",
            "_________________________________________________________________\n",
            " Layer (type)                Output Shape              Param #   \n",
            "=================================================================\n",
            " conv1d_2 (Conv1D)           (None, 2, 32)             800       \n",
            "                                                                 \n",
            " max_pooling1d_2 (MaxPoolin  (None, 1, 32)             0         \n",
            " g1D)                                                            \n",
            "                                                                 \n",
            " flatten_2 (Flatten)         (None, 32)                0         \n",
            "                                                                 \n",
            " dense_4 (Dense)             (None, 64)                2112      \n",
            "                                                                 \n",
            " dense_5 (Dense)             (None, 32)                2080      \n",
            "                                                                 \n",
            " dense_6 (Dense)             (None, 12)                396       \n",
            "                                                                 \n",
            "=================================================================\n",
            "Total params: 5388 (21.05 KB)\n",
            "Trainable params: 5388 (21.05 KB)\n",
            "Non-trainable params: 0 (0.00 Byte)\n",
            "_________________________________________________________________\n"
          ]
        }
      ]
    },
    {
      "cell_type": "code",
      "source": [
        "# Fit the model with training data\n",
        "history = model.fit(x_train, y_train, epochs=70, batch_size=32, validation_data=(x_test, y_test))"
      ],
      "metadata": {
        "colab": {
          "base_uri": "https://localhost:8080/"
        },
        "id": "_tJKZmzII70e",
        "outputId": "f715ff8c-7f23-4dcd-d88f-ba619f44f22b"
      },
      "execution_count": 31,
      "outputs": [
        {
          "output_type": "stream",
          "name": "stdout",
          "text": [
            "Epoch 1/70\n",
            "990/990 [==============================] - 4s 3ms/step - loss: 1.8741 - accuracy: 0.3360 - val_loss: 1.5247 - val_accuracy: 0.4380\n",
            "Epoch 2/70\n",
            "990/990 [==============================] - 4s 4ms/step - loss: 1.4469 - accuracy: 0.4619 - val_loss: 1.4072 - val_accuracy: 0.4891\n",
            "Epoch 3/70\n",
            "990/990 [==============================] - 2s 2ms/step - loss: 1.3559 - accuracy: 0.5001 - val_loss: 1.3154 - val_accuracy: 0.5236\n",
            "Epoch 4/70\n",
            "990/990 [==============================] - 2s 2ms/step - loss: 1.2852 - accuracy: 0.5263 - val_loss: 1.3100 - val_accuracy: 0.5163\n",
            "Epoch 5/70\n",
            "990/990 [==============================] - 3s 3ms/step - loss: 1.2188 - accuracy: 0.5508 - val_loss: 1.1858 - val_accuracy: 0.5672\n",
            "Epoch 6/70\n",
            "990/990 [==============================] - 2s 2ms/step - loss: 1.1648 - accuracy: 0.5724 - val_loss: 1.1464 - val_accuracy: 0.5736\n",
            "Epoch 7/70\n",
            "990/990 [==============================] - 3s 3ms/step - loss: 1.1176 - accuracy: 0.5854 - val_loss: 1.0771 - val_accuracy: 0.6029\n",
            "Epoch 8/70\n",
            "990/990 [==============================] - 3s 3ms/step - loss: 1.0731 - accuracy: 0.6003 - val_loss: 1.1124 - val_accuracy: 0.5915\n",
            "Epoch 9/70\n",
            "990/990 [==============================] - 3s 3ms/step - loss: 1.0400 - accuracy: 0.6128 - val_loss: 1.0249 - val_accuracy: 0.6256\n",
            "Epoch 10/70\n",
            "990/990 [==============================] - 2s 2ms/step - loss: 1.0045 - accuracy: 0.6251 - val_loss: 0.9855 - val_accuracy: 0.6361\n",
            "Epoch 11/70\n",
            "990/990 [==============================] - 3s 3ms/step - loss: 0.9743 - accuracy: 0.6352 - val_loss: 0.9510 - val_accuracy: 0.6529\n",
            "Epoch 12/70\n",
            "990/990 [==============================] - 3s 3ms/step - loss: 0.9423 - accuracy: 0.6471 - val_loss: 0.9620 - val_accuracy: 0.6489\n",
            "Epoch 13/70\n",
            "990/990 [==============================] - 4s 4ms/step - loss: 0.9140 - accuracy: 0.6588 - val_loss: 0.9685 - val_accuracy: 0.6409\n",
            "Epoch 14/70\n",
            "990/990 [==============================] - 3s 3ms/step - loss: 0.8853 - accuracy: 0.6683 - val_loss: 0.8888 - val_accuracy: 0.6812\n",
            "Epoch 15/70\n",
            "990/990 [==============================] - 2s 2ms/step - loss: 0.8641 - accuracy: 0.6765 - val_loss: 0.8771 - val_accuracy: 0.6744\n",
            "Epoch 16/70\n",
            "990/990 [==============================] - 3s 3ms/step - loss: 0.8352 - accuracy: 0.6876 - val_loss: 0.8252 - val_accuracy: 0.6994\n",
            "Epoch 17/70\n",
            "990/990 [==============================] - 3s 3ms/step - loss: 0.8147 - accuracy: 0.6963 - val_loss: 0.8213 - val_accuracy: 0.6963\n",
            "Epoch 18/70\n",
            "990/990 [==============================] - 3s 3ms/step - loss: 0.7910 - accuracy: 0.7033 - val_loss: 0.7999 - val_accuracy: 0.7068\n",
            "Epoch 19/70\n",
            "990/990 [==============================] - 4s 4ms/step - loss: 0.7664 - accuracy: 0.7148 - val_loss: 0.7795 - val_accuracy: 0.7088\n",
            "Epoch 20/70\n",
            "990/990 [==============================] - 3s 3ms/step - loss: 0.7481 - accuracy: 0.7183 - val_loss: 0.8081 - val_accuracy: 0.6968\n",
            "Epoch 21/70\n",
            "990/990 [==============================] - 3s 3ms/step - loss: 0.7279 - accuracy: 0.7259 - val_loss: 0.7642 - val_accuracy: 0.7205\n",
            "Epoch 22/70\n",
            "990/990 [==============================] - 3s 3ms/step - loss: 0.7134 - accuracy: 0.7341 - val_loss: 0.7453 - val_accuracy: 0.7290\n",
            "Epoch 23/70\n",
            "990/990 [==============================] - 2s 2ms/step - loss: 0.6970 - accuracy: 0.7427 - val_loss: 0.7180 - val_accuracy: 0.7370\n",
            "Epoch 24/70\n",
            "990/990 [==============================] - 3s 3ms/step - loss: 0.6813 - accuracy: 0.7477 - val_loss: 0.7436 - val_accuracy: 0.7271\n",
            "Epoch 25/70\n",
            "990/990 [==============================] - 3s 3ms/step - loss: 0.6629 - accuracy: 0.7542 - val_loss: 0.7380 - val_accuracy: 0.7259\n",
            "Epoch 26/70\n",
            "990/990 [==============================] - 3s 3ms/step - loss: 0.6506 - accuracy: 0.7569 - val_loss: 0.6941 - val_accuracy: 0.7437\n",
            "Epoch 27/70\n",
            "990/990 [==============================] - 2s 2ms/step - loss: 0.6387 - accuracy: 0.7636 - val_loss: 0.7166 - val_accuracy: 0.7347\n",
            "Epoch 28/70\n",
            "990/990 [==============================] - 2s 2ms/step - loss: 0.6252 - accuracy: 0.7688 - val_loss: 0.6381 - val_accuracy: 0.7641\n",
            "Epoch 29/70\n",
            "990/990 [==============================] - 3s 3ms/step - loss: 0.6105 - accuracy: 0.7723 - val_loss: 0.6944 - val_accuracy: 0.7423\n",
            "Epoch 30/70\n",
            "990/990 [==============================] - 4s 4ms/step - loss: 0.6015 - accuracy: 0.7772 - val_loss: 0.6258 - val_accuracy: 0.7766\n",
            "Epoch 31/70\n",
            "990/990 [==============================] - 3s 3ms/step - loss: 0.5908 - accuracy: 0.7812 - val_loss: 0.5955 - val_accuracy: 0.7860\n",
            "Epoch 32/70\n",
            "990/990 [==============================] - 3s 3ms/step - loss: 0.5785 - accuracy: 0.7855 - val_loss: 0.5905 - val_accuracy: 0.7814\n",
            "Epoch 33/70\n",
            "990/990 [==============================] - 3s 3ms/step - loss: 0.5645 - accuracy: 0.7911 - val_loss: 0.5866 - val_accuracy: 0.7855\n",
            "Epoch 34/70\n",
            "990/990 [==============================] - 3s 3ms/step - loss: 0.5538 - accuracy: 0.7935 - val_loss: 0.6232 - val_accuracy: 0.7721\n",
            "Epoch 35/70\n",
            "990/990 [==============================] - 3s 3ms/step - loss: 0.5478 - accuracy: 0.7982 - val_loss: 0.6153 - val_accuracy: 0.7716\n",
            "Epoch 36/70\n",
            "990/990 [==============================] - 4s 4ms/step - loss: 0.5395 - accuracy: 0.8019 - val_loss: 0.6029 - val_accuracy: 0.7763\n",
            "Epoch 37/70\n",
            "990/990 [==============================] - 3s 3ms/step - loss: 0.5265 - accuracy: 0.8050 - val_loss: 0.5637 - val_accuracy: 0.7942\n",
            "Epoch 38/70\n",
            "990/990 [==============================] - 2s 2ms/step - loss: 0.5158 - accuracy: 0.8094 - val_loss: 0.5808 - val_accuracy: 0.7857\n",
            "Epoch 39/70\n",
            "990/990 [==============================] - 3s 3ms/step - loss: 0.5069 - accuracy: 0.8138 - val_loss: 0.5545 - val_accuracy: 0.7967\n",
            "Epoch 40/70\n",
            "990/990 [==============================] - 3s 3ms/step - loss: 0.5000 - accuracy: 0.8162 - val_loss: 0.5742 - val_accuracy: 0.7937\n",
            "Epoch 41/70\n",
            "990/990 [==============================] - 3s 3ms/step - loss: 0.4930 - accuracy: 0.8213 - val_loss: 0.5486 - val_accuracy: 0.8013\n",
            "Epoch 42/70\n",
            "990/990 [==============================] - 4s 4ms/step - loss: 0.4856 - accuracy: 0.8234 - val_loss: 0.5712 - val_accuracy: 0.7919\n",
            "Epoch 43/70\n",
            "990/990 [==============================] - 3s 3ms/step - loss: 0.4756 - accuracy: 0.8253 - val_loss: 0.5163 - val_accuracy: 0.8141\n",
            "Epoch 44/70\n",
            "990/990 [==============================] - 3s 3ms/step - loss: 0.4686 - accuracy: 0.8300 - val_loss: 0.4834 - val_accuracy: 0.8241\n",
            "Epoch 45/70\n",
            "990/990 [==============================] - 3s 3ms/step - loss: 0.4649 - accuracy: 0.8310 - val_loss: 0.5020 - val_accuracy: 0.8164\n",
            "Epoch 46/70\n",
            "990/990 [==============================] - 3s 3ms/step - loss: 0.4531 - accuracy: 0.8342 - val_loss: 0.4981 - val_accuracy: 0.8194\n",
            "Epoch 47/70\n",
            "990/990 [==============================] - 3s 4ms/step - loss: 0.4468 - accuracy: 0.8363 - val_loss: 0.5098 - val_accuracy: 0.8174\n",
            "Epoch 48/70\n",
            "990/990 [==============================] - 3s 3ms/step - loss: 0.4406 - accuracy: 0.8382 - val_loss: 0.4779 - val_accuracy: 0.8274\n",
            "Epoch 49/70\n",
            "990/990 [==============================] - 3s 3ms/step - loss: 0.4346 - accuracy: 0.8432 - val_loss: 0.4759 - val_accuracy: 0.8316\n",
            "Epoch 50/70\n",
            "990/990 [==============================] - 2s 2ms/step - loss: 0.4290 - accuracy: 0.8441 - val_loss: 0.4791 - val_accuracy: 0.8242\n",
            "Epoch 51/70\n",
            "990/990 [==============================] - 2s 2ms/step - loss: 0.4263 - accuracy: 0.8443 - val_loss: 0.4766 - val_accuracy: 0.8298\n",
            "Epoch 52/70\n",
            "990/990 [==============================] - 3s 3ms/step - loss: 0.4155 - accuracy: 0.8500 - val_loss: 0.4515 - val_accuracy: 0.8378\n",
            "Epoch 53/70\n",
            "990/990 [==============================] - 3s 3ms/step - loss: 0.4139 - accuracy: 0.8522 - val_loss: 0.4814 - val_accuracy: 0.8275\n",
            "Epoch 54/70\n",
            "990/990 [==============================] - 3s 3ms/step - loss: 0.4072 - accuracy: 0.8515 - val_loss: 0.4436 - val_accuracy: 0.8399\n",
            "Epoch 55/70\n",
            "990/990 [==============================] - 2s 2ms/step - loss: 0.4013 - accuracy: 0.8539 - val_loss: 0.4323 - val_accuracy: 0.8452\n",
            "Epoch 56/70\n",
            "990/990 [==============================] - 2s 2ms/step - loss: 0.3994 - accuracy: 0.8544 - val_loss: 0.4488 - val_accuracy: 0.8362\n",
            "Epoch 57/70\n",
            "990/990 [==============================] - 2s 2ms/step - loss: 0.3941 - accuracy: 0.8582 - val_loss: 0.4302 - val_accuracy: 0.8467\n",
            "Epoch 58/70\n",
            "990/990 [==============================] - 3s 3ms/step - loss: 0.3853 - accuracy: 0.8593 - val_loss: 0.4585 - val_accuracy: 0.8371\n",
            "Epoch 59/70\n",
            "990/990 [==============================] - 4s 4ms/step - loss: 0.3831 - accuracy: 0.8618 - val_loss: 0.4090 - val_accuracy: 0.8567\n",
            "Epoch 60/70\n",
            "990/990 [==============================] - 2s 2ms/step - loss: 0.3776 - accuracy: 0.8640 - val_loss: 0.4678 - val_accuracy: 0.8348\n",
            "Epoch 61/70\n",
            "990/990 [==============================] - 3s 3ms/step - loss: 0.3742 - accuracy: 0.8648 - val_loss: 0.4337 - val_accuracy: 0.8479\n",
            "Epoch 62/70\n",
            "990/990 [==============================] - 3s 3ms/step - loss: 0.3693 - accuracy: 0.8660 - val_loss: 0.4120 - val_accuracy: 0.8518\n",
            "Epoch 63/70\n",
            "990/990 [==============================] - 2s 2ms/step - loss: 0.3637 - accuracy: 0.8675 - val_loss: 0.4091 - val_accuracy: 0.8538\n",
            "Epoch 64/70\n",
            "990/990 [==============================] - 3s 3ms/step - loss: 0.3570 - accuracy: 0.8692 - val_loss: 0.4071 - val_accuracy: 0.8516\n",
            "Epoch 65/70\n",
            "990/990 [==============================] - 3s 3ms/step - loss: 0.3521 - accuracy: 0.8722 - val_loss: 0.4458 - val_accuracy: 0.8369\n",
            "Epoch 66/70\n",
            "990/990 [==============================] - 3s 3ms/step - loss: 0.3488 - accuracy: 0.8727 - val_loss: 0.3831 - val_accuracy: 0.8628\n",
            "Epoch 67/70\n",
            "990/990 [==============================] - 2s 2ms/step - loss: 0.3426 - accuracy: 0.8762 - val_loss: 0.4010 - val_accuracy: 0.8578\n",
            "Epoch 68/70\n",
            "990/990 [==============================] - 3s 3ms/step - loss: 0.3471 - accuracy: 0.8750 - val_loss: 0.4530 - val_accuracy: 0.8393\n",
            "Epoch 69/70\n",
            "990/990 [==============================] - 2s 2ms/step - loss: 0.3370 - accuracy: 0.8778 - val_loss: 0.3953 - val_accuracy: 0.8597\n",
            "Epoch 70/70\n",
            "990/990 [==============================] - 3s 3ms/step - loss: 0.3356 - accuracy: 0.8775 - val_loss: 0.3903 - val_accuracy: 0.8588\n"
          ]
        }
      ]
    },
    {
      "cell_type": "markdown",
      "source": [
        "**Classification Report**"
      ],
      "metadata": {
        "id": "J2e_cIXdJKYW"
      }
    },
    {
      "cell_type": "code",
      "source": [
        "from sklearn.metrics import confusion_matrix, classification_report\n",
        "y_pred = model.predict(x_test)\n",
        "y_pred_classes = [np.argmax(element) for element in y_pred]\n",
        "\n",
        "print(\"Classification Report : \")\n",
        "print(classification_report(y_test, y_pred_classes))"
      ],
      "metadata": {
        "colab": {
          "base_uri": "https://localhost:8080/"
        },
        "id": "04LKUveiJJ5G",
        "outputId": "b831d5a5-7c75-4fa6-d30d-ba8b8de00e5b"
      },
      "execution_count": 32,
      "outputs": [
        {
          "output_type": "stream",
          "name": "stdout",
          "text": [
            "248/248 [==============================] - 1s 2ms/step\n",
            "Classification Report : \n",
            "              precision    recall  f1-score   support\n",
            "\n",
            "           0       0.76      0.81      0.78       646\n",
            "           1       0.68      0.85      0.75       648\n",
            "           2       0.81      0.70      0.75       675\n",
            "           3       0.86      0.81      0.83       674\n",
            "           4       0.82      0.82      0.82       676\n",
            "           5       0.90      0.80      0.85       652\n",
            "           6       0.87      0.86      0.87       693\n",
            "           7       0.85      0.92      0.88       634\n",
            "           8       0.93      0.95      0.94       687\n",
            "           9       0.97      0.92      0.94       633\n",
            "          10       0.96      0.96      0.96       674\n",
            "          11       0.96      0.92      0.94       628\n",
            "\n",
            "    accuracy                           0.86      7920\n",
            "   macro avg       0.86      0.86      0.86      7920\n",
            "weighted avg       0.86      0.86      0.86      7920\n",
            "\n"
          ]
        }
      ]
    },
    {
      "cell_type": "code",
      "source": [
        "# Plotting model accuracy and loss\n",
        "def plot_history(history):\n",
        "    plt.figure(figsize=(10, 5))\n",
        "\n",
        "    # Plot training & validation accuracy values\n",
        "    plt.subplot(1, 2, 1)\n",
        "    plt.ylim(0, 1)\n",
        "    plt.plot(history.history['accuracy'])\n",
        "    plt.plot(history.history['val_accuracy'])\n",
        "    plt.title('Model Accuracy')\n",
        "    plt.ylabel('Accuracy')\n",
        "    plt.xlabel('Epoch')\n",
        "    plt.legend(['Train', 'Validation'], loc='upper left')\n",
        "\n",
        "    # Plot training & validation loss values\n",
        "    plt.subplot(1, 2, 2)\n",
        "    plt.ylim(0, 2)\n",
        "    plt.plot(history.history['loss'])\n",
        "    plt.plot(history.history['val_loss'])\n",
        "    plt.title('Model Loss')\n",
        "    plt.ylabel('Loss')\n",
        "    plt.xlabel('Epoch')\n",
        "    plt.legend(['Train', 'Validation'], loc='upper right')\n",
        "\n",
        "    plt.tight_layout()\n",
        "    plt.show()\n",
        "\n",
        "# Call the function to plot the history\n",
        "plot_history(history)"
      ],
      "metadata": {
        "colab": {
          "base_uri": "https://localhost:8080/",
          "height": 507
        },
        "id": "LiybPDHQJZ7S",
        "outputId": "29bae2d3-c812-4703-b069-cfd851977f7e"
      },
      "execution_count": 33,
      "outputs": [
        {
          "output_type": "display_data",
          "data": {
            "text/plain": [
              "<Figure size 1000x500 with 2 Axes>"
            ],
            "image/png": "[encoded data removed]"
          },
          "metadata": {}
        }
      ]
    },
    {
      "cell_type": "markdown",
      "source": [
        "**Validation with Pronation Data**"
      ],
      "metadata": {
        "id": "FKtUgLNlPE4b"
      }
    },
    {
      "cell_type": "code",
      "source": [
        "x_pronation, y_pronation = get_input(persons, gestures, \"Pronation\")\n",
        "x_pronation = np.array(x_pronation)\n",
        "y_pronation = np.array(y_pronation)"
      ],
      "metadata": {
        "id": "ESQgPNj8PMeO"
      },
      "execution_count": 39,
      "outputs": []
    },
    {
      "cell_type": "code",
      "source": [
        "pronation_results = model.evaluate(x_pronation, y_pronation, batch_size=32)\n",
        "print(pronation_results)"
      ],
      "metadata": {
        "colab": {
          "base_uri": "https://localhost:8080/"
        },
        "id": "yrfITo8rRRZ2",
        "outputId": "6cee5651-63e0-49a3-d4a8-be22552a5ecd"
      },
      "execution_count": 40,
      "outputs": [
        {
          "output_type": "stream",
          "name": "stdout",
          "text": [
            "1238/1238 [==============================] - 2s 2ms/step - loss: 1.6544 - accuracy: 0.6119\n",
            "[1.6544400453567505, 0.6119444370269775]\n"
          ]
        }
      ]
    },
    {
      "cell_type": "markdown",
      "source": [
        "**Validation with Supination Data**"
      ],
      "metadata": {
        "id": "LIpKxRAjTRQX"
      }
    },
    {
      "cell_type": "code",
      "source": [
        "x_supination, y_supination = get_input(persons, gestures, \"Supination\")\n",
        "x_supination = np.array(x_supination)\n",
        "y_supination = np.array(y_supination)"
      ],
      "metadata": {
        "id": "62HcfeQKTW2P"
      },
      "execution_count": 42,
      "outputs": []
    },
    {
      "cell_type": "code",
      "source": [
        "supination_results = model.evaluate(x_supination, y_supination, batch_size=32)\n",
        "print(supination_results)"
      ],
      "metadata": {
        "colab": {
          "base_uri": "https://localhost:8080/"
        },
        "id": "LGFCsiw9TqCb",
        "outputId": "3d2df2b2-fb57-48d1-9e0f-26414c63f7fc"
      },
      "execution_count": 43,
      "outputs": [
        {
          "output_type": "stream",
          "name": "stdout",
          "text": [
            "1238/1238 [==============================] - 2s 2ms/step - loss: 1.7978 - accuracy: 0.5893\n",
            "[1.797780990600586, 0.5893181562423706]\n"
          ]
        }
      ]
    }
  ]
}