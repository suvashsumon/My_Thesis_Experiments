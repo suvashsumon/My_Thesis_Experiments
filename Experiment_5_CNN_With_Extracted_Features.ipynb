{
  "nbformat": 4,
  "nbformat_minor": 0,
  "metadata": {
    "colab": {
      "provenance": [],
      "authorship_tag": "ABX9TyMPTYu/6XkUkpeiZ8xuDpUH",
      "include_colab_link": true
    },
    "kernelspec": {
      "name": "python3",
      "display_name": "Python 3"
    },
    "language_info": {
      "name": "python"
    }
  },
  "cells": [
    {
      "cell_type": "markdown",
      "metadata": {
        "id": "view-in-github",
        "colab_type": "text"
      },
      "source": [
        "<a href=\"https://colab.research.google.com/github/suvashsumon/My_Thesis_Experiments/blob/main/Experiment_5_CNN_With_Extracted_Features.ipynb\" target=\"_parent\"><img src=\"https://colab.research.google.com/assets/colab-badge.svg\" alt=\"Open In Colab\"/></a>"
      ]
    },
    {
      "cell_type": "markdown",
      "source": [
        "**1. Using Time Domain Power Spectral Descriptors (TDPSD) Feature Set**  \n",
        "**2. Using individual dataset**"
      ],
      "metadata": {
        "id": "jfWDCm6rVsUC"
      }
    },
    {
      "cell_type": "code",
      "execution_count": 4,
      "metadata": {
        "colab": {
          "base_uri": "https://localhost:8080/"
        },
        "id": "6EL0T4GfiQAI",
        "outputId": "c7d6f233-ae65-4fdf-a12d-dbd62fad858f"
      },
      "outputs": [
        {
          "output_type": "stream",
          "name": "stdout",
          "text": [
            "Requirement already satisfied: libemg in /usr/local/lib/python3.10/dist-packages (0.0.1)\n",
            "Requirement already satisfied: numpy in /usr/local/lib/python3.10/dist-packages (from libemg) (1.23.5)\n",
            "Requirement already satisfied: scipy in /usr/local/lib/python3.10/dist-packages (from libemg) (1.11.4)\n",
            "Requirement already satisfied: scikit-learn in /usr/local/lib/python3.10/dist-packages (from libemg) (1.2.2)\n",
            "Requirement already satisfied: pillow in /usr/local/lib/python3.10/dist-packages (from libemg) (9.4.0)\n",
            "Requirement already satisfied: matplotlib in /usr/local/lib/python3.10/dist-packages (from libemg) (3.7.1)\n",
            "Requirement already satisfied: librosa in /usr/local/lib/python3.10/dist-packages (from libemg) (0.10.1)\n",
            "Requirement already satisfied: wfdb in /usr/local/lib/python3.10/dist-packages (from libemg) (4.1.2)\n",
            "Requirement already satisfied: pyserial in /usr/local/lib/python3.10/dist-packages (from libemg) (3.5)\n",
            "Requirement already satisfied: audioread>=2.1.9 in /usr/local/lib/python3.10/dist-packages (from librosa->libemg) (3.0.1)\n",
            "Requirement already satisfied: joblib>=0.14 in /usr/local/lib/python3.10/dist-packages (from librosa->libemg) (1.3.2)\n",
            "Requirement already satisfied: decorator>=4.3.0 in /usr/local/lib/python3.10/dist-packages (from librosa->libemg) (4.4.2)\n",
            "Requirement already satisfied: numba>=0.51.0 in /usr/local/lib/python3.10/dist-packages (from librosa->libemg) (0.58.1)\n",
            "Requirement already satisfied: soundfile>=0.12.1 in /usr/local/lib/python3.10/dist-packages (from librosa->libemg) (0.12.1)\n",
            "Requirement already satisfied: pooch>=1.0 in /usr/local/lib/python3.10/dist-packages (from librosa->libemg) (1.8.0)\n",
            "Requirement already satisfied: soxr>=0.3.2 in /usr/local/lib/python3.10/dist-packages (from librosa->libemg) (0.3.7)\n",
            "Requirement already satisfied: typing-extensions>=4.1.1 in /usr/local/lib/python3.10/dist-packages (from librosa->libemg) (4.5.0)\n",
            "Requirement already satisfied: lazy-loader>=0.1 in /usr/local/lib/python3.10/dist-packages (from librosa->libemg) (0.3)\n",
            "Requirement already satisfied: msgpack>=1.0 in /usr/local/lib/python3.10/dist-packages (from librosa->libemg) (1.0.7)\n",
            "Requirement already satisfied: threadpoolctl>=2.0.0 in /usr/local/lib/python3.10/dist-packages (from scikit-learn->libemg) (3.2.0)\n",
            "Requirement already satisfied: contourpy>=1.0.1 in /usr/local/lib/python3.10/dist-packages (from matplotlib->libemg) (1.2.0)\n",
            "Requirement already satisfied: cycler>=0.10 in /usr/local/lib/python3.10/dist-packages (from matplotlib->libemg) (0.12.1)\n",
            "Requirement already satisfied: fonttools>=4.22.0 in /usr/local/lib/python3.10/dist-packages (from matplotlib->libemg) (4.47.0)\n",
            "Requirement already satisfied: kiwisolver>=1.0.1 in /usr/local/lib/python3.10/dist-packages (from matplotlib->libemg) (1.4.5)\n",
            "Requirement already satisfied: packaging>=20.0 in /usr/local/lib/python3.10/dist-packages (from matplotlib->libemg) (23.2)\n",
            "Requirement already satisfied: pyparsing>=2.3.1 in /usr/local/lib/python3.10/dist-packages (from matplotlib->libemg) (3.1.1)\n",
            "Requirement already satisfied: python-dateutil>=2.7 in /usr/local/lib/python3.10/dist-packages (from matplotlib->libemg) (2.8.2)\n",
            "Requirement already satisfied: pandas>=1.3.0 in /usr/local/lib/python3.10/dist-packages (from wfdb->libemg) (1.5.3)\n",
            "Requirement already satisfied: requests>=2.8.1 in /usr/local/lib/python3.10/dist-packages (from wfdb->libemg) (2.31.0)\n",
            "Requirement already satisfied: llvmlite<0.42,>=0.41.0dev0 in /usr/local/lib/python3.10/dist-packages (from numba>=0.51.0->librosa->libemg) (0.41.1)\n",
            "Requirement already satisfied: pytz>=2020.1 in /usr/local/lib/python3.10/dist-packages (from pandas>=1.3.0->wfdb->libemg) (2023.3.post1)\n",
            "Requirement already satisfied: platformdirs>=2.5.0 in /usr/local/lib/python3.10/dist-packages (from pooch>=1.0->librosa->libemg) (4.1.0)\n",
            "Requirement already satisfied: six>=1.5 in /usr/local/lib/python3.10/dist-packages (from python-dateutil>=2.7->matplotlib->libemg) (1.16.0)\n",
            "Requirement already satisfied: charset-normalizer<4,>=2 in /usr/local/lib/python3.10/dist-packages (from requests>=2.8.1->wfdb->libemg) (3.3.2)\n",
            "Requirement already satisfied: idna<4,>=2.5 in /usr/local/lib/python3.10/dist-packages (from requests>=2.8.1->wfdb->libemg) (3.6)\n",
            "Requirement already satisfied: urllib3<3,>=1.21.1 in /usr/local/lib/python3.10/dist-packages (from requests>=2.8.1->wfdb->libemg) (2.0.7)\n",
            "Requirement already satisfied: certifi>=2017.4.17 in /usr/local/lib/python3.10/dist-packages (from requests>=2.8.1->wfdb->libemg) (2023.11.17)\n",
            "Requirement already satisfied: cffi>=1.0 in /usr/local/lib/python3.10/dist-packages (from soundfile>=0.12.1->librosa->libemg) (1.16.0)\n",
            "Requirement already satisfied: pycparser in /usr/local/lib/python3.10/dist-packages (from cffi>=1.0->soundfile>=0.12.1->librosa->libemg) (2.21)\n"
          ]
        }
      ],
      "source": [
        "!pip install libemg"
      ]
    },
    {
      "cell_type": "code",
      "source": [
        "import numpy as np\n",
        "import matplotlib.pyplot as plt\n",
        "import scipy.io as scipyio\n",
        "import seaborn as sns\n",
        "import pandas as pd\n",
        "from libemg.feature_extractor import FeatureExtractor\n",
        "from libemg.utils import get_windows\n",
        "from google.colab import drive\n",
        "import os\n",
        "from sklearn.preprocessing import MinMaxScaler"
      ],
      "metadata": {
        "id": "S_cbWcJpinEX"
      },
      "execution_count": 27,
      "outputs": []
    },
    {
      "cell_type": "markdown",
      "source": [
        "**Reading Dataset**"
      ],
      "metadata": {
        "id": "47dGhzkMjZ8_"
      }
    },
    {
      "cell_type": "code",
      "source": [
        "drive.mount('/content/gdrive')"
      ],
      "metadata": {
        "colab": {
          "base_uri": "https://localhost:8080/"
        },
        "id": "FxWMJLpOjdcB",
        "outputId": "8dc9e0e4-fd30-4600-a084-53065ceb6e19"
      },
      "execution_count": 6,
      "outputs": [
        {
          "output_type": "stream",
          "name": "stdout",
          "text": [
            "Drive already mounted at /content/gdrive; to attempt to forcibly remount, call drive.mount(\"/content/gdrive\", force_remount=True).\n"
          ]
        }
      ]
    },
    {
      "cell_type": "code",
      "source": [
        "gestures_label = {\n",
        "\t 'Thumb_UP' : 0,\n",
        "\t 'Index' : 1,\n",
        "\t 'Right_Angle' : 2,\n",
        "\t 'Peace' : 3,\n",
        "\t 'Index_Little' : 4,\n",
        "\t 'Thumb_Little' : 5,\n",
        "\t 'Hand_Close' : 6,\n",
        "\t 'Hand_Open' : 7,\n",
        "\t 'Wrist_Extension' : 8,\n",
        "\t 'Wrist_Flexion' : 9,\n",
        "\t 'Ulner_Deviation' : 10,\n",
        "\t 'Radial_Deviation' : 11\n",
        "}\n",
        "\n",
        "gestures = ['Thumb_UP', 'Index_Little', 'Right_Angle', 'Peace', 'Index', 'Thumb_Little', 'Hand_Close', 'Hand_Open',\n",
        "\t 'Wrist_Extension', 'Wrist_Flexion', 'Ulner_Deviation', 'Radial_Deviation'\n",
        "]"
      ],
      "metadata": {
        "id": "43mB8rvkkOFQ"
      },
      "execution_count": 7,
      "outputs": []
    },
    {
      "cell_type": "code",
      "source": [
        "persons = [\"Arifa\", \"Arnob\", \"Ashis\", \"Bayezid\", \"Bushra\", \"Choity_new\", \"Eftekhar\",\n",
        "           \"Fahim\", \"Humaid\", \"Humayun\", \"Johir\", \"Joy\", \"Mamun\", \"Noman\", \"Piyus\", \"Sazzad\",\n",
        "           \"Shafi\", \"Shourav\", \"Tamim\", \"Wadud\"]"
      ],
      "metadata": {
        "id": "3lT_Z7hkmdXG"
      },
      "execution_count": 8,
      "outputs": []
    },
    {
      "cell_type": "code",
      "source": [
        "def get_gesture_label(gesture):\n",
        "  return gestures_label [gesture];"
      ],
      "metadata": {
        "id": "jx8GgpISv5I2"
      },
      "execution_count": 9,
      "outputs": []
    },
    {
      "cell_type": "code",
      "source": [
        "def scaleTo01(matrix):\n",
        "  scaler = MinMaxScaler()\n",
        "  scaler.fit(matrix)\n",
        "  scaled_matrix = scaler.transform(matrix)\n",
        "  return scaled_matrix"
      ],
      "metadata": {
        "id": "v23-gW_bX4f3"
      },
      "execution_count": 28,
      "outputs": []
    },
    {
      "cell_type": "code",
      "source": [
        "def feature_extraction(channelvalues, gesture, feature_list):\n",
        "  # creating windows\n",
        "  windows = get_windows(channelvalues, 50, 50)\n",
        "  # extract feature\n",
        "  fe = FeatureExtractor()\n",
        "  features = fe.extract_features(feature_list, windows)\n",
        "  # print(features.keys())\n",
        "  #print(\"Len : \"+str(len(features)))\n",
        "  # creating feature matrixs\n",
        "  extracted_feature_array = []\n",
        "  extracted_gesture_array = []\n",
        "  for i in range(33):\n",
        "    features_matrix = []\n",
        "    for abb in feature_list:\n",
        "      features_matrix.append(features[abb][i])\n",
        "    #print(features['MAV'].shape)\n",
        "    #print(features['AR'].shape)\n",
        "    #features_matrix = (features_matrix-np.min(features_matrix))/(np.max(features_matrix)-np.min(features_matrix))\n",
        "    features_matrix = scaleTo01(features_matrix)\n",
        "    extracted_feature_array.append(features_matrix)\n",
        "    extracted_gesture_array.append(get_gesture_label(gesture))\n",
        "  return extracted_feature_array, extracted_gesture_array"
      ],
      "metadata": {
        "id": "DaBZ8rssnyrg"
      },
      "execution_count": 30,
      "outputs": []
    },
    {
      "cell_type": "code",
      "source": [
        "def get_processed_data(matfilepath, gesture):\n",
        "  # read mat file\n",
        "  matdata = scipyio.loadmat(matfilepath)\n",
        "  # transpose the matrix\n",
        "  values = np.transpose(matdata['value'])\n",
        "  # remove the first 3000 values\n",
        "  values = values[3000:]\n",
        "  return feature_extraction(values, gesture, feature_list)\n"
      ],
      "metadata": {
        "id": "mZ_awmvtm37Q"
      },
      "execution_count": 31,
      "outputs": []
    },
    {
      "cell_type": "code",
      "source": [
        "def get_input(persons, gestures, feature_list, orientaion=\"Rest\"):\n",
        "  input_array = []\n",
        "  input_gest = []\n",
        "  for person in persons:\n",
        "    for gest in gestures:\n",
        "      for i in range(5):\n",
        "        matfilepath = \"gdrive/My Drive/Forearm Invariant Data/\"+person+\"/\"+orientaion+\"/\"+gest+\"-\"+str(i+1)+\".mat\"\n",
        "        #print(matfilepath)\n",
        "        processed_matrix, gesture_array = get_processed_data(matfilepath, gest)\n",
        "        gest_label = get_gesture_label(gest)\n",
        "        input_array = input_array + processed_matrix\n",
        "        input_gest = input_gest + gesture_array\n",
        "  return input_array, input_gest"
      ],
      "metadata": {
        "id": "D2d1xF4gkzXB"
      },
      "execution_count": 32,
      "outputs": []
    },
    {
      "cell_type": "code",
      "source": [
        "feature_list = [\n",
        "    'MAV',\n",
        "    'SSC',\n",
        "    'ZC',\n",
        "    'WL',\n",
        "    'LS',\n",
        "    'MFL',\n",
        "    'MSR',\n",
        "    'WAMP',\n",
        "    'RMS',\n",
        "    'IAV',\n",
        "    'DASDV',\n",
        "    'VAR',\n",
        "    'M0',\n",
        "    'M2',\n",
        "    'M4',\n",
        "    'SPARSI',\n",
        "    'IRF',\n",
        "    # 'WLR',\n",
        "    'LD',\n",
        "]\n",
        "X, Y = get_input(['Arifa'], gestures, feature_list)"
      ],
      "metadata": {
        "id": "WaN2dILztYHr"
      },
      "execution_count": 33,
      "outputs": []
    },
    {
      "cell_type": "code",
      "source": [
        "len(X), len(Y)"
      ],
      "metadata": {
        "colab": {
          "base_uri": "https://localhost:8080/"
        },
        "id": "oJFCcGx2uSdC",
        "outputId": "cc326776-a03f-44e5-b578-1b3b22799228"
      },
      "execution_count": 34,
      "outputs": [
        {
          "output_type": "execute_result",
          "data": {
            "text/plain": [
              "(1980, 1980)"
            ]
          },
          "metadata": {},
          "execution_count": 34
        }
      ]
    },
    {
      "cell_type": "code",
      "source": [
        "#\n",
        "df = pd.DataFrame(X[0])\n",
        "index = pd.Index(feature_list)\n",
        "df = df.set_index(index)\n",
        "df"
      ],
      "metadata": {
        "colab": {
          "base_uri": "https://localhost:8080/",
          "height": 614
        },
        "id": "BazAZkIbwiN3",
        "outputId": "7d462bc3-4105-4c24-e9db-4b7715fb53b4"
      },
      "execution_count": 35,
      "outputs": [
        {
          "output_type": "execute_result",
          "data": {
            "text/plain": [
              "               0         1         2         3         4         5         6  \\\n",
              "MAV     0.024665  0.025344  0.022485  0.021648  0.021486  0.022670  0.022661   \n",
              "SSC     0.756067  0.875000  0.717363  0.574468  0.541637  0.644431  0.499987   \n",
              "ZC      0.170627  0.225000  0.239055  0.212766  0.333290  0.311084  0.173892   \n",
              "WL      0.037846  0.040991  0.069095  0.038730  0.054341  0.044429  0.056213   \n",
              "LS      0.024533  0.025253  0.022257  0.021528  0.021286  0.022537  0.022424   \n",
              "MFL     0.018061  0.020148  0.029012  0.019446  0.025087  0.022194  0.026074   \n",
              "MSR     0.026388  0.026844  0.024366  0.023161  0.023262  0.024290  0.024582   \n",
              "WAMP    1.000000  1.000000  1.000000  1.000000  1.000000  1.000000  1.000000   \n",
              "RMS     0.024754  0.025448  0.022717  0.021725  0.021665  0.022805  0.023010   \n",
              "IAV     0.044158  0.042212  0.063787  0.039873  0.056580  0.046491  0.069057   \n",
              "DASDV   0.024641  0.025436  0.022873  0.021707  0.021734  0.022749  0.022699   \n",
              "VAR     0.024276  0.025008  0.021695  0.021286  0.020808  0.022201  0.021791   \n",
              "M0      0.001052  0.001304  0.000648  0.001025  0.000654  0.000907  0.000623   \n",
              "M2      0.022739  0.015638  0.005025  0.012764  0.005647  0.012140  0.014156   \n",
              "M4      0.011393  0.010352  0.003133  0.008087  0.003895  0.007011  0.009238   \n",
              "SPARSI  0.000000  0.000000  0.000000  0.000000  0.000000  0.000000  0.000000   \n",
              "IRF     0.001835  0.000492  0.000410  0.000418  0.000786  0.000388  0.000261   \n",
              "LD      0.049057  0.050342  0.044216  0.042924  0.042314  0.044890  0.044384   \n",
              "\n",
              "               7  \n",
              "MAV     0.020889  \n",
              "SSC     0.659289  \n",
              "ZC      0.382462  \n",
              "WL      0.044787  \n",
              "LS      0.020764  \n",
              "MFL     0.021689  \n",
              "MSR     0.022459  \n",
              "WAMP    1.000000  \n",
              "RMS     0.021022  \n",
              "IAV     0.042084  \n",
              "DASDV   0.021112  \n",
              "VAR     0.020471  \n",
              "M0      0.000000  \n",
              "M2      0.036255  \n",
              "M4      0.009922  \n",
              "SPARSI  0.002904  \n",
              "IRF     0.021778  \n",
              "LD      0.042180  "
            ],
            "text/html": [
              "\n",
              "  <div id=\"df-e550fa83-3528-4a99-9727-c59b4be2068c\" class=\"colab-df-container\">\n",
              "    <div>\n",
              "<style scoped>\n",
              "    .dataframe tbody tr th:only-of-type {\n",
              "        vertical-align: middle;\n",
              "    }\n",
              "\n",
              "    .dataframe tbody tr th {\n",
              "        vertical-align: top;\n",
              "    }\n",
              "\n",
              "    .dataframe thead th {\n",
              "        text-align: right;\n",
              "    }\n",
              "</style>\n",
              "<table border=\"1\" class=\"dataframe\">\n",
              "  <thead>\n",
              "    <tr style=\"text-align: right;\">\n",
              "      <th></th>\n",
              "      <th>0</th>\n",
              "      <th>1</th>\n",
              "      <th>2</th>\n",
              "      <th>3</th>\n",
              "      <th>4</th>\n",
              "      <th>5</th>\n",
              "      <th>6</th>\n",
              "      <th>7</th>\n",
              "    </tr>\n",
              "  </thead>\n",
              "  <tbody>\n",
              "    <tr>\n",
              "      <th>MAV</th>\n",
              "      <td>0.024665</td>\n",
              "      <td>0.025344</td>\n",
              "      <td>0.022485</td>\n",
              "      <td>0.021648</td>\n",
              "      <td>0.021486</td>\n",
              "      <td>0.022670</td>\n",
              "      <td>0.022661</td>\n",
              "      <td>0.020889</td>\n",
              "    </tr>\n",
              "    <tr>\n",
              "      <th>SSC</th>\n",
              "      <td>0.756067</td>\n",
              "      <td>0.875000</td>\n",
              "      <td>0.717363</td>\n",
              "      <td>0.574468</td>\n",
              "      <td>0.541637</td>\n",
              "      <td>0.644431</td>\n",
              "      <td>0.499987</td>\n",
              "      <td>0.659289</td>\n",
              "    </tr>\n",
              "    <tr>\n",
              "      <th>ZC</th>\n",
              "      <td>0.170627</td>\n",
              "      <td>0.225000</td>\n",
              "      <td>0.239055</td>\n",
              "      <td>0.212766</td>\n",
              "      <td>0.333290</td>\n",
              "      <td>0.311084</td>\n",
              "      <td>0.173892</td>\n",
              "      <td>0.382462</td>\n",
              "    </tr>\n",
              "    <tr>\n",
              "      <th>WL</th>\n",
              "      <td>0.037846</td>\n",
              "      <td>0.040991</td>\n",
              "      <td>0.069095</td>\n",
              "      <td>0.038730</td>\n",
              "      <td>0.054341</td>\n",
              "      <td>0.044429</td>\n",
              "      <td>0.056213</td>\n",
              "      <td>0.044787</td>\n",
              "    </tr>\n",
              "    <tr>\n",
              "      <th>LS</th>\n",
              "      <td>0.024533</td>\n",
              "      <td>0.025253</td>\n",
              "      <td>0.022257</td>\n",
              "      <td>0.021528</td>\n",
              "      <td>0.021286</td>\n",
              "      <td>0.022537</td>\n",
              "      <td>0.022424</td>\n",
              "      <td>0.020764</td>\n",
              "    </tr>\n",
              "    <tr>\n",
              "      <th>MFL</th>\n",
              "      <td>0.018061</td>\n",
              "      <td>0.020148</td>\n",
              "      <td>0.029012</td>\n",
              "      <td>0.019446</td>\n",
              "      <td>0.025087</td>\n",
              "      <td>0.022194</td>\n",
              "      <td>0.026074</td>\n",
              "      <td>0.021689</td>\n",
              "    </tr>\n",
              "    <tr>\n",
              "      <th>MSR</th>\n",
              "      <td>0.026388</td>\n",
              "      <td>0.026844</td>\n",
              "      <td>0.024366</td>\n",
              "      <td>0.023161</td>\n",
              "      <td>0.023262</td>\n",
              "      <td>0.024290</td>\n",
              "      <td>0.024582</td>\n",
              "      <td>0.022459</td>\n",
              "    </tr>\n",
              "    <tr>\n",
              "      <th>WAMP</th>\n",
              "      <td>1.000000</td>\n",
              "      <td>1.000000</td>\n",
              "      <td>1.000000</td>\n",
              "      <td>1.000000</td>\n",
              "      <td>1.000000</td>\n",
              "      <td>1.000000</td>\n",
              "      <td>1.000000</td>\n",
              "      <td>1.000000</td>\n",
              "    </tr>\n",
              "    <tr>\n",
              "      <th>RMS</th>\n",
              "      <td>0.024754</td>\n",
              "      <td>0.025448</td>\n",
              "      <td>0.022717</td>\n",
              "      <td>0.021725</td>\n",
              "      <td>0.021665</td>\n",
              "      <td>0.022805</td>\n",
              "      <td>0.023010</td>\n",
              "      <td>0.021022</td>\n",
              "    </tr>\n",
              "    <tr>\n",
              "      <th>IAV</th>\n",
              "      <td>0.044158</td>\n",
              "      <td>0.042212</td>\n",
              "      <td>0.063787</td>\n",
              "      <td>0.039873</td>\n",
              "      <td>0.056580</td>\n",
              "      <td>0.046491</td>\n",
              "      <td>0.069057</td>\n",
              "      <td>0.042084</td>\n",
              "    </tr>\n",
              "    <tr>\n",
              "      <th>DASDV</th>\n",
              "      <td>0.024641</td>\n",
              "      <td>0.025436</td>\n",
              "      <td>0.022873</td>\n",
              "      <td>0.021707</td>\n",
              "      <td>0.021734</td>\n",
              "      <td>0.022749</td>\n",
              "      <td>0.022699</td>\n",
              "      <td>0.021112</td>\n",
              "    </tr>\n",
              "    <tr>\n",
              "      <th>VAR</th>\n",
              "      <td>0.024276</td>\n",
              "      <td>0.025008</td>\n",
              "      <td>0.021695</td>\n",
              "      <td>0.021286</td>\n",
              "      <td>0.020808</td>\n",
              "      <td>0.022201</td>\n",
              "      <td>0.021791</td>\n",
              "      <td>0.020471</td>\n",
              "    </tr>\n",
              "    <tr>\n",
              "      <th>M0</th>\n",
              "      <td>0.001052</td>\n",
              "      <td>0.001304</td>\n",
              "      <td>0.000648</td>\n",
              "      <td>0.001025</td>\n",
              "      <td>0.000654</td>\n",
              "      <td>0.000907</td>\n",
              "      <td>0.000623</td>\n",
              "      <td>0.000000</td>\n",
              "    </tr>\n",
              "    <tr>\n",
              "      <th>M2</th>\n",
              "      <td>0.022739</td>\n",
              "      <td>0.015638</td>\n",
              "      <td>0.005025</td>\n",
              "      <td>0.012764</td>\n",
              "      <td>0.005647</td>\n",
              "      <td>0.012140</td>\n",
              "      <td>0.014156</td>\n",
              "      <td>0.036255</td>\n",
              "    </tr>\n",
              "    <tr>\n",
              "      <th>M4</th>\n",
              "      <td>0.011393</td>\n",
              "      <td>0.010352</td>\n",
              "      <td>0.003133</td>\n",
              "      <td>0.008087</td>\n",
              "      <td>0.003895</td>\n",
              "      <td>0.007011</td>\n",
              "      <td>0.009238</td>\n",
              "      <td>0.009922</td>\n",
              "    </tr>\n",
              "    <tr>\n",
              "      <th>SPARSI</th>\n",
              "      <td>0.000000</td>\n",
              "      <td>0.000000</td>\n",
              "      <td>0.000000</td>\n",
              "      <td>0.000000</td>\n",
              "      <td>0.000000</td>\n",
              "      <td>0.000000</td>\n",
              "      <td>0.000000</td>\n",
              "      <td>0.002904</td>\n",
              "    </tr>\n",
              "    <tr>\n",
              "      <th>IRF</th>\n",
              "      <td>0.001835</td>\n",
              "      <td>0.000492</td>\n",
              "      <td>0.000410</td>\n",
              "      <td>0.000418</td>\n",
              "      <td>0.000786</td>\n",
              "      <td>0.000388</td>\n",
              "      <td>0.000261</td>\n",
              "      <td>0.021778</td>\n",
              "    </tr>\n",
              "    <tr>\n",
              "      <th>LD</th>\n",
              "      <td>0.049057</td>\n",
              "      <td>0.050342</td>\n",
              "      <td>0.044216</td>\n",
              "      <td>0.042924</td>\n",
              "      <td>0.042314</td>\n",
              "      <td>0.044890</td>\n",
              "      <td>0.044384</td>\n",
              "      <td>0.042180</td>\n",
              "    </tr>\n",
              "  </tbody>\n",
              "</table>\n",
              "</div>\n",
              "    <div class=\"colab-df-buttons\">\n",
              "\n",
              "  <div class=\"colab-df-container\">\n",
              "    <button class=\"colab-df-convert\" onclick=\"convertToInteractive('df-e550fa83-3528-4a99-9727-c59b4be2068c')\"\n",
              "            title=\"Convert this dataframe to an interactive table.\"\n",
              "            style=\"display:none;\">\n",
              "\n",
              "  <svg xmlns=\"http://www.w3.org/2000/svg\" height=\"24px\" viewBox=\"0 -960 960 960\">\n",
              "    <path d=\"M120-120v-720h720v720H120Zm60-500h600v-160H180v160Zm220 220h160v-160H400v160Zm0 220h160v-160H400v160ZM180-400h160v-160H180v160Zm440 0h160v-160H620v160ZM180-180h160v-160H180v160Zm440 0h160v-160H620v160Z\"/>\n",
              "  </svg>\n",
              "    </button>\n",
              "\n",
              "  <style>\n",
              "    .colab-df-container {\n",
              "      display:flex;\n",
              "      gap: 12px;\n",
              "    }\n",
              "\n",
              "    .colab-df-convert {\n",
              "      background-color: #E8F0FE;\n",
              "      border: none;\n",
              "      border-radius: 50%;\n",
              "      cursor: pointer;\n",
              "      display: none;\n",
              "      fill: #1967D2;\n",
              "      height: 32px;\n",
              "      padding: 0 0 0 0;\n",
              "      width: 32px;\n",
              "    }\n",
              "\n",
              "    .colab-df-convert:hover {\n",
              "      background-color: #E2EBFA;\n",
              "      box-shadow: 0px 1px 2px rgba(60, 64, 67, 0.3), 0px 1px 3px 1px rgba(60, 64, 67, 0.15);\n",
              "      fill: #174EA6;\n",
              "    }\n",
              "\n",
              "    .colab-df-buttons div {\n",
              "      margin-bottom: 4px;\n",
              "    }\n",
              "\n",
              "    [theme=dark] .colab-df-convert {\n",
              "      background-color: #3B4455;\n",
              "      fill: #D2E3FC;\n",
              "    }\n",
              "\n",
              "    [theme=dark] .colab-df-convert:hover {\n",
              "      background-color: #434B5C;\n",
              "      box-shadow: 0px 1px 3px 1px rgba(0, 0, 0, 0.15);\n",
              "      filter: drop-shadow(0px 1px 2px rgba(0, 0, 0, 0.3));\n",
              "      fill: #FFFFFF;\n",
              "    }\n",
              "  </style>\n",
              "\n",
              "    <script>\n",
              "      const buttonEl =\n",
              "        document.querySelector('#df-e550fa83-3528-4a99-9727-c59b4be2068c button.colab-df-convert');\n",
              "      buttonEl.style.display =\n",
              "        google.colab.kernel.accessAllowed ? 'block' : 'none';\n",
              "\n",
              "      async function convertToInteractive(key) {\n",
              "        const element = document.querySelector('#df-e550fa83-3528-4a99-9727-c59b4be2068c');\n",
              "        const dataTable =\n",
              "          await google.colab.kernel.invokeFunction('convertToInteractive',\n",
              "                                                    [key], {});\n",
              "        if (!dataTable) return;\n",
              "\n",
              "        const docLinkHtml = 'Like what you see? Visit the ' +\n",
              "          '<a target=\"_blank\" href=https://colab.research.google.com/notebooks/data_table.ipynb>data table notebook</a>'\n",
              "          + ' to learn more about interactive tables.';\n",
              "        element.innerHTML = '';\n",
              "        dataTable['output_type'] = 'display_data';\n",
              "        await google.colab.output.renderOutput(dataTable, element);\n",
              "        const docLink = document.createElement('div');\n",
              "        docLink.innerHTML = docLinkHtml;\n",
              "        element.appendChild(docLink);\n",
              "      }\n",
              "    </script>\n",
              "  </div>\n",
              "\n",
              "\n",
              "<div id=\"df-92a26123-c273-4fad-af95-65892be87a9f\">\n",
              "  <button class=\"colab-df-quickchart\" onclick=\"quickchart('df-92a26123-c273-4fad-af95-65892be87a9f')\"\n",
              "            title=\"Suggest charts\"\n",
              "            style=\"display:none;\">\n",
              "\n",
              "<svg xmlns=\"http://www.w3.org/2000/svg\" height=\"24px\"viewBox=\"0 0 24 24\"\n",
              "     width=\"24px\">\n",
              "    <g>\n",
              "        <path d=\"M19 3H5c-1.1 0-2 .9-2 2v14c0 1.1.9 2 2 2h14c1.1 0 2-.9 2-2V5c0-1.1-.9-2-2-2zM9 17H7v-7h2v7zm4 0h-2V7h2v10zm4 0h-2v-4h2v4z\"/>\n",
              "    </g>\n",
              "</svg>\n",
              "  </button>\n",
              "\n",
              "<style>\n",
              "  .colab-df-quickchart {\n",
              "      --bg-color: #E8F0FE;\n",
              "      --fill-color: #1967D2;\n",
              "      --hover-bg-color: #E2EBFA;\n",
              "      --hover-fill-color: #174EA6;\n",
              "      --disabled-fill-color: #AAA;\n",
              "      --disabled-bg-color: #DDD;\n",
              "  }\n",
              "\n",
              "  [theme=dark] .colab-df-quickchart {\n",
              "      --bg-color: #3B4455;\n",
              "      --fill-color: #D2E3FC;\n",
              "      --hover-bg-color: #434B5C;\n",
              "      --hover-fill-color: #FFFFFF;\n",
              "      --disabled-bg-color: #3B4455;\n",
              "      --disabled-fill-color: #666;\n",
              "  }\n",
              "\n",
              "  .colab-df-quickchart {\n",
              "    background-color: var(--bg-color);\n",
              "    border: none;\n",
              "    border-radius: 50%;\n",
              "    cursor: pointer;\n",
              "    display: none;\n",
              "    fill: var(--fill-color);\n",
              "    height: 32px;\n",
              "    padding: 0;\n",
              "    width: 32px;\n",
              "  }\n",
              "\n",
              "  .colab-df-quickchart:hover {\n",
              "    background-color: var(--hover-bg-color);\n",
              "    box-shadow: 0 1px 2px rgba(60, 64, 67, 0.3), 0 1px 3px 1px rgba(60, 64, 67, 0.15);\n",
              "    fill: var(--button-hover-fill-color);\n",
              "  }\n",
              "\n",
              "  .colab-df-quickchart-complete:disabled,\n",
              "  .colab-df-quickchart-complete:disabled:hover {\n",
              "    background-color: var(--disabled-bg-color);\n",
              "    fill: var(--disabled-fill-color);\n",
              "    box-shadow: none;\n",
              "  }\n",
              "\n",
              "  .colab-df-spinner {\n",
              "    border: 2px solid var(--fill-color);\n",
              "    border-color: transparent;\n",
              "    border-bottom-color: var(--fill-color);\n",
              "    animation:\n",
              "      spin 1s steps(1) infinite;\n",
              "  }\n",
              "\n",
              "  @keyframes spin {\n",
              "    0% {\n",
              "      border-color: transparent;\n",
              "      border-bottom-color: var(--fill-color);\n",
              "      border-left-color: var(--fill-color);\n",
              "    }\n",
              "    20% {\n",
              "      border-color: transparent;\n",
              "      border-left-color: var(--fill-color);\n",
              "      border-top-color: var(--fill-color);\n",
              "    }\n",
              "    30% {\n",
              "      border-color: transparent;\n",
              "      border-left-color: var(--fill-color);\n",
              "      border-top-color: var(--fill-color);\n",
              "      border-right-color: var(--fill-color);\n",
              "    }\n",
              "    40% {\n",
              "      border-color: transparent;\n",
              "      border-right-color: var(--fill-color);\n",
              "      border-top-color: var(--fill-color);\n",
              "    }\n",
              "    60% {\n",
              "      border-color: transparent;\n",
              "      border-right-color: var(--fill-color);\n",
              "    }\n",
              "    80% {\n",
              "      border-color: transparent;\n",
              "      border-right-color: var(--fill-color);\n",
              "      border-bottom-color: var(--fill-color);\n",
              "    }\n",
              "    90% {\n",
              "      border-color: transparent;\n",
              "      border-bottom-color: var(--fill-color);\n",
              "    }\n",
              "  }\n",
              "</style>\n",
              "\n",
              "  <script>\n",
              "    async function quickchart(key) {\n",
              "      const quickchartButtonEl =\n",
              "        document.querySelector('#' + key + ' button');\n",
              "      quickchartButtonEl.disabled = true;  // To prevent multiple clicks.\n",
              "      quickchartButtonEl.classList.add('colab-df-spinner');\n",
              "      try {\n",
              "        const charts = await google.colab.kernel.invokeFunction(\n",
              "            'suggestCharts', [key], {});\n",
              "      } catch (error) {\n",
              "        console.error('Error during call to suggestCharts:', error);\n",
              "      }\n",
              "      quickchartButtonEl.classList.remove('colab-df-spinner');\n",
              "      quickchartButtonEl.classList.add('colab-df-quickchart-complete');\n",
              "    }\n",
              "    (() => {\n",
              "      let quickchartButtonEl =\n",
              "        document.querySelector('#df-92a26123-c273-4fad-af95-65892be87a9f button');\n",
              "      quickchartButtonEl.style.display =\n",
              "        google.colab.kernel.accessAllowed ? 'block' : 'none';\n",
              "    })();\n",
              "  </script>\n",
              "</div>\n",
              "\n",
              "  <div id=\"id_58663d59-a127-4c8c-8586-6d3c2f636a58\">\n",
              "    <style>\n",
              "      .colab-df-generate {\n",
              "        background-color: #E8F0FE;\n",
              "        border: none;\n",
              "        border-radius: 50%;\n",
              "        cursor: pointer;\n",
              "        display: none;\n",
              "        fill: #1967D2;\n",
              "        height: 32px;\n",
              "        padding: 0 0 0 0;\n",
              "        width: 32px;\n",
              "      }\n",
              "\n",
              "      .colab-df-generate:hover {\n",
              "        background-color: #E2EBFA;\n",
              "        box-shadow: 0px 1px 2px rgba(60, 64, 67, 0.3), 0px 1px 3px 1px rgba(60, 64, 67, 0.15);\n",
              "        fill: #174EA6;\n",
              "      }\n",
              "\n",
              "      [theme=dark] .colab-df-generate {\n",
              "        background-color: #3B4455;\n",
              "        fill: #D2E3FC;\n",
              "      }\n",
              "\n",
              "      [theme=dark] .colab-df-generate:hover {\n",
              "        background-color: #434B5C;\n",
              "        box-shadow: 0px 1px 3px 1px rgba(0, 0, 0, 0.15);\n",
              "        filter: drop-shadow(0px 1px 2px rgba(0, 0, 0, 0.3));\n",
              "        fill: #FFFFFF;\n",
              "      }\n",
              "    </style>\n",
              "    <button class=\"colab-df-generate\" onclick=\"generateWithVariable('df')\"\n",
              "            title=\"Generate code using this dataframe.\"\n",
              "            style=\"display:none;\">\n",
              "\n",
              "  <svg xmlns=\"http://www.w3.org/2000/svg\" height=\"24px\"viewBox=\"0 0 24 24\"\n",
              "       width=\"24px\">\n",
              "    <path d=\"M7,19H8.4L18.45,9,17,7.55,7,17.6ZM5,21V16.75L18.45,3.32a2,2,0,0,1,2.83,0l1.4,1.43a1.91,1.91,0,0,1,.58,1.4,1.91,1.91,0,0,1-.58,1.4L9.25,21ZM18.45,9,17,7.55Zm-12,3A5.31,5.31,0,0,0,4.9,8.1,5.31,5.31,0,0,0,1,6.5,5.31,5.31,0,0,0,4.9,4.9,5.31,5.31,0,0,0,6.5,1,5.31,5.31,0,0,0,8.1,4.9,5.31,5.31,0,0,0,12,6.5,5.46,5.46,0,0,0,6.5,12Z\"/>\n",
              "  </svg>\n",
              "    </button>\n",
              "    <script>\n",
              "      (() => {\n",
              "      const buttonEl =\n",
              "        document.querySelector('#id_58663d59-a127-4c8c-8586-6d3c2f636a58 button.colab-df-generate');\n",
              "      buttonEl.style.display =\n",
              "        google.colab.kernel.accessAllowed ? 'block' : 'none';\n",
              "\n",
              "      buttonEl.onclick = () => {\n",
              "        google.colab.notebook.generateWithVariable('df');\n",
              "      }\n",
              "      })();\n",
              "    </script>\n",
              "  </div>\n",
              "\n",
              "    </div>\n",
              "  </div>\n"
            ]
          },
          "metadata": {},
          "execution_count": 35
        }
      ]
    },
    {
      "cell_type": "code",
      "source": [
        "X = np.array(X)\n",
        "Y = np.array(Y)\n",
        "X.shape, Y.shape"
      ],
      "metadata": {
        "colab": {
          "base_uri": "https://localhost:8080/"
        },
        "id": "BHt1DsXezc4m",
        "outputId": "11e3d18e-661c-4725-e105-b3c29d8ac036"
      },
      "execution_count": 36,
      "outputs": [
        {
          "output_type": "execute_result",
          "data": {
            "text/plain": [
              "((1980, 18, 8), (1980,))"
            ]
          },
          "metadata": {},
          "execution_count": 36
        }
      ]
    },
    {
      "cell_type": "markdown",
      "source": [
        "**Model Building**"
      ],
      "metadata": {
        "id": "0l87yRy9yCbZ"
      }
    },
    {
      "cell_type": "code",
      "source": [
        "from sklearn.model_selection import train_test_split\n",
        "x_train, x_test, y_train, y_test = train_test_split(\n",
        "    X,Y,\n",
        "    test_size = .2, shuffle=True, random_state=0\n",
        ")"
      ],
      "metadata": {
        "id": "1v51JnuRyFlo"
      },
      "execution_count": 37,
      "outputs": []
    },
    {
      "cell_type": "code",
      "source": [
        "len(x_train), len(y_train)"
      ],
      "metadata": {
        "colab": {
          "base_uri": "https://localhost:8080/"
        },
        "id": "aQWVClBuyQf3",
        "outputId": "e707d642-6a52-48c2-b43b-4eb0520f7299"
      },
      "execution_count": 38,
      "outputs": [
        {
          "output_type": "execute_result",
          "data": {
            "text/plain": [
              "(1584, 1584)"
            ]
          },
          "metadata": {},
          "execution_count": 38
        }
      ]
    },
    {
      "cell_type": "code",
      "source": [
        "import tensorflow as tf\n",
        "from tensorflow.keras.models import Sequential\n",
        "from tensorflow.keras.layers import Conv1D, MaxPooling1D, Flatten, Dense\n",
        "\n",
        "# Define the input shape\n",
        "input_shape = x_train[0].shape\n",
        "\n",
        "# Create a Sequential model\n",
        "model = Sequential()\n",
        "\n",
        "# Add a Conv1D layer\n",
        "model.add(Conv1D(filters=32, kernel_size=3, activation='relu', input_shape=input_shape))\n",
        "\n",
        "# Add a MaxPooling1D layer (optional)\n",
        "model.add(MaxPooling1D(pool_size=2))\n",
        "\n",
        "# Flatten the output before feeding it to a Dense layer\n",
        "model.add(Flatten())\n",
        "\n",
        "# Add a Dense layer\n",
        "model.add(Dense(64, activation='relu'))\n",
        "\n",
        "# Add a Dense layer\n",
        "model.add(Dense(32, activation='relu'))\n",
        "\n",
        "# Add a Dense layer\n",
        "model.add(Dense(16, activation='relu'))\n",
        "\n",
        "# Output layer for classification (adjust units according to the number of classes)\n",
        "# Assuming classes are integers starting from 0\n",
        "model.add(Dense(12, activation='softmax'))\n",
        "\n",
        "# Compile the model\n",
        "model.compile(optimizer='adam', loss='sparse_categorical_crossentropy', metrics=['accuracy'])\n",
        "\n",
        "# Display model summary\n",
        "model.summary()"
      ],
      "metadata": {
        "colab": {
          "base_uri": "https://localhost:8080/"
        },
        "id": "uAfUtnYPIOcL",
        "outputId": "c7978d18-d331-4956-e137-04848ad0a1f5"
      },
      "execution_count": 39,
      "outputs": [
        {
          "output_type": "stream",
          "name": "stdout",
          "text": [
            "Model: \"sequential_1\"\n",
            "_________________________________________________________________\n",
            " Layer (type)                Output Shape              Param #   \n",
            "=================================================================\n",
            " conv1d_1 (Conv1D)           (None, 16, 32)            800       \n",
            "                                                                 \n",
            " max_pooling1d_1 (MaxPoolin  (None, 8, 32)             0         \n",
            " g1D)                                                            \n",
            "                                                                 \n",
            " flatten_1 (Flatten)         (None, 256)               0         \n",
            "                                                                 \n",
            " dense_4 (Dense)             (None, 64)                16448     \n",
            "                                                                 \n",
            " dense_5 (Dense)             (None, 32)                2080      \n",
            "                                                                 \n",
            " dense_6 (Dense)             (None, 16)                528       \n",
            "                                                                 \n",
            " dense_7 (Dense)             (None, 12)                204       \n",
            "                                                                 \n",
            "=================================================================\n",
            "Total params: 20060 (78.36 KB)\n",
            "Trainable params: 20060 (78.36 KB)\n",
            "Non-trainable params: 0 (0.00 Byte)\n",
            "_________________________________________________________________\n"
          ]
        }
      ]
    },
    {
      "cell_type": "code",
      "source": [
        "# Fit the model with training data\n",
        "history = model.fit(x_train, y_train, epochs=70, batch_size=32, validation_data=(x_test, y_test))"
      ],
      "metadata": {
        "colab": {
          "base_uri": "https://localhost:8080/"
        },
        "id": "_tJKZmzII70e",
        "outputId": "149250e3-8630-458a-e2a8-3fa11a036f7c"
      },
      "execution_count": 40,
      "outputs": [
        {
          "output_type": "stream",
          "name": "stdout",
          "text": [
            "Epoch 1/70\n",
            "50/50 [==============================] - 1s 8ms/step - loss: 2.4770 - accuracy: 0.0871 - val_loss: 2.4685 - val_accuracy: 0.1465\n",
            "Epoch 2/70\n",
            "50/50 [==============================] - 0s 5ms/step - loss: 2.4208 - accuracy: 0.1742 - val_loss: 2.3652 - val_accuracy: 0.1515\n",
            "Epoch 3/70\n",
            "50/50 [==============================] - 0s 4ms/step - loss: 2.2432 - accuracy: 0.1837 - val_loss: 2.1623 - val_accuracy: 0.1566\n",
            "Epoch 4/70\n",
            "50/50 [==============================] - 0s 4ms/step - loss: 2.0404 - accuracy: 0.2197 - val_loss: 1.9586 - val_accuracy: 0.2778\n",
            "Epoch 5/70\n",
            "50/50 [==============================] - 0s 4ms/step - loss: 1.9108 - accuracy: 0.2658 - val_loss: 1.8645 - val_accuracy: 0.2955\n",
            "Epoch 6/70\n",
            "50/50 [==============================] - 0s 4ms/step - loss: 1.8126 - accuracy: 0.3283 - val_loss: 1.7664 - val_accuracy: 0.3308\n",
            "Epoch 7/70\n",
            "50/50 [==============================] - 0s 4ms/step - loss: 1.7535 - accuracy: 0.3226 - val_loss: 1.7110 - val_accuracy: 0.3662\n",
            "Epoch 8/70\n",
            "50/50 [==============================] - 0s 5ms/step - loss: 1.6863 - accuracy: 0.3693 - val_loss: 1.6222 - val_accuracy: 0.4116\n",
            "Epoch 9/70\n",
            "50/50 [==============================] - 0s 6ms/step - loss: 1.6216 - accuracy: 0.3775 - val_loss: 1.5646 - val_accuracy: 0.4217\n",
            "Epoch 10/70\n",
            "50/50 [==============================] - 0s 5ms/step - loss: 1.5634 - accuracy: 0.4223 - val_loss: 1.5227 - val_accuracy: 0.4697\n",
            "Epoch 11/70\n",
            "50/50 [==============================] - 0s 6ms/step - loss: 1.5201 - accuracy: 0.4249 - val_loss: 1.4852 - val_accuracy: 0.4874\n",
            "Epoch 12/70\n",
            "50/50 [==============================] - 0s 6ms/step - loss: 1.4686 - accuracy: 0.4444 - val_loss: 1.4461 - val_accuracy: 0.4773\n",
            "Epoch 13/70\n",
            "50/50 [==============================] - 0s 6ms/step - loss: 1.4342 - accuracy: 0.4476 - val_loss: 1.4295 - val_accuracy: 0.4874\n",
            "Epoch 14/70\n",
            "50/50 [==============================] - 0s 5ms/step - loss: 1.3856 - accuracy: 0.4735 - val_loss: 1.3844 - val_accuracy: 0.5126\n",
            "Epoch 15/70\n",
            "50/50 [==============================] - 0s 5ms/step - loss: 1.3722 - accuracy: 0.4779 - val_loss: 1.3531 - val_accuracy: 0.5227\n",
            "Epoch 16/70\n",
            "50/50 [==============================] - 0s 5ms/step - loss: 1.3748 - accuracy: 0.4823 - val_loss: 1.3136 - val_accuracy: 0.5379\n",
            "Epoch 17/70\n",
            "50/50 [==============================] - 0s 5ms/step - loss: 1.3357 - accuracy: 0.4956 - val_loss: 1.3018 - val_accuracy: 0.5152\n",
            "Epoch 18/70\n",
            "50/50 [==============================] - 0s 7ms/step - loss: 1.2969 - accuracy: 0.5107 - val_loss: 1.2873 - val_accuracy: 0.5303\n",
            "Epoch 19/70\n",
            "50/50 [==============================] - 0s 5ms/step - loss: 1.2686 - accuracy: 0.5284 - val_loss: 1.2397 - val_accuracy: 0.5530\n",
            "Epoch 20/70\n",
            "50/50 [==============================] - 0s 5ms/step - loss: 1.2790 - accuracy: 0.5051 - val_loss: 1.2637 - val_accuracy: 0.5253\n",
            "Epoch 21/70\n",
            "50/50 [==============================] - 0s 6ms/step - loss: 1.2530 - accuracy: 0.5284 - val_loss: 1.2429 - val_accuracy: 0.5505\n",
            "Epoch 22/70\n",
            "50/50 [==============================] - 0s 5ms/step - loss: 1.2638 - accuracy: 0.5082 - val_loss: 1.1835 - val_accuracy: 0.5934\n",
            "Epoch 23/70\n",
            "50/50 [==============================] - 0s 5ms/step - loss: 1.2101 - accuracy: 0.5398 - val_loss: 1.2191 - val_accuracy: 0.5530\n",
            "Epoch 24/70\n",
            "50/50 [==============================] - 0s 6ms/step - loss: 1.1846 - accuracy: 0.5461 - val_loss: 1.1610 - val_accuracy: 0.5833\n",
            "Epoch 25/70\n",
            "50/50 [==============================] - 0s 7ms/step - loss: 1.1787 - accuracy: 0.5556 - val_loss: 1.1255 - val_accuracy: 0.6111\n",
            "Epoch 26/70\n",
            "50/50 [==============================] - 0s 6ms/step - loss: 1.1695 - accuracy: 0.5537 - val_loss: 1.1837 - val_accuracy: 0.5884\n",
            "Epoch 27/70\n",
            "50/50 [==============================] - 0s 6ms/step - loss: 1.1516 - accuracy: 0.5701 - val_loss: 1.1417 - val_accuracy: 0.5909\n",
            "Epoch 28/70\n",
            "50/50 [==============================] - 0s 4ms/step - loss: 1.1343 - accuracy: 0.5720 - val_loss: 1.0996 - val_accuracy: 0.6237\n",
            "Epoch 29/70\n",
            "50/50 [==============================] - 0s 5ms/step - loss: 1.1269 - accuracy: 0.5915 - val_loss: 1.0820 - val_accuracy: 0.6263\n",
            "Epoch 30/70\n",
            "50/50 [==============================] - 0s 4ms/step - loss: 1.0819 - accuracy: 0.6023 - val_loss: 1.1040 - val_accuracy: 0.5909\n",
            "Epoch 31/70\n",
            "50/50 [==============================] - 0s 5ms/step - loss: 1.0756 - accuracy: 0.6086 - val_loss: 1.0544 - val_accuracy: 0.6338\n",
            "Epoch 32/70\n",
            "50/50 [==============================] - 0s 4ms/step - loss: 1.0636 - accuracy: 0.6092 - val_loss: 1.0340 - val_accuracy: 0.6212\n",
            "Epoch 33/70\n",
            "50/50 [==============================] - 0s 4ms/step - loss: 1.0270 - accuracy: 0.6199 - val_loss: 1.0527 - val_accuracy: 0.6212\n",
            "Epoch 34/70\n",
            "50/50 [==============================] - 0s 4ms/step - loss: 1.0414 - accuracy: 0.6054 - val_loss: 1.0160 - val_accuracy: 0.6414\n",
            "Epoch 35/70\n",
            "50/50 [==============================] - 0s 3ms/step - loss: 1.0068 - accuracy: 0.6212 - val_loss: 1.0403 - val_accuracy: 0.6313\n",
            "Epoch 36/70\n",
            "50/50 [==============================] - 0s 4ms/step - loss: 0.9919 - accuracy: 0.6269 - val_loss: 0.9594 - val_accuracy: 0.6768\n",
            "Epoch 37/70\n",
            "50/50 [==============================] - 0s 4ms/step - loss: 0.9707 - accuracy: 0.6402 - val_loss: 0.9352 - val_accuracy: 0.6742\n",
            "Epoch 38/70\n",
            "50/50 [==============================] - 0s 4ms/step - loss: 0.9559 - accuracy: 0.6484 - val_loss: 0.9291 - val_accuracy: 0.6667\n",
            "Epoch 39/70\n",
            "50/50 [==============================] - 0s 5ms/step - loss: 0.9415 - accuracy: 0.6540 - val_loss: 0.9498 - val_accuracy: 0.6667\n",
            "Epoch 40/70\n",
            "50/50 [==============================] - 0s 4ms/step - loss: 0.9388 - accuracy: 0.6534 - val_loss: 0.9055 - val_accuracy: 0.6843\n",
            "Epoch 41/70\n",
            "50/50 [==============================] - 0s 4ms/step - loss: 0.9127 - accuracy: 0.6648 - val_loss: 0.8816 - val_accuracy: 0.6818\n",
            "Epoch 42/70\n",
            "50/50 [==============================] - 0s 4ms/step - loss: 0.8981 - accuracy: 0.6635 - val_loss: 0.8676 - val_accuracy: 0.6919\n",
            "Epoch 43/70\n",
            "50/50 [==============================] - 0s 5ms/step - loss: 0.8939 - accuracy: 0.6604 - val_loss: 0.8572 - val_accuracy: 0.6970\n",
            "Epoch 44/70\n",
            "50/50 [==============================] - 0s 4ms/step - loss: 0.8708 - accuracy: 0.6818 - val_loss: 0.8436 - val_accuracy: 0.6843\n",
            "Epoch 45/70\n",
            "50/50 [==============================] - 0s 5ms/step - loss: 0.8600 - accuracy: 0.6843 - val_loss: 0.8868 - val_accuracy: 0.6843\n",
            "Epoch 46/70\n",
            "50/50 [==============================] - 0s 4ms/step - loss: 0.8758 - accuracy: 0.6793 - val_loss: 0.9432 - val_accuracy: 0.6414\n",
            "Epoch 47/70\n",
            "50/50 [==============================] - 0s 4ms/step - loss: 0.8426 - accuracy: 0.6774 - val_loss: 0.8152 - val_accuracy: 0.6944\n",
            "Epoch 48/70\n",
            "50/50 [==============================] - 0s 4ms/step - loss: 0.8330 - accuracy: 0.6989 - val_loss: 0.8192 - val_accuracy: 0.7045\n",
            "Epoch 49/70\n",
            "50/50 [==============================] - 0s 4ms/step - loss: 0.8625 - accuracy: 0.6812 - val_loss: 0.7888 - val_accuracy: 0.7172\n",
            "Epoch 50/70\n",
            "50/50 [==============================] - 0s 4ms/step - loss: 0.8074 - accuracy: 0.7064 - val_loss: 0.7959 - val_accuracy: 0.7298\n",
            "Epoch 51/70\n",
            "50/50 [==============================] - 0s 4ms/step - loss: 0.7997 - accuracy: 0.6970 - val_loss: 0.8052 - val_accuracy: 0.7096\n",
            "Epoch 52/70\n",
            "50/50 [==============================] - 0s 5ms/step - loss: 0.7598 - accuracy: 0.7254 - val_loss: 0.8020 - val_accuracy: 0.7071\n",
            "Epoch 53/70\n",
            "50/50 [==============================] - 0s 4ms/step - loss: 0.7751 - accuracy: 0.7077 - val_loss: 0.7451 - val_accuracy: 0.7298\n",
            "Epoch 54/70\n",
            "50/50 [==============================] - 0s 4ms/step - loss: 0.7553 - accuracy: 0.7184 - val_loss: 0.7793 - val_accuracy: 0.7222\n",
            "Epoch 55/70\n",
            "50/50 [==============================] - 0s 4ms/step - loss: 0.7561 - accuracy: 0.7178 - val_loss: 0.7271 - val_accuracy: 0.7374\n",
            "Epoch 56/70\n",
            "50/50 [==============================] - 0s 4ms/step - loss: 0.7276 - accuracy: 0.7311 - val_loss: 0.7280 - val_accuracy: 0.7323\n",
            "Epoch 57/70\n",
            "50/50 [==============================] - 0s 5ms/step - loss: 0.7578 - accuracy: 0.7323 - val_loss: 0.7229 - val_accuracy: 0.7323\n",
            "Epoch 58/70\n",
            "50/50 [==============================] - 0s 5ms/step - loss: 0.7292 - accuracy: 0.7241 - val_loss: 0.6857 - val_accuracy: 0.7449\n",
            "Epoch 59/70\n",
            "50/50 [==============================] - 0s 5ms/step - loss: 0.7227 - accuracy: 0.7367 - val_loss: 0.7267 - val_accuracy: 0.7348\n",
            "Epoch 60/70\n",
            "50/50 [==============================] - 0s 5ms/step - loss: 0.7139 - accuracy: 0.7405 - val_loss: 0.6853 - val_accuracy: 0.7576\n",
            "Epoch 61/70\n",
            "50/50 [==============================] - 0s 4ms/step - loss: 0.6779 - accuracy: 0.7551 - val_loss: 0.7053 - val_accuracy: 0.7475\n",
            "Epoch 62/70\n",
            "50/50 [==============================] - 0s 4ms/step - loss: 0.6864 - accuracy: 0.7494 - val_loss: 0.6996 - val_accuracy: 0.7424\n",
            "Epoch 63/70\n",
            "50/50 [==============================] - 0s 4ms/step - loss: 0.6697 - accuracy: 0.7614 - val_loss: 0.6459 - val_accuracy: 0.7576\n",
            "Epoch 64/70\n",
            "50/50 [==============================] - 0s 4ms/step - loss: 0.6510 - accuracy: 0.7532 - val_loss: 0.6372 - val_accuracy: 0.7727\n",
            "Epoch 65/70\n",
            "50/50 [==============================] - 0s 4ms/step - loss: 0.6543 - accuracy: 0.7481 - val_loss: 0.6810 - val_accuracy: 0.7449\n",
            "Epoch 66/70\n",
            "50/50 [==============================] - 0s 4ms/step - loss: 0.6483 - accuracy: 0.7677 - val_loss: 0.6854 - val_accuracy: 0.7525\n",
            "Epoch 67/70\n",
            "50/50 [==============================] - 0s 4ms/step - loss: 0.6881 - accuracy: 0.7418 - val_loss: 0.6317 - val_accuracy: 0.7753\n",
            "Epoch 68/70\n",
            "50/50 [==============================] - 0s 5ms/step - loss: 0.6508 - accuracy: 0.7614 - val_loss: 0.6418 - val_accuracy: 0.7626\n",
            "Epoch 69/70\n",
            "50/50 [==============================] - 0s 4ms/step - loss: 0.6342 - accuracy: 0.7683 - val_loss: 0.6512 - val_accuracy: 0.7475\n",
            "Epoch 70/70\n",
            "50/50 [==============================] - 0s 4ms/step - loss: 0.6235 - accuracy: 0.7677 - val_loss: 0.5993 - val_accuracy: 0.7727\n"
          ]
        }
      ]
    },
    {
      "cell_type": "markdown",
      "source": [
        "**Classification Report**"
      ],
      "metadata": {
        "id": "J2e_cIXdJKYW"
      }
    },
    {
      "cell_type": "code",
      "source": [
        "from sklearn.metrics import confusion_matrix, classification_report\n",
        "y_pred = model.predict(x_test)\n",
        "y_pred_classes = [np.argmax(element) for element in y_pred]\n",
        "\n",
        "print(\"Classification Report : \")\n",
        "print(classification_report(y_test, y_pred_classes))"
      ],
      "metadata": {
        "colab": {
          "base_uri": "https://localhost:8080/"
        },
        "id": "04LKUveiJJ5G",
        "outputId": "dd4c853f-34fd-4d04-dedb-5b0b9537fffa"
      },
      "execution_count": 41,
      "outputs": [
        {
          "output_type": "stream",
          "name": "stdout",
          "text": [
            "13/13 [==============================] - 0s 2ms/step\n",
            "Classification Report : \n",
            "              precision    recall  f1-score   support\n",
            "\n",
            "           0       0.81      0.69      0.74        42\n",
            "           1       0.61      0.59      0.60        29\n",
            "           2       0.88      0.72      0.79        32\n",
            "           3       0.61      0.63      0.62        30\n",
            "           4       0.58      0.69      0.63        32\n",
            "           5       0.63      0.83      0.72        29\n",
            "           6       0.63      0.59      0.61        29\n",
            "           7       0.69      0.88      0.77        33\n",
            "           8       0.97      1.00      0.99        36\n",
            "           9       1.00      0.81      0.89        31\n",
            "          10       0.93      0.78      0.85        36\n",
            "          11       0.97      1.00      0.99        37\n",
            "\n",
            "    accuracy                           0.77       396\n",
            "   macro avg       0.78      0.77      0.77       396\n",
            "weighted avg       0.79      0.77      0.77       396\n",
            "\n"
          ]
        }
      ]
    },
    {
      "cell_type": "code",
      "source": [
        "# Plotting model accuracy and loss\n",
        "def plot_history(history):\n",
        "    plt.figure(figsize=(10, 5))\n",
        "\n",
        "    # Plot training & validation accuracy values\n",
        "    plt.subplot(1, 2, 1)\n",
        "    plt.ylim(0, 1)\n",
        "    plt.plot(history.history['accuracy'])\n",
        "    plt.plot(history.history['val_accuracy'])\n",
        "    plt.title('Model Accuracy')\n",
        "    plt.ylabel('Accuracy')\n",
        "    plt.xlabel('Epoch')\n",
        "    plt.legend(['Train', 'Validation'], loc='upper left')\n",
        "\n",
        "    # Plot training & validation loss values\n",
        "    plt.subplot(1, 2, 2)\n",
        "    plt.ylim(0, 2)\n",
        "    plt.plot(history.history['loss'])\n",
        "    plt.plot(history.history['val_loss'])\n",
        "    plt.title('Model Loss')\n",
        "    plt.ylabel('Loss')\n",
        "    plt.xlabel('Epoch')\n",
        "    plt.legend(['Train', 'Validation'], loc='upper right')\n",
        "\n",
        "    plt.tight_layout()\n",
        "    plt.show()\n",
        "\n",
        "# Call the function to plot the history\n",
        "plot_history(history)"
      ],
      "metadata": {
        "colab": {
          "base_uri": "https://localhost:8080/",
          "height": 507
        },
        "id": "LiybPDHQJZ7S",
        "outputId": "2fcef87f-6fd7-4bf0-8450-1a2fa0d313ad"
      },
      "execution_count": 42,
      "outputs": [
        {
          "output_type": "display_data",
          "data": {
            "text/plain": [
              "<Figure size 1000x500 with 2 Axes>"
            ],
            "image/png": "[encoded data removed]"
          },
          "metadata": {}
        }
      ]
    },
    {
      "cell_type": "markdown",
      "source": [
        "**Validation with Pronation Data**"
      ],
      "metadata": {
        "id": "FKtUgLNlPE4b"
      }
    },
    {
      "cell_type": "code",
      "source": [
        "x_pronation, y_pronation = get_input(['Arifa'], gestures, \"Pronation\")\n",
        "x_pronation = np.array(x_pronation)\n",
        "y_pronation = np.array(y_pronation)"
      ],
      "metadata": {
        "id": "ESQgPNj8PMeO"
      },
      "execution_count": 43,
      "outputs": []
    },
    {
      "cell_type": "code",
      "source": [
        "pronation_results = model.evaluate(x_pronation, y_pronation, batch_size=32)\n",
        "print(pronation_results)"
      ],
      "metadata": {
        "colab": {
          "base_uri": "https://localhost:8080/"
        },
        "id": "yrfITo8rRRZ2",
        "outputId": "75d0d504-447b-45cf-8f17-a05097d3f2b2"
      },
      "execution_count": 44,
      "outputs": [
        {
          "output_type": "stream",
          "name": "stdout",
          "text": [
            "62/62 [==============================] - 0s 2ms/step - loss: 0.5800 - accuracy: 0.7949\n",
            "[0.580036997795105, 0.794949471950531]\n"
          ]
        }
      ]
    },
    {
      "cell_type": "markdown",
      "source": [
        "**Validation with Supination Data**"
      ],
      "metadata": {
        "id": "LIpKxRAjTRQX"
      }
    },
    {
      "cell_type": "code",
      "source": [
        "x_supination, y_supination = get_input(['Arifa'], gestures, \"Supination\")\n",
        "x_supination = np.array(x_supination)\n",
        "y_supination = np.array(y_supination)"
      ],
      "metadata": {
        "id": "62HcfeQKTW2P"
      },
      "execution_count": 45,
      "outputs": []
    },
    {
      "cell_type": "code",
      "source": [
        "supination_results = model.evaluate(x_supination, y_supination, batch_size=32)\n",
        "print(supination_results)"
      ],
      "metadata": {
        "colab": {
          "base_uri": "https://localhost:8080/"
        },
        "id": "LGFCsiw9TqCb",
        "outputId": "5fbf1cc3-13e6-47a6-bff1-9e7743c4489c"
      },
      "execution_count": 46,
      "outputs": [
        {
          "output_type": "stream",
          "name": "stdout",
          "text": [
            "62/62 [==============================] - 0s 2ms/step - loss: 0.5800 - accuracy: 0.7949\n",
            "[0.580036997795105, 0.794949471950531]\n"
          ]
        }
      ]
    }
  ]
}