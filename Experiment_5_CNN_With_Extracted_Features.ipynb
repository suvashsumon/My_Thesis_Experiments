{
  "nbformat": 4,
  "nbformat_minor": 0,
  "metadata": {
    "colab": {
      "provenance": [],
      "authorship_tag": "ABX9TyPHViwuiv1pTCDj78S1mk7Q"
    },
    "kernelspec": {
      "name": "python3",
      "display_name": "Python 3"
    },
    "language_info": {
      "name": "python"
    }
  },
  "cells": [
    {
      "cell_type": "markdown",
      "source": [
        "**1. Using Time Domain Power Spectral Descriptors (TDPSD) Feature Set**  \n",
        "**2. Using individual dataset**"
      ],
      "metadata": {
        "id": "jfWDCm6rVsUC"
      }
    },
    {
      "cell_type": "code",
      "execution_count": 1,
      "metadata": {
        "colab": {
          "base_uri": "https://localhost:8080/"
        },
        "id": "6EL0T4GfiQAI",
        "outputId": "3705fb61-8895-4400-e663-23504a7e2032"
      },
      "outputs": [
        {
          "output_type": "stream",
          "name": "stdout",
          "text": [
            "Requirement already satisfied: libemg in /usr/local/lib/python3.10/dist-packages (0.0.1)\n",
            "Requirement already satisfied: numpy in /usr/local/lib/python3.10/dist-packages (from libemg) (1.23.5)\n",
            "Requirement already satisfied: scipy in /usr/local/lib/python3.10/dist-packages (from libemg) (1.11.4)\n",
            "Requirement already satisfied: scikit-learn in /usr/local/lib/python3.10/dist-packages (from libemg) (1.2.2)\n",
            "Requirement already satisfied: pillow in /usr/local/lib/python3.10/dist-packages (from libemg) (9.4.0)\n",
            "Requirement already satisfied: matplotlib in /usr/local/lib/python3.10/dist-packages (from libemg) (3.7.1)\n",
            "Requirement already satisfied: librosa in /usr/local/lib/python3.10/dist-packages (from libemg) (0.10.1)\n",
            "Requirement already satisfied: wfdb in /usr/local/lib/python3.10/dist-packages (from libemg) (4.1.2)\n",
            "Requirement already satisfied: pyserial in /usr/local/lib/python3.10/dist-packages (from libemg) (3.5)\n",
            "Requirement already satisfied: audioread>=2.1.9 in /usr/local/lib/python3.10/dist-packages (from librosa->libemg) (3.0.1)\n",
            "Requirement already satisfied: joblib>=0.14 in /usr/local/lib/python3.10/dist-packages (from librosa->libemg) (1.3.2)\n",
            "Requirement already satisfied: decorator>=4.3.0 in /usr/local/lib/python3.10/dist-packages (from librosa->libemg) (4.4.2)\n",
            "Requirement already satisfied: numba>=0.51.0 in /usr/local/lib/python3.10/dist-packages (from librosa->libemg) (0.58.1)\n",
            "Requirement already satisfied: soundfile>=0.12.1 in /usr/local/lib/python3.10/dist-packages (from librosa->libemg) (0.12.1)\n",
            "Requirement already satisfied: pooch>=1.0 in /usr/local/lib/python3.10/dist-packages (from librosa->libemg) (1.8.0)\n",
            "Requirement already satisfied: soxr>=0.3.2 in /usr/local/lib/python3.10/dist-packages (from librosa->libemg) (0.3.7)\n",
            "Requirement already satisfied: typing-extensions>=4.1.1 in /usr/local/lib/python3.10/dist-packages (from librosa->libemg) (4.5.0)\n",
            "Requirement already satisfied: lazy-loader>=0.1 in /usr/local/lib/python3.10/dist-packages (from librosa->libemg) (0.3)\n",
            "Requirement already satisfied: msgpack>=1.0 in /usr/local/lib/python3.10/dist-packages (from librosa->libemg) (1.0.7)\n",
            "Requirement already satisfied: threadpoolctl>=2.0.0 in /usr/local/lib/python3.10/dist-packages (from scikit-learn->libemg) (3.2.0)\n",
            "Requirement already satisfied: contourpy>=1.0.1 in /usr/local/lib/python3.10/dist-packages (from matplotlib->libemg) (1.2.0)\n",
            "Requirement already satisfied: cycler>=0.10 in /usr/local/lib/python3.10/dist-packages (from matplotlib->libemg) (0.12.1)\n",
            "Requirement already satisfied: fonttools>=4.22.0 in /usr/local/lib/python3.10/dist-packages (from matplotlib->libemg) (4.47.0)\n",
            "Requirement already satisfied: kiwisolver>=1.0.1 in /usr/local/lib/python3.10/dist-packages (from matplotlib->libemg) (1.4.5)\n",
            "Requirement already satisfied: packaging>=20.0 in /usr/local/lib/python3.10/dist-packages (from matplotlib->libemg) (23.2)\n",
            "Requirement already satisfied: pyparsing>=2.3.1 in /usr/local/lib/python3.10/dist-packages (from matplotlib->libemg) (3.1.1)\n",
            "Requirement already satisfied: python-dateutil>=2.7 in /usr/local/lib/python3.10/dist-packages (from matplotlib->libemg) (2.8.2)\n",
            "Requirement already satisfied: pandas>=1.3.0 in /usr/local/lib/python3.10/dist-packages (from wfdb->libemg) (1.5.3)\n",
            "Requirement already satisfied: requests>=2.8.1 in /usr/local/lib/python3.10/dist-packages (from wfdb->libemg) (2.31.0)\n",
            "Requirement already satisfied: llvmlite<0.42,>=0.41.0dev0 in /usr/local/lib/python3.10/dist-packages (from numba>=0.51.0->librosa->libemg) (0.41.1)\n",
            "Requirement already satisfied: pytz>=2020.1 in /usr/local/lib/python3.10/dist-packages (from pandas>=1.3.0->wfdb->libemg) (2023.3.post1)\n",
            "Requirement already satisfied: platformdirs>=2.5.0 in /usr/local/lib/python3.10/dist-packages (from pooch>=1.0->librosa->libemg) (4.1.0)\n",
            "Requirement already satisfied: six>=1.5 in /usr/local/lib/python3.10/dist-packages (from python-dateutil>=2.7->matplotlib->libemg) (1.16.0)\n",
            "Requirement already satisfied: charset-normalizer<4,>=2 in /usr/local/lib/python3.10/dist-packages (from requests>=2.8.1->wfdb->libemg) (3.3.2)\n",
            "Requirement already satisfied: idna<4,>=2.5 in /usr/local/lib/python3.10/dist-packages (from requests>=2.8.1->wfdb->libemg) (3.6)\n",
            "Requirement already satisfied: urllib3<3,>=1.21.1 in /usr/local/lib/python3.10/dist-packages (from requests>=2.8.1->wfdb->libemg) (2.0.7)\n",
            "Requirement already satisfied: certifi>=2017.4.17 in /usr/local/lib/python3.10/dist-packages (from requests>=2.8.1->wfdb->libemg) (2023.11.17)\n",
            "Requirement already satisfied: cffi>=1.0 in /usr/local/lib/python3.10/dist-packages (from soundfile>=0.12.1->librosa->libemg) (1.16.0)\n",
            "Requirement already satisfied: pycparser in /usr/local/lib/python3.10/dist-packages (from cffi>=1.0->soundfile>=0.12.1->librosa->libemg) (2.21)\n"
          ]
        }
      ],
      "source": [
        "!pip install libemg"
      ]
    },
    {
      "cell_type": "code",
      "source": [
        "import numpy as np\n",
        "import matplotlib.pyplot as plt\n",
        "import scipy.io as scipyio\n",
        "import seaborn as sns\n",
        "import pandas as pd\n",
        "from libemg.feature_extractor import FeatureExtractor\n",
        "from libemg.utils import get_windows\n",
        "from google.colab import drive\n",
        "import os\n",
        "from sklearn.preprocessing import MinMaxScaler"
      ],
      "metadata": {
        "id": "S_cbWcJpinEX"
      },
      "execution_count": 4,
      "outputs": []
    },
    {
      "cell_type": "markdown",
      "source": [
        "**Reading Dataset**"
      ],
      "metadata": {
        "id": "47dGhzkMjZ8_"
      }
    },
    {
      "cell_type": "code",
      "source": [
        "drive.mount('/content/gdrive')"
      ],
      "metadata": {
        "colab": {
          "base_uri": "https://localhost:8080/"
        },
        "id": "FxWMJLpOjdcB",
        "outputId": "aac83d4c-e398-4faf-97e1-cff54c16be4a"
      },
      "execution_count": 5,
      "outputs": [
        {
          "output_type": "stream",
          "name": "stdout",
          "text": [
            "Drive already mounted at /content/gdrive; to attempt to forcibly remount, call drive.mount(\"/content/gdrive\", force_remount=True).\n"
          ]
        }
      ]
    },
    {
      "cell_type": "code",
      "source": [
        "gestures_label = {\n",
        "\t 'Thumb_UP' : 0,\n",
        "\t 'Index' : 1,\n",
        "\t 'Right_Angle' : 2,\n",
        "\t 'Peace' : 3,\n",
        "\t 'Index_Little' : 4,\n",
        "\t 'Thumb_Little' : 5,\n",
        "\t 'Hand_Close' : 6,\n",
        "\t 'Hand_Open' : 7,\n",
        "\t 'Wrist_Extension' : 8,\n",
        "\t 'Wrist_Flexion' : 9,\n",
        "\t 'Ulner_Deviation' : 10,\n",
        "\t 'Radial_Deviation' : 11\n",
        "}\n",
        "\n",
        "gestures = ['Thumb_UP', 'Index_Little', 'Right_Angle', 'Peace', 'Index', 'Thumb_Little', 'Hand_Close', 'Hand_Open',\n",
        "\t 'Wrist_Extension', 'Wrist_Flexion', 'Ulner_Deviation', 'Radial_Deviation'\n",
        "]"
      ],
      "metadata": {
        "id": "43mB8rvkkOFQ"
      },
      "execution_count": 6,
      "outputs": []
    },
    {
      "cell_type": "code",
      "source": [
        "persons = [\"Arifa\", \"Arnob\", \"Ashis\", \"Bayezid\", \"Bushra\", \"Choity_new\", \"Eftekhar\",\n",
        "           \"Fahim\", \"Humaid\", \"Humayun\", \"Johir\", \"Joy\", \"Mamun\", \"Noman\", \"Piyus\", \"Sazzad\",\n",
        "           \"Shafi\", \"Shourav\", \"Tamim\", \"Wadud\"]"
      ],
      "metadata": {
        "id": "3lT_Z7hkmdXG"
      },
      "execution_count": 7,
      "outputs": []
    },
    {
      "cell_type": "code",
      "source": [
        "def get_gesture_label(gesture):\n",
        "  return gestures_label [gesture];"
      ],
      "metadata": {
        "id": "jx8GgpISv5I2"
      },
      "execution_count": 8,
      "outputs": []
    },
    {
      "cell_type": "code",
      "source": [
        "def scaleTo01(matrix):\n",
        "  scaler = MinMaxScaler()\n",
        "  scaler.fit(matrix)\n",
        "  scaled_matrix = scaler.transform(matrix)\n",
        "  return scaled_matrix"
      ],
      "metadata": {
        "id": "v23-gW_bX4f3"
      },
      "execution_count": 9,
      "outputs": []
    },
    {
      "cell_type": "code",
      "source": [
        "def feature_extraction(channelvalues, gesture, feature_list):\n",
        "  # creating windows\n",
        "  windows = get_windows(channelvalues, 150, 150)\n",
        "  # extract feature\n",
        "  fe = FeatureExtractor()\n",
        "  features = fe.extract_features(feature_list, windows)\n",
        "  # print(features.keys())\n",
        "  # creating feature matrixs\n",
        "  extracted_feature_array = []\n",
        "  extracted_gesture_array = []\n",
        "  for i in range(windows.shape[0]):\n",
        "    features_matrix = []\n",
        "    for abb in feature_list:\n",
        "      features_matrix.append(features[abb][i])\n",
        "    #print(features['MAV'].shape)\n",
        "    #print(features['AR'].shape)\n",
        "    #features_matrix = (features_matrix-np.min(features_matrix))/(np.max(features_matrix)-np.min(features_matrix))\n",
        "    #features_matrix = scaleTo01(features_matrix)\n",
        "    extracted_feature_array.append(features_matrix)\n",
        "    extracted_gesture_array.append(get_gesture_label(gesture))\n",
        "    #print(len(extracted_feature_array))\n",
        "  return extracted_feature_array, extracted_gesture_array"
      ],
      "metadata": {
        "id": "DaBZ8rssnyrg"
      },
      "execution_count": 10,
      "outputs": []
    },
    {
      "cell_type": "code",
      "source": [
        "def get_processed_data(matfilepath, gesture):\n",
        "  # read mat file\n",
        "  matdata = scipyio.loadmat(matfilepath)\n",
        "  # transpose the matrix\n",
        "  values = np.transpose(matdata['value'])\n",
        "  # remove the first 3000 values\n",
        "  values = values[3000:]\n",
        "  return feature_extraction(values, gesture, feature_list)\n"
      ],
      "metadata": {
        "id": "mZ_awmvtm37Q"
      },
      "execution_count": 11,
      "outputs": []
    },
    {
      "cell_type": "code",
      "source": [
        "def get_input(persons, gestures, feature_list, orientaion=\"Rest\"):\n",
        "  input_array = []\n",
        "  input_gest = []\n",
        "  for person in persons:\n",
        "    for gest in gestures:\n",
        "      for i in range(5):\n",
        "        matfilepath = \"gdrive/My Drive/Forearm Invariant Data/\"+person+\"/\"+orientaion+\"/\"+gest+\"-\"+str(i+1)+\".mat\"\n",
        "        #print(matfilepath)\n",
        "        processed_matrix, gesture_array = get_processed_data(matfilepath, gest)\n",
        "        gest_label = get_gesture_label(gest)\n",
        "        input_array = input_array + processed_matrix\n",
        "        input_gest = input_gest + gesture_array\n",
        "  return input_array, input_gest"
      ],
      "metadata": {
        "id": "D2d1xF4gkzXB"
      },
      "execution_count": 12,
      "outputs": []
    },
    {
      "cell_type": "code",
      "source": [
        "feature_list = [\n",
        "    'MAV',\n",
        "    'SSC',\n",
        "    'ZC',\n",
        "    'WL',\n",
        "    'LS',\n",
        "    'MFL',\n",
        "    'MSR',\n",
        "    'WAMP',\n",
        "    'RMS',\n",
        "    'IAV',\n",
        "    'DASDV',\n",
        "    'VAR',\n",
        "    'M0',\n",
        "    'M2',\n",
        "    'M4',\n",
        "    'SPARSI',\n",
        "    'IRF',\n",
        "    # 'WLR',\n",
        "    'LD',\n",
        "]\n",
        "X, Y = get_input(['Arifa'], gestures, feature_list)"
      ],
      "metadata": {
        "id": "WaN2dILztYHr"
      },
      "execution_count": 13,
      "outputs": []
    },
    {
      "cell_type": "code",
      "source": [
        "len(X), len(Y)"
      ],
      "metadata": {
        "colab": {
          "base_uri": "https://localhost:8080/"
        },
        "id": "oJFCcGx2uSdC",
        "outputId": "da2e1aa2-424f-4a35-838c-400e5a535ba7"
      },
      "execution_count": 14,
      "outputs": [
        {
          "output_type": "execute_result",
          "data": {
            "text/plain": [
              "(1980, 1980)"
            ]
          },
          "metadata": {},
          "execution_count": 14
        }
      ]
    },
    {
      "cell_type": "code",
      "source": [
        "#\n",
        "df = pd.DataFrame(X[0])\n",
        "index = pd.Index(feature_list)\n",
        "df = df.set_index(index)\n",
        "df"
      ],
      "metadata": {
        "colab": {
          "base_uri": "https://localhost:8080/",
          "height": 614
        },
        "id": "BazAZkIbwiN3",
        "outputId": "42abff4d-617d-4786-effe-931e7b4feada"
      },
      "execution_count": 15,
      "outputs": [
        {
          "output_type": "execute_result",
          "data": {
            "text/plain": [
              "                 0           1           2           3           4  \\\n",
              "MAV       0.017122    0.013281    0.036914    0.017578    0.035775   \n",
              "SSC     103.000000  105.000000  100.000000   87.000000   87.000000   \n",
              "ZC       16.000000   31.000000   39.000000   32.000000   34.000000   \n",
              "WL        2.133789    1.962891    6.782227    2.587891    4.282227   \n",
              "LS        0.012341    0.009419    0.026618    0.012105    0.026590   \n",
              "MFL       0.329151    0.292896    0.831372    0.412946    0.631670   \n",
              "MSR       0.083033    0.073767    0.122734    0.087918    0.119557   \n",
              "WAMP    126.000000  124.000000  139.000000  134.000000  137.000000   \n",
              "RMS       0.026631    0.016943    0.049062    0.022305    0.048807   \n",
              "IAV       2.568359    1.992188    5.537109    2.636719    5.366211   \n",
              "DASDV     0.025698    0.017573    0.062922    0.022501    0.040674   \n",
              "VAR       0.000690    0.000287    0.002396    0.000480    0.002370   \n",
              "M0       -0.951322   -0.944977   -0.963565   -0.950679   -0.965322   \n",
              "M2       -0.723165   -0.719018   -0.877726   -0.732681   -0.748613   \n",
              "M4       -0.803070   -0.791177   -0.906614   -0.788778   -0.787047   \n",
              "SPARSI   -0.998982   -0.997180   -0.994085   -0.998929   -0.999980   \n",
              "IRF      -0.990167   -0.982667   -0.983914   -0.983501   -0.986788   \n",
              "LD        1.016930    1.013227    1.036427    1.017487    1.035258   \n",
              "\n",
              "                 5           6           7  \n",
              "MAV       0.021419    0.029264    0.017969  \n",
              "SSC      91.000000   82.000000  109.000000  \n",
              "ZC       35.000000   34.000000   51.000000  \n",
              "WL        2.631836    3.710938    2.910156  \n",
              "LS        0.015123    0.021282    0.012346  \n",
              "MFL       0.420259    0.569484    0.463916  \n",
              "MSR       0.094563    0.109743    0.089472  \n",
              "WAMP    131.000000  138.000000  134.000000  \n",
              "RMS       0.026655    0.040967    0.022362  \n",
              "IAV       3.212891    4.389648    2.695312  \n",
              "DASDV     0.022822    0.034827    0.026389  \n",
              "VAR       0.000709    0.001674    0.000500  \n",
              "M0       -0.954302   -0.963085   -0.955371  \n",
              "M2       -0.671608   -0.753926    0.148463  \n",
              "M4       -0.758373   -0.793396   -0.921300  \n",
              "SPARSI   -0.999965   -0.999772   -0.826898  \n",
              "IRF      -0.993907   -0.982048   -0.354377  \n",
              "LD        1.021297    1.028882    1.017883  "
            ],
            "text/html": [
              "\n",
              "  <div id=\"df-0c725780-9111-4ed8-a6a2-057957585dc2\" class=\"colab-df-container\">\n",
              "    <div>\n",
              "<style scoped>\n",
              "    .dataframe tbody tr th:only-of-type {\n",
              "        vertical-align: middle;\n",
              "    }\n",
              "\n",
              "    .dataframe tbody tr th {\n",
              "        vertical-align: top;\n",
              "    }\n",
              "\n",
              "    .dataframe thead th {\n",
              "        text-align: right;\n",
              "    }\n",
              "</style>\n",
              "<table border=\"1\" class=\"dataframe\">\n",
              "  <thead>\n",
              "    <tr style=\"text-align: right;\">\n",
              "      <th></th>\n",
              "      <th>0</th>\n",
              "      <th>1</th>\n",
              "      <th>2</th>\n",
              "      <th>3</th>\n",
              "      <th>4</th>\n",
              "      <th>5</th>\n",
              "      <th>6</th>\n",
              "      <th>7</th>\n",
              "    </tr>\n",
              "  </thead>\n",
              "  <tbody>\n",
              "    <tr>\n",
              "      <th>MAV</th>\n",
              "      <td>0.017122</td>\n",
              "      <td>0.013281</td>\n",
              "      <td>0.036914</td>\n",
              "      <td>0.017578</td>\n",
              "      <td>0.035775</td>\n",
              "      <td>0.021419</td>\n",
              "      <td>0.029264</td>\n",
              "      <td>0.017969</td>\n",
              "    </tr>\n",
              "    <tr>\n",
              "      <th>SSC</th>\n",
              "      <td>103.000000</td>\n",
              "      <td>105.000000</td>\n",
              "      <td>100.000000</td>\n",
              "      <td>87.000000</td>\n",
              "      <td>87.000000</td>\n",
              "      <td>91.000000</td>\n",
              "      <td>82.000000</td>\n",
              "      <td>109.000000</td>\n",
              "    </tr>\n",
              "    <tr>\n",
              "      <th>ZC</th>\n",
              "      <td>16.000000</td>\n",
              "      <td>31.000000</td>\n",
              "      <td>39.000000</td>\n",
              "      <td>32.000000</td>\n",
              "      <td>34.000000</td>\n",
              "      <td>35.000000</td>\n",
              "      <td>34.000000</td>\n",
              "      <td>51.000000</td>\n",
              "    </tr>\n",
              "    <tr>\n",
              "      <th>WL</th>\n",
              "      <td>2.133789</td>\n",
              "      <td>1.962891</td>\n",
              "      <td>6.782227</td>\n",
              "      <td>2.587891</td>\n",
              "      <td>4.282227</td>\n",
              "      <td>2.631836</td>\n",
              "      <td>3.710938</td>\n",
              "      <td>2.910156</td>\n",
              "    </tr>\n",
              "    <tr>\n",
              "      <th>LS</th>\n",
              "      <td>0.012341</td>\n",
              "      <td>0.009419</td>\n",
              "      <td>0.026618</td>\n",
              "      <td>0.012105</td>\n",
              "      <td>0.026590</td>\n",
              "      <td>0.015123</td>\n",
              "      <td>0.021282</td>\n",
              "      <td>0.012346</td>\n",
              "    </tr>\n",
              "    <tr>\n",
              "      <th>MFL</th>\n",
              "      <td>0.329151</td>\n",
              "      <td>0.292896</td>\n",
              "      <td>0.831372</td>\n",
              "      <td>0.412946</td>\n",
              "      <td>0.631670</td>\n",
              "      <td>0.420259</td>\n",
              "      <td>0.569484</td>\n",
              "      <td>0.463916</td>\n",
              "    </tr>\n",
              "    <tr>\n",
              "      <th>MSR</th>\n",
              "      <td>0.083033</td>\n",
              "      <td>0.073767</td>\n",
              "      <td>0.122734</td>\n",
              "      <td>0.087918</td>\n",
              "      <td>0.119557</td>\n",
              "      <td>0.094563</td>\n",
              "      <td>0.109743</td>\n",
              "      <td>0.089472</td>\n",
              "    </tr>\n",
              "    <tr>\n",
              "      <th>WAMP</th>\n",
              "      <td>126.000000</td>\n",
              "      <td>124.000000</td>\n",
              "      <td>139.000000</td>\n",
              "      <td>134.000000</td>\n",
              "      <td>137.000000</td>\n",
              "      <td>131.000000</td>\n",
              "      <td>138.000000</td>\n",
              "      <td>134.000000</td>\n",
              "    </tr>\n",
              "    <tr>\n",
              "      <th>RMS</th>\n",
              "      <td>0.026631</td>\n",
              "      <td>0.016943</td>\n",
              "      <td>0.049062</td>\n",
              "      <td>0.022305</td>\n",
              "      <td>0.048807</td>\n",
              "      <td>0.026655</td>\n",
              "      <td>0.040967</td>\n",
              "      <td>0.022362</td>\n",
              "    </tr>\n",
              "    <tr>\n",
              "      <th>IAV</th>\n",
              "      <td>2.568359</td>\n",
              "      <td>1.992188</td>\n",
              "      <td>5.537109</td>\n",
              "      <td>2.636719</td>\n",
              "      <td>5.366211</td>\n",
              "      <td>3.212891</td>\n",
              "      <td>4.389648</td>\n",
              "      <td>2.695312</td>\n",
              "    </tr>\n",
              "    <tr>\n",
              "      <th>DASDV</th>\n",
              "      <td>0.025698</td>\n",
              "      <td>0.017573</td>\n",
              "      <td>0.062922</td>\n",
              "      <td>0.022501</td>\n",
              "      <td>0.040674</td>\n",
              "      <td>0.022822</td>\n",
              "      <td>0.034827</td>\n",
              "      <td>0.026389</td>\n",
              "    </tr>\n",
              "    <tr>\n",
              "      <th>VAR</th>\n",
              "      <td>0.000690</td>\n",
              "      <td>0.000287</td>\n",
              "      <td>0.002396</td>\n",
              "      <td>0.000480</td>\n",
              "      <td>0.002370</td>\n",
              "      <td>0.000709</td>\n",
              "      <td>0.001674</td>\n",
              "      <td>0.000500</td>\n",
              "    </tr>\n",
              "    <tr>\n",
              "      <th>M0</th>\n",
              "      <td>-0.951322</td>\n",
              "      <td>-0.944977</td>\n",
              "      <td>-0.963565</td>\n",
              "      <td>-0.950679</td>\n",
              "      <td>-0.965322</td>\n",
              "      <td>-0.954302</td>\n",
              "      <td>-0.963085</td>\n",
              "      <td>-0.955371</td>\n",
              "    </tr>\n",
              "    <tr>\n",
              "      <th>M2</th>\n",
              "      <td>-0.723165</td>\n",
              "      <td>-0.719018</td>\n",
              "      <td>-0.877726</td>\n",
              "      <td>-0.732681</td>\n",
              "      <td>-0.748613</td>\n",
              "      <td>-0.671608</td>\n",
              "      <td>-0.753926</td>\n",
              "      <td>0.148463</td>\n",
              "    </tr>\n",
              "    <tr>\n",
              "      <th>M4</th>\n",
              "      <td>-0.803070</td>\n",
              "      <td>-0.791177</td>\n",
              "      <td>-0.906614</td>\n",
              "      <td>-0.788778</td>\n",
              "      <td>-0.787047</td>\n",
              "      <td>-0.758373</td>\n",
              "      <td>-0.793396</td>\n",
              "      <td>-0.921300</td>\n",
              "    </tr>\n",
              "    <tr>\n",
              "      <th>SPARSI</th>\n",
              "      <td>-0.998982</td>\n",
              "      <td>-0.997180</td>\n",
              "      <td>-0.994085</td>\n",
              "      <td>-0.998929</td>\n",
              "      <td>-0.999980</td>\n",
              "      <td>-0.999965</td>\n",
              "      <td>-0.999772</td>\n",
              "      <td>-0.826898</td>\n",
              "    </tr>\n",
              "    <tr>\n",
              "      <th>IRF</th>\n",
              "      <td>-0.990167</td>\n",
              "      <td>-0.982667</td>\n",
              "      <td>-0.983914</td>\n",
              "      <td>-0.983501</td>\n",
              "      <td>-0.986788</td>\n",
              "      <td>-0.993907</td>\n",
              "      <td>-0.982048</td>\n",
              "      <td>-0.354377</td>\n",
              "    </tr>\n",
              "    <tr>\n",
              "      <th>LD</th>\n",
              "      <td>1.016930</td>\n",
              "      <td>1.013227</td>\n",
              "      <td>1.036427</td>\n",
              "      <td>1.017487</td>\n",
              "      <td>1.035258</td>\n",
              "      <td>1.021297</td>\n",
              "      <td>1.028882</td>\n",
              "      <td>1.017883</td>\n",
              "    </tr>\n",
              "  </tbody>\n",
              "</table>\n",
              "</div>\n",
              "    <div class=\"colab-df-buttons\">\n",
              "\n",
              "  <div class=\"colab-df-container\">\n",
              "    <button class=\"colab-df-convert\" onclick=\"convertToInteractive('df-0c725780-9111-4ed8-a6a2-057957585dc2')\"\n",
              "            title=\"Convert this dataframe to an interactive table.\"\n",
              "            style=\"display:none;\">\n",
              "\n",
              "  <svg xmlns=\"http://www.w3.org/2000/svg\" height=\"24px\" viewBox=\"0 -960 960 960\">\n",
              "    <path d=\"M120-120v-720h720v720H120Zm60-500h600v-160H180v160Zm220 220h160v-160H400v160Zm0 220h160v-160H400v160ZM180-400h160v-160H180v160Zm440 0h160v-160H620v160ZM180-180h160v-160H180v160Zm440 0h160v-160H620v160Z\"/>\n",
              "  </svg>\n",
              "    </button>\n",
              "\n",
              "  <style>\n",
              "    .colab-df-container {\n",
              "      display:flex;\n",
              "      gap: 12px;\n",
              "    }\n",
              "\n",
              "    .colab-df-convert {\n",
              "      background-color: #E8F0FE;\n",
              "      border: none;\n",
              "      border-radius: 50%;\n",
              "      cursor: pointer;\n",
              "      display: none;\n",
              "      fill: #1967D2;\n",
              "      height: 32px;\n",
              "      padding: 0 0 0 0;\n",
              "      width: 32px;\n",
              "    }\n",
              "\n",
              "    .colab-df-convert:hover {\n",
              "      background-color: #E2EBFA;\n",
              "      box-shadow: 0px 1px 2px rgba(60, 64, 67, 0.3), 0px 1px 3px 1px rgba(60, 64, 67, 0.15);\n",
              "      fill: #174EA6;\n",
              "    }\n",
              "\n",
              "    .colab-df-buttons div {\n",
              "      margin-bottom: 4px;\n",
              "    }\n",
              "\n",
              "    [theme=dark] .colab-df-convert {\n",
              "      background-color: #3B4455;\n",
              "      fill: #D2E3FC;\n",
              "    }\n",
              "\n",
              "    [theme=dark] .colab-df-convert:hover {\n",
              "      background-color: #434B5C;\n",
              "      box-shadow: 0px 1px 3px 1px rgba(0, 0, 0, 0.15);\n",
              "      filter: drop-shadow(0px 1px 2px rgba(0, 0, 0, 0.3));\n",
              "      fill: #FFFFFF;\n",
              "    }\n",
              "  </style>\n",
              "\n",
              "    <script>\n",
              "      const buttonEl =\n",
              "        document.querySelector('#df-0c725780-9111-4ed8-a6a2-057957585dc2 button.colab-df-convert');\n",
              "      buttonEl.style.display =\n",
              "        google.colab.kernel.accessAllowed ? 'block' : 'none';\n",
              "\n",
              "      async function convertToInteractive(key) {\n",
              "        const element = document.querySelector('#df-0c725780-9111-4ed8-a6a2-057957585dc2');\n",
              "        const dataTable =\n",
              "          await google.colab.kernel.invokeFunction('convertToInteractive',\n",
              "                                                    [key], {});\n",
              "        if (!dataTable) return;\n",
              "\n",
              "        const docLinkHtml = 'Like what you see? Visit the ' +\n",
              "          '<a target=\"_blank\" href=https://colab.research.google.com/notebooks/data_table.ipynb>data table notebook</a>'\n",
              "          + ' to learn more about interactive tables.';\n",
              "        element.innerHTML = '';\n",
              "        dataTable['output_type'] = 'display_data';\n",
              "        await google.colab.output.renderOutput(dataTable, element);\n",
              "        const docLink = document.createElement('div');\n",
              "        docLink.innerHTML = docLinkHtml;\n",
              "        element.appendChild(docLink);\n",
              "      }\n",
              "    </script>\n",
              "  </div>\n",
              "\n",
              "\n",
              "<div id=\"df-d3007a8c-32de-48de-b878-dba0b13e9e56\">\n",
              "  <button class=\"colab-df-quickchart\" onclick=\"quickchart('df-d3007a8c-32de-48de-b878-dba0b13e9e56')\"\n",
              "            title=\"Suggest charts\"\n",
              "            style=\"display:none;\">\n",
              "\n",
              "<svg xmlns=\"http://www.w3.org/2000/svg\" height=\"24px\"viewBox=\"0 0 24 24\"\n",
              "     width=\"24px\">\n",
              "    <g>\n",
              "        <path d=\"M19 3H5c-1.1 0-2 .9-2 2v14c0 1.1.9 2 2 2h14c1.1 0 2-.9 2-2V5c0-1.1-.9-2-2-2zM9 17H7v-7h2v7zm4 0h-2V7h2v10zm4 0h-2v-4h2v4z\"/>\n",
              "    </g>\n",
              "</svg>\n",
              "  </button>\n",
              "\n",
              "<style>\n",
              "  .colab-df-quickchart {\n",
              "      --bg-color: #E8F0FE;\n",
              "      --fill-color: #1967D2;\n",
              "      --hover-bg-color: #E2EBFA;\n",
              "      --hover-fill-color: #174EA6;\n",
              "      --disabled-fill-color: #AAA;\n",
              "      --disabled-bg-color: #DDD;\n",
              "  }\n",
              "\n",
              "  [theme=dark] .colab-df-quickchart {\n",
              "      --bg-color: #3B4455;\n",
              "      --fill-color: #D2E3FC;\n",
              "      --hover-bg-color: #434B5C;\n",
              "      --hover-fill-color: #FFFFFF;\n",
              "      --disabled-bg-color: #3B4455;\n",
              "      --disabled-fill-color: #666;\n",
              "  }\n",
              "\n",
              "  .colab-df-quickchart {\n",
              "    background-color: var(--bg-color);\n",
              "    border: none;\n",
              "    border-radius: 50%;\n",
              "    cursor: pointer;\n",
              "    display: none;\n",
              "    fill: var(--fill-color);\n",
              "    height: 32px;\n",
              "    padding: 0;\n",
              "    width: 32px;\n",
              "  }\n",
              "\n",
              "  .colab-df-quickchart:hover {\n",
              "    background-color: var(--hover-bg-color);\n",
              "    box-shadow: 0 1px 2px rgba(60, 64, 67, 0.3), 0 1px 3px 1px rgba(60, 64, 67, 0.15);\n",
              "    fill: var(--button-hover-fill-color);\n",
              "  }\n",
              "\n",
              "  .colab-df-quickchart-complete:disabled,\n",
              "  .colab-df-quickchart-complete:disabled:hover {\n",
              "    background-color: var(--disabled-bg-color);\n",
              "    fill: var(--disabled-fill-color);\n",
              "    box-shadow: none;\n",
              "  }\n",
              "\n",
              "  .colab-df-spinner {\n",
              "    border: 2px solid var(--fill-color);\n",
              "    border-color: transparent;\n",
              "    border-bottom-color: var(--fill-color);\n",
              "    animation:\n",
              "      spin 1s steps(1) infinite;\n",
              "  }\n",
              "\n",
              "  @keyframes spin {\n",
              "    0% {\n",
              "      border-color: transparent;\n",
              "      border-bottom-color: var(--fill-color);\n",
              "      border-left-color: var(--fill-color);\n",
              "    }\n",
              "    20% {\n",
              "      border-color: transparent;\n",
              "      border-left-color: var(--fill-color);\n",
              "      border-top-color: var(--fill-color);\n",
              "    }\n",
              "    30% {\n",
              "      border-color: transparent;\n",
              "      border-left-color: var(--fill-color);\n",
              "      border-top-color: var(--fill-color);\n",
              "      border-right-color: var(--fill-color);\n",
              "    }\n",
              "    40% {\n",
              "      border-color: transparent;\n",
              "      border-right-color: var(--fill-color);\n",
              "      border-top-color: var(--fill-color);\n",
              "    }\n",
              "    60% {\n",
              "      border-color: transparent;\n",
              "      border-right-color: var(--fill-color);\n",
              "    }\n",
              "    80% {\n",
              "      border-color: transparent;\n",
              "      border-right-color: var(--fill-color);\n",
              "      border-bottom-color: var(--fill-color);\n",
              "    }\n",
              "    90% {\n",
              "      border-color: transparent;\n",
              "      border-bottom-color: var(--fill-color);\n",
              "    }\n",
              "  }\n",
              "</style>\n",
              "\n",
              "  <script>\n",
              "    async function quickchart(key) {\n",
              "      const quickchartButtonEl =\n",
              "        document.querySelector('#' + key + ' button');\n",
              "      quickchartButtonEl.disabled = true;  // To prevent multiple clicks.\n",
              "      quickchartButtonEl.classList.add('colab-df-spinner');\n",
              "      try {\n",
              "        const charts = await google.colab.kernel.invokeFunction(\n",
              "            'suggestCharts', [key], {});\n",
              "      } catch (error) {\n",
              "        console.error('Error during call to suggestCharts:', error);\n",
              "      }\n",
              "      quickchartButtonEl.classList.remove('colab-df-spinner');\n",
              "      quickchartButtonEl.classList.add('colab-df-quickchart-complete');\n",
              "    }\n",
              "    (() => {\n",
              "      let quickchartButtonEl =\n",
              "        document.querySelector('#df-d3007a8c-32de-48de-b878-dba0b13e9e56 button');\n",
              "      quickchartButtonEl.style.display =\n",
              "        google.colab.kernel.accessAllowed ? 'block' : 'none';\n",
              "    })();\n",
              "  </script>\n",
              "</div>\n",
              "\n",
              "  <div id=\"id_ab802a94-7a60-4568-8661-f3683f8a0024\">\n",
              "    <style>\n",
              "      .colab-df-generate {\n",
              "        background-color: #E8F0FE;\n",
              "        border: none;\n",
              "        border-radius: 50%;\n",
              "        cursor: pointer;\n",
              "        display: none;\n",
              "        fill: #1967D2;\n",
              "        height: 32px;\n",
              "        padding: 0 0 0 0;\n",
              "        width: 32px;\n",
              "      }\n",
              "\n",
              "      .colab-df-generate:hover {\n",
              "        background-color: #E2EBFA;\n",
              "        box-shadow: 0px 1px 2px rgba(60, 64, 67, 0.3), 0px 1px 3px 1px rgba(60, 64, 67, 0.15);\n",
              "        fill: #174EA6;\n",
              "      }\n",
              "\n",
              "      [theme=dark] .colab-df-generate {\n",
              "        background-color: #3B4455;\n",
              "        fill: #D2E3FC;\n",
              "      }\n",
              "\n",
              "      [theme=dark] .colab-df-generate:hover {\n",
              "        background-color: #434B5C;\n",
              "        box-shadow: 0px 1px 3px 1px rgba(0, 0, 0, 0.15);\n",
              "        filter: drop-shadow(0px 1px 2px rgba(0, 0, 0, 0.3));\n",
              "        fill: #FFFFFF;\n",
              "      }\n",
              "    </style>\n",
              "    <button class=\"colab-df-generate\" onclick=\"generateWithVariable('df')\"\n",
              "            title=\"Generate code using this dataframe.\"\n",
              "            style=\"display:none;\">\n",
              "\n",
              "  <svg xmlns=\"http://www.w3.org/2000/svg\" height=\"24px\"viewBox=\"0 0 24 24\"\n",
              "       width=\"24px\">\n",
              "    <path d=\"M7,19H8.4L18.45,9,17,7.55,7,17.6ZM5,21V16.75L18.45,3.32a2,2,0,0,1,2.83,0l1.4,1.43a1.91,1.91,0,0,1,.58,1.4,1.91,1.91,0,0,1-.58,1.4L9.25,21ZM18.45,9,17,7.55Zm-12,3A5.31,5.31,0,0,0,4.9,8.1,5.31,5.31,0,0,0,1,6.5,5.31,5.31,0,0,0,4.9,4.9,5.31,5.31,0,0,0,6.5,1,5.31,5.31,0,0,0,8.1,4.9,5.31,5.31,0,0,0,12,6.5,5.46,5.46,0,0,0,6.5,12Z\"/>\n",
              "  </svg>\n",
              "    </button>\n",
              "    <script>\n",
              "      (() => {\n",
              "      const buttonEl =\n",
              "        document.querySelector('#id_ab802a94-7a60-4568-8661-f3683f8a0024 button.colab-df-generate');\n",
              "      buttonEl.style.display =\n",
              "        google.colab.kernel.accessAllowed ? 'block' : 'none';\n",
              "\n",
              "      buttonEl.onclick = () => {\n",
              "        google.colab.notebook.generateWithVariable('df');\n",
              "      }\n",
              "      })();\n",
              "    </script>\n",
              "  </div>\n",
              "\n",
              "    </div>\n",
              "  </div>\n"
            ]
          },
          "metadata": {},
          "execution_count": 15
        }
      ]
    },
    {
      "cell_type": "code",
      "source": [
        "X = np.array(X)\n",
        "Y = np.array(Y)\n",
        "X.shape, Y.shape"
      ],
      "metadata": {
        "colab": {
          "base_uri": "https://localhost:8080/"
        },
        "id": "BHt1DsXezc4m",
        "outputId": "1378b7a8-06fb-433e-fa67-f74c276f3da5"
      },
      "execution_count": 16,
      "outputs": [
        {
          "output_type": "execute_result",
          "data": {
            "text/plain": [
              "((1980, 18, 8), (1980,))"
            ]
          },
          "metadata": {},
          "execution_count": 16
        }
      ]
    },
    {
      "cell_type": "markdown",
      "source": [
        "**Model Building**"
      ],
      "metadata": {
        "id": "0l87yRy9yCbZ"
      }
    },
    {
      "cell_type": "code",
      "source": [
        "from sklearn.model_selection import train_test_split\n",
        "x_train, x_test, y_train, y_test = train_test_split(\n",
        "    X,Y,\n",
        "    test_size = .2, shuffle=True, random_state=0\n",
        ")"
      ],
      "metadata": {
        "id": "1v51JnuRyFlo"
      },
      "execution_count": 17,
      "outputs": []
    },
    {
      "cell_type": "code",
      "source": [
        "len(x_train), len(y_train)"
      ],
      "metadata": {
        "colab": {
          "base_uri": "https://localhost:8080/"
        },
        "id": "aQWVClBuyQf3",
        "outputId": "14aeb5fe-2628-43ce-de5d-fd286ff0477f"
      },
      "execution_count": 18,
      "outputs": [
        {
          "output_type": "execute_result",
          "data": {
            "text/plain": [
              "(1584, 1584)"
            ]
          },
          "metadata": {},
          "execution_count": 18
        }
      ]
    },
    {
      "cell_type": "code",
      "source": [
        "import tensorflow as tf\n",
        "from tensorflow.keras.models import Sequential\n",
        "from tensorflow.keras.layers import Conv1D, MaxPooling1D, Flatten, Dense, Dropout, BatchNormalization\n",
        "\n",
        "# Define the input shape\n",
        "input_shape = x_train[0].shape\n",
        "\n",
        "# Create a Sequential model\n",
        "model = Sequential()\n",
        "\n",
        "# Add a Conv1D layer\n",
        "model.add(Conv1D(filters=32, kernel_size=3, activation='relu', input_shape=input_shape))\n",
        "\n",
        "# Add a MaxPooling1D layer (optional)\n",
        "model.add(MaxPooling1D(pool_size=2))\n",
        "\n",
        "# Flatten the output before feeding it to a Dense layer\n",
        "model.add(Flatten())\n",
        "\n",
        "# Add a Dense layer\n",
        "model.add(Dense(64, activation='relu'))\n",
        "#model.add(Dropout(0.2))\n",
        "\n",
        "model.add(BatchNormalization()),\n",
        "\n",
        "# Add a Dense layer\n",
        "model.add(Dense(32, activation='relu'))\n",
        "#model.add(Dropout(0.2))\n",
        "\n",
        "# Add a Dense layer\n",
        "model.add(Dense(16, activation='relu'))\n",
        "#model.add(Dropout(0.2))\n",
        "\n",
        "# Output layer for classification (adjust units according to the number of classes)\n",
        "# Assuming classes are integers starting from 0\n",
        "model.add(Dense(12, activation='softmax'))\n",
        "\n",
        "# Compile the model\n",
        "model.compile(optimizer='SGD', loss='sparse_categorical_crossentropy', metrics=['accuracy'])\n",
        "\n",
        "# Display model summary\n",
        "model.summary()"
      ],
      "metadata": {
        "colab": {
          "base_uri": "https://localhost:8080/"
        },
        "id": "uAfUtnYPIOcL",
        "outputId": "f9d78175-75d5-4bf9-df8c-fe7fca96aad9"
      },
      "execution_count": 19,
      "outputs": [
        {
          "output_type": "stream",
          "name": "stdout",
          "text": [
            "Model: \"sequential\"\n",
            "_________________________________________________________________\n",
            " Layer (type)                Output Shape              Param #   \n",
            "=================================================================\n",
            " conv1d (Conv1D)             (None, 16, 32)            800       \n",
            "                                                                 \n",
            " max_pooling1d (MaxPooling1  (None, 8, 32)             0         \n",
            " D)                                                              \n",
            "                                                                 \n",
            " flatten (Flatten)           (None, 256)               0         \n",
            "                                                                 \n",
            " dense (Dense)               (None, 64)                16448     \n",
            "                                                                 \n",
            " batch_normalization (Batch  (None, 64)                256       \n",
            " Normalization)                                                  \n",
            "                                                                 \n",
            " dense_1 (Dense)             (None, 32)                2080      \n",
            "                                                                 \n",
            " dense_2 (Dense)             (None, 16)                528       \n",
            "                                                                 \n",
            " dense_3 (Dense)             (None, 12)                204       \n",
            "                                                                 \n",
            "=================================================================\n",
            "Total params: 20316 (79.36 KB)\n",
            "Trainable params: 20188 (78.86 KB)\n",
            "Non-trainable params: 128 (512.00 Byte)\n",
            "_________________________________________________________________\n"
          ]
        }
      ]
    },
    {
      "cell_type": "code",
      "source": [
        "from tensorflow.keras import callbacks\n",
        "early_stopping = callbacks.EarlyStopping(\n",
        "    min_delta=0.001, # minimium amount of change to count as an improvement\n",
        "    patience=10, # how many epochs to wait before stopping\n",
        "    restore_best_weights=True,\n",
        ")"
      ],
      "metadata": {
        "id": "ATNZDXd8n0Rk"
      },
      "execution_count": 20,
      "outputs": []
    },
    {
      "cell_type": "code",
      "source": [
        "# Fit the model with training data\n",
        "history = model.fit(x_train, y_train, epochs=100, batch_size=32, validation_data=(x_test, y_test), callbacks=[early_stopping])"
      ],
      "metadata": {
        "colab": {
          "base_uri": "https://localhost:8080/"
        },
        "id": "_tJKZmzII70e",
        "outputId": "dce2c796-aef9-4d0b-cf79-028938359b0e"
      },
      "execution_count": 21,
      "outputs": [
        {
          "output_type": "stream",
          "name": "stdout",
          "text": [
            "Epoch 1/100\n",
            "50/50 [==============================] - 2s 13ms/step - loss: 2.3164 - accuracy: 0.2241 - val_loss: 6.9636 - val_accuracy: 0.1061\n",
            "Epoch 2/100\n",
            "50/50 [==============================] - 0s 6ms/step - loss: 1.9851 - accuracy: 0.4097 - val_loss: 2.8104 - val_accuracy: 0.1313\n",
            "Epoch 3/100\n",
            "50/50 [==============================] - 0s 6ms/step - loss: 1.7588 - accuracy: 0.4811 - val_loss: 8.3298 - val_accuracy: 0.0909\n",
            "Epoch 4/100\n",
            "50/50 [==============================] - 0s 6ms/step - loss: 1.5826 - accuracy: 0.5429 - val_loss: 2.8081 - val_accuracy: 0.2172\n",
            "Epoch 5/100\n",
            "50/50 [==============================] - 0s 6ms/step - loss: 1.4053 - accuracy: 0.5840 - val_loss: 5.1933 - val_accuracy: 0.2096\n",
            "Epoch 6/100\n",
            "50/50 [==============================] - 0s 6ms/step - loss: 1.2528 - accuracy: 0.6471 - val_loss: 3.2056 - val_accuracy: 0.1490\n",
            "Epoch 7/100\n",
            "50/50 [==============================] - 0s 6ms/step - loss: 1.1033 - accuracy: 0.6995 - val_loss: 4.0789 - val_accuracy: 0.2247\n",
            "Epoch 8/100\n",
            "50/50 [==============================] - 0s 6ms/step - loss: 0.9745 - accuracy: 0.7342 - val_loss: 2.7486 - val_accuracy: 0.2298\n",
            "Epoch 9/100\n",
            "50/50 [==============================] - 0s 5ms/step - loss: 0.8526 - accuracy: 0.7689 - val_loss: 1.5443 - val_accuracy: 0.4268\n",
            "Epoch 10/100\n",
            "50/50 [==============================] - 0s 4ms/step - loss: 0.7770 - accuracy: 0.7879 - val_loss: 1.2336 - val_accuracy: 0.5126\n",
            "Epoch 11/100\n",
            "50/50 [==============================] - 0s 5ms/step - loss: 0.6961 - accuracy: 0.8056 - val_loss: 1.0576 - val_accuracy: 0.6263\n",
            "Epoch 12/100\n",
            "50/50 [==============================] - 0s 4ms/step - loss: 0.6572 - accuracy: 0.8157 - val_loss: 1.8601 - val_accuracy: 0.4066\n",
            "Epoch 13/100\n",
            "50/50 [==============================] - 0s 4ms/step - loss: 0.6163 - accuracy: 0.8277 - val_loss: 2.0788 - val_accuracy: 0.4495\n",
            "Epoch 14/100\n",
            "50/50 [==============================] - 0s 4ms/step - loss: 0.5605 - accuracy: 0.8472 - val_loss: 2.0167 - val_accuracy: 0.3788\n",
            "Epoch 15/100\n",
            "50/50 [==============================] - 0s 4ms/step - loss: 0.6186 - accuracy: 0.8182 - val_loss: 10.0784 - val_accuracy: 0.1162\n",
            "Epoch 16/100\n",
            "50/50 [==============================] - 0s 4ms/step - loss: 0.5737 - accuracy: 0.8384 - val_loss: 2.8294 - val_accuracy: 0.3535\n",
            "Epoch 17/100\n",
            "50/50 [==============================] - 0s 4ms/step - loss: 0.5062 - accuracy: 0.8687 - val_loss: 2.2979 - val_accuracy: 0.3712\n",
            "Epoch 18/100\n",
            "50/50 [==============================] - 0s 5ms/step - loss: 0.4747 - accuracy: 0.8580 - val_loss: 1.2187 - val_accuracy: 0.5404\n",
            "Epoch 19/100\n",
            "50/50 [==============================] - 0s 4ms/step - loss: 0.4445 - accuracy: 0.8699 - val_loss: 1.0954 - val_accuracy: 0.6667\n",
            "Epoch 20/100\n",
            "50/50 [==============================] - 0s 4ms/step - loss: 0.4116 - accuracy: 0.8750 - val_loss: 1.1384 - val_accuracy: 0.6692\n",
            "Epoch 21/100\n",
            "50/50 [==============================] - 0s 5ms/step - loss: 0.3991 - accuracy: 0.8857 - val_loss: 4.1807 - val_accuracy: 0.2576\n"
          ]
        }
      ]
    },
    {
      "cell_type": "markdown",
      "source": [
        "**Classification Report**"
      ],
      "metadata": {
        "id": "J2e_cIXdJKYW"
      }
    },
    {
      "cell_type": "code",
      "source": [
        "rest_results = model.evaluate(x_test, y_test, batch_size=32)\n",
        "print(rest_results)"
      ],
      "metadata": {
        "colab": {
          "base_uri": "https://localhost:8080/"
        },
        "id": "sjNHyRJNlTeS",
        "outputId": "2b73800f-ed40-4822-bf08-b37400a4a503"
      },
      "execution_count": 22,
      "outputs": [
        {
          "output_type": "stream",
          "name": "stdout",
          "text": [
            "13/13 [==============================] - 0s 2ms/step - loss: 1.0576 - accuracy: 0.6263\n",
            "[1.0576269626617432, 0.6262626051902771]\n"
          ]
        }
      ]
    },
    {
      "cell_type": "code",
      "source": [
        "from sklearn.metrics import confusion_matrix, classification_report\n",
        "y_pred = model.predict(x_test)\n",
        "y_pred_classes = [np.argmax(element) for element in y_pred]\n",
        "\n",
        "print(\"Classification Report : \")\n",
        "print(classification_report(y_test, y_pred_classes))"
      ],
      "metadata": {
        "colab": {
          "base_uri": "https://localhost:8080/"
        },
        "id": "04LKUveiJJ5G",
        "outputId": "1bfd0b53-a85e-4a36-b3b5-f07e78906b48"
      },
      "execution_count": 30,
      "outputs": [
        {
          "output_type": "stream",
          "name": "stdout",
          "text": [
            "13/13 [==============================] - 0s 2ms/step\n",
            "Classification Report : \n",
            "              precision    recall  f1-score   support\n",
            "\n",
            "           0       0.81      0.83      0.82        42\n",
            "           1       0.35      0.59      0.44        29\n",
            "           2       1.00      0.03      0.06        32\n",
            "           3       0.39      0.23      0.29        30\n",
            "           4       0.58      0.44      0.50        32\n",
            "           5       0.72      0.79      0.75        29\n",
            "           6       0.29      0.66      0.40        29\n",
            "           7       0.90      0.27      0.42        33\n",
            "           8       0.74      0.97      0.84        36\n",
            "           9       1.00      0.71      0.83        31\n",
            "          10       0.63      0.89      0.74        36\n",
            "          11       0.97      0.92      0.94        37\n",
            "\n",
            "    accuracy                           0.63       396\n",
            "   macro avg       0.70      0.61      0.59       396\n",
            "weighted avg       0.71      0.63      0.60       396\n",
            "\n"
          ]
        }
      ]
    },
    {
      "cell_type": "code",
      "source": [
        "# Plotting model accuracy and loss\n",
        "def plot_history(history):\n",
        "    plt.figure(figsize=(10, 5))\n",
        "\n",
        "    # Plot training & validation accuracy values\n",
        "    plt.subplot(1, 2, 1)\n",
        "    #plt.ylim(0, 1)\n",
        "    plt.plot(history.history['accuracy'])\n",
        "    plt.plot(history.history['val_accuracy'])\n",
        "    plt.title('Model Accuracy')\n",
        "    plt.ylabel('Accuracy')\n",
        "    plt.xlabel('Epoch')\n",
        "    plt.legend(['Train', 'Validation'], loc='upper left')\n",
        "\n",
        "    # Plot training & validation loss values\n",
        "    plt.subplot(1, 2, 2)\n",
        "    #plt.ylim(0, 2)\n",
        "    plt.plot(history.history['loss'])\n",
        "    plt.plot(history.history['val_loss'])\n",
        "    plt.title('Model Loss')\n",
        "    plt.ylabel('Loss')\n",
        "    plt.xlabel('Epoch')\n",
        "    plt.legend(['Train', 'Validation'], loc='upper right')\n",
        "\n",
        "    plt.tight_layout()\n",
        "    plt.show()\n",
        "\n",
        "# Call the function to plot the history\n",
        "plot_history(history)"
      ],
      "metadata": {
        "colab": {
          "base_uri": "https://localhost:8080/",
          "height": 507
        },
        "id": "LiybPDHQJZ7S",
        "outputId": "f1e32c10-e1cc-4d15-d51b-868a4a3d8343"
      },
      "execution_count": 32,
      "outputs": [
        {
          "output_type": "display_data",
          "data": {
            "text/plain": [
              "<Figure size 1000x500 with 2 Axes>"
            ],
            "image/png": "[encoded data removed]"
          },
          "metadata": {}
        }
      ]
    },
    {
      "cell_type": "markdown",
      "source": [
        "**Validation with Pronation Data**"
      ],
      "metadata": {
        "id": "FKtUgLNlPE4b"
      }
    },
    {
      "cell_type": "code",
      "source": [
        "x_pronation, y_pronation = get_input(['Arifa'], gestures, \"Pronation\")\n",
        "x_pronation = np.array(x_pronation)\n",
        "y_pronation = np.array(y_pronation)"
      ],
      "metadata": {
        "id": "ESQgPNj8PMeO"
      },
      "execution_count": 33,
      "outputs": []
    },
    {
      "cell_type": "code",
      "source": [
        "pronation_results = model.evaluate(x_pronation, y_pronation, batch_size=32)\n",
        "print(pronation_results)"
      ],
      "metadata": {
        "colab": {
          "base_uri": "https://localhost:8080/"
        },
        "id": "yrfITo8rRRZ2",
        "outputId": "d02fedde-37f2-4529-a120-a6704a91cfc2"
      },
      "execution_count": 34,
      "outputs": [
        {
          "output_type": "stream",
          "name": "stdout",
          "text": [
            "62/62 [==============================] - 0s 2ms/step - loss: 1.0439 - accuracy: 0.6389\n",
            "[1.0439338684082031, 0.6388888955116272]\n"
          ]
        }
      ]
    },
    {
      "cell_type": "markdown",
      "source": [
        "**Validation with Supination Data**"
      ],
      "metadata": {
        "id": "LIpKxRAjTRQX"
      }
    },
    {
      "cell_type": "code",
      "source": [
        "x_supination, y_supination = get_input(['Arifa'], gestures, \"Supination\")\n",
        "x_supination = np.array(x_supination)\n",
        "y_supination = np.array(y_supination)"
      ],
      "metadata": {
        "id": "62HcfeQKTW2P"
      },
      "execution_count": 35,
      "outputs": []
    },
    {
      "cell_type": "code",
      "source": [
        "supination_results = model.evaluate(x_supination, y_supination, batch_size=32)\n",
        "print(supination_results)"
      ],
      "metadata": {
        "colab": {
          "base_uri": "https://localhost:8080/"
        },
        "id": "LGFCsiw9TqCb",
        "outputId": "af2c331f-78ed-4b30-adb0-80a5c87d12a0"
      },
      "execution_count": 36,
      "outputs": [
        {
          "output_type": "stream",
          "name": "stdout",
          "text": [
            "62/62 [==============================] - 0s 3ms/step - loss: 1.0439 - accuracy: 0.6389\n",
            "[1.0439338684082031, 0.6388888955116272]\n"
          ]
        }
      ]
    },
    {
      "cell_type": "markdown",
      "source": [
        "**Final Report**"
      ],
      "metadata": {
        "id": "etZ7ED7KkzcL"
      }
    },
    {
      "cell_type": "code",
      "source": [
        "print(f\"Rest -> {rest_results[1]*100}%\")\n",
        "print(f\"Pronation -> {pronation_results[1]*100}%\")\n",
        "print(f\"Supination -> {supination_results[1]*100}%\")"
      ],
      "metadata": {
        "colab": {
          "base_uri": "https://localhost:8080/"
        },
        "id": "_csJ0W82kyth",
        "outputId": "4d36a774-0b10-4e8c-989d-ea7e5a77fd21"
      },
      "execution_count": 37,
      "outputs": [
        {
          "output_type": "stream",
          "name": "stdout",
          "text": [
            "Rest -> 62.62626051902771%\n",
            "Pronation -> 63.88888955116272%\n",
            "Supination -> 63.88888955116272%\n"
          ]
        }
      ]
    }
  ]
}