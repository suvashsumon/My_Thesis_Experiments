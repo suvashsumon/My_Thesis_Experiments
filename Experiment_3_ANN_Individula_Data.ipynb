{
  "nbformat": 4,
  "nbformat_minor": 0,
  "metadata": {
    "colab": {
      "provenance": [],
      "gpuType": "T4"
    },
    "kernelspec": {
      "name": "python3",
      "display_name": "Python 3"
    },
    "language_info": {
      "name": "python"
    },
    "accelerator": "GPU"
  },
  "cells": [
    {
      "cell_type": "markdown",
      "source": [
        "# A. Importing Packages"
      ],
      "metadata": {
        "id": "zSg7GXcwLqXe"
      }
    },
    {
      "cell_type": "code",
      "execution_count": 2,
      "metadata": {
        "id": "sD0mHoMpI16_"
      },
      "outputs": [],
      "source": [
        "import numpy as np\n",
        "import matplotlib.pyplot as plt\n",
        "import scipy.io as scipyio\n",
        "import seaborn as sns\n",
        "import pandas as pd\n",
        "from google.colab import drive\n",
        "import os"
      ]
    },
    {
      "cell_type": "markdown",
      "source": [
        "# B. Reading Dataset"
      ],
      "metadata": {
        "id": "9rWSzwruL5Sa"
      }
    },
    {
      "cell_type": "code",
      "source": [
        "drive.mount('/content/gdrive')"
      ],
      "metadata": {
        "colab": {
          "base_uri": "https://localhost:8080/"
        },
        "id": "5qYE6LNRKjgI",
        "outputId": "9d5f07c2-a934-45be-bea4-cb1b8804d983"
      },
      "execution_count": 3,
      "outputs": [
        {
          "output_type": "stream",
          "name": "stdout",
          "text": [
            "Mounted at /content/gdrive\n"
          ]
        }
      ]
    },
    {
      "cell_type": "code",
      "source": [
        "gestures_label = {\n",
        "\t 'Thumb_UP' : 0,\n",
        "\t 'Index' : 1,\n",
        "\t 'Right_Angle' : 2,\n",
        "\t 'Peace' : 3,\n",
        "\t 'Index_Little' : 4,\n",
        "\t 'Thumb_Little' : 5,\n",
        "\t 'Hand_Close' : 6,\n",
        "\t 'Hand_Open' : 7,\n",
        "\t 'Wrist_Extension' : 8,\n",
        "\t 'Wrist_Flexion' : 9,\n",
        "\t 'Ulner_Deviation' : 10,\n",
        "\t 'Radial_Deviation' : 11\n",
        "}\n",
        "\n",
        "gestures = ['Thumb_UP', 'Index_Little', 'Right_Angle', 'Peace', 'Index', 'Thumb_Little', 'Hand_Close', 'Hand_Open',\n",
        "\t 'Wrist_Extension', 'Wrist_Flexion', 'Ulner_Deviation', 'Radial_Deviation'\n",
        "]"
      ],
      "metadata": {
        "id": "LdDHY0thPfX3"
      },
      "execution_count": 4,
      "outputs": []
    },
    {
      "cell_type": "code",
      "source": [
        "persons = [\"Arifa\", \"Arnob\", \"Ashis\", \"Bayezid\", \"Bushra\", \"Choity\", \"Choity_new\", \"Eftekhar\",\n",
        "           \"Fahim\", \"Humaid\", \"Humayun\", \"Johir\", \"Joy\", \"Mamun\", \"Noman\", \"Piyus\", \"Sazzad\",\n",
        "           \"Shafi\", \"Shourav\", \"Tamim\", \"Wadud\"]"
      ],
      "metadata": {
        "id": "GX6YhEyWQzjv"
      },
      "execution_count": 5,
      "outputs": []
    },
    {
      "cell_type": "code",
      "source": [
        "filepath = \"gdrive/My Drive/Forearm_Invariant_Data_Individual_CSV/Arifa_Rest.csv\"\n",
        "df = pd.read_csv(filepath)"
      ],
      "metadata": {
        "id": "UXhWxN4RPH-V"
      },
      "execution_count": 6,
      "outputs": []
    },
    {
      "cell_type": "code",
      "source": [
        "df.head()"
      ],
      "metadata": {
        "colab": {
          "base_uri": "https://localhost:8080/",
          "height": 206
        },
        "id": "hvfVjNVxVG12",
        "outputId": "714801cf-b814-400c-f3ca-c89d69ecb843"
      },
      "execution_count": 7,
      "outputs": [
        {
          "output_type": "execute_result",
          "data": {
            "text/plain": [
              "   Channel_1  Channel_2  Channel_3  Channel_4  Channel_5  Channel_6  \\\n",
              "0  -0.014648  -0.029297  -0.043945  -0.019531  -0.029297  -0.029297   \n",
              "1   0.000000   0.000000  -0.014648   0.019531  -0.039062  -0.014648   \n",
              "2  -0.004883  -0.009766  -0.029297  -0.004883  -0.029297   0.004883   \n",
              "3  -0.019531  -0.004883  -0.083008  -0.083008  -0.048828  -0.034180   \n",
              "4   0.004883  -0.004883  -0.014648   0.014648  -0.048828  -0.039062   \n",
              "\n",
              "   Channel_7  Channel_8  Class  \n",
              "0  -0.014648  -0.004883    5.0  \n",
              "1   0.009766  -0.014648    5.0  \n",
              "2  -0.004883  -0.004883    5.0  \n",
              "3  -0.053711  -0.014648    5.0  \n",
              "4  -0.068359  -0.024414    5.0  "
            ],
            "text/html": [
              "\n",
              "  <div id=\"df-9dfc4d89-6f10-4011-8a0b-ab5f91a539e4\" class=\"colab-df-container\">\n",
              "    <div>\n",
              "<style scoped>\n",
              "    .dataframe tbody tr th:only-of-type {\n",
              "        vertical-align: middle;\n",
              "    }\n",
              "\n",
              "    .dataframe tbody tr th {\n",
              "        vertical-align: top;\n",
              "    }\n",
              "\n",
              "    .dataframe thead th {\n",
              "        text-align: right;\n",
              "    }\n",
              "</style>\n",
              "<table border=\"1\" class=\"dataframe\">\n",
              "  <thead>\n",
              "    <tr style=\"text-align: right;\">\n",
              "      <th></th>\n",
              "      <th>Channel_1</th>\n",
              "      <th>Channel_2</th>\n",
              "      <th>Channel_3</th>\n",
              "      <th>Channel_4</th>\n",
              "      <th>Channel_5</th>\n",
              "      <th>Channel_6</th>\n",
              "      <th>Channel_7</th>\n",
              "      <th>Channel_8</th>\n",
              "      <th>Class</th>\n",
              "    </tr>\n",
              "  </thead>\n",
              "  <tbody>\n",
              "    <tr>\n",
              "      <th>0</th>\n",
              "      <td>-0.014648</td>\n",
              "      <td>-0.029297</td>\n",
              "      <td>-0.043945</td>\n",
              "      <td>-0.019531</td>\n",
              "      <td>-0.029297</td>\n",
              "      <td>-0.029297</td>\n",
              "      <td>-0.014648</td>\n",
              "      <td>-0.004883</td>\n",
              "      <td>5.0</td>\n",
              "    </tr>\n",
              "    <tr>\n",
              "      <th>1</th>\n",
              "      <td>0.000000</td>\n",
              "      <td>0.000000</td>\n",
              "      <td>-0.014648</td>\n",
              "      <td>0.019531</td>\n",
              "      <td>-0.039062</td>\n",
              "      <td>-0.014648</td>\n",
              "      <td>0.009766</td>\n",
              "      <td>-0.014648</td>\n",
              "      <td>5.0</td>\n",
              "    </tr>\n",
              "    <tr>\n",
              "      <th>2</th>\n",
              "      <td>-0.004883</td>\n",
              "      <td>-0.009766</td>\n",
              "      <td>-0.029297</td>\n",
              "      <td>-0.004883</td>\n",
              "      <td>-0.029297</td>\n",
              "      <td>0.004883</td>\n",
              "      <td>-0.004883</td>\n",
              "      <td>-0.004883</td>\n",
              "      <td>5.0</td>\n",
              "    </tr>\n",
              "    <tr>\n",
              "      <th>3</th>\n",
              "      <td>-0.019531</td>\n",
              "      <td>-0.004883</td>\n",
              "      <td>-0.083008</td>\n",
              "      <td>-0.083008</td>\n",
              "      <td>-0.048828</td>\n",
              "      <td>-0.034180</td>\n",
              "      <td>-0.053711</td>\n",
              "      <td>-0.014648</td>\n",
              "      <td>5.0</td>\n",
              "    </tr>\n",
              "    <tr>\n",
              "      <th>4</th>\n",
              "      <td>0.004883</td>\n",
              "      <td>-0.004883</td>\n",
              "      <td>-0.014648</td>\n",
              "      <td>0.014648</td>\n",
              "      <td>-0.048828</td>\n",
              "      <td>-0.039062</td>\n",
              "      <td>-0.068359</td>\n",
              "      <td>-0.024414</td>\n",
              "      <td>5.0</td>\n",
              "    </tr>\n",
              "  </tbody>\n",
              "</table>\n",
              "</div>\n",
              "    <div class=\"colab-df-buttons\">\n",
              "\n",
              "  <div class=\"colab-df-container\">\n",
              "    <button class=\"colab-df-convert\" onclick=\"convertToInteractive('df-9dfc4d89-6f10-4011-8a0b-ab5f91a539e4')\"\n",
              "            title=\"Convert this dataframe to an interactive table.\"\n",
              "            style=\"display:none;\">\n",
              "\n",
              "  <svg xmlns=\"http://www.w3.org/2000/svg\" height=\"24px\" viewBox=\"0 -960 960 960\">\n",
              "    <path d=\"M120-120v-720h720v720H120Zm60-500h600v-160H180v160Zm220 220h160v-160H400v160Zm0 220h160v-160H400v160ZM180-400h160v-160H180v160Zm440 0h160v-160H620v160ZM180-180h160v-160H180v160Zm440 0h160v-160H620v160Z\"/>\n",
              "  </svg>\n",
              "    </button>\n",
              "\n",
              "  <style>\n",
              "    .colab-df-container {\n",
              "      display:flex;\n",
              "      gap: 12px;\n",
              "    }\n",
              "\n",
              "    .colab-df-convert {\n",
              "      background-color: #E8F0FE;\n",
              "      border: none;\n",
              "      border-radius: 50%;\n",
              "      cursor: pointer;\n",
              "      display: none;\n",
              "      fill: #1967D2;\n",
              "      height: 32px;\n",
              "      padding: 0 0 0 0;\n",
              "      width: 32px;\n",
              "    }\n",
              "\n",
              "    .colab-df-convert:hover {\n",
              "      background-color: #E2EBFA;\n",
              "      box-shadow: 0px 1px 2px rgba(60, 64, 67, 0.3), 0px 1px 3px 1px rgba(60, 64, 67, 0.15);\n",
              "      fill: #174EA6;\n",
              "    }\n",
              "\n",
              "    .colab-df-buttons div {\n",
              "      margin-bottom: 4px;\n",
              "    }\n",
              "\n",
              "    [theme=dark] .colab-df-convert {\n",
              "      background-color: #3B4455;\n",
              "      fill: #D2E3FC;\n",
              "    }\n",
              "\n",
              "    [theme=dark] .colab-df-convert:hover {\n",
              "      background-color: #434B5C;\n",
              "      box-shadow: 0px 1px 3px 1px rgba(0, 0, 0, 0.15);\n",
              "      filter: drop-shadow(0px 1px 2px rgba(0, 0, 0, 0.3));\n",
              "      fill: #FFFFFF;\n",
              "    }\n",
              "  </style>\n",
              "\n",
              "    <script>\n",
              "      const buttonEl =\n",
              "        document.querySelector('#df-9dfc4d89-6f10-4011-8a0b-ab5f91a539e4 button.colab-df-convert');\n",
              "      buttonEl.style.display =\n",
              "        google.colab.kernel.accessAllowed ? 'block' : 'none';\n",
              "\n",
              "      async function convertToInteractive(key) {\n",
              "        const element = document.querySelector('#df-9dfc4d89-6f10-4011-8a0b-ab5f91a539e4');\n",
              "        const dataTable =\n",
              "          await google.colab.kernel.invokeFunction('convertToInteractive',\n",
              "                                                    [key], {});\n",
              "        if (!dataTable) return;\n",
              "\n",
              "        const docLinkHtml = 'Like what you see? Visit the ' +\n",
              "          '<a target=\"_blank\" href=https://colab.research.google.com/notebooks/data_table.ipynb>data table notebook</a>'\n",
              "          + ' to learn more about interactive tables.';\n",
              "        element.innerHTML = '';\n",
              "        dataTable['output_type'] = 'display_data';\n",
              "        await google.colab.output.renderOutput(dataTable, element);\n",
              "        const docLink = document.createElement('div');\n",
              "        docLink.innerHTML = docLinkHtml;\n",
              "        element.appendChild(docLink);\n",
              "      }\n",
              "    </script>\n",
              "  </div>\n",
              "\n",
              "\n",
              "<div id=\"df-50d7e776-7207-4a7e-93b2-7fae5821298b\">\n",
              "  <button class=\"colab-df-quickchart\" onclick=\"quickchart('df-50d7e776-7207-4a7e-93b2-7fae5821298b')\"\n",
              "            title=\"Suggest charts\"\n",
              "            style=\"display:none;\">\n",
              "\n",
              "<svg xmlns=\"http://www.w3.org/2000/svg\" height=\"24px\"viewBox=\"0 0 24 24\"\n",
              "     width=\"24px\">\n",
              "    <g>\n",
              "        <path d=\"M19 3H5c-1.1 0-2 .9-2 2v14c0 1.1.9 2 2 2h14c1.1 0 2-.9 2-2V5c0-1.1-.9-2-2-2zM9 17H7v-7h2v7zm4 0h-2V7h2v10zm4 0h-2v-4h2v4z\"/>\n",
              "    </g>\n",
              "</svg>\n",
              "  </button>\n",
              "\n",
              "<style>\n",
              "  .colab-df-quickchart {\n",
              "      --bg-color: #E8F0FE;\n",
              "      --fill-color: #1967D2;\n",
              "      --hover-bg-color: #E2EBFA;\n",
              "      --hover-fill-color: #174EA6;\n",
              "      --disabled-fill-color: #AAA;\n",
              "      --disabled-bg-color: #DDD;\n",
              "  }\n",
              "\n",
              "  [theme=dark] .colab-df-quickchart {\n",
              "      --bg-color: #3B4455;\n",
              "      --fill-color: #D2E3FC;\n",
              "      --hover-bg-color: #434B5C;\n",
              "      --hover-fill-color: #FFFFFF;\n",
              "      --disabled-bg-color: #3B4455;\n",
              "      --disabled-fill-color: #666;\n",
              "  }\n",
              "\n",
              "  .colab-df-quickchart {\n",
              "    background-color: var(--bg-color);\n",
              "    border: none;\n",
              "    border-radius: 50%;\n",
              "    cursor: pointer;\n",
              "    display: none;\n",
              "    fill: var(--fill-color);\n",
              "    height: 32px;\n",
              "    padding: 0;\n",
              "    width: 32px;\n",
              "  }\n",
              "\n",
              "  .colab-df-quickchart:hover {\n",
              "    background-color: var(--hover-bg-color);\n",
              "    box-shadow: 0 1px 2px rgba(60, 64, 67, 0.3), 0 1px 3px 1px rgba(60, 64, 67, 0.15);\n",
              "    fill: var(--button-hover-fill-color);\n",
              "  }\n",
              "\n",
              "  .colab-df-quickchart-complete:disabled,\n",
              "  .colab-df-quickchart-complete:disabled:hover {\n",
              "    background-color: var(--disabled-bg-color);\n",
              "    fill: var(--disabled-fill-color);\n",
              "    box-shadow: none;\n",
              "  }\n",
              "\n",
              "  .colab-df-spinner {\n",
              "    border: 2px solid var(--fill-color);\n",
              "    border-color: transparent;\n",
              "    border-bottom-color: var(--fill-color);\n",
              "    animation:\n",
              "      spin 1s steps(1) infinite;\n",
              "  }\n",
              "\n",
              "  @keyframes spin {\n",
              "    0% {\n",
              "      border-color: transparent;\n",
              "      border-bottom-color: var(--fill-color);\n",
              "      border-left-color: var(--fill-color);\n",
              "    }\n",
              "    20% {\n",
              "      border-color: transparent;\n",
              "      border-left-color: var(--fill-color);\n",
              "      border-top-color: var(--fill-color);\n",
              "    }\n",
              "    30% {\n",
              "      border-color: transparent;\n",
              "      border-left-color: var(--fill-color);\n",
              "      border-top-color: var(--fill-color);\n",
              "      border-right-color: var(--fill-color);\n",
              "    }\n",
              "    40% {\n",
              "      border-color: transparent;\n",
              "      border-right-color: var(--fill-color);\n",
              "      border-top-color: var(--fill-color);\n",
              "    }\n",
              "    60% {\n",
              "      border-color: transparent;\n",
              "      border-right-color: var(--fill-color);\n",
              "    }\n",
              "    80% {\n",
              "      border-color: transparent;\n",
              "      border-right-color: var(--fill-color);\n",
              "      border-bottom-color: var(--fill-color);\n",
              "    }\n",
              "    90% {\n",
              "      border-color: transparent;\n",
              "      border-bottom-color: var(--fill-color);\n",
              "    }\n",
              "  }\n",
              "</style>\n",
              "\n",
              "  <script>\n",
              "    async function quickchart(key) {\n",
              "      const quickchartButtonEl =\n",
              "        document.querySelector('#' + key + ' button');\n",
              "      quickchartButtonEl.disabled = true;  // To prevent multiple clicks.\n",
              "      quickchartButtonEl.classList.add('colab-df-spinner');\n",
              "      try {\n",
              "        const charts = await google.colab.kernel.invokeFunction(\n",
              "            'suggestCharts', [key], {});\n",
              "      } catch (error) {\n",
              "        console.error('Error during call to suggestCharts:', error);\n",
              "      }\n",
              "      quickchartButtonEl.classList.remove('colab-df-spinner');\n",
              "      quickchartButtonEl.classList.add('colab-df-quickchart-complete');\n",
              "    }\n",
              "    (() => {\n",
              "      let quickchartButtonEl =\n",
              "        document.querySelector('#df-50d7e776-7207-4a7e-93b2-7fae5821298b button');\n",
              "      quickchartButtonEl.style.display =\n",
              "        google.colab.kernel.accessAllowed ? 'block' : 'none';\n",
              "    })();\n",
              "  </script>\n",
              "</div>\n",
              "    </div>\n",
              "  </div>\n"
            ]
          },
          "metadata": {},
          "execution_count": 7
        }
      ]
    },
    {
      "cell_type": "code",
      "source": [
        "df.shape"
      ],
      "metadata": {
        "colab": {
          "base_uri": "https://localhost:8080/"
        },
        "id": "SaB00pfPVozt",
        "outputId": "6a8ab475-784c-4ca8-e06d-082481fe36e9"
      },
      "execution_count": 8,
      "outputs": [
        {
          "output_type": "execute_result",
          "data": {
            "text/plain": [
              "(300000, 9)"
            ]
          },
          "metadata": {},
          "execution_count": 8
        }
      ]
    },
    {
      "cell_type": "code",
      "source": [
        "X = df.iloc[:, 0:-1]\n",
        "y = df.iloc[:, -1]"
      ],
      "metadata": {
        "id": "wfCSNibXWFEE"
      },
      "execution_count": 9,
      "outputs": []
    },
    {
      "cell_type": "markdown",
      "source": [
        "# C. Model Training (ANN)"
      ],
      "metadata": {
        "id": "7PHpGb_plU5w"
      }
    },
    {
      "cell_type": "code",
      "source": [
        "from sklearn.model_selection import train_test_split\n",
        "x_train, x_test, y_train, y_test = train_test_split(\n",
        "    X,y,\n",
        "    test_size = .2, shuffle=True, random_state=0\n",
        ")"
      ],
      "metadata": {
        "id": "P5HMLbfUlbCh"
      },
      "execution_count": 10,
      "outputs": []
    },
    {
      "cell_type": "code",
      "source": [
        "x_train.shape"
      ],
      "metadata": {
        "colab": {
          "base_uri": "https://localhost:8080/"
        },
        "id": "FH-22do-lxiO",
        "outputId": "5f1f801b-e606-4021-e370-73aec3819879"
      },
      "execution_count": 11,
      "outputs": [
        {
          "output_type": "execute_result",
          "data": {
            "text/plain": [
              "(240000, 8)"
            ]
          },
          "metadata": {},
          "execution_count": 11
        }
      ]
    },
    {
      "cell_type": "code",
      "source": [
        "import tensorflow as tf\n",
        "from tensorflow.keras import layers, models\n",
        "ann_model = models.Sequential([\n",
        "    layers.Flatten(input_shape=(8,)),\n",
        "    layers.Dense(2048, activation='relu'),\n",
        "    #layers.Dropout(.2),\n",
        "    layers.Dense(1024, activation='relu'),\n",
        "    #layers.Dropout(.2),\n",
        "    layers.Dense(512, activation='relu'),\n",
        "    #layers.Dropout(.2),\n",
        "    layers.Dense(256, activation='relu'),\n",
        "    #layers.Dropout(.2),\n",
        "    layers.Dense(128, activation='relu'),\n",
        "    #layers.Dropout(.2),\n",
        "    layers.Dense(64, activation='relu'),\n",
        "    #layers.Dropout(.2),\n",
        "    layers.Dense(32, activation='relu'),\n",
        "    #layers.Dropout(.2),\n",
        "    layers.Dense(16, activation='relu'),\n",
        "    #layers.Dropout(.2),\n",
        "    layers.Dense(12, activation='softmax'),\n",
        "])"
      ],
      "metadata": {
        "id": "kpS8ZiKil653"
      },
      "execution_count": 18,
      "outputs": []
    },
    {
      "cell_type": "code",
      "source": [
        "ann_model.compile(\n",
        "    optimizer='SGD',\n",
        "    loss='sparse_categorical_crossentropy',\n",
        "    metrics = ['accuracy']\n",
        ")"
      ],
      "metadata": {
        "id": "C5UIopxOnCoW"
      },
      "execution_count": 19,
      "outputs": []
    },
    {
      "cell_type": "code",
      "source": [
        "history = ann_model.fit(x_train, y_train, epochs=50, validation_data=(x_test, y_test))"
      ],
      "metadata": {
        "colab": {
          "base_uri": "https://localhost:8080/"
        },
        "id": "qEO-fa9Nnb2g",
        "outputId": "bb9a3b46-170f-445c-efe5-48f14dc2ae99"
      },
      "execution_count": 20,
      "outputs": [
        {
          "output_type": "stream",
          "name": "stdout",
          "text": [
            "Epoch 1/50\n",
            "7500/7500 [==============================] - 39s 5ms/step - loss: 2.4173 - accuracy: 0.1252 - val_loss: 2.3310 - val_accuracy: 0.1302\n",
            "Epoch 2/50\n",
            "7500/7500 [==============================] - 38s 5ms/step - loss: 2.2306 - accuracy: 0.1596 - val_loss: 2.1942 - val_accuracy: 0.1731\n",
            "Epoch 3/50\n",
            "7500/7500 [==============================] - 38s 5ms/step - loss: 2.2031 - accuracy: 0.1710 - val_loss: 2.1802 - val_accuracy: 0.1778\n",
            "Epoch 4/50\n",
            "7500/7500 [==============================] - 38s 5ms/step - loss: 2.1909 - accuracy: 0.1756 - val_loss: 2.1823 - val_accuracy: 0.1800\n",
            "Epoch 5/50\n",
            "7500/7500 [==============================] - 38s 5ms/step - loss: 2.1580 - accuracy: 0.1926 - val_loss: 2.1407 - val_accuracy: 0.2114\n",
            "Epoch 6/50\n",
            "7500/7500 [==============================] - 39s 5ms/step - loss: 2.0932 - accuracy: 0.2150 - val_loss: 2.0441 - val_accuracy: 0.2300\n",
            "Epoch 7/50\n",
            "7500/7500 [==============================] - 37s 5ms/step - loss: 2.0565 - accuracy: 0.2260 - val_loss: 2.0470 - val_accuracy: 0.2277\n",
            "Epoch 8/50\n",
            "7500/7500 [==============================] - 39s 5ms/step - loss: 2.0298 - accuracy: 0.2367 - val_loss: 2.0434 - val_accuracy: 0.2260\n",
            "Epoch 9/50\n",
            "7500/7500 [==============================] - 38s 5ms/step - loss: 1.9716 - accuracy: 0.2736 - val_loss: 1.8971 - val_accuracy: 0.3072\n",
            "Epoch 10/50\n",
            "7500/7500 [==============================] - 37s 5ms/step - loss: 1.9118 - accuracy: 0.2994 - val_loss: 1.8844 - val_accuracy: 0.3094\n",
            "Epoch 11/50\n",
            "7500/7500 [==============================] - 39s 5ms/step - loss: 1.8791 - accuracy: 0.3107 - val_loss: 1.8583 - val_accuracy: 0.3207\n",
            "Epoch 12/50\n",
            "7500/7500 [==============================] - 36s 5ms/step - loss: 1.8503 - accuracy: 0.3235 - val_loss: 1.8309 - val_accuracy: 0.3305\n",
            "Epoch 13/50\n",
            "7500/7500 [==============================] - 38s 5ms/step - loss: 1.8142 - accuracy: 0.3374 - val_loss: 1.7974 - val_accuracy: 0.3447\n",
            "Epoch 14/50\n",
            "7500/7500 [==============================] - 37s 5ms/step - loss: 1.7783 - accuracy: 0.3508 - val_loss: 1.7799 - val_accuracy: 0.3505\n",
            "Epoch 15/50\n",
            "7500/7500 [==============================] - 37s 5ms/step - loss: 1.7513 - accuracy: 0.3639 - val_loss: 1.7522 - val_accuracy: 0.3661\n",
            "Epoch 16/50\n",
            "7500/7500 [==============================] - 38s 5ms/step - loss: 1.7340 - accuracy: 0.3697 - val_loss: 1.7018 - val_accuracy: 0.3838\n",
            "Epoch 17/50\n",
            "7500/7500 [==============================] - 37s 5ms/step - loss: 1.7223 - accuracy: 0.3749 - val_loss: 1.7054 - val_accuracy: 0.3823\n",
            "Epoch 18/50\n",
            "7500/7500 [==============================] - 37s 5ms/step - loss: 1.7130 - accuracy: 0.3786 - val_loss: 1.6868 - val_accuracy: 0.3896\n",
            "Epoch 19/50\n",
            "7500/7500 [==============================] - 38s 5ms/step - loss: 1.7033 - accuracy: 0.3830 - val_loss: 1.6916 - val_accuracy: 0.3880\n",
            "Epoch 20/50\n",
            "7500/7500 [==============================] - 37s 5ms/step - loss: 1.6970 - accuracy: 0.3839 - val_loss: 1.6824 - val_accuracy: 0.3908\n",
            "Epoch 21/50\n",
            "7500/7500 [==============================] - 38s 5ms/step - loss: 1.6913 - accuracy: 0.3867 - val_loss: 1.6898 - val_accuracy: 0.3871\n",
            "Epoch 22/50\n",
            "7500/7500 [==============================] - 38s 5ms/step - loss: 1.6856 - accuracy: 0.3889 - val_loss: 1.6830 - val_accuracy: 0.3924\n",
            "Epoch 23/50\n",
            "7500/7500 [==============================] - 37s 5ms/step - loss: 1.6810 - accuracy: 0.3904 - val_loss: 1.6962 - val_accuracy: 0.3822\n",
            "Epoch 24/50\n",
            "7500/7500 [==============================] - 39s 5ms/step - loss: 1.6761 - accuracy: 0.3914 - val_loss: 1.6688 - val_accuracy: 0.3958\n",
            "Epoch 25/50\n",
            "7500/7500 [==============================] - 39s 5ms/step - loss: 1.6730 - accuracy: 0.3943 - val_loss: 1.6989 - val_accuracy: 0.3850\n",
            "Epoch 26/50\n",
            "7500/7500 [==============================] - 39s 5ms/step - loss: 1.6687 - accuracy: 0.3950 - val_loss: 1.6612 - val_accuracy: 0.3990\n",
            "Epoch 27/50\n",
            "7500/7500 [==============================] - 37s 5ms/step - loss: 1.6651 - accuracy: 0.3975 - val_loss: 1.6594 - val_accuracy: 0.4020\n",
            "Epoch 28/50\n",
            "7500/7500 [==============================] - 37s 5ms/step - loss: 1.6618 - accuracy: 0.3977 - val_loss: 1.6576 - val_accuracy: 0.3986\n",
            "Epoch 29/50\n",
            "7500/7500 [==============================] - 40s 5ms/step - loss: 1.6593 - accuracy: 0.4000 - val_loss: 1.6752 - val_accuracy: 0.3945\n",
            "Epoch 30/50\n",
            "7500/7500 [==============================] - 37s 5ms/step - loss: 1.6566 - accuracy: 0.4001 - val_loss: 1.6775 - val_accuracy: 0.3913\n",
            "Epoch 31/50\n",
            "7500/7500 [==============================] - 38s 5ms/step - loss: 1.6531 - accuracy: 0.4014 - val_loss: 1.6562 - val_accuracy: 0.4006\n",
            "Epoch 32/50\n",
            "7500/7500 [==============================] - 39s 5ms/step - loss: 1.6510 - accuracy: 0.4019 - val_loss: 1.6635 - val_accuracy: 0.3982\n",
            "Epoch 33/50\n",
            "7500/7500 [==============================] - 37s 5ms/step - loss: 1.6493 - accuracy: 0.4029 - val_loss: 1.6706 - val_accuracy: 0.3948\n",
            "Epoch 34/50\n",
            "7500/7500 [==============================] - 39s 5ms/step - loss: 1.6464 - accuracy: 0.4034 - val_loss: 1.6618 - val_accuracy: 0.3985\n",
            "Epoch 35/50\n",
            "7500/7500 [==============================] - 37s 5ms/step - loss: 1.6445 - accuracy: 0.4043 - val_loss: 1.6548 - val_accuracy: 0.4000\n",
            "Epoch 36/50\n",
            "7500/7500 [==============================] - 38s 5ms/step - loss: 1.6429 - accuracy: 0.4033 - val_loss: 1.6402 - val_accuracy: 0.4070\n",
            "Epoch 37/50\n",
            "7500/7500 [==============================] - 39s 5ms/step - loss: 1.6409 - accuracy: 0.4051 - val_loss: 1.6495 - val_accuracy: 0.4039\n",
            "Epoch 38/50\n",
            "7500/7500 [==============================] - 38s 5ms/step - loss: 1.6391 - accuracy: 0.4061 - val_loss: 1.6686 - val_accuracy: 0.3963\n",
            "Epoch 39/50\n",
            "7500/7500 [==============================] - 38s 5ms/step - loss: 1.6373 - accuracy: 0.4062 - val_loss: 1.6528 - val_accuracy: 0.4036\n",
            "Epoch 40/50\n",
            "7500/7500 [==============================] - 39s 5ms/step - loss: 1.6352 - accuracy: 0.4075 - val_loss: 1.6385 - val_accuracy: 0.4069\n",
            "Epoch 41/50\n",
            "7500/7500 [==============================] - 39s 5ms/step - loss: 1.6341 - accuracy: 0.4078 - val_loss: 1.6547 - val_accuracy: 0.4011\n",
            "Epoch 42/50\n",
            "7500/7500 [==============================] - 39s 5ms/step - loss: 1.6324 - accuracy: 0.4081 - val_loss: 1.6433 - val_accuracy: 0.4042\n",
            "Epoch 43/50\n",
            "7500/7500 [==============================] - 39s 5ms/step - loss: 1.6311 - accuracy: 0.4080 - val_loss: 1.6452 - val_accuracy: 0.4029\n",
            "Epoch 44/50\n",
            "7500/7500 [==============================] - 39s 5ms/step - loss: 1.6294 - accuracy: 0.4102 - val_loss: 1.6481 - val_accuracy: 0.4034\n",
            "Epoch 45/50\n",
            "7500/7500 [==============================] - 39s 5ms/step - loss: 1.6281 - accuracy: 0.4095 - val_loss: 1.6463 - val_accuracy: 0.4032\n",
            "Epoch 46/50\n",
            "7500/7500 [==============================] - 40s 5ms/step - loss: 1.6267 - accuracy: 0.4101 - val_loss: 1.6303 - val_accuracy: 0.4111\n",
            "Epoch 47/50\n",
            "7500/7500 [==============================] - 39s 5ms/step - loss: 1.6251 - accuracy: 0.4115 - val_loss: 1.6483 - val_accuracy: 0.4024\n",
            "Epoch 48/50\n",
            "7500/7500 [==============================] - 38s 5ms/step - loss: 1.6239 - accuracy: 0.4114 - val_loss: 1.6684 - val_accuracy: 0.3973\n",
            "Epoch 49/50\n",
            "7500/7500 [==============================] - 39s 5ms/step - loss: 1.6227 - accuracy: 0.4113 - val_loss: 1.6346 - val_accuracy: 0.4102\n",
            "Epoch 50/50\n",
            "7500/7500 [==============================] - 39s 5ms/step - loss: 1.6204 - accuracy: 0.4123 - val_loss: 1.6377 - val_accuracy: 0.4093\n"
          ]
        }
      ]
    },
    {
      "cell_type": "code",
      "source": [
        "from sklearn.metrics import confusion_matrix, classification_report\n",
        "y_pred = ann_model.predict(x_test)\n",
        "y_pred_classes = [np.argmax(element) for element in y_pred]\n",
        "\n",
        "print(\"Classification Report : \")\n",
        "print(classification_report(y_test, y_pred_classes))"
      ],
      "metadata": {
        "colab": {
          "base_uri": "https://localhost:8080/"
        },
        "id": "BN_5hAQGuygd",
        "outputId": "b37e02a5-3866-48fb-8696-40c23725dfba"
      },
      "execution_count": 21,
      "outputs": [
        {
          "output_type": "stream",
          "name": "stdout",
          "text": [
            "1875/1875 [==============================] - 4s 2ms/step\n",
            "Classification Report : \n",
            "              precision    recall  f1-score   support\n",
            "\n",
            "         0.0       0.35      0.34      0.34      4976\n",
            "         1.0       0.28      0.29      0.29      4994\n",
            "         2.0       0.37      0.20      0.26      4952\n",
            "         3.0       0.32      0.26      0.29      5012\n",
            "         4.0       0.30      0.58      0.39      5004\n",
            "         5.0       0.34      0.35      0.35      5060\n",
            "         6.0       0.29      0.34      0.32      5025\n",
            "         7.0       0.43      0.42      0.43      4998\n",
            "         8.0       0.58      0.55      0.57      4920\n",
            "         9.0       0.67      0.57      0.62      5056\n",
            "        10.0       0.56      0.38      0.45      5031\n",
            "        11.0       0.60      0.62      0.61      4972\n",
            "\n",
            "    accuracy                           0.41     60000\n",
            "   macro avg       0.43      0.41      0.41     60000\n",
            "weighted avg       0.43      0.41      0.41     60000\n",
            "\n"
          ]
        }
      ]
    },
    {
      "cell_type": "code",
      "source": [
        "# Plotting model accuracy and loss\n",
        "def plot_history(history):\n",
        "    plt.figure(figsize=(10, 5))\n",
        "\n",
        "    # Plot training & validation accuracy values\n",
        "    plt.subplot(1, 2, 1)\n",
        "    plt.plot(history.history['accuracy'])\n",
        "    plt.plot(history.history['val_accuracy'])\n",
        "    plt.title('Model Accuracy')\n",
        "    plt.ylabel('Accuracy')\n",
        "    plt.xlabel('Epoch')\n",
        "    plt.legend(['Train', 'Validation'], loc='upper left')\n",
        "\n",
        "    # Plot training & validation loss values\n",
        "    plt.subplot(1, 2, 2)\n",
        "    plt.plot(history.history['loss'])\n",
        "    plt.plot(history.history['val_loss'])\n",
        "    plt.title('Model Loss')\n",
        "    plt.ylabel('Loss')\n",
        "    plt.xlabel('Epoch')\n",
        "    plt.legend(['Train', 'Validation'], loc='upper right')\n",
        "\n",
        "    plt.tight_layout()\n",
        "    plt.show()\n",
        "\n",
        "# Call the function to plot the history\n",
        "plot_history(history)"
      ],
      "metadata": {
        "colab": {
          "base_uri": "https://localhost:8080/",
          "height": 507
        },
        "id": "sxxcTEjsxGMx",
        "outputId": "7080c79f-edda-4e19-878b-b8f70da04cdf"
      },
      "execution_count": 22,
      "outputs": [
        {
          "output_type": "display_data",
          "data": {
            "text/plain": [
              "<Figure size 1000x500 with 2 Axes>"
            ],
            "image/png": "[encoded data removed]"
          },
          "metadata": {}
        }
      ]
    }
  ]
}