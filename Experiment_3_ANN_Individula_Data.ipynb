{
  "nbformat": 4,
  "nbformat_minor": 0,
  "metadata": {
    "colab": {
      "provenance": [],
      "gpuType": "T4"
    },
    "kernelspec": {
      "name": "python3",
      "display_name": "Python 3"
    },
    "language_info": {
      "name": "python"
    },
    "accelerator": "GPU"
  },
  "cells": [
    {
      "cell_type": "markdown",
      "source": [
        "# A. Importing Packages"
      ],
      "metadata": {
        "id": "zSg7GXcwLqXe"
      }
    },
    {
      "cell_type": "code",
      "execution_count": 1,
      "metadata": {
        "id": "sD0mHoMpI16_"
      },
      "outputs": [],
      "source": [
        "import numpy as np\n",
        "import matplotlib.pyplot as plt\n",
        "import scipy.io as scipyio\n",
        "import seaborn as sns\n",
        "import pandas as pd\n",
        "from google.colab import drive\n",
        "import os"
      ]
    },
    {
      "cell_type": "markdown",
      "source": [
        "# B. Reading Dataset"
      ],
      "metadata": {
        "id": "9rWSzwruL5Sa"
      }
    },
    {
      "cell_type": "code",
      "source": [
        "drive.mount('/content/gdrive')"
      ],
      "metadata": {
        "colab": {
          "base_uri": "https://localhost:8080/"
        },
        "id": "5qYE6LNRKjgI",
        "outputId": "5cb8965d-53b4-4414-d273-08605bd8704b"
      },
      "execution_count": 2,
      "outputs": [
        {
          "output_type": "stream",
          "name": "stdout",
          "text": [
            "Mounted at /content/gdrive\n"
          ]
        }
      ]
    },
    {
      "cell_type": "code",
      "source": [
        "gestures_label = {\n",
        "\t 'Thumb_UP' : 0,\n",
        "\t 'Index' : 1,\n",
        "\t 'Right_Angle' : 2,\n",
        "\t 'Peace' : 3,\n",
        "\t 'Index_Little' : 4,\n",
        "\t 'Thumb_Little' : 5,\n",
        "\t 'Hand_Close' : 6,\n",
        "\t 'Hand_Open' : 7,\n",
        "\t 'Wrist_Extension' : 8,\n",
        "\t 'Wrist_Flexion' : 9,\n",
        "\t 'Ulner_Deviation' : 10,\n",
        "\t 'Radial_Deviation' : 11\n",
        "}\n",
        "\n",
        "gestures = ['Thumb_UP', 'Index_Little', 'Right_Angle', 'Peace', 'Index', 'Thumb_Little', 'Hand_Close', 'Hand_Open',\n",
        "\t 'Wrist_Extension', 'Wrist_Flexion', 'Ulner_Deviation', 'Radial_Deviation'\n",
        "]"
      ],
      "metadata": {
        "id": "LdDHY0thPfX3"
      },
      "execution_count": 3,
      "outputs": []
    },
    {
      "cell_type": "code",
      "source": [
        "persons = [\"Arifa\", \"Arnob\", \"Ashis\", \"Bayezid\", \"Bushra\", \"Choity\", \"Choity_new\", \"Eftekhar\",\n",
        "           \"Fahim\", \"Humaid\", \"Humayun\", \"Johir\", \"Joy\", \"Mamun\", \"Noman\", \"Piyus\", \"Sazzad\",\n",
        "           \"Shafi\", \"Shourav\", \"Tamim\", \"Wadud\"]"
      ],
      "metadata": {
        "id": "GX6YhEyWQzjv"
      },
      "execution_count": 4,
      "outputs": []
    },
    {
      "cell_type": "code",
      "source": [
        "filepath = \"gdrive/My Drive/Forearm_Invariant_Data_Individual_CSV/Arifa_Rest.csv\"\n",
        "df = pd.read_csv(filepath)"
      ],
      "metadata": {
        "id": "UXhWxN4RPH-V"
      },
      "execution_count": 5,
      "outputs": []
    },
    {
      "cell_type": "code",
      "source": [
        "df.head()"
      ],
      "metadata": {
        "colab": {
          "base_uri": "https://localhost:8080/",
          "height": 206
        },
        "id": "hvfVjNVxVG12",
        "outputId": "ef7f0ce2-7c8f-43ac-a532-68f5eb3c13d8"
      },
      "execution_count": 6,
      "outputs": [
        {
          "output_type": "execute_result",
          "data": {
            "text/plain": [
              "   Channel_1  Channel_2  Channel_3  Channel_4  Channel_5  Channel_6  \\\n",
              "0  -0.014648  -0.029297  -0.043945  -0.019531  -0.029297  -0.029297   \n",
              "1   0.000000   0.000000  -0.014648   0.019531  -0.039062  -0.014648   \n",
              "2  -0.004883  -0.009766  -0.029297  -0.004883  -0.029297   0.004883   \n",
              "3  -0.019531  -0.004883  -0.083008  -0.083008  -0.048828  -0.034180   \n",
              "4   0.004883  -0.004883  -0.014648   0.014648  -0.048828  -0.039062   \n",
              "\n",
              "   Channel_7  Channel_8  Class  \n",
              "0  -0.014648  -0.004883    5.0  \n",
              "1   0.009766  -0.014648    5.0  \n",
              "2  -0.004883  -0.004883    5.0  \n",
              "3  -0.053711  -0.014648    5.0  \n",
              "4  -0.068359  -0.024414    5.0  "
            ],
            "text/html": [
              "\n",
              "  <div id=\"df-f1107d18-b40b-404e-b5a8-690e029e2681\" class=\"colab-df-container\">\n",
              "    <div>\n",
              "<style scoped>\n",
              "    .dataframe tbody tr th:only-of-type {\n",
              "        vertical-align: middle;\n",
              "    }\n",
              "\n",
              "    .dataframe tbody tr th {\n",
              "        vertical-align: top;\n",
              "    }\n",
              "\n",
              "    .dataframe thead th {\n",
              "        text-align: right;\n",
              "    }\n",
              "</style>\n",
              "<table border=\"1\" class=\"dataframe\">\n",
              "  <thead>\n",
              "    <tr style=\"text-align: right;\">\n",
              "      <th></th>\n",
              "      <th>Channel_1</th>\n",
              "      <th>Channel_2</th>\n",
              "      <th>Channel_3</th>\n",
              "      <th>Channel_4</th>\n",
              "      <th>Channel_5</th>\n",
              "      <th>Channel_6</th>\n",
              "      <th>Channel_7</th>\n",
              "      <th>Channel_8</th>\n",
              "      <th>Class</th>\n",
              "    </tr>\n",
              "  </thead>\n",
              "  <tbody>\n",
              "    <tr>\n",
              "      <th>0</th>\n",
              "      <td>-0.014648</td>\n",
              "      <td>-0.029297</td>\n",
              "      <td>-0.043945</td>\n",
              "      <td>-0.019531</td>\n",
              "      <td>-0.029297</td>\n",
              "      <td>-0.029297</td>\n",
              "      <td>-0.014648</td>\n",
              "      <td>-0.004883</td>\n",
              "      <td>5.0</td>\n",
              "    </tr>\n",
              "    <tr>\n",
              "      <th>1</th>\n",
              "      <td>0.000000</td>\n",
              "      <td>0.000000</td>\n",
              "      <td>-0.014648</td>\n",
              "      <td>0.019531</td>\n",
              "      <td>-0.039062</td>\n",
              "      <td>-0.014648</td>\n",
              "      <td>0.009766</td>\n",
              "      <td>-0.014648</td>\n",
              "      <td>5.0</td>\n",
              "    </tr>\n",
              "    <tr>\n",
              "      <th>2</th>\n",
              "      <td>-0.004883</td>\n",
              "      <td>-0.009766</td>\n",
              "      <td>-0.029297</td>\n",
              "      <td>-0.004883</td>\n",
              "      <td>-0.029297</td>\n",
              "      <td>0.004883</td>\n",
              "      <td>-0.004883</td>\n",
              "      <td>-0.004883</td>\n",
              "      <td>5.0</td>\n",
              "    </tr>\n",
              "    <tr>\n",
              "      <th>3</th>\n",
              "      <td>-0.019531</td>\n",
              "      <td>-0.004883</td>\n",
              "      <td>-0.083008</td>\n",
              "      <td>-0.083008</td>\n",
              "      <td>-0.048828</td>\n",
              "      <td>-0.034180</td>\n",
              "      <td>-0.053711</td>\n",
              "      <td>-0.014648</td>\n",
              "      <td>5.0</td>\n",
              "    </tr>\n",
              "    <tr>\n",
              "      <th>4</th>\n",
              "      <td>0.004883</td>\n",
              "      <td>-0.004883</td>\n",
              "      <td>-0.014648</td>\n",
              "      <td>0.014648</td>\n",
              "      <td>-0.048828</td>\n",
              "      <td>-0.039062</td>\n",
              "      <td>-0.068359</td>\n",
              "      <td>-0.024414</td>\n",
              "      <td>5.0</td>\n",
              "    </tr>\n",
              "  </tbody>\n",
              "</table>\n",
              "</div>\n",
              "    <div class=\"colab-df-buttons\">\n",
              "\n",
              "  <div class=\"colab-df-container\">\n",
              "    <button class=\"colab-df-convert\" onclick=\"convertToInteractive('df-f1107d18-b40b-404e-b5a8-690e029e2681')\"\n",
              "            title=\"Convert this dataframe to an interactive table.\"\n",
              "            style=\"display:none;\">\n",
              "\n",
              "  <svg xmlns=\"http://www.w3.org/2000/svg\" height=\"24px\" viewBox=\"0 -960 960 960\">\n",
              "    <path d=\"M120-120v-720h720v720H120Zm60-500h600v-160H180v160Zm220 220h160v-160H400v160Zm0 220h160v-160H400v160ZM180-400h160v-160H180v160Zm440 0h160v-160H620v160ZM180-180h160v-160H180v160Zm440 0h160v-160H620v160Z\"/>\n",
              "  </svg>\n",
              "    </button>\n",
              "\n",
              "  <style>\n",
              "    .colab-df-container {\n",
              "      display:flex;\n",
              "      gap: 12px;\n",
              "    }\n",
              "\n",
              "    .colab-df-convert {\n",
              "      background-color: #E8F0FE;\n",
              "      border: none;\n",
              "      border-radius: 50%;\n",
              "      cursor: pointer;\n",
              "      display: none;\n",
              "      fill: #1967D2;\n",
              "      height: 32px;\n",
              "      padding: 0 0 0 0;\n",
              "      width: 32px;\n",
              "    }\n",
              "\n",
              "    .colab-df-convert:hover {\n",
              "      background-color: #E2EBFA;\n",
              "      box-shadow: 0px 1px 2px rgba(60, 64, 67, 0.3), 0px 1px 3px 1px rgba(60, 64, 67, 0.15);\n",
              "      fill: #174EA6;\n",
              "    }\n",
              "\n",
              "    .colab-df-buttons div {\n",
              "      margin-bottom: 4px;\n",
              "    }\n",
              "\n",
              "    [theme=dark] .colab-df-convert {\n",
              "      background-color: #3B4455;\n",
              "      fill: #D2E3FC;\n",
              "    }\n",
              "\n",
              "    [theme=dark] .colab-df-convert:hover {\n",
              "      background-color: #434B5C;\n",
              "      box-shadow: 0px 1px 3px 1px rgba(0, 0, 0, 0.15);\n",
              "      filter: drop-shadow(0px 1px 2px rgba(0, 0, 0, 0.3));\n",
              "      fill: #FFFFFF;\n",
              "    }\n",
              "  </style>\n",
              "\n",
              "    <script>\n",
              "      const buttonEl =\n",
              "        document.querySelector('#df-f1107d18-b40b-404e-b5a8-690e029e2681 button.colab-df-convert');\n",
              "      buttonEl.style.display =\n",
              "        google.colab.kernel.accessAllowed ? 'block' : 'none';\n",
              "\n",
              "      async function convertToInteractive(key) {\n",
              "        const element = document.querySelector('#df-f1107d18-b40b-404e-b5a8-690e029e2681');\n",
              "        const dataTable =\n",
              "          await google.colab.kernel.invokeFunction('convertToInteractive',\n",
              "                                                    [key], {});\n",
              "        if (!dataTable) return;\n",
              "\n",
              "        const docLinkHtml = 'Like what you see? Visit the ' +\n",
              "          '<a target=\"_blank\" href=https://colab.research.google.com/notebooks/data_table.ipynb>data table notebook</a>'\n",
              "          + ' to learn more about interactive tables.';\n",
              "        element.innerHTML = '';\n",
              "        dataTable['output_type'] = 'display_data';\n",
              "        await google.colab.output.renderOutput(dataTable, element);\n",
              "        const docLink = document.createElement('div');\n",
              "        docLink.innerHTML = docLinkHtml;\n",
              "        element.appendChild(docLink);\n",
              "      }\n",
              "    </script>\n",
              "  </div>\n",
              "\n",
              "\n",
              "<div id=\"df-75747410-27a3-490b-aa36-06733c67903f\">\n",
              "  <button class=\"colab-df-quickchart\" onclick=\"quickchart('df-75747410-27a3-490b-aa36-06733c67903f')\"\n",
              "            title=\"Suggest charts\"\n",
              "            style=\"display:none;\">\n",
              "\n",
              "<svg xmlns=\"http://www.w3.org/2000/svg\" height=\"24px\"viewBox=\"0 0 24 24\"\n",
              "     width=\"24px\">\n",
              "    <g>\n",
              "        <path d=\"M19 3H5c-1.1 0-2 .9-2 2v14c0 1.1.9 2 2 2h14c1.1 0 2-.9 2-2V5c0-1.1-.9-2-2-2zM9 17H7v-7h2v7zm4 0h-2V7h2v10zm4 0h-2v-4h2v4z\"/>\n",
              "    </g>\n",
              "</svg>\n",
              "  </button>\n",
              "\n",
              "<style>\n",
              "  .colab-df-quickchart {\n",
              "      --bg-color: #E8F0FE;\n",
              "      --fill-color: #1967D2;\n",
              "      --hover-bg-color: #E2EBFA;\n",
              "      --hover-fill-color: #174EA6;\n",
              "      --disabled-fill-color: #AAA;\n",
              "      --disabled-bg-color: #DDD;\n",
              "  }\n",
              "\n",
              "  [theme=dark] .colab-df-quickchart {\n",
              "      --bg-color: #3B4455;\n",
              "      --fill-color: #D2E3FC;\n",
              "      --hover-bg-color: #434B5C;\n",
              "      --hover-fill-color: #FFFFFF;\n",
              "      --disabled-bg-color: #3B4455;\n",
              "      --disabled-fill-color: #666;\n",
              "  }\n",
              "\n",
              "  .colab-df-quickchart {\n",
              "    background-color: var(--bg-color);\n",
              "    border: none;\n",
              "    border-radius: 50%;\n",
              "    cursor: pointer;\n",
              "    display: none;\n",
              "    fill: var(--fill-color);\n",
              "    height: 32px;\n",
              "    padding: 0;\n",
              "    width: 32px;\n",
              "  }\n",
              "\n",
              "  .colab-df-quickchart:hover {\n",
              "    background-color: var(--hover-bg-color);\n",
              "    box-shadow: 0 1px 2px rgba(60, 64, 67, 0.3), 0 1px 3px 1px rgba(60, 64, 67, 0.15);\n",
              "    fill: var(--button-hover-fill-color);\n",
              "  }\n",
              "\n",
              "  .colab-df-quickchart-complete:disabled,\n",
              "  .colab-df-quickchart-complete:disabled:hover {\n",
              "    background-color: var(--disabled-bg-color);\n",
              "    fill: var(--disabled-fill-color);\n",
              "    box-shadow: none;\n",
              "  }\n",
              "\n",
              "  .colab-df-spinner {\n",
              "    border: 2px solid var(--fill-color);\n",
              "    border-color: transparent;\n",
              "    border-bottom-color: var(--fill-color);\n",
              "    animation:\n",
              "      spin 1s steps(1) infinite;\n",
              "  }\n",
              "\n",
              "  @keyframes spin {\n",
              "    0% {\n",
              "      border-color: transparent;\n",
              "      border-bottom-color: var(--fill-color);\n",
              "      border-left-color: var(--fill-color);\n",
              "    }\n",
              "    20% {\n",
              "      border-color: transparent;\n",
              "      border-left-color: var(--fill-color);\n",
              "      border-top-color: var(--fill-color);\n",
              "    }\n",
              "    30% {\n",
              "      border-color: transparent;\n",
              "      border-left-color: var(--fill-color);\n",
              "      border-top-color: var(--fill-color);\n",
              "      border-right-color: var(--fill-color);\n",
              "    }\n",
              "    40% {\n",
              "      border-color: transparent;\n",
              "      border-right-color: var(--fill-color);\n",
              "      border-top-color: var(--fill-color);\n",
              "    }\n",
              "    60% {\n",
              "      border-color: transparent;\n",
              "      border-right-color: var(--fill-color);\n",
              "    }\n",
              "    80% {\n",
              "      border-color: transparent;\n",
              "      border-right-color: var(--fill-color);\n",
              "      border-bottom-color: var(--fill-color);\n",
              "    }\n",
              "    90% {\n",
              "      border-color: transparent;\n",
              "      border-bottom-color: var(--fill-color);\n",
              "    }\n",
              "  }\n",
              "</style>\n",
              "\n",
              "  <script>\n",
              "    async function quickchart(key) {\n",
              "      const quickchartButtonEl =\n",
              "        document.querySelector('#' + key + ' button');\n",
              "      quickchartButtonEl.disabled = true;  // To prevent multiple clicks.\n",
              "      quickchartButtonEl.classList.add('colab-df-spinner');\n",
              "      try {\n",
              "        const charts = await google.colab.kernel.invokeFunction(\n",
              "            'suggestCharts', [key], {});\n",
              "      } catch (error) {\n",
              "        console.error('Error during call to suggestCharts:', error);\n",
              "      }\n",
              "      quickchartButtonEl.classList.remove('colab-df-spinner');\n",
              "      quickchartButtonEl.classList.add('colab-df-quickchart-complete');\n",
              "    }\n",
              "    (() => {\n",
              "      let quickchartButtonEl =\n",
              "        document.querySelector('#df-75747410-27a3-490b-aa36-06733c67903f button');\n",
              "      quickchartButtonEl.style.display =\n",
              "        google.colab.kernel.accessAllowed ? 'block' : 'none';\n",
              "    })();\n",
              "  </script>\n",
              "</div>\n",
              "    </div>\n",
              "  </div>\n"
            ]
          },
          "metadata": {},
          "execution_count": 6
        }
      ]
    },
    {
      "cell_type": "code",
      "source": [
        "df.shape"
      ],
      "metadata": {
        "colab": {
          "base_uri": "https://localhost:8080/"
        },
        "id": "SaB00pfPVozt",
        "outputId": "04425e4e-b317-474a-9074-73b3665c278a"
      },
      "execution_count": 7,
      "outputs": [
        {
          "output_type": "execute_result",
          "data": {
            "text/plain": [
              "(300000, 9)"
            ]
          },
          "metadata": {},
          "execution_count": 7
        }
      ]
    },
    {
      "cell_type": "code",
      "source": [
        "X = df.iloc[:, 0:-1]\n",
        "y = df.iloc[:, -1]"
      ],
      "metadata": {
        "id": "wfCSNibXWFEE"
      },
      "execution_count": 8,
      "outputs": []
    },
    {
      "cell_type": "code",
      "source": [
        "X = X/np.sqrt(np.mean(X))"
      ],
      "metadata": {
        "colab": {
          "base_uri": "https://localhost:8080/"
        },
        "id": "IDlEPx4N9Tkw",
        "outputId": "f224c49f-aa37-4081-f20e-3c8b20d90c3a"
      },
      "execution_count": 10,
      "outputs": [
        {
          "output_type": "stream",
          "name": "stderr",
          "text": [
            "/usr/local/lib/python3.10/dist-packages/numpy/core/fromnumeric.py:3430: FutureWarning: In a future version, DataFrame.mean(axis=None) will return a scalar mean over the entire DataFrame. To retain the old behavior, use 'frame.mean(axis=0)' or just 'frame.mean()'\n",
            "  return mean(axis=axis, dtype=dtype, out=out, **kwargs)\n"
          ]
        }
      ]
    },
    {
      "cell_type": "markdown",
      "source": [
        "# C. Model Training (ANN)"
      ],
      "metadata": {
        "id": "7PHpGb_plU5w"
      }
    },
    {
      "cell_type": "code",
      "source": [
        "from sklearn.model_selection import train_test_split\n",
        "x_train, x_test, y_train, y_test = train_test_split(\n",
        "    X,y,\n",
        "    test_size = .2, shuffle=True, random_state=0\n",
        ")"
      ],
      "metadata": {
        "id": "P5HMLbfUlbCh"
      },
      "execution_count": 11,
      "outputs": []
    },
    {
      "cell_type": "code",
      "source": [
        "x_train.shape"
      ],
      "metadata": {
        "colab": {
          "base_uri": "https://localhost:8080/"
        },
        "id": "FH-22do-lxiO",
        "outputId": "ed0c2db1-b329-42d2-982b-01e873cfbae5"
      },
      "execution_count": 12,
      "outputs": [
        {
          "output_type": "execute_result",
          "data": {
            "text/plain": [
              "(240000, 8)"
            ]
          },
          "metadata": {},
          "execution_count": 12
        }
      ]
    },
    {
      "cell_type": "code",
      "source": [
        "import tensorflow as tf\n",
        "from tensorflow.keras import layers, models\n",
        "ann_model = models.Sequential([\n",
        "    layers.Flatten(input_shape=(8,)),\n",
        "    layers.Dense(2048, activation='relu'),\n",
        "    #layers.Dropout(.2),\n",
        "    layers.Dense(1024, activation='relu'),\n",
        "    #layers.Dropout(.2),\n",
        "    layers.Dense(512, activation='relu'),\n",
        "    #layers.Dropout(.2),\n",
        "    layers.Dense(256, activation='relu'),\n",
        "    #layers.Dropout(.2),\n",
        "    layers.Dense(128, activation='relu'),\n",
        "    #layers.Dropout(.2),\n",
        "    layers.Dense(64, activation='relu'),\n",
        "    #layers.Dropout(.2),\n",
        "    layers.Dense(32, activation='relu'),\n",
        "    #layers.Dropout(.2),\n",
        "    layers.Dense(16, activation='relu'),\n",
        "    #layers.Dropout(.2),\n",
        "    layers.Dense(12, activation='softmax'),\n",
        "])"
      ],
      "metadata": {
        "id": "kpS8ZiKil653"
      },
      "execution_count": 13,
      "outputs": []
    },
    {
      "cell_type": "code",
      "source": [
        "ann_model.compile(\n",
        "    optimizer='SGD',\n",
        "    loss='sparse_categorical_crossentropy',\n",
        "    metrics = ['accuracy']\n",
        ")"
      ],
      "metadata": {
        "id": "C5UIopxOnCoW"
      },
      "execution_count": 14,
      "outputs": []
    },
    {
      "cell_type": "code",
      "source": [
        "history = ann_model.fit(x_train, y_train, epochs=50, validation_data=(x_test, y_test))"
      ],
      "metadata": {
        "colab": {
          "base_uri": "https://localhost:8080/"
        },
        "id": "qEO-fa9Nnb2g",
        "outputId": "6725ff47-94ec-4545-8af8-34e1019c8212"
      },
      "execution_count": 17,
      "outputs": [
        {
          "output_type": "stream",
          "name": "stdout",
          "text": [
            "Epoch 1/50\n",
            "7500/7500 [==============================] - 48s 6ms/step - loss: 2.0660 - accuracy: 0.2447 - val_loss: 1.7950 - val_accuracy: 0.3455\n",
            "Epoch 2/50\n",
            "7500/7500 [==============================] - 45s 6ms/step - loss: 1.7557 - accuracy: 0.3605 - val_loss: 1.7163 - val_accuracy: 0.3770\n",
            "Epoch 3/50\n",
            "7500/7500 [==============================] - 39s 5ms/step - loss: 1.7090 - accuracy: 0.3798 - val_loss: 1.7058 - val_accuracy: 0.3820\n",
            "Epoch 4/50\n",
            "7500/7500 [==============================] - 40s 5ms/step - loss: 1.6850 - accuracy: 0.3892 - val_loss: 1.6781 - val_accuracy: 0.3917\n",
            "Epoch 5/50\n",
            "7500/7500 [==============================] - 38s 5ms/step - loss: 1.6706 - accuracy: 0.3951 - val_loss: 1.6730 - val_accuracy: 0.3939\n",
            "Epoch 6/50\n",
            "7500/7500 [==============================] - 40s 5ms/step - loss: 1.6584 - accuracy: 0.3989 - val_loss: 1.6584 - val_accuracy: 0.4004\n",
            "Epoch 7/50\n",
            "7500/7500 [==============================] - 37s 5ms/step - loss: 1.6499 - accuracy: 0.4017 - val_loss: 1.6433 - val_accuracy: 0.4051\n",
            "Epoch 8/50\n",
            "7500/7500 [==============================] - 39s 5ms/step - loss: 1.6426 - accuracy: 0.4045 - val_loss: 1.6660 - val_accuracy: 0.3980\n",
            "Epoch 9/50\n",
            "7500/7500 [==============================] - 38s 5ms/step - loss: 1.6370 - accuracy: 0.4062 - val_loss: 1.6463 - val_accuracy: 0.4050\n",
            "Epoch 10/50\n",
            "7500/7500 [==============================] - 39s 5ms/step - loss: 1.6324 - accuracy: 0.4086 - val_loss: 1.6411 - val_accuracy: 0.4069\n",
            "Epoch 11/50\n",
            "7500/7500 [==============================] - 39s 5ms/step - loss: 1.6276 - accuracy: 0.4102 - val_loss: 1.6381 - val_accuracy: 0.4072\n",
            "Epoch 12/50\n",
            "7500/7500 [==============================] - 38s 5ms/step - loss: 1.6231 - accuracy: 0.4123 - val_loss: 1.6339 - val_accuracy: 0.4092\n",
            "Epoch 13/50\n",
            "7500/7500 [==============================] - 39s 5ms/step - loss: 1.6198 - accuracy: 0.4135 - val_loss: 1.6276 - val_accuracy: 0.4131\n",
            "Epoch 14/50\n",
            "7500/7500 [==============================] - 37s 5ms/step - loss: 1.6162 - accuracy: 0.4145 - val_loss: 1.6325 - val_accuracy: 0.4101\n",
            "Epoch 15/50\n",
            "7500/7500 [==============================] - 38s 5ms/step - loss: 1.6125 - accuracy: 0.4155 - val_loss: 1.6400 - val_accuracy: 0.4073\n",
            "Epoch 16/50\n",
            "7500/7500 [==============================] - 40s 5ms/step - loss: 1.6088 - accuracy: 0.4175 - val_loss: 1.6351 - val_accuracy: 0.4085\n",
            "Epoch 17/50\n",
            "7500/7500 [==============================] - 38s 5ms/step - loss: 1.6049 - accuracy: 0.4185 - val_loss: 1.6281 - val_accuracy: 0.4113\n",
            "Epoch 18/50\n",
            "7500/7500 [==============================] - 39s 5ms/step - loss: 1.6006 - accuracy: 0.4197 - val_loss: 1.6343 - val_accuracy: 0.4090\n",
            "Epoch 19/50\n",
            "7500/7500 [==============================] - 37s 5ms/step - loss: 1.5968 - accuracy: 0.4222 - val_loss: 1.6311 - val_accuracy: 0.4112\n",
            "Epoch 20/50\n",
            "7500/7500 [==============================] - 38s 5ms/step - loss: 1.5927 - accuracy: 0.4229 - val_loss: 1.6268 - val_accuracy: 0.4135\n",
            "Epoch 21/50\n",
            "7500/7500 [==============================] - 39s 5ms/step - loss: 1.5881 - accuracy: 0.4252 - val_loss: 1.6241 - val_accuracy: 0.4154\n",
            "Epoch 22/50\n",
            "7500/7500 [==============================] - 39s 5ms/step - loss: 1.5845 - accuracy: 0.4260 - val_loss: 1.6191 - val_accuracy: 0.4161\n",
            "Epoch 23/50\n",
            "7500/7500 [==============================] - 39s 5ms/step - loss: 1.5808 - accuracy: 0.4271 - val_loss: 1.6162 - val_accuracy: 0.4168\n",
            "Epoch 24/50\n",
            "7500/7500 [==============================] - 38s 5ms/step - loss: 1.5769 - accuracy: 0.4290 - val_loss: 1.6141 - val_accuracy: 0.4195\n",
            "Epoch 25/50\n",
            "7500/7500 [==============================] - 40s 5ms/step - loss: 1.5728 - accuracy: 0.4303 - val_loss: 1.6153 - val_accuracy: 0.4167\n",
            "Epoch 26/50\n",
            "7500/7500 [==============================] - 39s 5ms/step - loss: 1.5687 - accuracy: 0.4316 - val_loss: 1.6132 - val_accuracy: 0.4156\n",
            "Epoch 27/50\n",
            "7500/7500 [==============================] - 39s 5ms/step - loss: 1.5648 - accuracy: 0.4326 - val_loss: 1.6118 - val_accuracy: 0.4170\n",
            "Epoch 28/50\n",
            "7500/7500 [==============================] - 39s 5ms/step - loss: 1.5613 - accuracy: 0.4342 - val_loss: 1.6019 - val_accuracy: 0.4239\n",
            "Epoch 29/50\n",
            "7500/7500 [==============================] - 39s 5ms/step - loss: 1.5573 - accuracy: 0.4357 - val_loss: 1.6123 - val_accuracy: 0.4179\n",
            "Epoch 30/50\n",
            "7500/7500 [==============================] - 38s 5ms/step - loss: 1.5531 - accuracy: 0.4363 - val_loss: 1.6022 - val_accuracy: 0.4234\n",
            "Epoch 31/50\n",
            "7500/7500 [==============================] - 39s 5ms/step - loss: 1.5493 - accuracy: 0.4372 - val_loss: 1.6044 - val_accuracy: 0.4184\n",
            "Epoch 32/50\n",
            "7500/7500 [==============================] - 40s 5ms/step - loss: 1.5455 - accuracy: 0.4383 - val_loss: 1.6002 - val_accuracy: 0.4216\n",
            "Epoch 33/50\n",
            "7500/7500 [==============================] - 38s 5ms/step - loss: 1.5410 - accuracy: 0.4411 - val_loss: 1.6015 - val_accuracy: 0.4228\n",
            "Epoch 34/50\n",
            "7500/7500 [==============================] - 40s 5ms/step - loss: 1.5379 - accuracy: 0.4422 - val_loss: 1.5982 - val_accuracy: 0.4236\n",
            "Epoch 35/50\n",
            "7500/7500 [==============================] - 40s 5ms/step - loss: 1.5335 - accuracy: 0.4430 - val_loss: 1.6049 - val_accuracy: 0.4201\n",
            "Epoch 36/50\n",
            "7500/7500 [==============================] - 39s 5ms/step - loss: 1.5296 - accuracy: 0.4451 - val_loss: 1.6027 - val_accuracy: 0.4230\n",
            "Epoch 37/50\n",
            "7500/7500 [==============================] - 39s 5ms/step - loss: 1.5266 - accuracy: 0.4460 - val_loss: 1.5959 - val_accuracy: 0.4254\n",
            "Epoch 38/50\n",
            "7500/7500 [==============================] - 39s 5ms/step - loss: 1.5223 - accuracy: 0.4474 - val_loss: 1.6103 - val_accuracy: 0.4195\n",
            "Epoch 39/50\n",
            "7500/7500 [==============================] - 39s 5ms/step - loss: 1.5187 - accuracy: 0.4483 - val_loss: 1.6015 - val_accuracy: 0.4262\n",
            "Epoch 40/50\n",
            "7500/7500 [==============================] - 39s 5ms/step - loss: 1.5144 - accuracy: 0.4498 - val_loss: 1.5997 - val_accuracy: 0.4253\n",
            "Epoch 41/50\n",
            "7500/7500 [==============================] - 40s 5ms/step - loss: 1.5102 - accuracy: 0.4519 - val_loss: 1.6189 - val_accuracy: 0.4207\n",
            "Epoch 42/50\n",
            "7500/7500 [==============================] - 37s 5ms/step - loss: 1.5071 - accuracy: 0.4528 - val_loss: 1.6178 - val_accuracy: 0.4178\n",
            "Epoch 43/50\n",
            "7500/7500 [==============================] - 39s 5ms/step - loss: 1.5034 - accuracy: 0.4538 - val_loss: 1.6028 - val_accuracy: 0.4219\n",
            "Epoch 44/50\n",
            "7500/7500 [==============================] - 37s 5ms/step - loss: 1.5001 - accuracy: 0.4550 - val_loss: 1.5956 - val_accuracy: 0.4243\n",
            "Epoch 45/50\n",
            "7500/7500 [==============================] - 39s 5ms/step - loss: 1.4962 - accuracy: 0.4560 - val_loss: 1.5948 - val_accuracy: 0.4251\n",
            "Epoch 46/50\n",
            "7500/7500 [==============================] - 38s 5ms/step - loss: 1.4919 - accuracy: 0.4576 - val_loss: 1.6178 - val_accuracy: 0.4182\n",
            "Epoch 47/50\n",
            "7500/7500 [==============================] - 39s 5ms/step - loss: 1.4885 - accuracy: 0.4589 - val_loss: 1.6059 - val_accuracy: 0.4236\n",
            "Epoch 48/50\n",
            "7500/7500 [==============================] - 40s 5ms/step - loss: 1.4849 - accuracy: 0.4598 - val_loss: 1.5996 - val_accuracy: 0.4251\n",
            "Epoch 49/50\n",
            "7500/7500 [==============================] - 39s 5ms/step - loss: 1.4810 - accuracy: 0.4608 - val_loss: 1.6332 - val_accuracy: 0.4196\n",
            "Epoch 50/50\n",
            "7500/7500 [==============================] - 38s 5ms/step - loss: 1.4773 - accuracy: 0.4624 - val_loss: 1.6107 - val_accuracy: 0.4204\n"
          ]
        }
      ]
    },
    {
      "cell_type": "code",
      "source": [
        "from sklearn.metrics import confusion_matrix, classification_report\n",
        "y_pred = ann_model.predict(x_test)\n",
        "y_pred_classes = [np.argmax(element) for element in y_pred]\n",
        "\n",
        "print(\"Classification Report : \")\n",
        "print(classification_report(y_test, y_pred_classes))"
      ],
      "metadata": {
        "colab": {
          "base_uri": "https://localhost:8080/"
        },
        "id": "BN_5hAQGuygd",
        "outputId": "25ab6c65-9286-49cc-d2b0-d5de99c3595c"
      },
      "execution_count": 18,
      "outputs": [
        {
          "output_type": "stream",
          "name": "stdout",
          "text": [
            "1875/1875 [==============================] - 4s 2ms/step\n",
            "Classification Report : \n",
            "              precision    recall  f1-score   support\n",
            "\n",
            "         0.0       0.35      0.32      0.34      4976\n",
            "         1.0       0.30      0.29      0.30      4994\n",
            "         2.0       0.36      0.23      0.28      4952\n",
            "         3.0       0.28      0.40      0.33      5012\n",
            "         4.0       0.34      0.52      0.42      5004\n",
            "         5.0       0.35      0.32      0.33      5060\n",
            "         6.0       0.35      0.33      0.34      5025\n",
            "         7.0       0.44      0.37      0.40      4998\n",
            "         8.0       0.59      0.52      0.56      4920\n",
            "         9.0       0.62      0.59      0.60      5056\n",
            "        10.0       0.52      0.42      0.47      5031\n",
            "        11.0       0.62      0.73      0.67      4972\n",
            "\n",
            "    accuracy                           0.42     60000\n",
            "   macro avg       0.43      0.42      0.42     60000\n",
            "weighted avg       0.43      0.42      0.42     60000\n",
            "\n"
          ]
        }
      ]
    },
    {
      "cell_type": "code",
      "source": [
        "# Plotting model accuracy and loss\n",
        "def plot_history(history):\n",
        "    plt.figure(figsize=(10, 5))\n",
        "\n",
        "    # Plot training & validation accuracy values\n",
        "    plt.subplot(1, 2, 1)\n",
        "    plt.plot(history.history['accuracy'])\n",
        "    plt.plot(history.history['val_accuracy'])\n",
        "    plt.title('Model Accuracy')\n",
        "    plt.ylabel('Accuracy')\n",
        "    plt.xlabel('Epoch')\n",
        "    plt.legend(['Train', 'Validation'], loc='upper left')\n",
        "\n",
        "    # Plot training & validation loss values\n",
        "    plt.subplot(1, 2, 2)\n",
        "    plt.plot(history.history['loss'])\n",
        "    plt.plot(history.history['val_loss'])\n",
        "    plt.title('Model Loss')\n",
        "    plt.ylabel('Loss')\n",
        "    plt.xlabel('Epoch')\n",
        "    plt.legend(['Train', 'Validation'], loc='upper right')\n",
        "\n",
        "    plt.tight_layout()\n",
        "    plt.show()\n",
        "\n",
        "# Call the function to plot the history\n",
        "plot_history(history)"
      ],
      "metadata": {
        "colab": {
          "base_uri": "https://localhost:8080/",
          "height": 507
        },
        "id": "sxxcTEjsxGMx",
        "outputId": "aefa2d4d-aab6-4006-e85a-e2206a6c250a"
      },
      "execution_count": 19,
      "outputs": [
        {
          "output_type": "display_data",
          "data": {
            "text/plain": [
              "<Figure size 1000x500 with 2 Axes>"
            ],
            "image/png": "[encoded data removed]"
          },
          "metadata": {}
        }
      ]
    }
  ]
}