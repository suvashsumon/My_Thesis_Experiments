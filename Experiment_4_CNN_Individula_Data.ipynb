{
  "nbformat": 4,
  "nbformat_minor": 0,
  "metadata": {
    "colab": {
      "provenance": [],
      "gpuType": "T4"
    },
    "kernelspec": {
      "name": "python3",
      "display_name": "Python 3"
    },
    "language_info": {
      "name": "python"
    },
    "accelerator": "GPU"
  },
  "cells": [
    {
      "cell_type": "markdown",
      "source": [
        "# A. Importing Packages"
      ],
      "metadata": {
        "id": "zSg7GXcwLqXe"
      }
    },
    {
      "cell_type": "code",
      "execution_count": null,
      "metadata": {
        "id": "sD0mHoMpI16_"
      },
      "outputs": [],
      "source": [
        "import numpy as np\n",
        "import matplotlib.pyplot as plt\n",
        "import scipy.io as scipyio\n",
        "import seaborn as sns\n",
        "import pandas as pd\n",
        "from google.colab import drive\n",
        "import os"
      ]
    },
    {
      "cell_type": "markdown",
      "source": [
        "# B. Reading Dataset"
      ],
      "metadata": {
        "id": "9rWSzwruL5Sa"
      }
    },
    {
      "cell_type": "code",
      "source": [
        "drive.mount('/content/gdrive')"
      ],
      "metadata": {
        "colab": {
          "base_uri": "https://localhost:8080/"
        },
        "id": "5qYE6LNRKjgI",
        "outputId": "47a86810-77ad-4456-a948-00c310136467"
      },
      "execution_count": null,
      "outputs": [
        {
          "output_type": "stream",
          "name": "stdout",
          "text": [
            "Mounted at /content/gdrive\n"
          ]
        }
      ]
    },
    {
      "cell_type": "code",
      "source": [
        "gestures_label = {\n",
        "\t 'Thumb_UP' : 0,\n",
        "\t 'Index' : 1,\n",
        "\t 'Right_Angle' : 2,\n",
        "\t 'Peace' : 3,\n",
        "\t 'Index_Little' : 4,\n",
        "\t 'Thumb_Little' : 5,\n",
        "\t 'Hand_Close' : 6,\n",
        "\t 'Hand_Open' : 7,\n",
        "\t 'Wrist_Extension' : 8,\n",
        "\t 'Wrist_Flexion' : 9,\n",
        "\t 'Ulner_Deviation' : 10,\n",
        "\t 'Radial_Deviation' : 11\n",
        "}\n",
        "\n",
        "gestures = ['Thumb_UP', 'Index_Little', 'Right_Angle', 'Peace', 'Index', 'Thumb_Little', 'Hand_Close', 'Hand_Open',\n",
        "\t 'Wrist_Extension', 'Wrist_Flexion', 'Ulner_Deviation', 'Radial_Deviation'\n",
        "]"
      ],
      "metadata": {
        "id": "LdDHY0thPfX3"
      },
      "execution_count": null,
      "outputs": []
    },
    {
      "cell_type": "code",
      "source": [
        "persons = [\"Arifa\", \"Arnob\", \"Ashis\", \"Bayezid\", \"Bushra\", \"Choity\", \"Choity_new\", \"Eftekhar\",\n",
        "           \"Fahim\", \"Humaid\", \"Humayun\", \"Johir\", \"Joy\", \"Mamun\", \"Noman\", \"Piyus\", \"Sazzad\",\n",
        "           \"Shafi\", \"Shourav\", \"Tamim\", \"Wadud\"]"
      ],
      "metadata": {
        "id": "GX6YhEyWQzjv"
      },
      "execution_count": null,
      "outputs": []
    },
    {
      "cell_type": "code",
      "source": [
        "filepath = \"gdrive/My Drive/Forearm_Invariant_Data_Individual_CSV/Arifa_Rest.csv\"\n",
        "df = pd.read_csv(filepath)"
      ],
      "metadata": {
        "id": "UXhWxN4RPH-V"
      },
      "execution_count": null,
      "outputs": []
    },
    {
      "cell_type": "code",
      "source": [
        "df.head()"
      ],
      "metadata": {
        "colab": {
          "base_uri": "https://localhost:8080/",
          "height": 206
        },
        "id": "hvfVjNVxVG12",
        "outputId": "0be62b7f-f6ca-4685-848e-7713b5d4a66e"
      },
      "execution_count": null,
      "outputs": [
        {
          "output_type": "execute_result",
          "data": {
            "text/plain": [
              "   Channel_1  Channel_2  Channel_3  Channel_4  Channel_5  Channel_6  \\\n",
              "0  -0.014648  -0.029297  -0.043945  -0.019531  -0.029297  -0.029297   \n",
              "1   0.000000   0.000000  -0.014648   0.019531  -0.039062  -0.014648   \n",
              "2  -0.004883  -0.009766  -0.029297  -0.004883  -0.029297   0.004883   \n",
              "3  -0.019531  -0.004883  -0.083008  -0.083008  -0.048828  -0.034180   \n",
              "4   0.004883  -0.004883  -0.014648   0.014648  -0.048828  -0.039062   \n",
              "\n",
              "   Channel_7  Channel_8  Class  \n",
              "0  -0.014648  -0.004883    5.0  \n",
              "1   0.009766  -0.014648    5.0  \n",
              "2  -0.004883  -0.004883    5.0  \n",
              "3  -0.053711  -0.014648    5.0  \n",
              "4  -0.068359  -0.024414    5.0  "
            ],
            "text/html": [
              "\n",
              "  <div id=\"df-0b6d96d9-dd93-462f-ae0c-5d8e7e52836f\" class=\"colab-df-container\">\n",
              "    <div>\n",
              "<style scoped>\n",
              "    .dataframe tbody tr th:only-of-type {\n",
              "        vertical-align: middle;\n",
              "    }\n",
              "\n",
              "    .dataframe tbody tr th {\n",
              "        vertical-align: top;\n",
              "    }\n",
              "\n",
              "    .dataframe thead th {\n",
              "        text-align: right;\n",
              "    }\n",
              "</style>\n",
              "<table border=\"1\" class=\"dataframe\">\n",
              "  <thead>\n",
              "    <tr style=\"text-align: right;\">\n",
              "      <th></th>\n",
              "      <th>Channel_1</th>\n",
              "      <th>Channel_2</th>\n",
              "      <th>Channel_3</th>\n",
              "      <th>Channel_4</th>\n",
              "      <th>Channel_5</th>\n",
              "      <th>Channel_6</th>\n",
              "      <th>Channel_7</th>\n",
              "      <th>Channel_8</th>\n",
              "      <th>Class</th>\n",
              "    </tr>\n",
              "  </thead>\n",
              "  <tbody>\n",
              "    <tr>\n",
              "      <th>0</th>\n",
              "      <td>-0.014648</td>\n",
              "      <td>-0.029297</td>\n",
              "      <td>-0.043945</td>\n",
              "      <td>-0.019531</td>\n",
              "      <td>-0.029297</td>\n",
              "      <td>-0.029297</td>\n",
              "      <td>-0.014648</td>\n",
              "      <td>-0.004883</td>\n",
              "      <td>5.0</td>\n",
              "    </tr>\n",
              "    <tr>\n",
              "      <th>1</th>\n",
              "      <td>0.000000</td>\n",
              "      <td>0.000000</td>\n",
              "      <td>-0.014648</td>\n",
              "      <td>0.019531</td>\n",
              "      <td>-0.039062</td>\n",
              "      <td>-0.014648</td>\n",
              "      <td>0.009766</td>\n",
              "      <td>-0.014648</td>\n",
              "      <td>5.0</td>\n",
              "    </tr>\n",
              "    <tr>\n",
              "      <th>2</th>\n",
              "      <td>-0.004883</td>\n",
              "      <td>-0.009766</td>\n",
              "      <td>-0.029297</td>\n",
              "      <td>-0.004883</td>\n",
              "      <td>-0.029297</td>\n",
              "      <td>0.004883</td>\n",
              "      <td>-0.004883</td>\n",
              "      <td>-0.004883</td>\n",
              "      <td>5.0</td>\n",
              "    </tr>\n",
              "    <tr>\n",
              "      <th>3</th>\n",
              "      <td>-0.019531</td>\n",
              "      <td>-0.004883</td>\n",
              "      <td>-0.083008</td>\n",
              "      <td>-0.083008</td>\n",
              "      <td>-0.048828</td>\n",
              "      <td>-0.034180</td>\n",
              "      <td>-0.053711</td>\n",
              "      <td>-0.014648</td>\n",
              "      <td>5.0</td>\n",
              "    </tr>\n",
              "    <tr>\n",
              "      <th>4</th>\n",
              "      <td>0.004883</td>\n",
              "      <td>-0.004883</td>\n",
              "      <td>-0.014648</td>\n",
              "      <td>0.014648</td>\n",
              "      <td>-0.048828</td>\n",
              "      <td>-0.039062</td>\n",
              "      <td>-0.068359</td>\n",
              "      <td>-0.024414</td>\n",
              "      <td>5.0</td>\n",
              "    </tr>\n",
              "  </tbody>\n",
              "</table>\n",
              "</div>\n",
              "    <div class=\"colab-df-buttons\">\n",
              "\n",
              "  <div class=\"colab-df-container\">\n",
              "    <button class=\"colab-df-convert\" onclick=\"convertToInteractive('df-0b6d96d9-dd93-462f-ae0c-5d8e7e52836f')\"\n",
              "            title=\"Convert this dataframe to an interactive table.\"\n",
              "            style=\"display:none;\">\n",
              "\n",
              "  <svg xmlns=\"http://www.w3.org/2000/svg\" height=\"24px\" viewBox=\"0 -960 960 960\">\n",
              "    <path d=\"M120-120v-720h720v720H120Zm60-500h600v-160H180v160Zm220 220h160v-160H400v160Zm0 220h160v-160H400v160ZM180-400h160v-160H180v160Zm440 0h160v-160H620v160ZM180-180h160v-160H180v160Zm440 0h160v-160H620v160Z\"/>\n",
              "  </svg>\n",
              "    </button>\n",
              "\n",
              "  <style>\n",
              "    .colab-df-container {\n",
              "      display:flex;\n",
              "      gap: 12px;\n",
              "    }\n",
              "\n",
              "    .colab-df-convert {\n",
              "      background-color: #E8F0FE;\n",
              "      border: none;\n",
              "      border-radius: 50%;\n",
              "      cursor: pointer;\n",
              "      display: none;\n",
              "      fill: #1967D2;\n",
              "      height: 32px;\n",
              "      padding: 0 0 0 0;\n",
              "      width: 32px;\n",
              "    }\n",
              "\n",
              "    .colab-df-convert:hover {\n",
              "      background-color: #E2EBFA;\n",
              "      box-shadow: 0px 1px 2px rgba(60, 64, 67, 0.3), 0px 1px 3px 1px rgba(60, 64, 67, 0.15);\n",
              "      fill: #174EA6;\n",
              "    }\n",
              "\n",
              "    .colab-df-buttons div {\n",
              "      margin-bottom: 4px;\n",
              "    }\n",
              "\n",
              "    [theme=dark] .colab-df-convert {\n",
              "      background-color: #3B4455;\n",
              "      fill: #D2E3FC;\n",
              "    }\n",
              "\n",
              "    [theme=dark] .colab-df-convert:hover {\n",
              "      background-color: #434B5C;\n",
              "      box-shadow: 0px 1px 3px 1px rgba(0, 0, 0, 0.15);\n",
              "      filter: drop-shadow(0px 1px 2px rgba(0, 0, 0, 0.3));\n",
              "      fill: #FFFFFF;\n",
              "    }\n",
              "  </style>\n",
              "\n",
              "    <script>\n",
              "      const buttonEl =\n",
              "        document.querySelector('#df-0b6d96d9-dd93-462f-ae0c-5d8e7e52836f button.colab-df-convert');\n",
              "      buttonEl.style.display =\n",
              "        google.colab.kernel.accessAllowed ? 'block' : 'none';\n",
              "\n",
              "      async function convertToInteractive(key) {\n",
              "        const element = document.querySelector('#df-0b6d96d9-dd93-462f-ae0c-5d8e7e52836f');\n",
              "        const dataTable =\n",
              "          await google.colab.kernel.invokeFunction('convertToInteractive',\n",
              "                                                    [key], {});\n",
              "        if (!dataTable) return;\n",
              "\n",
              "        const docLinkHtml = 'Like what you see? Visit the ' +\n",
              "          '<a target=\"_blank\" href=https://colab.research.google.com/notebooks/data_table.ipynb>data table notebook</a>'\n",
              "          + ' to learn more about interactive tables.';\n",
              "        element.innerHTML = '';\n",
              "        dataTable['output_type'] = 'display_data';\n",
              "        await google.colab.output.renderOutput(dataTable, element);\n",
              "        const docLink = document.createElement('div');\n",
              "        docLink.innerHTML = docLinkHtml;\n",
              "        element.appendChild(docLink);\n",
              "      }\n",
              "    </script>\n",
              "  </div>\n",
              "\n",
              "\n",
              "<div id=\"df-bdbf4f90-c67e-4379-98b2-b31cf0d81de7\">\n",
              "  <button class=\"colab-df-quickchart\" onclick=\"quickchart('df-bdbf4f90-c67e-4379-98b2-b31cf0d81de7')\"\n",
              "            title=\"Suggest charts\"\n",
              "            style=\"display:none;\">\n",
              "\n",
              "<svg xmlns=\"http://www.w3.org/2000/svg\" height=\"24px\"viewBox=\"0 0 24 24\"\n",
              "     width=\"24px\">\n",
              "    <g>\n",
              "        <path d=\"M19 3H5c-1.1 0-2 .9-2 2v14c0 1.1.9 2 2 2h14c1.1 0 2-.9 2-2V5c0-1.1-.9-2-2-2zM9 17H7v-7h2v7zm4 0h-2V7h2v10zm4 0h-2v-4h2v4z\"/>\n",
              "    </g>\n",
              "</svg>\n",
              "  </button>\n",
              "\n",
              "<style>\n",
              "  .colab-df-quickchart {\n",
              "      --bg-color: #E8F0FE;\n",
              "      --fill-color: #1967D2;\n",
              "      --hover-bg-color: #E2EBFA;\n",
              "      --hover-fill-color: #174EA6;\n",
              "      --disabled-fill-color: #AAA;\n",
              "      --disabled-bg-color: #DDD;\n",
              "  }\n",
              "\n",
              "  [theme=dark] .colab-df-quickchart {\n",
              "      --bg-color: #3B4455;\n",
              "      --fill-color: #D2E3FC;\n",
              "      --hover-bg-color: #434B5C;\n",
              "      --hover-fill-color: #FFFFFF;\n",
              "      --disabled-bg-color: #3B4455;\n",
              "      --disabled-fill-color: #666;\n",
              "  }\n",
              "\n",
              "  .colab-df-quickchart {\n",
              "    background-color: var(--bg-color);\n",
              "    border: none;\n",
              "    border-radius: 50%;\n",
              "    cursor: pointer;\n",
              "    display: none;\n",
              "    fill: var(--fill-color);\n",
              "    height: 32px;\n",
              "    padding: 0;\n",
              "    width: 32px;\n",
              "  }\n",
              "\n",
              "  .colab-df-quickchart:hover {\n",
              "    background-color: var(--hover-bg-color);\n",
              "    box-shadow: 0 1px 2px rgba(60, 64, 67, 0.3), 0 1px 3px 1px rgba(60, 64, 67, 0.15);\n",
              "    fill: var(--button-hover-fill-color);\n",
              "  }\n",
              "\n",
              "  .colab-df-quickchart-complete:disabled,\n",
              "  .colab-df-quickchart-complete:disabled:hover {\n",
              "    background-color: var(--disabled-bg-color);\n",
              "    fill: var(--disabled-fill-color);\n",
              "    box-shadow: none;\n",
              "  }\n",
              "\n",
              "  .colab-df-spinner {\n",
              "    border: 2px solid var(--fill-color);\n",
              "    border-color: transparent;\n",
              "    border-bottom-color: var(--fill-color);\n",
              "    animation:\n",
              "      spin 1s steps(1) infinite;\n",
              "  }\n",
              "\n",
              "  @keyframes spin {\n",
              "    0% {\n",
              "      border-color: transparent;\n",
              "      border-bottom-color: var(--fill-color);\n",
              "      border-left-color: var(--fill-color);\n",
              "    }\n",
              "    20% {\n",
              "      border-color: transparent;\n",
              "      border-left-color: var(--fill-color);\n",
              "      border-top-color: var(--fill-color);\n",
              "    }\n",
              "    30% {\n",
              "      border-color: transparent;\n",
              "      border-left-color: var(--fill-color);\n",
              "      border-top-color: var(--fill-color);\n",
              "      border-right-color: var(--fill-color);\n",
              "    }\n",
              "    40% {\n",
              "      border-color: transparent;\n",
              "      border-right-color: var(--fill-color);\n",
              "      border-top-color: var(--fill-color);\n",
              "    }\n",
              "    60% {\n",
              "      border-color: transparent;\n",
              "      border-right-color: var(--fill-color);\n",
              "    }\n",
              "    80% {\n",
              "      border-color: transparent;\n",
              "      border-right-color: var(--fill-color);\n",
              "      border-bottom-color: var(--fill-color);\n",
              "    }\n",
              "    90% {\n",
              "      border-color: transparent;\n",
              "      border-bottom-color: var(--fill-color);\n",
              "    }\n",
              "  }\n",
              "</style>\n",
              "\n",
              "  <script>\n",
              "    async function quickchart(key) {\n",
              "      const quickchartButtonEl =\n",
              "        document.querySelector('#' + key + ' button');\n",
              "      quickchartButtonEl.disabled = true;  // To prevent multiple clicks.\n",
              "      quickchartButtonEl.classList.add('colab-df-spinner');\n",
              "      try {\n",
              "        const charts = await google.colab.kernel.invokeFunction(\n",
              "            'suggestCharts', [key], {});\n",
              "      } catch (error) {\n",
              "        console.error('Error during call to suggestCharts:', error);\n",
              "      }\n",
              "      quickchartButtonEl.classList.remove('colab-df-spinner');\n",
              "      quickchartButtonEl.classList.add('colab-df-quickchart-complete');\n",
              "    }\n",
              "    (() => {\n",
              "      let quickchartButtonEl =\n",
              "        document.querySelector('#df-bdbf4f90-c67e-4379-98b2-b31cf0d81de7 button');\n",
              "      quickchartButtonEl.style.display =\n",
              "        google.colab.kernel.accessAllowed ? 'block' : 'none';\n",
              "    })();\n",
              "  </script>\n",
              "</div>\n",
              "\n",
              "    </div>\n",
              "  </div>\n"
            ]
          },
          "metadata": {},
          "execution_count": 6
        }
      ]
    },
    {
      "cell_type": "code",
      "source": [
        "df.shape"
      ],
      "metadata": {
        "colab": {
          "base_uri": "https://localhost:8080/"
        },
        "id": "SaB00pfPVozt",
        "outputId": "befc6603-404c-4313-d4a5-5bddd7c6cfe3"
      },
      "execution_count": null,
      "outputs": [
        {
          "output_type": "execute_result",
          "data": {
            "text/plain": [
              "(300000, 9)"
            ]
          },
          "metadata": {},
          "execution_count": 7
        }
      ]
    },
    {
      "cell_type": "code",
      "source": [
        "X = df.iloc[:, 0:-1]\n",
        "y = df.iloc[:, -1]"
      ],
      "metadata": {
        "id": "wfCSNibXWFEE"
      },
      "execution_count": null,
      "outputs": []
    },
    {
      "cell_type": "code",
      "source": [
        "X = X/np.sqrt(np.mean(X))"
      ],
      "metadata": {
        "colab": {
          "base_uri": "https://localhost:8080/"
        },
        "id": "IDlEPx4N9Tkw",
        "outputId": "c218371b-81dc-466e-89b8-1f6a16272c42"
      },
      "execution_count": null,
      "outputs": [
        {
          "output_type": "stream",
          "name": "stderr",
          "text": [
            "/usr/local/lib/python3.10/dist-packages/numpy/core/fromnumeric.py:3430: FutureWarning: In a future version, DataFrame.mean(axis=None) will return a scalar mean over the entire DataFrame. To retain the old behavior, use 'frame.mean(axis=0)' or just 'frame.mean()'\n",
            "  return mean(axis=axis, dtype=dtype, out=out, **kwargs)\n"
          ]
        }
      ]
    },
    {
      "cell_type": "markdown",
      "source": [
        "# C. Model Training (ANN)"
      ],
      "metadata": {
        "id": "7PHpGb_plU5w"
      }
    },
    {
      "cell_type": "code",
      "source": [
        "from sklearn.model_selection import train_test_split\n",
        "x_train, x_test, y_train, y_test = train_test_split(\n",
        "    X,y,\n",
        "    test_size = .2, shuffle=True, random_state=0\n",
        ")"
      ],
      "metadata": {
        "id": "P5HMLbfUlbCh"
      },
      "execution_count": null,
      "outputs": []
    },
    {
      "cell_type": "code",
      "source": [
        "x_train.shape"
      ],
      "metadata": {
        "colab": {
          "base_uri": "https://localhost:8080/"
        },
        "id": "FH-22do-lxiO",
        "outputId": "5ce7dcab-93af-4c6c-c845-a0617193e01c"
      },
      "execution_count": null,
      "outputs": [
        {
          "output_type": "execute_result",
          "data": {
            "text/plain": [
              "(240000, 8)"
            ]
          },
          "metadata": {},
          "execution_count": 12
        }
      ]
    },
    {
      "cell_type": "code",
      "source": [
        "x_train = tf.reshape(x_train, shape=(-1, 8, 1))"
      ],
      "metadata": {
        "id": "u03WEDVRaJXu"
      },
      "execution_count": null,
      "outputs": []
    },
    {
      "cell_type": "code",
      "source": [
        "import tensorflow as tf\n",
        "from tensorflow.keras import layers, models\n",
        "cnn_model = models.Sequential([\n",
        "    # cnn\n",
        "    layers.Conv1D(filters=64, kernel_size=3, activation='relu', input_shape=(8,1)),\n",
        "    #layers.MaxPooling1D(2),\n",
        "\n",
        "    # polling\n",
        "    layers.Conv1D(filters=64, kernel_size=3, activation='relu'),\n",
        "    layers.MaxPooling1D(2),\n",
        "\n",
        "    # dense\n",
        "    layers.Flatten(),\n",
        "    layers.Dense(64, activation='relu'),\n",
        "    layers.Dropout(.2),\n",
        "    layers.Dense(32, activation='relu'),\n",
        "    layers.Dropout(.2),\n",
        "    layers.Dense(16, activation='relu'),\n",
        "    layers.Dropout(.2),\n",
        "    layers.Dense(12, activation='softmax'),\n",
        "])"
      ],
      "metadata": {
        "id": "kpS8ZiKil653"
      },
      "execution_count": null,
      "outputs": []
    },
    {
      "cell_type": "code",
      "source": [
        "cnn_model.compile(\n",
        "    optimizer='SGD',\n",
        "    loss='sparse_categorical_crossentropy',\n",
        "    metrics = ['accuracy']\n",
        ")"
      ],
      "metadata": {
        "id": "C5UIopxOnCoW"
      },
      "execution_count": null,
      "outputs": []
    },
    {
      "cell_type": "code",
      "source": [
        "history = cnn_model.fit(x_train, y_train, epochs=10, validation_data=(x_test, y_test))"
      ],
      "metadata": {
        "colab": {
          "base_uri": "https://localhost:8080/"
        },
        "id": "qEO-fa9Nnb2g",
        "outputId": "94302275-f2d8-4e70-b3dc-87acc6f07a7e"
      },
      "execution_count": null,
      "outputs": [
        {
          "output_type": "stream",
          "name": "stdout",
          "text": [
            "Epoch 1/10\n",
            "7500/7500 [==============================] - 43s 5ms/step - loss: 2.2776 - accuracy: 0.1777 - val_loss: 2.0237 - val_accuracy: 0.2831\n",
            "Epoch 2/10\n",
            "7500/7500 [==============================] - 36s 5ms/step - loss: 2.0455 - accuracy: 0.2578 - val_loss: 1.9404 - val_accuracy: 0.2972\n",
            "Epoch 3/10\n",
            "7500/7500 [==============================] - 36s 5ms/step - loss: 1.9938 - accuracy: 0.2774 - val_loss: 1.9047 - val_accuracy: 0.3099\n",
            "Epoch 4/10\n",
            "7500/7500 [==============================] - 35s 5ms/step - loss: 1.9602 - accuracy: 0.2907 - val_loss: 1.8771 - val_accuracy: 0.3170\n",
            "Epoch 5/10\n",
            "7500/7500 [==============================] - 36s 5ms/step - loss: 1.9313 - accuracy: 0.3023 - val_loss: 1.8335 - val_accuracy: 0.3340\n",
            "Epoch 6/10\n",
            "7500/7500 [==============================] - 36s 5ms/step - loss: 1.9078 - accuracy: 0.3114 - val_loss: 1.8198 - val_accuracy: 0.3358\n",
            "Epoch 7/10\n",
            "7500/7500 [==============================] - 36s 5ms/step - loss: 1.8898 - accuracy: 0.3193 - val_loss: 1.8047 - val_accuracy: 0.3484\n",
            "Epoch 8/10\n",
            "7500/7500 [==============================] - 36s 5ms/step - loss: 1.8776 - accuracy: 0.3222 - val_loss: 1.7932 - val_accuracy: 0.3497\n",
            "Epoch 9/10\n",
            "7500/7500 [==============================] - 35s 5ms/step - loss: 1.8673 - accuracy: 0.3269 - val_loss: 1.7795 - val_accuracy: 0.3545\n",
            "Epoch 10/10\n",
            "7500/7500 [==============================] - 35s 5ms/step - loss: 1.8613 - accuracy: 0.3302 - val_loss: 1.7783 - val_accuracy: 0.3555\n"
          ]
        }
      ]
    },
    {
      "cell_type": "code",
      "source": [
        "from sklearn.metrics import confusion_matrix, classification_report\n",
        "y_pred = cnn_model.predict(x_test)\n",
        "y_pred_classes = [np.argmax(element) for element in y_pred]\n",
        "\n",
        "print(\"Classification Report : \")\n",
        "print(classification_report(y_test, y_pred_classes))"
      ],
      "metadata": {
        "colab": {
          "base_uri": "https://localhost:8080/"
        },
        "id": "BN_5hAQGuygd",
        "outputId": "2fc5e6a1-80cb-4202-caaf-de44423d9c3b"
      },
      "execution_count": null,
      "outputs": [
        {
          "output_type": "stream",
          "name": "stdout",
          "text": [
            "1875/1875 [==============================] - 8s 4ms/step\n",
            "Classification Report : \n",
            "              precision    recall  f1-score   support\n",
            "\n",
            "         0.0       0.38      0.25      0.30      4976\n",
            "         1.0       0.24      0.28      0.26      4994\n",
            "         2.0       0.39      0.14      0.21      4952\n",
            "         3.0       0.24      0.12      0.16      5012\n",
            "         4.0       0.24      0.67      0.35      5004\n",
            "         5.0       0.33      0.21      0.26      5060\n",
            "         6.0       0.29      0.08      0.13      5025\n",
            "         7.0       0.32      0.41      0.36      4998\n",
            "         8.0       0.43      0.58      0.50      4920\n",
            "         9.0       0.61      0.48      0.53      5056\n",
            "        10.0       0.44      0.40      0.42      5031\n",
            "        11.0       0.52      0.65      0.57      4972\n",
            "\n",
            "    accuracy                           0.36     60000\n",
            "   macro avg       0.37      0.36      0.34     60000\n",
            "weighted avg       0.37      0.36      0.34     60000\n",
            "\n"
          ]
        }
      ]
    },
    {
      "cell_type": "code",
      "source": [
        "# Plotting model accuracy and loss\n",
        "def plot_history(history):\n",
        "    plt.figure(figsize=(10, 5))\n",
        "\n",
        "    # Plot training & validation accuracy values\n",
        "    plt.subplot(1, 2, 1)\n",
        "    plt.plot(history.history['accuracy'])\n",
        "    plt.plot(history.history['val_accuracy'])\n",
        "    plt.title('Model Accuracy')\n",
        "    plt.ylabel('Accuracy')\n",
        "    plt.xlabel('Epoch')\n",
        "    plt.legend(['Train', 'Validation'], loc='upper left')\n",
        "\n",
        "    # Plot training & validation loss values\n",
        "    plt.subplot(1, 2, 2)\n",
        "    plt.plot(history.history['loss'])\n",
        "    plt.plot(history.history['val_loss'])\n",
        "    plt.title('Model Loss')\n",
        "    plt.ylabel('Loss')\n",
        "    plt.xlabel('Epoch')\n",
        "    plt.legend(['Train', 'Validation'], loc='upper right')\n",
        "\n",
        "    plt.tight_layout()\n",
        "    plt.show()\n",
        "\n",
        "# Call the function to plot the history\n",
        "plot_history(history)"
      ],
      "metadata": {
        "colab": {
          "base_uri": "https://localhost:8080/",
          "height": 507
        },
        "id": "sxxcTEjsxGMx",
        "outputId": "5d571e11-7572-45a7-f126-e8c30449a696"
      },
      "execution_count": null,
      "outputs": [
        {
          "output_type": "display_data",
          "data": {
            "text/plain": [
              "<Figure size 1000x500 with 2 Axes>"
            ],
            "image/png": "[encoded data removed]"
          },
          "metadata": {}
        }
      ]
    },
    {
      "cell_type": "markdown",
      "source": [
        "# Validating using Pronation Data"
      ],
      "metadata": {
        "id": "srjF3ZvMfGpX"
      }
    },
    {
      "cell_type": "code",
      "source": [
        "pronation_filepath = \"gdrive/My Drive/Forearm_Invariant_Data_Individual_CSV/Arifa_Pronation.csv\"\n",
        "P_df = pd.read_csv(filepath)\n",
        "X_P = P_df.iloc[:, 0:-1]\n",
        "y_P = P_df.iloc[:, -1]\n",
        "X_P = X/np.sqrt(np.mean(X_P))"
      ],
      "metadata": {
        "colab": {
          "base_uri": "https://localhost:8080/"
        },
        "id": "kUGyh2-pd78C",
        "outputId": "1d166081-238e-416f-ee00-e0b01297fcd0"
      },
      "execution_count": null,
      "outputs": [
        {
          "output_type": "stream",
          "name": "stderr",
          "text": [
            "/usr/local/lib/python3.10/dist-packages/numpy/core/fromnumeric.py:3430: FutureWarning: In a future version, DataFrame.mean(axis=None) will return a scalar mean over the entire DataFrame. To retain the old behavior, use 'frame.mean(axis=0)' or just 'frame.mean()'\n",
            "  return mean(axis=axis, dtype=dtype, out=out, **kwargs)\n"
          ]
        }
      ]
    },
    {
      "cell_type": "code",
      "source": [
        "from sklearn.metrics import confusion_matrix, classification_report\n",
        "y_pred = ann_model.predict(X_P)\n",
        "y_pred_classes = [np.argmax(element) for element in y_pred]\n",
        "\n",
        "print(\"Classification Report : \")\n",
        "print(classification_report(y_P, y_pred_classes))"
      ],
      "metadata": {
        "colab": {
          "base_uri": "https://localhost:8080/"
        },
        "id": "mfNAn99UebDc",
        "outputId": "5d0581ca-d4c5-43d2-c5dd-0ec11d0d530f"
      },
      "execution_count": null,
      "outputs": [
        {
          "output_type": "stream",
          "name": "stdout",
          "text": [
            "9375/9375 [==============================] - 23s 2ms/step\n",
            "Classification Report : \n",
            "              precision    recall  f1-score   support\n",
            "\n",
            "         0.0       0.20      0.13      0.16     25000\n",
            "         1.0       0.07      0.00      0.00     25000\n",
            "         2.0       0.18      0.04      0.06     25000\n",
            "         3.0       0.11      0.03      0.05     25000\n",
            "         4.0       0.00      0.00      0.00     25000\n",
            "         5.0       0.20      0.13      0.16     25000\n",
            "         6.0       0.19      0.03      0.05     25000\n",
            "         7.0       0.26      0.01      0.02     25000\n",
            "         8.0       0.25      0.53      0.34     25000\n",
            "         9.0       0.20      0.78      0.32     25000\n",
            "        10.0       0.21      0.28      0.24     25000\n",
            "        11.0       0.24      0.67      0.35     25000\n",
            "\n",
            "    accuracy                           0.22    300000\n",
            "   macro avg       0.18      0.22      0.15    300000\n",
            "weighted avg       0.18      0.22      0.15    300000\n",
            "\n"
          ]
        }
      ]
    }
  ]
}